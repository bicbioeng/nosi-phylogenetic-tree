{
 "cells": [
  {
   "cell_type": "markdown",
   "id": "ead4567e-3195-474f-b344-bc36cb46ac4c",
   "metadata": {},
   "source": [
    "# Submodule3: Create Phylogenetic Tree"
   ]
  },
  {
   "cell_type": "markdown",
   "id": "eb2c818f-ef4a-4283-a362-fbfccac84ca3",
   "metadata": {},
   "source": [
    "## Sequence Alignment:\n",
    "- We use ClustalW for sequence alignment. Download it from:\n",
    "    - http://www.clustal.org/clustal2/#Download\n",
    "- Install ClustalW on your system. On Windows, it's typically installed at: \"C:\\Program Files (x86)\\ClustalW2\\clustalw2.exe\n",
    "\n",
    "**You can run ClustalW from the command line or use it in Python with Biopython**:\r\n"
   ]
  },
  {
   "cell_type": "code",
   "execution_count": null,
   "id": "5f1e1890-9ef6-4afd-a128-9d1cac2ff90e",
   "metadata": {},
   "outputs": [],
   "source": [
    "import subprocess\n",
    "\n",
    "import matplotlib.pyplot as plt\n",
    "import networkx as nx\n",
    "from Bio import AlignIO\n",
    "from Bio.Phylo.TreeConstruction import DistanceTreeConstructor, DistanceCalculator\n",
    "\n",
    "# Define the paths\n",
    "fasta_file = \"data/cov/sequences.fasta\"\n",
    "clustalw_exe = \"C:\\\\Program Files (x86)\\\\ClustalW2\\\\clustalw2.exe\"\n",
    "seq_algn_file = \"data/cov/sequences.aln\"\n",
    "# Run ClustalW for multiple sequence alignment using subprocess\n",
    "try:\n",
    "    subprocess.run([clustalw_exe, \"-INFILE=\" + fasta_file, \"-OUTFILE=\" + seq_algn_file, \"-OUTPUT=FASTA\"], check=True)\n",
    "except subprocess.CalledProcessError as e:\n",
    "    print(\"Error running ClustalW:\", e)\n",
    "    exit(1)"
   ]
  },
  {
   "cell_type": "markdown",
   "id": "dd93b0e8-5b6e-4666-a5d9-209a78275e98",
   "metadata": {},
   "source": [
    "This process aligns the SARS-CoV-2 sequences, preparing them for phylogenetic tree construction."
   ]
  },
  {
   "cell_type": "code",
   "execution_count": null,
   "id": "0dc4611f-0066-4d34-a8f3-6ca46f4dc7de",
   "metadata": {},
   "outputs": [],
   "source": []
  }
 ],
 "metadata": {
  "kernelspec": {
   "display_name": "Python 3 (ipykernel)",
   "language": "python",
   "name": "python3"
  },
  "language_info": {
   "codemirror_mode": {
    "name": "ipython",
    "version": 3
   },
   "file_extension": ".py",
   "mimetype": "text/x-python",
   "name": "python",
   "nbconvert_exporter": "python",
   "pygments_lexer": "ipython3",
   "version": "3.11.9"
  }
 },
 "nbformat": 4,
 "nbformat_minor": 5
}
