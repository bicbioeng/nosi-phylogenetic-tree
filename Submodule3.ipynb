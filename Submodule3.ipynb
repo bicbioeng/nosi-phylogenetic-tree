{
 "cells": [
  {
   "cell_type": "markdown",
   "id": "331eaccb-39c3-404d-b07a-7632ea0dd9d4",
   "metadata": {},
   "source": [
    "# Submodule #3: Construct Phylogenetic Tree\n",
    "The process of creating a diagram that shows the evolutionary relationships among species or genes based on their similarities and differences in genetic or physical traits. It visually represents how they evolved from common ancestors. \n",
    "\n",
    "##### Primary Objective #####\n",
    "Guide learners through the process of constructing phylogenetic trees from aligned sequence data. This module introduces tools and workflows for high-performance sequence alignment and tree construction.\n",
    "\n",
    "### Overview\n",
    "- **What You'll Learn:**\n",
    "  - Perform sequence alignment using MAFFT and ClustalW.\n",
    "  - Understand VCF format, why it is converted, and its relevance in USHER analysis.\n",
    "  - Construct phylogenetic trees using USHER.\n",
    "  - Use cloud platforms for scalable and cost-effective computations.\n",
    "\n",
    "- **Tools and Libraries:**\n",
    "  - **MAFFT**: Fast and scalable sequence alignment tool.\n",
    "  - **ClustalW**: Alternative sequence alignment tool for comparison.\n",
    "  - **USHER**: Tool for constructing phylogenetic trees.\n",
    "  - **VCF format**: Essential data format for storing genetic variants.\n",
    "  - **Cloud computing platforms**: For scalability and cost optimization.\n",
    "\n",
    "\n",
    "\n",
    "\n",
    "\n"
   ]
  },
  {
   "cell_type": "markdown",
   "id": "55ea1bcf-9c44-4779-b23d-0befc192c2eb",
   "metadata": {},
   "source": [
    "## Learning Objectives ##\n",
    "By the end of this submodule, learners will be able to:\n",
    "\n",
    "1. Explain the importance of sequence alignment and phylogenetic tree construction.\n",
    "2. Perform sequence alignment using MAFFT and compare it with ClustalW.\n",
    "3. Understand the VCF format and its relevance in tree creation workflows.\n",
    "4. Use USHER to construct large-scale phylogenetic trees.\n",
    "5. Describe the role of cloud computing in reducing computational costs."
   ]
  },
  {
   "cell_type": "markdown",
   "id": "1dc73546-baa4-4c36-b43e-56c10c14eb0c",
   "metadata": {},
   "source": [
    "----------------------------------------------------------------------------------------------------------------\n",
    "# Training Plan \n"
   ]
  },
  {
   "cell_type": "markdown",
   "id": "f58fe1bb-35d3-4553-b423-4194bb5e292d",
   "metadata": {},
   "source": [
    "Submodule #1: Understanding the Basics of Phylogenetic\n",
    "\n",
    "Submodule #2: Collect and Prepare Sequence Data and Analysis\n",
    "\n",
    "<font color=\"green\"> **Submodule #3: Construct Phylogenetic Tree** </font>\n",
    " \n",
    "Submodule #4: Analyze Phylogenetic Tree"
   ]
  },
  {
   "cell_type": "markdown",
   "id": "6e46671e-853a-4b14-b2db-49c1144d6214",
   "metadata": {},
   "source": [
    "## 3.1: Sequence Alignment ##\n",
    "**Sequence Alignment** is the first step in phylogenetic tree construction. Aligning gene sequences ensures that evolutionary relationships are accurately represented. It arranges sequences to highlight similarities and differences, providing the foundation for accurate tree construction.\n",
    "We study two tools that can be used for sequence alignment:\n",
    "1. MAFFT\n",
    "2. ClustalW"
   ]
  },
  {
   "cell_type": "markdown",
   "id": "b8f14c78-f7c3-4df2-af6b-fee79ea2473e",
   "metadata": {},
   "source": [
    "### Tool 1: MAFFT (Multiple Alignment using Fast Fourier Transform)\n",
    "\n",
    "#### What is MAFFT? ####\n",
    "MAFFT is a bioinformatics tool used for multiple sequence alignment (MSA) of DNA or protein sequences. It is widely recognized for its speed, accuracy, and ability to handle large datasets.\n",
    "\n",
    "**Key Features of MAFFT:**\n",
    "1. **Fast Algorithm**: MAFFT uses advanced algorithms like Fast Fourier Transform (FFT) to quickly identify sequence similarities, making it faster than many other alignment tools.\n",
    "2. **Scalable**: It can align thousands of sequences efficiently, which is ideal for large-scale studies.\n",
    "3. **Multiple Strategies**: MAFFT offers different alignment methods, such as progressive alignment (quick) and iterative refinement (more accurate).\n",
    "4. **User-Friendly**: It provides both command-line and web-based interfaces, making it accessible for beginners and experts.\n",
    "\n",
    "**Command Used for MAFFT:** mafft input_sequences.fasta > aligned_sequences.fasta\n",
    "- input_sequences.fasta: Input file containing gene sequences.\n",
    "- aligned_sequences.fasta: Output file with aligned sequences.\n",
    "\n",
    "**Example:** **Steps to Perform Sequence ALignment with MAFFT**\n",
    "1. Align the sequences in your dataset using the following command:\n",
    "\n"
   ]
  },
  {
   "cell_type": "code",
   "execution_count": 38,
   "id": "ce2ba242-c571-481a-b76e-a271c935767d",
   "metadata": {
    "scrolled": true
   },
   "outputs": [
    {
     "name": "stdout",
     "output_type": "stream",
     "text": [
      "outputhat23=16\n",
      "treein = 0\n",
      "compacttree = 0\n",
      "stacksize: 10240 kb\n",
      "generating a scoring matrix for nucleotide (dist=200) ... done\n",
      "All-to-all alignment.\n",
      "tbfast-pair (nuc) Version 7.526   3 / 18    4 / 18    5 / 18    6 / 18    7 / 18    8 / 18    9 / 18   10 / 18   11 / 18   12 / 18   13 / 18   15 / 18\n",
      "alg=L, model=DNA200 (2), 2.00 (6.00), -0.10 (-0.30), noshift, amax=0.0\n",
      "0 thread(s)\n",
      "\n",
      "outputhat23=16\n",
      "Loading 'hat3.seed' ... \n",
      "done.\n",
      "Writing hat3 for iterative refinement\n",
      "generating a scoring matrix for nucleotide (dist=200) ... done\n",
      "Gap Penalty = -1.53, +0.00, +0.00\n",
      "tbutree = 1, compacttree = 0\n",
      "Constructing a UPGMA tree ... \n",
      "   10 / 18\n",
      "done.\n",
      "\n",
      "Progressive alignment ... \n",
      "STEP    17 /17 \n",
      "done.\n",
      "tbfast (nuc) Version 7.526\n",
      "alg=A, model=DNA200 (2), 1.53 (4.59), -0.00 (-0.00), noshift, amax=0.0\n",
      "1 thread(s)\n",
      "\n",
      "minimumweight = 0.000010\n",
      "autosubalignment = 0.000000\n",
      "nthread = 0\n",
      "randomseed = 0\n",
      "blosum 62 / kimura 200\n",
      "poffset = 0\n",
      "niter = 16\n",
      "sueff_global = 0.100000\n",
      "nadd = 16\n",
      "Loading 'hat3' ... done.\n",
      "generating a scoring matrix for nucleotide (dist=200) ... done\n",
      "\n",
      "   10 / 18\n",
      "Segment   1/  1    1- 769\n",
      "STEP 002-016-1  identical.    identical.    identical.   \n",
      "Converged.\n",
      "\n",
      "done\n",
      "dvtditr (nuc) Version 7.526\n",
      "alg=A, model=DNA200 (2), 1.53 (4.59), -0.00 (-0.00), noshift, amax=0.0\n",
      "0 thread(s)\n",
      "\n",
      "\n",
      "Strategy:\n",
      " L-INS-i (Probably most accurate, very slow)\n",
      " Iterative refinement method (<16) with LOCAL pairwise alignment information\n",
      "\n",
      "If unsure which option to use, try 'mafft --auto input > output'.\n",
      "For more information, see 'mafft --help', 'mafft --man' and the mafft page.\n",
      "\n",
      "The default gap scoring scheme has been changed in version 7.110 (2013 Oct).\n",
      "It tends to insert more gaps into gap-rich regions than previous versions.\n",
      "To disable this change, add the --leavegappyregion option.\n",
      "\n"
     ]
    }
   ],
   "source": [
    "!mafft --auto ./data/cov/sequence/Coronavirus-Orf9-NCBI.fasta > ./data/cov/alignment/aligned_Coronavirus-Orf9-NCBI.fasta"
   ]
  },
  {
   "cell_type": "markdown",
   "id": "5ab0bb01-4e9a-427b-a6f0-317b7592fbf4",
   "metadata": {},
   "source": [
    "### Why MAFFT?\n",
    "- MAFFT is fast and scalable.\n",
    "- It works well for large datasets compared to ClustalW.\n",
    "- It is computationally efficient."
   ]
  },
  {
   "cell_type": "markdown",
   "id": "4924be92-9038-4d90-8c64-ee839b1a820f",
   "metadata": {},
   "source": [
    "### Tool 2 : ClustalW\n",
    "ClustalW is a bioinformatics tool used for multiple sequence alignment (MSA) of DNA or protein sequences. It aligns sequences step-by-step using a progressive alignment method.\n",
    "### Key Features of ClustalW\n",
    "1. **Progressive Alignment**: Aligns sequences in pairs, then builds a guide tree to combine alignments progressively.\n",
    "2. **Simple and Reliable**: Well-suited for aligning small to moderate datasets.\n",
    "3. **Widely Used**: Popular for teaching, research, and constructing phylogenetic trees to study evolutionary relationships.\n",
    "### Steps to Perform Sequence Alignment with ClustalW\n",
    "1. **Define Paths for Files and Tools:**\n",
    " \n",
    "   - fasta_file = \"data/cov/sequences_subset.fasta\"\n",
    "   - clustalw_exe = \"/path/to/clustalw2\"\n",
    "   - seq_algn_file = \"data/cov/sequences_subset.aln\""
   ]
  },
  {
   "cell_type": "markdown",
   "id": "ebbd5815-a56c-4274-bc68-1a3f848b4f99",
   "metadata": {},
   "source": [
    "### Process with Clustalw"
   ]
  },
  {
   "cell_type": "code",
   "execution_count": 57,
   "id": "9806431b-abd0-401c-88ad-adf08a36a624",
   "metadata": {
    "scrolled": true
   },
   "outputs": [
    {
     "name": "stdout",
     "output_type": "stream",
     "text": [
      "Process started at: 2024-12-18 17:22:33.146277\n",
      "\n",
      "\n",
      "\n",
      " CLUSTAL 2.1 Multiple Sequence Alignments\n",
      "\n",
      "\n",
      "Sequence format is Pearson\n",
      "Sequence 1: England/QEUH-AD0825/2020                29903 bp\n",
      "Sequence 2: AUS/VIC8093/2020                        29822 bp\n",
      "Sequence 3: USA/OSPHL09179/2023                     29688 bp\n",
      "Sequence 4: England/MILK-74F4E4/2020                29903 bp\n",
      "Sequence 5: England/MILK-516E26/2020                29903 bp\n",
      "Sequence 6: USA/UNKNOWN-UW-1403/2020                29882 bp\n",
      "Sequence 7: USA/OSPHL09176/2023                     29688 bp\n",
      "Sequence 8: USA/MA-CDCBI-CRSP_MLUB7OEWDYUWSKGQ/2021 29833 bp\n",
      "Sequence 9: OY754681                                29847 bp\n",
      "Sequence 10: USA/CA-LACPHL-AY03266/2023              29640 bp\n",
      "Start of Pairwise alignments\n",
      "Aligning...\n",
      "\n",
      "Sequences (1:2) Aligned. Score:  99\n",
      "Sequences (1:3) Aligned. Score:  97\n",
      "Sequences (1:4) Aligned. Score:  97\n",
      "Sequences (1:5) Aligned. Score:  98\n",
      "Sequences (1:6) Aligned. Score:  99\n",
      "Sequences (1:7) Aligned. Score:  97\n",
      "Sequences (1:8) Aligned. Score:  99\n",
      "Sequences (1:9) Aligned. Score:  99\n",
      "Sequences (1:10) Aligned. Score:  95\n",
      "Sequences (2:3) Aligned. Score:  97\n",
      "Sequences (2:4) Aligned. Score:  97\n",
      "Sequences (2:5) Aligned. Score:  98\n",
      "Sequences (2:6) Aligned. Score:  99\n",
      "Sequences (2:7) Aligned. Score:  97\n",
      "Sequences (2:8) Aligned. Score:  99\n",
      "Sequences (2:9) Aligned. Score:  99\n",
      "Sequences (2:10) Aligned. Score:  95\n",
      "Sequences (3:4) Aligned. Score:  95\n",
      "Sequences (3:5) Aligned. Score:  96\n",
      "Sequences (3:6) Aligned. Score:  97\n",
      "Sequences (3:7) Aligned. Score:  99\n",
      "Sequences (3:8) Aligned. Score:  97\n",
      "Sequences (3:9) Aligned. Score:  98\n",
      "Sequences (3:10) Aligned. Score:  93\n",
      "Sequences (4:5) Aligned. Score:  98\n",
      "Sequences (4:6) Aligned. Score:  97\n",
      "Sequences (4:7) Aligned. Score:  95\n",
      "Sequences (4:8) Aligned. Score:  96\n",
      "Sequences (4:9) Aligned. Score:  96\n",
      "Sequences (4:10) Aligned. Score:  92\n",
      "Sequences (5:6) Aligned. Score:  98\n",
      "Sequences (5:7) Aligned. Score:  96\n",
      "Sequences (5:8) Aligned. Score:  98\n",
      "Sequences (5:9) Aligned. Score:  98\n",
      "Sequences (5:10) Aligned. Score:  94\n",
      "Sequences (6:7) Aligned. Score:  97\n",
      "Sequences (6:8) Aligned. Score:  99\n",
      "Sequences (6:9) Aligned. Score:  99\n",
      "Sequences (6:10) Aligned. Score:  95\n",
      "Sequences (7:8) Aligned. Score:  97\n",
      "Sequences (7:9) Aligned. Score:  97\n",
      "Sequences (7:10) Aligned. Score:  93\n",
      "Sequences (8:9) Aligned. Score:  98\n",
      "Sequences (8:10) Aligned. Score:  95\n",
      "Sequences (9:10) Aligned. Score:  95\n",
      "Guide tree file created:   [./data/cov/sequence/sequences_subset.dnd]\n",
      "\n",
      "There are 9 groups\n",
      "Start of Multiple Alignment\n",
      "\n",
      "Aligning...\n",
      "Group 1: Sequences:   2      Score:563720\n",
      "Group 2: Sequences:   3      Score:563639\n",
      "Group 3: Sequences:   2      Score:568128\n",
      "Group 4: Sequences:   3      Score:567824\n",
      "Group 5: Sequences:   2      Score:566005\n",
      "Group 6: Sequences:   3      Score:565430\n",
      "Group 7: Sequences:   6      Score:566259\n",
      "Group 8: Sequences:   9      Score:560903\n",
      "Group 9: Sequences:  10      Score:561903\n",
      "Alignment Score 8671955\n",
      "firstres = 1 lastres = 29913\n",
      "FASTA file created!\n",
      "\n",
      "Fasta-Alignment file created    [./data/cov/alignment/sequences_subset.aln]\n",
      "\n",
      "Process ended at: 2024-12-18 17:37:23.730114\n",
      "Total time taken: 0:14:50.583837\n"
     ]
    }
   ],
   "source": [
    "import subprocess\n",
    "import datetime \n",
    "import matplotlib.pyplot as plt\n",
    "import networkx as nx\n",
    "from Bio import AlignIO\n",
    "from Bio.Phylo.TreeConstruction import DistanceTreeConstructor, DistanceCalculator\n",
    "\n",
    "# Define the paths\n",
    "fasta_file = \"./data/cov/sequence/sequences_subset.fasta\"\n",
    "# clustalw_exe = \"/home/ec2-user/anaconda3/envs/python3/bin/clustalw\"\n",
    "clustalw_exe = \"/opt/conda/bin/clustalw\"\n",
    "seq_algn_file = \"./data/cov/alignment/sequences_subset.aln\"\n",
    "\n",
    "start_time = datetime.datetime.now()\n",
    "print(f\"Process started at: {start_time}\")\n",
    "\n",
    "# Run ClustalW for multiple sequence alignment using subprocess\n",
    "try:\n",
    "    subprocess.run([clustalw_exe, \"-INFILE=\" + fasta_file, \"-OUTFILE=\" + seq_algn_file, \"-OUTPUT=FASTA\"], check=True)\n",
    "except subprocess.CalledProcessError as e:\n",
    "    print(\"Error running ClustalW:\", e)\n",
    "    exit(1)\n",
    "\n",
    "end_time = datetime.datetime.now()\n",
    "print(f\"Process ended at: {end_time}\")\n",
    "\n",
    "# Calculate the duration\n",
    "duration = end_time - start_time\n",
    "print(f\"Total time taken: {duration}\")"
   ]
  },
  {
   "cell_type": "markdown",
   "id": "1a27599f-575a-430c-862f-57c28129e22b",
   "metadata": {},
   "source": [
    "### Comparison: MAFFT vs. ClustalW\n",
    "\n",
    "| Feature    | MAFFT                          | ClustalW |\n",
    "|----------  |----------                      |----------|\n",
    "| Speed      | Very fast                      | Slower for large datasets |\n",
    "| Scalability| Excellent for large inputs     | Moderate  |\n",
    "| Usage      |Command-line, highly flexible   | Easier for beginners  |\n"
   ]
  },
  {
   "cell_type": "markdown",
   "id": "e55ae61f-a966-44cc-8b0c-1b536d7b21bb",
   "metadata": {},
   "source": [
    "### Why is MAFFT Faster than ClustalW?\n",
    "MAFFT is faster than ClustalW due to its algorithmic efficiency and use of advanced computational techniques. Below are the key reasons:\n",
    "1. **Fast Fourier Transform (FFT):**\n",
    "MAFFT uses FFT to identify sequence similarities efficiently, reducing computation time compared to ClustalW’s direct alignment.\n",
    "\n",
    "2. **Iterative Refinement:**\n",
    "MAFFT refines alignments progressively, improving accuracy without significant delays, unlike ClustalW's single-pass alignment.\n",
    "\n",
    "\n",
    "3. **Optimized for Large Datasets:**\n",
    "Designed to handle thousands of sequences quickly, MAFFT avoids unnecessary computations, making it faster for big datasets.\n",
    "\n",
    "4. **Parallel Processing:**\n",
    "MAFFT supports multi-core processing, speeding up tasks significantly. ClustalW lacks this capability.\n",
    "\n",
    "5. **Heuristic Methods:**\n",
    "MAFFT uses smart approximations to skip redundant calculations, ensuring faster performance.\n"
   ]
  },
  {
   "cell_type": "markdown",
   "id": "692cfcb7-2f88-44fc-8d3e-5e5eae5002c0",
   "metadata": {},
   "source": [
    "## 3.2 Phylogenetic Tree Reconstruction Using USHER\n",
    "\n",
    "#### Understanding VCF Format\n",
    "\n",
    "###### **What is VCF?** \n",
    "The Variant Call Format (VCF) is a widely adopted format for storing genetic variant information. It records:\n",
    "\n",
    "- Chromosome position of each variant.\n",
    "- Type of variants: SNPs(Single Nucleotide Polymorphisms), insertions, deletions.\n",
    "- Metadata: Quality scores, depth, and other annotations.\n",
    "- VCF is highly efficient for handling genomic variant data and is compatible with tools like USHER.\n",
    "- \n",
    "### **Why convert to VCF**? \n",
    "Tools like USHER require VCF files as input for constructing trees. Converting raw sequence alignments into VCF format ensures compatibility.\n",
    "\n",
    "### USHER:\n",
    "For constructing a phylogenetic tree, we use USHER (Ultrafast Sample placement on Existing tRee). USHER is a bioinformatics tool specifically designed to place new genetic sequences onto an existing phylogenetic tree quickly and accurately. This allows us to study the evolutionary relationships of the sequences in the context of known data, making it particularly useful for analyzing large datasets or tracking genetic variations over time.\n",
    "\n",
    "**Key Features of USHER**\n",
    "- Speed: Processes large datasets quickly, even in real-time.\n",
    "- Scalability: Handles complex phylogenies with thousands of sequences.\n",
    "- Integration: Accepts input in common formats (e.g., VCF, Newick).\n",
    "\n",
    "### Steps to Construct a Phylogenetic Tree with USHER\n",
    "1. **Prepare Input Files:**\n",
    "   - Aligned sequences in FASTA format.\n",
    "   - VCF file containing sequence variants.\n",
    "   - A reference tree in Newick format.\n"
   ]
  },
  {
   "cell_type": "markdown",
   "id": "f376f826-bb48-4e37-a13c-6875c17c0fee",
   "metadata": {},
   "source": [
    "<div style=\"padding: 10px; border: 1px solid #b3e5fc; border-radius: 5px; background-color: #e1f5fe;\">\n",
    "    <strong>Tip:</strong>💡 Always inspect the aligned sequences to ensure proper alignment before proceeding to phylogenetic tree construction.\n",
    "</div>"
   ]
  },
  {
   "cell_type": "markdown",
   "id": "ab1140d3-5969-4c28-9ae5-9b3b7e4d3a0e",
   "metadata": {},
   "source": [
    "### 2. Convert Aligned Sequences to VCF:"
   ]
  },
  {
   "cell_type": "code",
   "execution_count": 44,
   "id": "e5192b79-d7db-4df8-be92-9c542352ad59",
   "metadata": {},
   "outputs": [],
   "source": [
    "!faToVcf ./data/cov/alignment/aligned_Coronavirus-Orf9-NCBI.fasta ./data/cov/phylogenetic_tree/phylogenetic_tree_aligned_Coronavirus-Orf9-NCBI.vcf"
   ]
  },
  {
   "cell_type": "markdown",
   "id": "a1d0e35a-b097-4af2-b56a-b8d37028340b",
   "metadata": {},
   "source": [
    "### 3. Generate a Reference Tree in Newick Format:"
   ]
  },
  {
   "cell_type": "code",
   "execution_count": 45,
   "id": "cf92b694-c441-404a-9fdf-fc9953a01c66",
   "metadata": {
    "scrolled": true
   },
   "outputs": [
    {
     "name": "stdout",
     "output_type": "stream",
     "text": [
      "FastTree Version 2.1.11 Double precision (No SSE3)\n",
      "Alignment: ./data/cov/alignment/aligned_Coronavirus-Orf9-NCBI.fasta\n",
      "Nucleotide distances: Jukes-Cantor Joins: balanced Support: SH-like 1000\n",
      "Search: Normal +NNI +SPR (2 rounds range 10) +ML-NNI opt-each=1\n",
      "TopHits: 1.00*sqrtN close=default refresh=0.80\n",
      "ML Model: Jukes-Cantor, CAT approximation with 20 rate categories\n",
      "Initial topology in 0.00 seconds\n",
      "Refining topology: 8 rounds ME-NNIs, 2 rounds ME-SPRs, 4 rounds ML-NNIs\n",
      "Total branch-length 0.004 after 0.00 sec\n",
      "ML-NNI round 1: LogLk = -1090.899 NNIs 0 max delta 0.00 Time 0.00\n",
      "Switched to using 20 rate categories (CAT approximation)\n",
      "Rate categories were divided by 0.624 so that average rate = 1.0\n",
      "CAT-based log-likelihoods may not be comparable across runs\n",
      "Use -gamma for approximate but comparable Gamma(20) log-likelihoods\n",
      "ML-NNI round 2: LogLk = -1089.957 NNIs 0 max delta 0.00 Time 0.00\n",
      "Turning off heuristics for final round of ML NNIs (converged)\n",
      "ML-NNI round 3: LogLk = -1089.957 NNIs 0 max delta 0.00 Time 0.01 (final)\n",
      "Optimize all lengths: LogLk = -1089.957 Time 0.01\n",
      "Total time: 0.01 seconds Unique: 4/18 Bad splits: 0/1\n"
     ]
    }
   ],
   "source": [
    "!fasttree -nt ./data/cov/alignment/aligned_Coronavirus-Orf9-NCBI.fasta > ./data/cov/phylogenetic_tree/phylogenetic_tree_reference_aligned_Coronavirus-Orf9-NCBI.nwk"
   ]
  },
  {
   "cell_type": "markdown",
   "id": "263a2f4d-9b68-486d-be44-28d001ebf6a1",
   "metadata": {},
   "source": [
    "### 4. Run USHER to Construct the Phylogenetic Tree:"
   ]
  },
  {
   "cell_type": "code",
   "execution_count": 46,
   "id": "5599b804-76cd-4bcd-a4ab-d9120a6e71a5",
   "metadata": {},
   "outputs": [
    {
     "name": "stdout",
     "output_type": "stream",
     "text": [
      "Initializing 2 worker threads.\n",
      "\n",
      "Loading input tree.\n",
      "Completed in 0 msec \n",
      "\n",
      "Loading VCF file.\n",
      "Completed in 0 msec \n",
      "\n",
      "Computing parsimonious assignments for input variants.\n",
      "At variant site 89\n",
      "At variant site 592\n",
      "At variant site 677\n",
      "Completed in 1 msec \n",
      "\n",
      "Output newick files will have branch lengths equal to the number of mutations of that branch.\n",
      "\n",
      "Found 0 missing samples.\n",
      "\n",
      "Writing final tree to file /home/sagemaker-user/nosi-phylogenetic-tree/final-tree.nh \n",
      "The parsimony score for this tree is: 4 \n",
      "Completed in 0 msec \n",
      "\n",
      "Saving mutation-annotated tree object to file (after condensing identical sequences) ./data/cov/phylogenetic_tree/phylogenetic_tree_output_aligned_Coronavirus-Orf9-NCBI.nwk\n",
      "Completed in 0 msec \n",
      "\n"
     ]
    }
   ],
   "source": [
    "!usher -t ./data/cov/phylogenetic_tree/phylogenetic_tree_reference_aligned_Coronavirus-Orf9-NCBI.nwk -v ./data/cov/phylogenetic_tree/phylogenetic_tree_aligned_Coronavirus-Orf9-NCBI.vcf -o ./data/cov/phylogenetic_tree/phylogenetic_tree_output_aligned_Coronavirus-Orf9-NCBI.nwk"
   ]
  },
  {
   "cell_type": "markdown",
   "id": "46044dd4-d6e8-4d53-8ea5-7484ed9b23f5",
   "metadata": {},
   "source": [
    "### 5. Output:\n",
    "\n",
    "- The constructed phylogenetic tree will be saved in the Newick file format `(.nwk).`\n",
    "- You can visualize the tree using compatible tools."
   ]
  },
  {
   "cell_type": "markdown",
   "id": "9c450fb5-30ad-4c9b-95f6-0df7ace0b500",
   "metadata": {},
   "source": [
    "<div style=\"padding: 10px; border: 1px solid #ffccbc; border-radius: 5px; background-color: #ffebee;\">\n",
    "    <strong>Alert:</strong>⚠️ Before running USHER, change the Jupyter kernel to a dedicated USHER kernel to avoid dependency conflicts.\n",
    "</div>"
   ]
  },
  {
   "cell_type": "markdown",
   "id": "5a969f04-de79-476e-912d-987c214b09a9",
   "metadata": {},
   "source": [
    "## 3.3 Manage Computational Intensity Through Cloud Computing\n",
    "\n",
    "Cloud computing refers to the use of remote servers hosted on the internet to store, manage, and process data instead of relying on local hardware. It allows researchers to access virtually unlimited computational resources without the need to invest in expensive infrastructure.\n",
    "\n",
    "### 3.3.1 Why Use Cloud Computing for Phylogenetics?\n",
    "1. **Scalability:**\n",
    "   - Cloud platforms automatically adjust resources based on the size of the dataset.\n",
    "   - For example, small datasets may require minimal resources, while large datasets (thousands of sequences) can leverage more virtual CPUs or GPUs as needed.\n",
    "\n",
    "2. **Cost-Effectiveness:**\n",
    "   - Pay-as-you-go models allow researchers to optimize costs by paying only for the resources they use.\n",
    "\n",
    "3. **Accessibility:**\n",
    "   - Cloud services enable researchers to access computational resources and data from anywhere, supporting collaboration across teams and geographies.\n",
    "\n",
    "### 3.3.2 How Cloud Computing Works in Phylogenetics?\n",
    "1. **Input Data:**\n",
    "- Upload your sequence data (e.g., FASTA files) to the cloud storage provided by the platform\n",
    "  \n",
    "2. **Set Up the Environment:**\n",
    "- Use pre-configured machine images (e.g., Ubuntu with MAFFT installed) or create your own environment.\n",
    "- Choose the instance type based on the task (e.g., high-memory machines for large alignments).\n",
    "  \n",
    "3. **Run the Workflow:**\n",
    "- Use tools like MAFFT for sequence alignment and USHER for tree construction.\n",
    "- Jobs can run on virtual CPUs or GPUs for faster performance.\n",
    "  \n",
    "4. **Retrieve Results:**\n",
    "- Download the aligned sequences, VCF files, or constructed trees for further analysis.\n"
   ]
  },
  {
   "cell_type": "markdown",
   "id": "4cc2ec8b-4c94-445d-b3a9-368d989691fa",
   "metadata": {},
   "source": [
    "<div style=\"padding: 10px; border: 1px solid #b3e5fc; border-radius: 5px; background-color: #e1f5fe;\">\n",
    "    <strong>Note:</strong> 📝 Always configure your cloud environment to balance performance and cost, and ensure data security protocols are followed when working with sensitive datasets.\n",
    "</div>"
   ]
  },
  {
   "cell_type": "markdown",
   "id": "fffce646-ebea-4593-8636-ddd33420f1b4",
   "metadata": {},
   "source": [
    "<div style=\"padding: 10px; border: 1px solid #b3e5fc; border-radius: 5px; background-color: #e1f5fe;\">\n",
    "    <strong>Tip:</strong>💡 Tools like MAFFT and USHER integrate well with cloud computing platforms for high-performance analysis.\n",
    "</div>"
   ]
  },
  {
   "cell_type": "markdown",
   "id": "bf89ed90-7085-42d7-b4b1-ed78a6e61872",
   "metadata": {},
   "source": [
    "## Installations\n",
    "\n",
    "Ensure all necessary tools and libraries are installed before proceeding.\n",
    "\n",
    "### Install MAFFT"
   ]
  },
  {
   "cell_type": "code",
   "execution_count": null,
   "id": "a41aec05-ba21-495e-bb24-3f53b0de4392",
   "metadata": {},
   "outputs": [],
   "source": [
    "!conda install -c bioconda mafft fasttree -y"
   ]
  },
  {
   "cell_type": "markdown",
   "id": "cf518bd1-c389-4c4c-bd9a-5de182de5d06",
   "metadata": {},
   "source": [
    "### Install USHER and Dependencies\n",
    "#### Install USHER:"
   ]
  },
  {
   "cell_type": "code",
   "execution_count": null,
   "id": "189988dd-eed7-43cf-9617-6c70472a066c",
   "metadata": {},
   "outputs": [],
   "source": [
    "!conda install -c bioconda usher -y"
   ]
  },
  {
   "cell_type": "markdown",
   "id": "1f69b231-274d-40dc-b344-acda4d47fdbe",
   "metadata": {},
   "source": [
    "#### Install Additional Dependencies"
   ]
  },
  {
   "cell_type": "code",
   "execution_count": null,
   "id": "db98761a-f6c5-43e5-8737-e7327d3e46a2",
   "metadata": {},
   "outputs": [],
   "source": [
    "!conda install -c defaults -c bioconda -c conda-forge perl gzip -y"
   ]
  },
  {
   "cell_type": "markdown",
   "id": "3660563c-0011-4218-a63b-2ae5ffa32930",
   "metadata": {},
   "source": [
    "### Install ClustalW"
   ]
  },
  {
   "cell_type": "code",
   "execution_count": null,
   "id": "dcf82428-61d6-4ed5-9181-cf400adc4bb4",
   "metadata": {},
   "outputs": [],
   "source": [
    "!conda install -c bioconda clustalw -y"
   ]
  },
  {
   "cell_type": "markdown",
   "id": "01b4d672-5fd7-400d-868f-f72e40753100",
   "metadata": {},
   "source": [
    "<div style=\"padding: 10px; border: 1px solid #b3e5fc; border-radius: 5px; background-color: #e1f5fe;\">\n",
    "    <strong>Tip:</strong>💡 Verify installations by checking tool versions:\n",
    "</div>"
   ]
  },
  {
   "cell_type": "markdown",
   "id": "646d0c0b-5e76-4cf5-82b2-4ad0529da3dd",
   "metadata": {},
   "source": [
    "!mafft --version\n",
    "!usher --version\n",
    "!clustalw2 --version"
   ]
  },
  {
   "cell_type": "markdown",
   "id": "bdbc2ea7-be5c-45b7-84a8-012d085b0dda",
   "metadata": {},
   "source": [
    "## Summary\n",
    "This notebook teaches how to construct phylogenetic trees by aligning sequences using tools like MAFFT and ClustalW, then creating trees with USHER. It explains the importance of sequence alignment, compares tools, and uses cloud computing for scalable analysis.\n",
    "In next module we will study about analyzing Phylogenetic Tree."
   ]
  },
  {
   "cell_type": "markdown",
   "id": "bf0beee8-7ca0-4bee-b488-d038df73a00a",
   "metadata": {},
   "source": [
    "## Interactive Quiz\n",
    "\n",
    "Test your understanding of phylogenetic tree construction with this interactive quiz:"
   ]
  },
  {
   "cell_type": "code",
   "execution_count": null,
   "id": "8b462c10-646a-47de-b977-cf810acf48e5",
   "metadata": {},
   "outputs": [],
   "source": [
    "from jupyterquiz import display_quiz\n",
    "display_quiz('Quiz/QS3.json')"
   ]
  },
  {
   "cell_type": "code",
   "execution_count": null,
   "id": "23ac44ab-de78-4408-a852-1563f23343a5",
   "metadata": {},
   "outputs": [],
   "source": []
  }
 ],
 "metadata": {
  "kernelspec": {
   "display_name": "Python 3 (ipykernel)",
   "language": "python",
   "name": "python3"
  },
  "language_info": {
   "codemirror_mode": {
    "name": "ipython",
    "version": 3
   },
   "file_extension": ".py",
   "mimetype": "text/x-python",
   "name": "python",
   "nbconvert_exporter": "python",
   "pygments_lexer": "ipython3",
   "version": "3.10.14"
  }
 },
 "nbformat": 4,
 "nbformat_minor": 5
}
