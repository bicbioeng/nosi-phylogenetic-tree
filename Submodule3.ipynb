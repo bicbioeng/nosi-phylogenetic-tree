{
 "cells": [
  {
   "cell_type": "markdown",
   "id": "331eaccb-39c3-404d-b07a-7632ea0dd9d4",
   "metadata": {},
   "source": [
    "# Submodule #3: Construct Phylogenetic Tree\n",
    "The process of creating a diagram that shows the evolutionary relationships among species or genes based on their similarities and differences in genetic or physical traits. It visually represents how they evolved from common ancestors. \n",
    "\n",
    "##### Primary Objective #####\n",
    "Guide learners through the process of constructing phylogenetic trees from aligned sequence data. This module introduces tools and workflows for high-performance sequence alignment and tree construction.\n",
    "\n",
    "### Overview\n",
    "- **What You'll Learn:**\n",
    "  - Perform sequence alignment using MAFFT and ClustalW.\n",
    "  - Understand VCF format, why it is converted, and its relevance in USHER analysis.\n",
    "  - Construct phylogenetic trees using USHER.\n",
    "  - Use cloud platforms for scalable and cost-effective computations.\n",
    "\n",
    "- **Tools and Libraries:**\n",
    "  - **MAFFT**: Fast and scalable sequence alignment tool.\n",
    "  - **ClustalW**: Alternative sequence alignment tool for comparison.\n",
    "  - **USHER**: Tool for constructing phylogenetic trees.\n",
    "  - **VCF format**: Essential data format for storing genetic variants.\n",
    "  - **Cloud computing platforms**: For scalability and cost optimization.\n",
    "\n",
    "\n",
    "\n",
    "\n",
    "\n"
   ]
  },
  {
   "cell_type": "markdown",
   "id": "55ea1bcf-9c44-4779-b23d-0befc192c2eb",
   "metadata": {},
   "source": [
    "## Learning Objectives ##\n",
    "By the end of this submodule, learners will be able to:\n",
    "\n",
    "1. Explain the importance of sequence alignment and phylogenetic tree construction.\n",
    "2. Perform sequence alignment using MAFFT and compare it with ClustalW.\n",
    "3. Understand the VCF format and its relevance in tree creation workflows.\n",
    "4. Use USHER to construct large-scale phylogenetic trees.\n",
    "5. Describe the role of cloud computing in reducing computational costs."
   ]
  },
  {
   "cell_type": "markdown",
   "id": "1dc73546-baa4-4c36-b43e-56c10c14eb0c",
   "metadata": {},
   "source": [
    "----------------------------------------------------------------------------------------------------------------\n",
    "# Training Plan \n"
   ]
  },
  {
   "cell_type": "markdown",
   "id": "f58fe1bb-35d3-4553-b423-4194bb5e292d",
   "metadata": {},
   "source": [
    "Submodule #1: Understanding the Basics of Phylogenetic\n",
    "\n",
    "Submodule #2: Collect and Prepare Sequence Data and Analysis\n",
    "\n",
    "<font color=\"green\"> **Submodule #3: Construct Phylogenetic Tree** </font>\n",
    " \n",
    "Submodule #4: Analyze Phylogenetic Tree"
   ]
  },
  {
   "cell_type": "markdown",
   "id": "6e46671e-853a-4b14-b2db-49c1144d6214",
   "metadata": {},
   "source": [
    "## 3.1: Sequence Alignment ##\n",
    "**Sequence Alignment** is the first step in phylogenetic tree construction. Aligning gene sequences ensures that evolutionary relationships are accurately represented. It arranges sequences to highlight similarities and differences, providing the foundation for accurate tree construction.\n",
    "We study two tools that can be used for sequence alignment:\n",
    "1. MAFFT\n",
    "2. ClustalW"
   ]
  },
  {
   "cell_type": "markdown",
   "id": "b8f14c78-f7c3-4df2-af6b-fee79ea2473e",
   "metadata": {},
   "source": [
    "### Tool 1: MAFFT (Multiple Alignment using Fast Fourier Transform)\n",
    "\n",
    "#### What is MAFFT? ####\n",
    "MAFFT is a bioinformatics tool used for multiple sequence alignment (MSA) of DNA or protein sequences. It is widely recognized for its speed, accuracy, and ability to handle large datasets.\n",
    "\n",
    "**Key Features of MAFFT:**\n",
    "1. **Fast Algorithm**: MAFFT uses advanced algorithms like Fast Fourier Transform (FFT) to quickly identify sequence similarities, making it faster than many other alignment tools.\n",
    "2. **Scalable**: It can align thousands of sequences efficiently, which is ideal for large-scale studies.\n",
    "3. **Multiple Strategies**: MAFFT offers different alignment methods, such as progressive alignment (quick) and iterative refinement (more accurate).\n",
    "4. **User-Friendly**: It provides both command-line and web-based interfaces, making it accessible for beginners and experts.\n",
    "\n",
    "**Command Used for MAFFT:** mafft input_sequences.fasta > aligned_sequences.fasta\n",
    "- input_sequences.fasta: Input file containing gene sequences.\n",
    "- aligned_sequences.fasta: Output file with aligned sequences.\n",
    "\n",
    "**Example:** **Steps to Perform Sequence ALignment with MAFFT**\n",
    "1. Align the sequences in your dataset using the following command:\n",
    "\n"
   ]
  },
  {
   "cell_type": "code",
   "execution_count": null,
   "id": "56b02137-5adc-4069-85a8-7065aa2f954c",
   "metadata": {},
   "outputs": [],
   "source": [
    "# Create the folder structure\n",
    "import os\n",
    "\n",
    "# Check if the directory exists\n",
    "alignment_dir = os.path.isdir('./data/cov/alignment')\n",
    "\n",
    "# If the directory does not exist, create it\n",
    "if not alignment_dir:\n",
    "    try:\n",
    "        os.makedirs('./data/cov/alignment')\n",
    "        print(\"Directory created successfully\")\n",
    "    except Exception as e:\n",
    "        print(f\"An error occurred: {e}\")"
   ]
  },
  {
   "cell_type": "code",
   "execution_count": null,
   "id": "ce2ba242-c571-481a-b76e-a271c935767d",
   "metadata": {
    "scrolled": true
   },
   "outputs": [],
   "source": [
    " !mafft --auto ./data/cov/sequence/sequences.fasta > ./data/cov/alignment/aligned_sequences.fasta\n"
   ]
  },
  {
   "cell_type": "markdown",
   "id": "5ab0bb01-4e9a-427b-a6f0-317b7592fbf4",
   "metadata": {},
   "source": [
    "### Why MAFFT?\n",
    "- MAFFT is fast and scalable.\n",
    "- It works well for large datasets compared to ClustalW.\n",
    "- It is computationally efficient."
   ]
  },
  {
   "cell_type": "markdown",
   "id": "4924be92-9038-4d90-8c64-ee839b1a820f",
   "metadata": {},
   "source": [
    "### Tool 2 : ClustalW\n",
    "ClustalW is a bioinformatics tool used for multiple sequence alignment (MSA) of DNA or protein sequences. It aligns sequences step-by-step using a progressive alignment method.\n",
    "### Key Features of ClustalW\n",
    "1. **Progressive Alignment**: Aligns sequences in pairs, then builds a guide tree to combine alignments progressively.\n",
    "2. **Simple and Reliable**: Well-suited for aligning small to moderate datasets.\n",
    "3. **Widely Used**: Popular for teaching, research, and constructing phylogenetic trees to study evolutionary relationships.\n",
    "### Steps to Perform Sequence Alignment with ClustalW\n",
    "1. **Define Paths for Files and Tools:**\n",
    " \n",
    "   - fasta_file = \"data/cov/sequences_subset.fasta\"\n",
    "   - clustalw_exe = \"/path/to/clustalw2\"\n",
    "   - seq_algn_file = \"data/cov/sequences_subset.aln\""
   ]
  },
  {
   "cell_type": "markdown",
   "id": "ebbd5815-a56c-4274-bc68-1a3f848b4f99",
   "metadata": {},
   "source": [
    "### Process with Clustalw"
   ]
  },
  {
   "cell_type": "code",
   "execution_count": null,
   "id": "9806431b-abd0-401c-88ad-adf08a36a624",
   "metadata": {
    "scrolled": true
   },
   "outputs": [],
   "source": [
    "import subprocess\n",
    "import datetime \n",
    "import matplotlib.pyplot as plt\n",
    "import networkx as nx\n",
    "from Bio import AlignIO\n",
    "from Bio.Phylo.TreeConstruction import DistanceTreeConstructor, DistanceCalculator\n",
    "\n",
    "# Define the paths\n",
    "fasta_file = \"./data/new/sequence/sequences_subset.fasta\"\n",
    "\n",
    "clustalw_exe = \"/opt/conda/bin/clustalw\"\n",
    "seq_algn_file = \"./data/cov/alignment/sequences_subset.aln\"\n",
    "\n",
    "start_time = datetime.datetime.now()\n",
    "print(f\"Process started at: {start_time}\")\n",
    "\n",
    "# Run ClustalW for multiple sequence alignment using subprocess\n",
    "try:\n",
    "    subprocess.run([clustalw_exe, \"-INFILE=\" + fasta_file, \"-OUTFILE=\" + seq_algn_file, \"-OUTPUT=FASTA\"], check=True)\n",
    "except subprocess.CalledProcessError as e:\n",
    "    print(\"Error running ClustalW:\", e)\n",
    "    exit(1)\n",
    "\n",
    "end_time = datetime.datetime.now()\n",
    "print(f\"Process ended at: {end_time}\")\n",
    "\n",
    "# Calculate the duration\n",
    "duration = end_time - start_time\n",
    "print(f\"Total time taken: {duration}\")"
   ]
  },
  {
   "cell_type": "markdown",
   "id": "1a27599f-575a-430c-862f-57c28129e22b",
   "metadata": {},
   "source": [
    "### Comparison: MAFFT vs. ClustalW\n",
    "\n",
    "| Feature    | MAFFT                          | ClustalW |\n",
    "|----------  |----------                      |----------|\n",
    "| Speed      | Very fast                      | Slower for large datasets |\n",
    "| Scalability| Excellent for large inputs     | Moderate  |\n",
    "| Usage      |Command-line, highly flexible   | Easier for beginners  |\n"
   ]
  },
  {
   "cell_type": "markdown",
   "id": "e55ae61f-a966-44cc-8b0c-1b536d7b21bb",
   "metadata": {},
   "source": [
    "### Why is MAFFT Faster than ClustalW?\n",
    "MAFFT is faster than ClustalW due to its algorithmic efficiency and use of advanced computational techniques. Below are the key reasons:\n",
    "1. **Fast Fourier Transform (FFT):**\n",
    "MAFFT uses FFT to identify sequence similarities efficiently, reducing computation time compared to ClustalW’s direct alignment.\n",
    "\n",
    "2. **Iterative Refinement:**\n",
    "MAFFT refines alignments progressively, improving accuracy without significant delays, unlike ClustalW's single-pass alignment.\n",
    "\n",
    "\n",
    "3. **Optimized for Large Datasets:**\n",
    "Designed to handle thousands of sequences quickly, MAFFT avoids unnecessary computations, making it faster for big datasets.\n",
    "\n",
    "4. **Parallel Processing:**\n",
    "MAFFT supports multi-core processing, speeding up tasks significantly. ClustalW lacks this capability.\n",
    "\n",
    "5. **Heuristic Methods:**\n",
    "MAFFT uses smart approximations to skip redundant calculations, ensuring faster performance.\n"
   ]
  },
  {
   "cell_type": "markdown",
   "id": "692cfcb7-2f88-44fc-8d3e-5e5eae5002c0",
   "metadata": {},
   "source": [
    "## 3.2 Phylogenetic Tree Reconstruction Using USHER\n",
    "\n",
    "#### Understanding VCF Format\n",
    "\n",
    "###### **What is VCF?** \n",
    "The Variant Call Format (VCF) is a widely adopted format for storing genetic variant information. It records:\n",
    "\n",
    "- Chromosome position of each variant.\n",
    "- Type of variants: SNPs(Single Nucleotide Polymorphisms), insertions, deletions.\n",
    "- Metadata: Quality scores, depth, and other annotations.\n",
    "- VCF is highly efficient for handling genomic variant data and is compatible with tools like USHER.\n",
    "  \n",
    "### **Why convert to VCF**? \n",
    "Tools like USHER require VCF files as input for constructing trees. Converting raw sequence alignments into VCF format ensures compatibility.\n",
    "\n",
    "### USHER:\n",
    "For constructing a phylogenetic tree, we use USHER (Ultrafast Sample placement on Existing tRee). USHER is a bioinformatics tool specifically designed to place new genetic sequences onto an existing phylogenetic tree quickly and accurately. This allows us to study the evolutionary relationships of the sequences in the context of known data, making it particularly useful for analyzing large datasets or tracking genetic variations over time.\n",
    "\n",
    "**Key Features of USHER**\n",
    "- Speed: Processes large datasets quickly, even in real-time.\n",
    "- Scalability: Handles complex phylogenies with thousands of sequences.\n",
    "- Integration: Accepts input in common formats (e.g., VCF, Newick).\n",
    "\n",
    "### Steps to Construct a Phylogenetic Tree with USHER\n",
    "1. **Prepare Input Files:**\n",
    "   - Aligned sequences in FASTA format.\n",
    "   - VCF file containing sequence variants.\n",
    "   - A reference tree in Newick format.\n"
   ]
  },
  {
   "cell_type": "markdown",
   "id": "f376f826-bb48-4e37-a13c-6875c17c0fee",
   "metadata": {},
   "source": [
    "<div style=\"padding: 10px; border: 1px solid #b3e5fc; border-radius: 5px; background-color: #e1f5fe;\">\n",
    "    <strong>Tip:</strong>💡 Always inspect the aligned sequences to ensure proper alignment before proceeding to phylogenetic tree construction.\n",
    "</div>"
   ]
  },
  {
   "cell_type": "code",
   "execution_count": null,
   "id": "3f0b8552-1b8f-498d-91fa-321a889f2fff",
   "metadata": {},
   "outputs": [],
   "source": [
    "# Create the folder structure\n",
    "import os\n",
    "\n",
    "# Check if the directory exists\n",
    "uniport_dir = os.path.isdir('./data/cov/phylogenetic_tree')\n",
    "\n",
    "# If the directory does not exist, create it\n",
    "if not uniport_dir:\n",
    "    try:\n",
    "        os.makedirs('./data/cov/phylogenetic_tree')\n",
    "        print(\"Directory created successfully\")\n",
    "    except Exception as e:\n",
    "        print(f\"An error occurred: {e}\")"
   ]
  },
  {
   "cell_type": "markdown",
   "id": "ab1140d3-5969-4c28-9ae5-9b3b7e4d3a0e",
   "metadata": {},
   "source": [
    "### 2. Convert Aligned Sequences to VCF:"
   ]
  },
  {
   "cell_type": "code",
   "execution_count": 4,
   "id": "e5192b79-d7db-4df8-be92-9c542352ad59",
   "metadata": {},
   "outputs": [],
   "source": [
    " !faToVcf ./data/cov/alignment/aligned_sequences.fasta ./data/cov/phylogenetic_tree/phylogenetic_tree_aligned_sequences.vcf\n"
   ]
  },
  {
   "cell_type": "markdown",
   "id": "a1d0e35a-b097-4af2-b56a-b8d37028340b",
   "metadata": {},
   "source": [
    "### 3. Generate a Reference Tree in Newick Format:"
   ]
  },
  {
   "cell_type": "code",
   "execution_count": null,
   "id": "cf92b694-c441-404a-9fdf-fc9953a01c66",
   "metadata": {
    "scrolled": true
   },
   "outputs": [],
   "source": [
    " !fasttree -nt ./data/cov/alignment/aligned_sequences.fasta > ./data/cov/phylogenetic_tree/phylogenetic_tree_reference_aligned_sequences.nwk\n"
   ]
  },
  {
   "cell_type": "markdown",
   "id": "263a2f4d-9b68-486d-be44-28d001ebf6a1",
   "metadata": {},
   "source": [
    "### 4. Run USHER to Construct the Phylogenetic Tree:"
   ]
  },
  {
   "cell_type": "code",
   "execution_count": null,
   "id": "5599b804-76cd-4bcd-a4ab-d9120a6e71a5",
   "metadata": {
    "scrolled": true
   },
   "outputs": [],
   "source": [
    "!usher -t ./data/cov/phylogenetic_tree/phylogenetic_tree_reference_aligned_sequences.nwk -v ./data/cov/phylogenetic_tree/phylogenetic_tree_aligned_sequences.vcf -o ./data/cov/phylogenetic_tree/phylogenetic_tree_output_aligned_sequences.nwk\n"
   ]
  },
  {
   "cell_type": "markdown",
   "id": "46044dd4-d6e8-4d53-8ea5-7484ed9b23f5",
   "metadata": {},
   "source": [
    "### 5. Output:\n",
    "\n",
    "- The constructed phylogenetic tree will be saved in the Newick file format `(.nwk).`\n",
    "- You can visualize the tree using compatible tools."
   ]
  },
  {
   "cell_type": "markdown",
   "id": "9c450fb5-30ad-4c9b-95f6-0df7ace0b500",
   "metadata": {},
   "source": [
    "<div style=\"padding: 10px; border: 1px solid #ffccbc; border-radius: 5px; background-color: #ffebee;\">\n",
    "    <strong>Alert:</strong>⚠️ Before running USHER, change the Jupyter kernel to a dedicated USHER kernel to avoid dependency conflicts.\n",
    "</div>"
   ]
  },
  {
   "cell_type": "markdown",
   "id": "5a969f04-de79-476e-912d-987c214b09a9",
   "metadata": {},
   "source": [
    "## 3.3 Manage Computational Intensity Through Cloud Computing\n",
    "\n",
    "Cloud computing refers to the use of remote servers hosted on the internet to store, manage, and process data instead of relying on local hardware. It allows researchers to access virtually unlimited computational resources without the need to invest in expensive infrastructure.\n",
    "\n",
    "### 3.3.1 Why Use Cloud Computing for Phylogenetics?\n",
    "1. **Scalability:**\n",
    "   - Cloud platforms automatically adjust resources based on the size of the dataset.\n",
    "   - For example, small datasets may require minimal resources, while large datasets (thousands of sequences) can leverage more virtual CPUs or GPUs as needed.\n",
    "\n",
    "2. **Cost-Effectiveness:**\n",
    "   - Pay-as-you-go models allow researchers to optimize costs by paying only for the resources they use.\n",
    "\n",
    "3. **Accessibility:**\n",
    "   - Cloud services enable researchers to access computational resources and data from anywhere, supporting collaboration across teams and geographies.\n",
    "\n",
    "### 3.3.2 How Cloud Computing Works in Phylogenetics?\n",
    "1. **Input Data:**\n",
    "- Upload your sequence data (e.g., FASTA files) to the cloud storage provided by the platform\n",
    "  \n",
    "2. **Set Up the Environment:**\n",
    "- Use pre-configured machine images (e.g., Ubuntu with MAFFT installed) or create your own environment.\n",
    "- Choose the instance type based on the task (e.g., high-memory machines for large alignments).\n",
    "  \n",
    "3. **Run the Workflow:**\n",
    "- Use tools like MAFFT for sequence alignment and USHER for tree construction.\n",
    "- Jobs can run on virtual CPUs or GPUs for faster performance.\n",
    "  \n",
    "4. **Retrieve Results:**\n",
    "- Download the aligned sequences, VCF files, or constructed trees for further analysis.\n"
   ]
  },
  {
   "cell_type": "markdown",
   "id": "4cc2ec8b-4c94-445d-b3a9-368d989691fa",
   "metadata": {},
   "source": [
    "<div style=\"padding: 10px; border: 1px solid #b3e5fc; border-radius: 5px; background-color: #e1f5fe;\">\n",
    "    <strong>Note:</strong> 📝 Always configure your cloud environment to balance performance and cost, and ensure data security protocols are followed when working with sensitive datasets.\n",
    "</div>"
   ]
  },
  {
   "cell_type": "markdown",
   "id": "fffce646-ebea-4593-8636-ddd33420f1b4",
   "metadata": {},
   "source": [
    "<div style=\"padding: 10px; border: 1px solid #b3e5fc; border-radius: 5px; background-color: #e1f5fe;\">\n",
    "    <strong>Tip:</strong>💡 Tools like MAFFT and USHER integrate well with cloud computing platforms for high-performance analysis.\n",
    "</div>"
   ]
  },
  {
   "cell_type": "markdown",
   "id": "bdbc2ea7-be5c-45b7-84a8-012d085b0dda",
   "metadata": {},
   "source": [
    "## Summary\n",
    "This notebook teaches how to construct phylogenetic trees by aligning sequences using tools like MAFFT and ClustalW, then creating trees with USHER. It explains the importance of sequence alignment, compares tools, and uses cloud computing for scalable analysis.\n",
    "In next module we will study about analyzing Phylogenetic Tree."
   ]
  },
  {
   "cell_type": "markdown",
   "id": "bf0beee8-7ca0-4bee-b488-d038df73a00a",
   "metadata": {},
   "source": [
    "## Interactive Quiz\n",
    "\n",
    "Test your understanding of phylogenetic tree construction with this interactive quiz:"
   ]
  },
  {
   "cell_type": "code",
   "execution_count": null,
   "id": "8b462c10-646a-47de-b977-cf810acf48e5",
   "metadata": {},
   "outputs": [],
   "source": [
    "from IPython.display import IFrame\n",
    "IFrame(\"Quiz/QS3.html\", width=800, height=350)"
   ]
  }
 ],
 "metadata": {
  "kernelspec": {
   "display_name": "Python 3 (ipykernel)",
   "language": "python",
   "name": "python3"
  },
  "language_info": {
   "codemirror_mode": {
    "name": "ipython",
    "version": 3
   },
   "file_extension": ".py",
   "mimetype": "text/x-python",
   "name": "python",
   "nbconvert_exporter": "python",
   "pygments_lexer": "ipython3",
   "version": "3.10.14"
  }
 },
 "nbformat": 4,
 "nbformat_minor": 5
}
