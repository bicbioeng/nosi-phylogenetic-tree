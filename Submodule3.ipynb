{
 "cells": [
  {
   "cell_type": "markdown",
   "id": "331eaccb-39c3-404d-b07a-7632ea0dd9d4",
   "metadata": {},
   "source": [
    "# **University of South Dakota: Phylogenetic Analysis**\n",
    "\n",
    "## Submodule #3: Construct Phylogenetic Tree\n",
    "The process of creating a diagram that shows the evolutionary relationships among species or genes based on their similarities and differences in genetic or physical traits. It visually represents how they evolved from common ancestors. \n",
    "\n",
    "### Primary Objective \n",
    "Guide learners through the process of constructing phylogenetic trees from aligned sequence data. This module introduces algorithm and tools for high-performance sequence alignment and tree construction.\n",
    "\n",
    "### Overview\n",
    "- **What You'll Learn:**\n",
    "  - Perform sequence alignment using MAFFT and ClustalW.\n",
    "  - Understand VCF format, why it is converted, and its relevance in USHER analysis.\n",
    "  - Know about different algorithms for phylogenetic tree construction.\n",
    "  - Understand various tools available for constructing phylogenetic trees.\n",
    "\n",
    "\n",
    "**Tools and Libraries:**\n",
    "  - **MAFFT**: Fast and scalable sequence alignment tool.\n",
    "  - **ClustalW**: Alternative sequence alignment tool for comparison.\n",
    "  - **USHER**: Tool for constructing phylogenetic trees.\n",
    "  - **NextClade**: A tool for analyzing and visualizing viral sequences within a phylogenetic context.\n",
    "  - **IQ-TREE**: A tool for phylogenetic tree inference using maximum likelihood algorithms.\n",
    "  - **FastTree**: An efficient tool for constructing approximately maximum likelihood phylogenetic trees.\n",
    "  - **VCF format**: Essential data format for storing genetic variants.\n",
    "\n",
    "\n",
    "\n",
    "\n",
    "\n",
    "\n"
   ]
  },
  {
   "cell_type": "markdown",
   "id": "55ea1bcf-9c44-4779-b23d-0befc192c2eb",
   "metadata": {},
   "source": [
    "### Learning Objectives \n",
    "By the end of this submodule, learners will be able to:\n",
    "\n",
    "1. Explain the importance of sequence alignment and phylogenetic tree construction.\n",
    "2. Perform sequence alignment using MAFFT and compare it with ClustalW.\n",
    "3. Select appropriate algorithms and tools for phylogenetic tree construction based on the type and size of datasets.\n",
    "4. Understand the VCF format and its relevance in tree creation workflows.\n",
    "5. Use USHER to construct large-scale phylogenetic trees.\n"
   ]
  },
  {
   "cell_type": "markdown",
   "id": "1dc73546-baa4-4c36-b43e-56c10c14eb0c",
   "metadata": {},
   "source": [
    "----------------------------------------------------------------------------------------------------------------\n",
    "### Training Plan \n"
   ]
  },
  {
   "cell_type": "markdown",
   "id": "f58fe1bb-35d3-4553-b423-4194bb5e292d",
   "metadata": {},
   "source": [
    "Submodule #1: Understanding the Basics of Phylogenetic\n",
    "\n",
    "Submodule #2: Collect and Prepare Sequence Data and Analysis\n",
    "\n",
    "<font color=\"green\"> **Submodule #3: Construct Phylogenetic Tree** </font>\n",
    " \n",
    "Submodule #4: Analyze Phylogenetic Tree"
   ]
  },
  {
   "cell_type": "markdown",
   "id": "6e46671e-853a-4b14-b2db-49c1144d6214",
   "metadata": {},
   "source": [
    "### 3.1: Sequence Alignment\n",
    "**Sequence Alignment** is a critical first step in phylogenetic tree construction. It involves arranging DNA, RNA, or protein sequences to identify regions of similarity, which may indicate evolutionary, functional, or structural relationships. Proper alignment ensures that homologous (evolutionarily related) positions are compared across sequences, allowing evolutionary relationships to be accurately represented.\n",
    "\n",
    "We study two tools that can be used for sequence alignment:\n",
    "1. MAFFT\n",
    "2. ClustalW"
   ]
  },
  {
   "cell_type": "markdown",
   "id": "b8f14c78-f7c3-4df2-af6b-fee79ea2473e",
   "metadata": {},
   "source": [
    "### Tool 1: MAFFT (Multiple Alignment using Fast Fourier Transform)\n",
    "\n",
    "#### What is MAFFT? ####\n",
    "MAFFT is a bioinformatics tool used for multiple sequence alignment (MSA) of DNA or protein sequences. It is widely recognized for its speed, accuracy, and ability to handle large datasets.\n",
    "\n",
    "**Key Features of MAFFT:**\n",
    "1. **Fast Algorithm**: MAFFT uses advanced algorithms like Fast Fourier Transform (FFT) to quickly identify sequence similarities, making it faster than many other alignment tools.\n",
    "2. **Scalable**: It can align thousands of sequences efficiently, which is ideal for large-scale studies.\n",
    "3. **Multiple Strategies**: MAFFT offers different alignment methods, such as progressive alignment (quick) and iterative refinement (more accurate).\n",
    "4. **User-Friendly**: It provides both command-line and web-based interfaces, making it accessible for beginners and experts.\n",
    "\n",
    "**Command Used for MAFFT:** mafft input_sequences.fasta > aligned_sequences.fasta\n",
    "- input_sequences.fasta: Input file containing gene sequences.\n",
    "- aligned_sequences.fasta: Output file with aligned sequences.\n",
    "\n",
    "**Example:** **Steps to Perform Sequence ALignment with MAFFT**\n",
    "1. Align the sequences in your dataset using the following command:\n",
    "\n"
   ]
  },
  {
   "cell_type": "code",
   "execution_count": 1,
   "id": "56b02137-5adc-4069-85a8-7065aa2f954c",
   "metadata": {},
   "outputs": [
    {
     "name": "stdout",
     "output_type": "stream",
     "text": [
      "Directory created successfully\n"
     ]
    }
   ],
   "source": [
    "# Create the folder structure\n",
    "import os\n",
    "\n",
    "# Check if the directory exists\n",
    "alignment_dir = os.path.isdir('./data/cov/alignment')\n",
    "\n",
    "# If the directory does not exist, create it\n",
    "if not alignment_dir:\n",
    "    try:\n",
    "        os.makedirs('./data/cov/alignment')\n",
    "        print(\"Directory created successfully\")\n",
    "    except Exception as e:\n",
    "        print(f\"An error occurred: {e}\")"
   ]
  },
  {
   "cell_type": "code",
   "execution_count": null,
   "id": "ce2ba242-c571-481a-b76e-a271c935767d",
   "metadata": {
    "scrolled": true
   },
   "outputs": [],
   "source": [
    " !mafft --auto ./data/cov/sequence/sequences.fasta > ./data/cov/alignment/aligned_sequences.fasta\n"
   ]
  },
  {
   "cell_type": "markdown",
   "id": "5ab0bb01-4e9a-427b-a6f0-317b7592fbf4",
   "metadata": {},
   "source": [
    "#### Why MAFFT?\n",
    "- MAFFT is fast and scalable.\n",
    "- It works well for large datasets compared to ClustalW.\n",
    "- It is computationally efficient."
   ]
  },
  {
   "cell_type": "markdown",
   "id": "4924be92-9038-4d90-8c64-ee839b1a820f",
   "metadata": {},
   "source": [
    "### Tool 2 : ClustalW\n",
    "ClustalW is a bioinformatics tool used for multiple sequence alignment (MSA) of DNA or protein sequences. It aligns sequences step-by-step using a progressive alignment method.\n",
    "#### Key Features of ClustalW\n",
    "1. **Progressive Alignment**: Aligns sequences in pairs, then builds a guide tree to combine alignments progressively.\n",
    "2. **Simple and Reliable**: Well-suited for aligning small to moderate datasets.\n",
    "3. **Widely Used**: Popular for teaching, research, and constructing phylogenetic trees to study evolutionary relationships.\n",
    "#### Steps to Perform Sequence Alignment with ClustalW\n",
    "1. **Define Paths for Files and Tools:**\n",
    " \n",
    "   - fasta_file = \"data/cov/sequences_subset.fasta\"\n",
    "   - clustalw_exe = \"/path/to/clustalw2\"\n",
    "   - seq_algn_file = \"data/cov/sequences_subset.aln\""
   ]
  },
  {
   "cell_type": "markdown",
   "id": "ebbd5815-a56c-4274-bc68-1a3f848b4f99",
   "metadata": {},
   "source": [
    "#### Process with Clustalw"
   ]
  },
  {
   "cell_type": "code",
   "execution_count": null,
   "id": "9806431b-abd0-401c-88ad-adf08a36a624",
   "metadata": {
    "scrolled": true
   },
   "outputs": [],
   "source": [
    "import subprocess\n",
    "import datetime \n",
    "import matplotlib.pyplot as plt\n",
    "import networkx as nx\n",
    "from Bio import AlignIO\n",
    "from Bio.Phylo.TreeConstruction import DistanceTreeConstructor, DistanceCalculator\n",
    "\n",
    "# Define the paths\n",
    "fasta_file = \"./data/cov/sequence/sequences.fasta\"\n",
    "\n",
    "clustalw_exe = \"/opt/conda/bin/clustalw\"\n",
    "seq_algn_file = \"./data/cov/alignment/sequences.aln\"\n",
    "\n",
    "start_time = datetime.datetime.now()\n",
    "print(f\"Process started at: {start_time}\")\n",
    "\n",
    "# Run ClustalW for multiple sequence alignment using subprocess\n",
    "try:\n",
    "    subprocess.run([clustalw_exe, \"-INFILE=\" + fasta_file, \"-OUTFILE=\" + seq_algn_file, \"-OUTPUT=FASTA\"], check=True)\n",
    "except subprocess.CalledProcessError as e:\n",
    "    print(\"Error running ClustalW:\", e)\n",
    "    exit(1)\n",
    "\n",
    "end_time = datetime.datetime.now()\n",
    "print(f\"Process ended at: {end_time}\")\n",
    "\n",
    "# Calculate the duration\n",
    "duration = end_time - start_time\n",
    "print(f\"Total time taken: {duration}\")"
   ]
  },
  {
   "cell_type": "markdown",
   "id": "1a27599f-575a-430c-862f-57c28129e22b",
   "metadata": {},
   "source": [
    "### Comparison: MAFFT vs. ClustalW\n",
    "\n",
    "| Feature    | MAFFT                          | ClustalW |\n",
    "|----------  |----------                      |----------|\n",
    "| Speed      | Very fast                      | Slower for large datasets |\n",
    "| Scalability| Excellent for large inputs     | Moderate  |\n",
    "| Usage      |Command-line, highly flexible   | Easier for beginners  |\n"
   ]
  },
  {
   "cell_type": "markdown",
   "id": "e55ae61f-a966-44cc-8b0c-1b536d7b21bb",
   "metadata": {},
   "source": [
    "\n",
    "### Performance Comparison: MAFFT vs. ClustalW\n",
    "To help users understand the performance differences between MAFFT and ClustalW, we measured the time taken by each tool to align the same dataset (sequences.fasta, containing 3 months of data).\n",
    "- **MAFFT**: Completed the alignment in approximately 20 minutes.\n",
    "- **ClustalW**: Took over 1 hour to process the same dataset.\n",
    "\n",
    "\n",
    "#### Why is MAFFT Faster than ClustalW?\n",
    "MAFFT is faster than ClustalW due to its algorithmic efficiency and use of advanced computational techniques. Below are the key reasons:\n",
    "1. **Fast Fourier Transform (FFT):**\n",
    "MAFFT uses FFT to identify sequence similarities efficiently, reducing computation time compared to ClustalW’s direct alignment.\n",
    "\n",
    "2. **Iterative Refinement:**\n",
    "MAFFT refines alignments progressively, improving accuracy without significant delays, unlike ClustalW's single-pass alignment.\n",
    "\n",
    "\n",
    "3. **Optimized for Large Datasets:**\n",
    "Designed to handle thousands of sequences quickly, MAFFT avoids unnecessary computations, making it faster for big datasets.\n",
    "\n",
    "4. **Parallel Processing:**\n",
    "MAFFT supports multi-core processing, speeding up tasks significantly. ClustalW lacks this capability.\n",
    "\n",
    "5. **Heuristic Methods:**\n",
    "MAFFT uses smart approximations to skip redundant calculations, ensuring faster performance.\n"
   ]
  },
  {
   "cell_type": "markdown",
   "id": "692cfcb7-2f88-44fc-8d3e-5e5eae5002c0",
   "metadata": {},
   "source": [
    "### 3.2 Select the Appropriate Algorithm for Phylogenetic Tree Reconstruction\n",
    "After aligning sequences, the next step is constructing the phylogenetic tree. The choice of algorithm depends on the dataset's size, desired accuracy, and computational resources. Below is an overview of the key algorithms and tools:\n",
    "##### **1.Maximum Parsimony (MP):**\n",
    "- Simplest approach, minimizing the total number of evolutionary changes.\n",
    "- Suitable for quick analysis or incremental updates.\n",
    "- Tool Example: USHER.\n",
    "\n",
    "##### **2.Maximum Likelihood (ML):**\n",
    "- Statistically robust, modeling evolutionary relationships based on probabilities.\n",
    "- Best for datasets where high accuracy is critical.\n",
    "- Tool Example: IQ-TREE.\n",
    "\n",
    "##### **3.Approximate Maximum Likelihood:**\n",
    "- Balances speed and accuracy for large datasets.\n",
    "- Suitable for exploratory analyses or when computational resources are limited.\n",
    "- Tool Example: FastTree.\n",
    "\n",
    "##### **4.Bayesian Framework:**\n",
    "- Provides posterior probabilities for trees, incorporating prior knowledge and accounting for uncertainty in evolutionary relationships.\n",
    "= Uses Markov Chain Monte Carlo (MCMC) sampling to explore a distribution of trees and parameters.\n",
    "- Best for detailed analyses requiring robust estimates of branch support and parameter uncertainty, especially with complex evolutionary models.\n",
    "- Tool Examples: PhyloBayes (for site-heterogeneous models like CAT), MrBayes, BEAST (for molecular clock-based analyses).\n",
    "\n",
    "Once you've selected the appropriate algorithm, you can proceed to run the commands for tree reconstruction with your aligned sequences.\n",
    "\n",
    "\n",
    "\n"
   ]
  },
  {
   "cell_type": "markdown",
   "id": "58f1a64e-edd9-4277-b27c-7531b599f745",
   "metadata": {},
   "source": [
    "### 3.3 Tools and Their Essential Steps\n",
    "Below is a concise overview comparing Nextclade, USHER, IQ-TREE, and FastTree in terms of the phylogenetic algorithms and approaches they use. Each tool has different strengths, speed, and accuracy trade-offs, making them suitable for different use cases.\n",
    "\n"
   ]
  },
  {
   "cell_type": "markdown",
   "id": "8367537e-13bc-4cdb-ab9c-073cfbbe248f",
   "metadata": {},
   "source": [
    "### **1. Nextclade**\n",
    "**Nextclade** is a bioinformatics tool designed to analyze genome sequences for quality control, mutation identification, and clade assignment. It compares input sequences to a reference genome, detects substitutions, insertions, and deletions, and assigns them to predefined evolutionary clades. Nextclade also generates visualization-ready outputs, including aligned sequences, phylogenetic trees, and JSON files for tools like Auspice, making it a valuable step in preparing data for phylogenetic analysis.\n",
    "\n",
    "\n",
    "#### Workflow for Using Nextclade\n",
    "#### **Step 1: Download the reference data**\n",
    "nextclade dataset get --name 'sars-cov-2' --output-dir 'data/sars-cov-2'\n",
    "\n",
    "#### **Step 2: Run Nextclade**"
   ]
  },
  {
   "cell_type": "code",
   "execution_count": null,
   "id": "ea16a753-d468-4a2e-8b2d-ef95d2690337",
   "metadata": {
    "scrolled": true
   },
   "outputs": [],
   "source": [
    "!./nextclade run --input-dataset data/sars-cov-2 --output-all=data/cov/phylogenetic_tree/nextclade data/cov/alignment/aligned_sequences.fasta"
   ]
  },
  {
   "cell_type": "markdown",
   "id": "a2bc4d36-acdb-410e-8d7c-19792111b514",
   "metadata": {},
   "source": [
    "This command runs Nextclade with specific input and output parameters. Here’s what each part means:\n",
    "\n",
    "1. ``./nextclade``:\n",
    "- Executes the Nextclade binary in the current directory.\n",
    "2. ``run``:\n",
    "- Specifies the mode to run Nextclade analysis.\n",
    "  \n",
    "3. ``--input-dataset data/sars-cov-2:``\n",
    "- Points to the directory containing the reference dataset for SARS-CoV-2.\n",
    "- This folder must include files like reference.fasta, tree.json, and pathogen.json, which are required for mutation analysis and clade assignment.\n",
    "\n",
    "4. ``--output-all=output``\n",
    "- Specifies the directory (output) where all results will be saved. Nextclade will generate:\n",
    "    - nextclade_results.tsv: Sequence quality control, mutations, and clade assignment.\n",
    "    - nextclade_tree.nwk: Phylogenetic tree in Newick format.\n",
    "    - nextclade.auspice.json: JSON for visualization in Auspice.\n",
    "    - Other processed data files.\n",
    "\n",
    "5.``data/cov/alignment/aligned_sequences.fasta``:\n",
    "- Input file containing the aligned genome sequences in FASTA format.\n",
    "\n",
    "#### **Conclusion**\n",
    "After successfully running Nextclade, an output folder is created containing several important files, including nextclade.aligned.fasta, nextclade.auspice.json, nextclade.cds_translation.E.fasta, nextclade.csv, and nextclade.json, among others. In Submodule 4, we will explore some of these output files in detail, learn how to visualize them, and understand their applications in phylogenetic analysis and beyond.\n"
   ]
  },
  {
   "cell_type": "markdown",
   "id": "0bf4dd2d-6006-4696-ab24-d8545fa76728",
   "metadata": {},
   "source": [
    "### **2. USHER (Maximum Parsimony)**\n",
    "For constructing a phylogenetic tree, we use USHER (Ultrafast Sample placement on Existing tRee). USHER is a bioinformatics tool specifically designed to place new genetic sequences onto an existing phylogenetic tree quickly and accurately. This allows us to study the evolutionary relationships of the sequences in the context of known data, making it particularly useful for analyzing large datasets or tracking genetic variations over time.\n",
    "- Primary Algorithm: Maximum Parsimony (MP)\n",
    "\n",
    "**Typical Use Case:**\n",
    "- Primarily developed for SARS-CoV-2 genome datasets.\n",
    "- Efficiently places new sequences onto a large, existing “backbone” tree without having to rebuild from scratch.\n",
    "- Optimizes for the minimum number of additional mutations (parsimony criterion) when inserting a new sample.\n",
    "\n",
    "**Key Strengths:**\n",
    "- Speed: Handles very large SARS-CoV-2 data sets (hundreds of thousands of sequences).\n",
    "- Incremental Updates: Very fast for ongoing/real-time updates to a tree.\n",
    "\n",
    "#### Steps to Construct a Phylogenetic Tree with USHER\n",
    "\n",
    "#### **Step1. Convert to VCF**\n",
    "\n",
    "Tools like USHER require VCF files as input for constructing trees. Converting raw sequence alignments into VCF format ensures compatibility.\n",
    "\n",
    "#### **What is VCF?** \n",
    "The Variant Call Format (VCF) is a widely adopted format for storing genetic variant information. It records:\n",
    "\n",
    "- Chromosome position of each variant.\n",
    "- Type of variants: SNPs(Single Nucleotide Polymorphisms), insertions, deletions.\n",
    "- Metadata: Quality scores, depth, and other annotations.\n",
    "- VCF is highly efficient for handling genomic variant data and is compatible with tools like USHER.\n",
    "\n",
    "#### **Why convert to VCF**? \n",
    "Tools like USHER require VCF files as input for constructing trees. Converting raw sequence alignments into VCF format ensures compatibility.\n",
    "\n",
    "It’s important to understand that tools like faToVcf do more than just change the file format from FASTA to VCF. They perform a process called variant calling, which identifies differences (variants) between the aligned sequences and a reference sequence. These differences, such as SNPs (Single Nucleotide Polymorphisms), insertions, or deletions, are then recorded in the VCF file.\n",
    "\n",
    "**What is Variant Calling?**\n",
    "Variant calling is an analytical process where:\n",
    "- The aligned sequences (from FASTA) are compared to a reference sequence.\n",
    "- Any differences or changes in the sequences, such as mutations or gaps, are identified.\n",
    "- These differences are described and saved in a structured format (VCF)."
   ]
  },
  {
   "cell_type": "markdown",
   "id": "a498999c-2677-4098-a7a1-424eed6ba0e7",
   "metadata": {},
   "source": [
    "#####  Convert Aligned Sequences to VCF:"
   ]
  },
  {
   "cell_type": "code",
   "execution_count": null,
   "id": "73fb1220-6a1f-4463-8089-da72de4cb10b",
   "metadata": {},
   "outputs": [],
   "source": [
    "# Create the folder structure\n",
    "import os\n",
    "\n",
    "# Check if the directory exists\n",
    "uniport_dir = os.path.isdir('./data/cov/phylogenetic_tree')\n",
    "\n",
    "# If the directory does not exist, create it\n",
    "if not uniport_dir:\n",
    "    try:\n",
    "        os.makedirs('./data/cov/phylogenetic_tree')\n",
    "        print(\"Directory created successfully\")\n",
    "    except Exception as e:\n",
    "        print(f\"An error occurred: {e}\")"
   ]
  },
  {
   "cell_type": "code",
   "execution_count": null,
   "id": "34a9da77-45e3-463f-8557-3c3b97f1fff7",
   "metadata": {},
   "outputs": [],
   "source": [
    "import time\n",
    "starttime = time.time()\n",
    "!faToVcf ./data/cov/alignment/aligned_sequences.fasta ./data/cov/phylogenetic_tree/phylogenetic_tree_aligned_sequences.vcf\n",
    "endtime = time.time()\n",
    "\n",
    "execution_time = endtime - starttime\n",
    "print(f\"Execution Time: {execution_time} seconds\")"
   ]
  },
  {
   "cell_type": "markdown",
   "id": "f376f826-bb48-4e37-a13c-6875c17c0fee",
   "metadata": {},
   "source": [
    "<div style=\"padding: 10px; border: 1px solid #b3e5fc; border-radius: 5px; background-color: #e1f5fe;\">\n",
    "    <strong>Tip:</strong>💡 Always inspect the aligned sequences to ensure proper alignment before proceeding to phylogenetic tree construction.\n",
    "</div>"
   ]
  },
  {
   "cell_type": "markdown",
   "id": "263a2f4d-9b68-486d-be44-28d001ebf6a1",
   "metadata": {},
   "source": [
    "#### **Step2. Run USHER to Construct the Phylogenetic Tree:**\n",
    "Use the SD_phylogenetic_tree_reference_aligned_sequences.nwk from data/cov/phylogenetic_tree/SD_phylogenetic_tree_reference_aligned_sequences.nwk"
   ]
  },
  {
   "cell_type": "code",
   "execution_count": null,
   "id": "5599b804-76cd-4bcd-a4ab-d9120a6e71a5",
   "metadata": {
    "scrolled": true
   },
   "outputs": [],
   "source": [
    "import time\n",
    "starttime = time.time()\n",
    "!usher -t ./data/cov/phylogenetic_tree/SD_phylogenetic_tree_reference_aligned_sequences.nwk -v ./data/cov/phylogenetic_tree/phylogenetic_tree_aligned_sequences.vcf -o ./data/cov/phylogenetic_tree/phylogenetic_tree_output_aligned_sequences.nwk\n",
    "endtime = time.time()\n",
    "\n",
    "execution_time = endtime - starttime\n",
    "print(f\"Execution Time: {execution_time} seconds\")\n"
   ]
  },
  {
   "cell_type": "markdown",
   "id": "46044dd4-d6e8-4d53-8ea5-7484ed9b23f5",
   "metadata": {},
   "source": [
    " #### **Step3. Output:**\n",
    "\n",
    "- The constructed phylogenetic tree will be saved in the Newick file format `(.nwk).`\n",
    "- You can visualize the tree using compatible tools."
   ]
  },
  {
   "cell_type": "markdown",
   "id": "dc5a26cd-48ae-4bf3-834f-f1c37ee7d8ed",
   "metadata": {},
   "source": [
    "### 3.IQ-Tree\n",
    "- Algorithm: Maximum Likelihood (ML)Utilizes advanced likelihood optimization and model selection (e.g., GTR+Γ).\n",
    "- Implements ultrafast bootstrapping and ModelFinder for model selection.\n",
    "  \n",
    "**Typical Use Case:**\n",
    "- Widely used for general-purpose phylogenetics (both nucleotide and amino acid alignments).\n",
    "- Offers cutting-edge ML methods and can handle moderate-to-large datasets (thousands to tens of thousands of sequences), depending on computational resources.\n",
    "  \n",
    "**Key Strengths:**\n",
    "- High Accuracy: More rigorous than parsimony for many datasets.\n",
    "- Rich Features: Model selection, partitioned analysis, and ultrafast bootstrap.\n",
    "- Flexible: Can handle a variety of data types and evolutionary models.\n"
   ]
  },
  {
   "cell_type": "markdown",
   "id": "57c2a7d2-4a2d-431c-a88e-83be33f7b2b8",
   "metadata": {},
   "source": [
    "**Run IQ-Tree**"
   ]
  },
  {
   "cell_type": "code",
   "execution_count": 6,
   "id": "fd544934-dc24-488c-a6eb-a3aa28b41a46",
   "metadata": {},
   "outputs": [
    {
     "name": "stdout",
     "output_type": "stream",
     "text": [
      "Directory created successfully\n"
     ]
    }
   ],
   "source": [
    "# Create the folder structure\n",
    "\n",
    "# Check if the directory exists\n",
    "uniport_dir = os.path.isdir('./data/cov/phylogenetic_tree/IQ-Tree')\n",
    "\n",
    "# If the directory does not exist, create it\n",
    "if not uniport_dir:\n",
    "    try:\n",
    "        os.makedirs('./data/cov/phylogenetic_tree/IQ-Tree')\n",
    "        print(\"Directory created successfully\")\n",
    "    except Exception as e:\n",
    "        print(f\"An error occurred: {e}\")"
   ]
  },
  {
   "cell_type": "code",
   "execution_count": null,
   "id": "da315e21-04a0-47e3-a616-ac17ffc60ded",
   "metadata": {
    "scrolled": true
   },
   "outputs": [],
   "source": [
    "import time\n",
    "starttime = time.time()\n",
    "!iqtree -s ./data/cov/alignment/aligned_sequences.fasta -m GTR+G -bb 1000 -alrt 1000 -nt AUTO -pre ./data/cov/phylogenetic_tree/IQ-Tree/aligned_sequences\n",
    "endtime = time.time()\n",
    "\n",
    "execution_time = endtime - starttime\n",
    "print(f\"Execution Time: {execution_time} seconds\")\n"
   ]
  },
  {
   "cell_type": "markdown",
   "id": "7d5a3e88-7e7b-4cb2-8349-134259a22b9d",
   "metadata": {},
   "source": [
    "#### Command Parameters Explained:\n",
    "1. **iqtree**: This is the command to run the IQ-TREE program.\n",
    "2. **s**: Specifies the input alignment file. In this case, ./data/cov/alignment/aligned_sequences.fasta is the file containing the aligned sequences in FASTA format.\n",
    "3. **-m**: Specifies the substitution model to use for phylogenetic tree reconstruction. Here, GTR+G is used:\n",
    "   - GTR (General Time Reversible): A commonly used nucleotide substitution model.\n",
    "   - +G: Indicates that the model includes a Gamma distribution to account for rate heterogeneity across sites.\n",
    "4. **-bb**: Enables ultrafast bootstrap analysis for assessing branch support, with the number of bootstrap replicates specified. Here, 1000 bootstrap replicates will be performed. This provides confidence values for the branches of the tree.\n",
    "5. **-alrt**: Enables approximate likelihood ratio tests (aLRT) for branch support. Here, 1000 replicates are used, providing additional support metrics for tree branches.\n",
    "6. **-nt**: Specifies the number of CPU threads to use. AUTO lets IQ-TREE automatically detect the number of available CPU cores and use them for parallel computation.\n",
    "7. **-pre**: Specifies the prefix for the output files. Here, ./data/cov/visualization/aligned_sequences will be the prefix, and IQ-TREE will append additional information to the filenames based on the results.\n",
    "    "
   ]
  },
  {
   "cell_type": "markdown",
   "id": "89331cc7-5b40-492c-9792-9420319f8569",
   "metadata": {},
   "source": [
    "| **Parameter**          | **Impact on Execution Time**                     | **Recommendation**                              |\n",
    "|----------------------- |----------------------------------------------|------------------------------------------------|\n",
    "| `-s` (Input Data)      | More sequences/longer sequences → More time  | Prune redundant sequences                      |\n",
    "| `-m` (Model Selection) | `TEST` → Slow, specific model → Fast         | Use a known model (e.g., `GTR+G`)              |\n",
    "| `-bb` (Bootstrap)      | Higher replicates → Longer time              | Use at least **1000 replicates** for accuracy    |\n",
    "| `-alrt` (aLRT)         | Higher replicates → Longer time              | Use at least **1000 replicates** for accuracy  |\n",
    "| `-nt` (Threads)        | More threads → Faster                        | Use `AUTO` or match your CPU cores             |\n",
    "| Tree Method            | Approximation → Fast, Exact → Slow           | Use ultrafast bootstrap for large datasets     |\n"
   ]
  },
  {
   "cell_type": "markdown",
   "id": "3601ac71-951d-490d-8ec0-b1c6c9fbe4cf",
   "metadata": {},
   "source": [
    "### 4.FastTree\n",
    "- Algorithm: Approximate Maximum LikelihoodUses a heuristic approach to speed up tree searches, often approximating likelihood calculations.\n",
    "- Not a pure maximum likelihood method like IQ-TREE, but faster.\n",
    "  \n",
    "**Typical Use Case:**\n",
    "- Very large alignments (tens or hundreds of thousands of sequences) where speed is a priority.\n",
    "- Often used as a first pass or for exploratory analysis to get a quick tree.\n",
    "  \n",
    "**Key Strengths:**\n",
    "- Speed: Among the fastest for large datasets.\n",
    "- Lower Memory Footprint than full ML approaches in many cases.\n",
    "- Good Approximation: Usually yields a decent tree quickly, though it may not be as accurate as a full ML method (like IQ-TREE) for certain datasets."
   ]
  },
  {
   "cell_type": "markdown",
   "id": "05bafc51-e4b4-4dde-af6a-8d8ec31becb8",
   "metadata": {},
   "source": [
    "**Run Fasttree**"
   ]
  },
  {
   "cell_type": "code",
   "execution_count": 8,
   "id": "349e3ed9-b6fd-41eb-bbd6-84887adec8fd",
   "metadata": {},
   "outputs": [
    {
     "name": "stdout",
     "output_type": "stream",
     "text": [
      "Directory created successfully\n"
     ]
    }
   ],
   "source": [
    "# Create the folder structure\n",
    "\n",
    "# Check if the directory exists\n",
    "uniport_dir = os.path.isdir('./data/cov/phylogenetic_tree/fasttree')\n",
    "\n",
    "# If the directory does not exist, create it\n",
    "if not uniport_dir:\n",
    "    try:\n",
    "        os.makedirs('./data/cov/phylogenetic_tree/fasttree')\n",
    "        print(\"Directory created successfully\")\n",
    "    except Exception as e:\n",
    "        print(f\"An error occurred: {e}\")"
   ]
  },
  {
   "cell_type": "code",
   "execution_count": null,
   "id": "fd16485e-c940-4199-a272-2cb4e77c0ec0",
   "metadata": {
    "scrolled": true
   },
   "outputs": [],
   "source": [
    "import time\n",
    "starttime = time.time()\n",
    "!fasttree -nt ./data/cov/alignment/aligned_sequences.fasta > ./data/cov/phylogenetic_tree/fasttree/aligned_sequences.nwk\n",
    "\n",
    "endtime = time.time()\n",
    "\n",
    "execution_time = endtime - starttime\n",
    "print(f\"Execution Time: {execution_time} seconds\")"
   ]
  },
  {
   "cell_type": "markdown",
   "id": "264a8964-38ca-4a20-859b-d768af2cfdc9",
   "metadata": {},
   "source": [
    "**Explanation:**\n",
    "###### -nt: Specifies that the input contains nucleotide sequences.\n",
    "###### ./data/cov/alignment/aligned_sequences.fasta: Path to the input aligned sequences file.\n",
    "###### ./data/cov/phylogenetic_tree/fasttree/aligned_sequences.tree: Path where the output tree in Newick format will be saved.\n"
   ]
  },
  {
   "cell_type": "markdown",
   "id": "78f2f806-dfa6-4e94-99b7-cce7ff3f5a80",
   "metadata": {},
   "source": [
    "### 3.4 Comparison of Phylogenetic Tools: Algorithms, Strengths, and Execution Times"
   ]
  },
  {
   "cell_type": "markdown",
   "id": "2d8dfdf1-e22a-4f8f-8bf4-81716feaa5cd",
   "metadata": {},
   "source": [
    "| Tool       | Algorithm               | Typical Usage                        | Strengths                        | Limitations                                  | Time to Execute          |\n",
    "|------------|-------------------------|--------------------------------------|----------------------------------|----------------------------------------------|--------------------------|\n",
    "| UShER      | Maximum Parsimony       | Large, real-time SARS-CoV-2 updates | Ultra-fast incremental insertion | Tailored to SARS-CoV-2; not general ML-based | 1 minute and 53 seconds. |\n",
    "| IQ-TREE    | Maximum Likelihood      | General-purpose phylogenetics       | High accuracy, advanced model selection | Requires more CPU/memory for large datasets | 19 minutes and 10 seconds. |\n",
    "| FastTree   | Approx. Max Likelihood  | Quick tree building for large sets  | Very fast, low resource usage    | Heuristic approach; can be less accurate    | 2 minutes and 5 seconds.  |\n",
    "| Nextclade  | Sequence Comparison and Heuristic Clade Assignment | Pre-analysis quality control and clade assignment | Quick, user-friendly, generates visualization-ready outputs | Not for advanced tree construction; uses basic tree-building methods | Less than 1 minute.         |\n"
   ]
  },
  {
   "cell_type": "markdown",
   "id": "fffce646-ebea-4593-8636-ddd33420f1b4",
   "metadata": {},
   "source": [
    "<div style=\"padding: 10px; border: 1px solid #b3e5fc; border-radius: 5px; background-color: #e1f5fe;\">\n",
    "    <strong>Tip:</strong>💡 Tools like MAFFT and USHER integrate well with cloud computing platforms for high-performance analysis. For more information refer to README Page.\n",
    "</div>"
   ]
  },
  {
   "cell_type": "markdown",
   "id": "bdbc2ea7-be5c-45b7-84a8-012d085b0dda",
   "metadata": {},
   "source": [
    "### Summary\n",
    "This submodule provides a step-by-step approach to phylogenetic tree reconstruction. It emphasizes the importance of selecting the right tools and algorithms based on dataset size, speed requirements, and desired accuracy. Learners will gain hands-on experience with tools like MAFFT, USHER, IQ-TREE, and FastTree, while understanding the trade-offs of each.\n",
    "\n",
    "Tip: Many tools, such as MAFFT and USHER, are optimized for integration with cloud computing platforms, enabling high-performance analysis for large datasets. Refer to the README for additional details and best practices.\n",
    "\n",
    "By the end of this submodule, learners will confidently navigate the complexities of phylogenetic tree construction and apply these skills across diverse datasets.\n",
    "\n",
    "In Submodule #4, we will explore how to visualize phylogenetic trees using the output files generated by the tools introduced in this submodule. Visualization is a critical step in interpreting and presenting evolutionary relationships, and you'll learn to use specialized tools to create clear and insightful representations of your data."
   ]
  },
  {
   "cell_type": "markdown",
   "id": "bf0beee8-7ca0-4bee-b488-d038df73a00a",
   "metadata": {},
   "source": [
    "### Interactive Quiz\n",
    "\n",
    "Test your understanding of phylogenetic tree construction with this interactive quiz:"
   ]
  },
  {
   "cell_type": "code",
   "execution_count": null,
   "id": "8b462c10-646a-47de-b977-cf810acf48e5",
   "metadata": {},
   "outputs": [],
   "source": [
    "from IPython.display import IFrame\n",
    "IFrame(\"Quiz/QS3.html\", width=800, height=350)"
   ]
  }
 ],
 "metadata": {
  "kernelspec": {
   "display_name": "Python 3 (ipykernel)",
   "language": "python",
   "name": "python3"
  },
  "language_info": {
   "codemirror_mode": {
    "name": "ipython",
    "version": 3
   },
   "file_extension": ".py",
   "mimetype": "text/x-python",
   "name": "python",
   "nbconvert_exporter": "python",
   "pygments_lexer": "ipython3",
   "version": "3.10.14"
  }
 },
 "nbformat": 4,
 "nbformat_minor": 5
}
