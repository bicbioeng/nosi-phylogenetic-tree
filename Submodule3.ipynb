{
 "cells": [
  {
   "cell_type": "markdown",
   "id": "ead4567e-3195-474f-b344-bc36cb46ac4c",
   "metadata": {},
   "source": [
    "# Submodule3: Construct Phylogenetic Tree"
   ]
  },
  {
   "cell_type": "markdown",
   "id": "b36c7550",
   "metadata": {},
   "source": [
    "## Learning Objectives\n",
    "In Submodule 3, we will construct a phylogenetic tree from a gene sequence. This involves the following steps:\n",
    "- Perform sequence alignment using MAFFT.\n",
    "- Reconstruct the phylogenetic tree using USHER, a tool optimized for large-scale phylogenetic analysis.\n",
    "\n",
    "By the end of this submodule, learners will be able to:\n",
    "1. Align gene sequences for phylogenetic analysis.\n",
    "2. Use USHER to rapidly construct and analyze phylogenetic trees.\n",
    "3. Explore ClustalW as an alternative sequence alignment method."
   ]
  },
  {
   "cell_type": "markdown",
   "id": "7f9ad573",
   "metadata": {},
   "source": [
    "----------------------------------------------------------------------------------------------------------------\n",
    "# Training Plan \n"
   ]
  },
  {
   "cell_type": "markdown",
   "id": "097d5864",
   "metadata": {},
   "source": [
    "Submodule #1: Understanding the Basics of Phylogenetic\n",
    "\n",
    "Submodule #2: Collect and Prepare Sequence Data and Analysis\n",
    "\n",
    "<font color=\"green\"> **Submodule #3: Construct Phylogenetic Tree** </font>\n",
    " \n",
    "Submodule #4: Analyze Phylogenetic Tree"
   ]
  },
  {
   "cell_type": "markdown",
   "id": "f7cad5e6",
   "metadata": {},
   "source": [
    "----------------------------------------------------------------------------------------------------------------"
   ]
  },
  {
   "cell_type": "markdown",
   "id": "af234402",
   "metadata": {},
   "source": [
    "## 3.1 Perform Accurate Sequence Alignment with MAFFT\n",
    "\n",
    "Sequence alignment is a critical step in phylogenetic analysis. It arranges sequences to highlight similarities and differences, providing the foundation for accurate tree construction.\n",
    "\n",
    "### Why Use MAFFT for Sequence Alignment?\n",
    "- MAFFT is a fast and reliable tool for multiple sequence alignment.\n",
    "- It is highly scalable, making it suitable for large metagenomic datasets like SARS-CoV-2 sequences.\n",
    "\n",
    "### Steps to Perform Sequence Alignment with MAFFT\n",
    "1. Align the sequences in your dataset using the following command:"
   ]
  },
  {
   "cell_type": "markdown",
   "id": "fd904c45-c2bc-486e-873d-a282dd7df8db",
   "metadata": {},
   "source": [
    "<<<<<<< LOCAL CELL DELETED >>>>>>>\n",
    "## 3.3 Phylogenetic Tree Reconstruction using USHER\n",
    "USHER (Ultrafast Sample Placement on Existing tRee) is a tool designed to place samples on a given phylogenetic tree rapidly. It is beneficial for large-scale phylogenetic analysis and real-time epidemiology.\n",
    "\n",
    "**Important Note:**\n",
    "\n",
    "Before running USHER, change the Jupyter kernel to a dedicated USHER kernel. The dependencies required for USHER may conflict with other installed packages, so a separate kernel helps avoid installation issues.\n",
    "\n",
    "### Steps to Use USHER for Phylogenetic Tree Reconstruction:"
   ]
  },
  {
   "cell_type": "code",
   "execution_count": null,
   "id": "519d76cf",
   "metadata": {},
   "outputs": [],
   "source": [
    "!mafft --auto data/cov/sequences_subset.fasta > data/cov/aligned_sequences_mafft_subset.fasta"
   ]
  },
  {
   "cell_type": "markdown",
   "id": "62a23c0b-a22c-4300-881a-0b43de5566b4",
   "metadata": {},
   "source": [
    "## 3.2 Manage Computational Intensity Through Cloud Computing\n",
    "\n",
    "Due to the large size of metagenomic datasets, sequence alignment and phylogenetic tree construction can be computationally intensive. Leveraging cloud computing resources can significantly enhance the efficiency and speed of these tasks.\n",
    "\n",
    "### Benefits of Cloud Computing for Sequence Alignment\n",
    "1. **Scalability:**\n",
    "   - Cloud platforms, such as AWS, Google Cloud, and Azure, allow researchers to scale up resources dynamically based on the computational demands of the task.\n",
    "\n",
    "2. **Cost-Effectiveness:**\n",
    "   - Pay-as-you-go models allow researchers to optimize costs by paying only for the resources they use.\n",
    "\n",
    "3. **Accessibility:**\n",
    "   - Cloud services enable researchers to access computational resources and data from anywhere, supporting collaboration across teams and geographies."
   ]
  },
  {
   "cell_type": "markdown",
   "id": "b98cd7f9",
   "metadata": {},
   "source": [
    "<div style=\"padding: 10px; border: 1px solid #b3e5fc; border-radius: 5px; background-color: #e1f5fe;\">\n",
    "    <strong>Note:</strong> 📝 Always configure your cloud environment to balance performance and cost, and ensure data security protocols are followed when working with sensitive datasets.\n",
    "</div>"
   ]
  },
  {
   "cell_type": "markdown",
   "id": "e96f1904",
   "metadata": {},
   "source": [
    "<div style=\"padding: 10px; border: 1px solid #b3e5fc; border-radius: 5px; background-color: #e1f5fe;\">\n",
    "    <strong>Tip:</strong>💡 Tools like MAFFT and USHER integrate well with cloud computing platforms for high-performance analysis.\n",
    "</div>"
   ]
  },
  {
   "cell_type": "markdown",
   "id": "75a452aa",
   "metadata": {},
   "source": [
    "## 3.3 Phylogenetic Tree Reconstruction Using USHER\n",
    "\n",
    "USHER (**Ultrafast Sample Placement on Existing tRee**) is a high-performance tool designed to rapidly construct and analyze phylogenetic trees. It is particularly effective for large datasets, such as those generated during SARS-CoV-2 genomic studies.\n",
    "\n",
    "### Key Features of USHER\n",
    "- **Speed:** Processes large datasets quickly, even in real-time.\n",
    "- **Scalability:** Handles complex phylogenies with thousands of sequences.\n",
    "- **Integration:** Accepts input in common formats (e.g., VCF, Newick).\n",
    "\n",
    "### Steps to Construct a Phylogenetic Tree with USHER\n",
    "1. **Prepare Input Files:**\n",
    "   - Aligned sequences in FASTA format.\n",
    "   - VCF file containing sequence variants.\n",
    "   - A reference tree in Newick format."
   ]
  },
  {
   "cell_type": "markdown",
   "id": "92257810",
   "metadata": {},
   "source": [
    "<div style=\"padding: 10px; border: 1px solid #b3e5fc; border-radius: 5px; background-color: #e1f5fe;\">\n",
    "    <strong>Tip:</strong>💡 Always inspect the aligned sequences to ensure proper alignment before proceeding to phylogenetic tree construction.\n",
    "</div>"
   ]
  },
  {
   "cell_type": "markdown",
   "id": "5e8d6495",
   "metadata": {},
   "source": [
    "### Convert Aligned Sequences to VCF:"
   ]
  },
  {
   "cell_type": "code",
   "execution_count": null,
   "id": "8ef45d4e-0a71-4a73-8fb0-8563a1e6a788",
   "metadata": {
    "tags": []
   },
   "outputs": [],
   "source": [
    "!faToVcf data/cov/aligned_sequences_mafft_subset.fasta data/cov/seq_subset.vcf"
   ]
  },
  {
   "cell_type": "markdown",
   "id": "1904f18c",
   "metadata": {},
   "source": [
    "### Generate a Reference Tree in Newick Format:"
   ]
  },
  {
   "cell_type": "code",
   "execution_count": null,
   "id": "d025cf79-e7a2-4e85-b2b0-0afb59a4270f",
   "metadata": {
    "tags": []
   },
   "outputs": [],
   "source": [
    "!fasttree -nt data/cov/aligned_sequences_mafft_subset.fasta > data/cov/reference_sequences_subset.nwk"
   ]
  },
  {
   "cell_type": "markdown",
   "id": "31d49d3c",
   "metadata": {},
   "source": [
    "### Run USHER to Construct the Phylogenetic Tree:"
   ]
  },
  {
   "cell_type": "code",
   "execution_count": null,
   "id": "3fbc47b6-33b4-49c1-bef9-c986abdcc3c0",
   "metadata": {
    "tags": []
   },
   "outputs": [],
   "source": [
    "!usher -t data/cov/reference_sequences_subset.nwk -v data/cov/seq_subset.vcf -o data/cov/seq_output_subset.nwk"
   ]
  },
  {
   "cell_type": "markdown",
   "id": "25e7efab",
   "metadata": {},
   "source": [
    "### Output:\n",
    "\n",
    "- The constructed phylogenetic tree will be saved in the Newick file format `(seq_output_subset.nwk).`\n",
    "- You can visualize the tree using compatible tools."
   ]
  },
  {
   "cell_type": "markdown",
   "id": "1202e2b2",
   "metadata": {},
   "source": [
    "<div style=\"padding: 10px; border: 1px solid #ffccbc; border-radius: 5px; background-color: #ffebee;\">\n",
    "    <strong>Alert:</strong>⚠️ Before running USHER, change the Jupyter kernel to a dedicated USHER kernel to avoid dependency conflicts.\n",
    "</div>"
   ]
  },
  {
   "cell_type": "markdown",
   "id": "75bef8db",
   "metadata": {},
   "source": [
    "## Interactive Quiz\n",
    "\n",
    "Test your understanding of phylogenetic tree construction with this interactive quiz:"
   ]
  },
  {
   "cell_type": "code",
   "execution_count": null,
   "id": "c8cb20c9",
   "metadata": {},
   "outputs": [],
   "source": [
    "from jupyterquiz import display_quiz\n",
    "display_quiz('Quiz/QS3.json')"
   ]
  },
  {
   "cell_type": "markdown",
   "id": "939082d7-f377-4e20-9837-8da69673f171",
   "metadata": {},
   "source": [
    "## 3.4 Alternative Sequence Alignment Using ClustalW\n",
    "\n",
    "ClustalW is another commonly used tool for multiple sequence alignment. It arranges sequences to emphasize similarities and differences, providing an alternative to MAFFT.\n",
    "\n",
    "### Steps to Perform Sequence Alignment with ClustalW\n",
    "1. **Define Paths for Files and Tools:**\n",
    " \n",
    "   - fasta_file = \"data/cov/sequences_subset.fasta\"\n",
    "   - clustalw_exe = \"/path/to/clustalw2\"\n",
    "   - seq_algn_file = \"data/cov/sequences_subset.aln\""
   ]
  },
  {
   "cell_type": "markdown",
   "id": "95bef0bf-1c45-4f76-9c3c-4a1828883ae9",
   "metadata": {},
   "source": [
    "### Process with Clustalw"
   ]
  },
  {
   "cell_type": "code",
   "execution_count": null,
   "id": "5f1e1890-9ef6-4afd-a128-9d1cac2ff90e",
   "metadata": {},
   "outputs": [],
   "source": [
    "import subprocess\n",
    "import datetime \n",
    "import matplotlib.pyplot as plt\n",
    "import networkx as nx\n",
    "from Bio import AlignIO\n",
    "from Bio.Phylo.TreeConstruction import DistanceTreeConstructor, DistanceCalculator\n",
    "\n",
    "# Define the paths\n",
    "fasta_file = \"sequences_subset.fasta\"\n",
    "clustalw_exe = \"/home/ec2-user/anaconda3/envs/python3/bin/clustalw2\"\n",
    "seq_algn_file = \"sequences_subset.aln\"\n",
    "\n",
    "start_time = datetime.datetime.now()\n",
    "print(f\"Process started at: {start_time}\")\n",
    "\n",
    "# Run ClustalW for multiple sequence alignment using subprocess\n",
    "try:\n",
    "    subprocess.run([clustalw_exe, \"-INFILE=\" + fasta_file, \"-OUTFILE=\" + seq_algn_file, \"-OUTPUT=FASTA\"], check=True)\n",
    "except subprocess.CalledProcessError as e:\n",
    "    print(\"Error running ClustalW:\", e)\n",
    "    exit(1)\n",
    "\n",
    "end_time = datetime.datetime.now()\n",
    "print(f\"Process ended at: {end_time}\")\n",
    "\n",
    "# Calculate the duration\n",
    "duration = end_time - start_time\n",
    "print(f\"Total time taken: {duration}\")"
   ]
  },
  {
   "cell_type": "markdown",
   "id": "9712d191",
   "metadata": {},
   "source": [
    "## Installations\n",
    "\n",
    "Ensure all necessary tools and libraries are installed before proceeding.\n",
    "\n",
    "### Install MAFFT"
   ]
  },
  {
   "cell_type": "code",
   "execution_count": null,
   "id": "482f1087",
   "metadata": {},
   "outputs": [],
   "source": [
    "!conda install -c bioconda mafft fasttree -y"
   ]
  },
  {
   "cell_type": "markdown",
   "id": "cd200bf1",
   "metadata": {},
   "source": [
    "### Install USHER and Dependencies\n",
    "#### Install USHER:"
   ]
  },
  {
   "cell_type": "code",
   "execution_count": null,
   "id": "27483db0",
   "metadata": {},
   "outputs": [],
   "source": [
    "!conda install -c bioconda usher -y"
   ]
  },
  {
   "cell_type": "markdown",
   "id": "e4e447c2",
   "metadata": {},
   "source": [
    "#### Install Additional Dependencies"
   ]
  },
  {
   "cell_type": "code",
   "execution_count": null,
   "id": "9705431e",
   "metadata": {},
   "outputs": [],
   "source": [
    "!conda install -c defaults -c bioconda -c conda-forge perl gzip -y"
   ]
  },
  {
   "cell_type": "markdown",
   "id": "dd662968",
   "metadata": {},
   "source": [
    "### Install ClustalW"
   ]
  },
  {
   "cell_type": "code",
   "execution_count": null,
   "id": "8bcfafce",
   "metadata": {},
   "outputs": [],
   "source": [
    "!conda install -c bioconda clustalw -y"
   ]
  },
  {
   "cell_type": "markdown",
   "id": "97e042d2",
   "metadata": {},
   "source": [
    "<div style=\"padding: 10px; border: 1px solid #b3e5fc; border-radius: 5px; background-color: #e1f5fe;\">\n",
    "    <strong>Tip:</strong>💡 Verify installations by checking tool versions:\n",
    "</div>"
   ]
  },
  {
   "cell_type": "code",
   "execution_count": null,
   "id": "65d85397",
   "metadata": {},
   "outputs": [],
   "source": [
    "!mafft --version\n",
    "!usher --version\n",
    "!clustalw2 --version"
   ]
  }
 ],
 "metadata": {
  "kernelspec": {
   "display_name": "conda_python3",
   "language": "python",
   "name": "conda_python3"
  },
  "language_info": {
   "codemirror_mode": {
    "name": "ipython",
    "version": 3
   },
   "file_extension": ".py",
   "mimetype": "text/x-python",
   "name": "python",
   "nbconvert_exporter": "python",
   "pygments_lexer": "ipython3",
   "version": "3.10.15"
  }
 },
 "nbformat": 4,
 "nbformat_minor": 5
}
