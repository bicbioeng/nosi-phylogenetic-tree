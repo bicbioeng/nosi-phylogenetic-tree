{
 "cells": [
  {
   "cell_type": "markdown",
   "id": "ead4567e-3195-474f-b344-bc36cb46ac4c",
   "metadata": {},
   "source": [
    "# Submodule3: Construct Phylogenetic Tree"
   ]
  },
  {
   "cell_type": "markdown",
   "id": "b36c7550",
   "metadata": {},
   "source": [
    "# Learning Objectives:\n",
    "In submodule 3 we will construct phylogenetic tree from a gene sequence that includes the following steps:\n",
    "- Perform sequence alignment\n",
    "- Perform phylogenetic tree reconstruction"
   ]
  },
  {
   "cell_type": "markdown",
   "id": "7f9ad573",
   "metadata": {},
   "source": [
    "----------------------------------------------------------------------------------------------------------------\n",
    "# Training Plan \n"
   ]
  },
  {
   "cell_type": "markdown",
   "id": "097d5864",
   "metadata": {},
   "source": [
    "Submodule #1: Understanding the Basics of Phylogenetic\n",
    "\n",
    "Submodule #2: Collect and Prepare Sequence Data and Analysis\n",
    "\n",
    "<font color=\"green\"> **Submodule #3: Construct Phylogenetic Tree** </font>\n",
    " \n",
    "Submodule #4: Analyze Phylogenetic Tree"
   ]
  },
  {
   "cell_type": "markdown",
   "id": "f7cad5e6",
   "metadata": {},
   "source": [
    "----------------------------------------------------------------------------------------------------------------"
   ]
  },
  {
   "cell_type": "markdown",
   "id": "af234402",
   "metadata": {},
   "source": [
    "## 3.1 Perform Accurate Sequence Alignment of Metagenomic Data using augur align (Nextstrain)\n",
    "Sequence alignment is essential for phylogenetic analysis, as it arranges sequences to emphasize their similarities and differences, setting the foundation for accurate tree construction.\n",
    "\n",
    "**Using augur align for Sequence Alignment**\n",
    "\n",
    "In this notebook, we’ll use `augur align` from Nextstrain to align SARS-CoV-2 sequences in preparation for phylogenetic tree construction. Follow these steps to install the necessary packages and perform sequence alignment with `augur align`.\n",
    "\n",
    "#### Step-by-Step Guide:\n",
    "1. Install Necessary Packages: Ensure that the required libraries are installed, including `nextstrain-cli`, `nextstrain-augur`, and `bioconda tools` for `mafft` and `fasttree`."
   ]
  },
  {
   "cell_type": "code",
   "execution_count": null,
   "id": "2563a93f-ae2d-4b65-8f49-c88fe4a3fe11",
   "metadata": {
    "tags": []
   },
   "outputs": [],
   "source": [
    "!pip install matplotlib"
   ]
  },
  {
   "cell_type": "code",
   "execution_count": null,
   "id": "709e43dd-9921-4293-864a-82e7b86388e4",
   "metadata": {
    "tags": []
   },
   "outputs": [],
   "source": [
    "!pip install networkx"
   ]
  },
  {
   "cell_type": "code",
   "execution_count": null,
   "id": "736ed8e0",
   "metadata": {
    "tags": []
   },
   "outputs": [],
   "source": [
    "!pip install biopython"
   ]
  },
  {
   "cell_type": "code",
   "execution_count": null,
   "id": "aed1ae95",
   "metadata": {
    "tags": []
   },
   "outputs": [],
   "source": [
    "!pip install nextstrain-cli"
   ]
  },
  {
   "cell_type": "code",
   "execution_count": null,
   "id": "1f3ae62d",
   "metadata": {
    "tags": []
   },
   "outputs": [],
   "source": [
    "!pip install nextstrain-augur"
   ]
  },
  {
   "cell_type": "code",
   "execution_count": null,
   "id": "ed8d5339",
   "metadata": {
    "tags": []
   },
   "outputs": [],
   "source": [
    "!conda install -c bioconda mafft fasttree -y"
   ]
  },
  {
   "cell_type": "code",
   "execution_count": null,
   "id": "098c393a",
   "metadata": {
    "tags": []
   },
   "outputs": [],
   "source": [
    "%pwd"
   ]
  },
  {
   "cell_type": "code",
   "execution_count": null,
   "id": "74479142-d135-48cc-bfaf-ce166caf3640",
   "metadata": {
    "tags": []
   },
   "outputs": [],
   "source": [
    "%cd data/cov/"
   ]
  },
  {
   "cell_type": "code",
   "execution_count": null,
   "id": "deb469d8-ba44-4189-9a38-c19b0c50d39e",
   "metadata": {
    "tags": []
   },
   "outputs": [],
   "source": [
    "%pwd"
   ]
  },
  {
   "cell_type": "markdown",
   "id": "6262e017",
   "metadata": {},
   "source": [
    "2. **Run Sequence Alignment with augur align:** Align the SARS-CoV-2 sequences to prepare them for phylogenetic tree construction."
   ]
  },
  {
   "cell_type": "code",
   "execution_count": null,
   "id": "51ac3e60",
   "metadata": {
    "tags": []
   },
   "outputs": [],
   "source": [
    "!augur align --sequences sequences_subset.fasta --output aligned_subset_augur.fasta --fill-gaps"
   ]
  },
  {
   "cell_type": "code",
   "execution_count": null,
   "id": "0c6e404b",
   "metadata": {
    "tags": []
   },
   "outputs": [],
   "source": [
    "%cd ../.."
   ]
  },
  {
   "cell_type": "code",
   "execution_count": null,
   "id": "bb051710",
   "metadata": {
    "tags": []
   },
   "outputs": [],
   "source": [
    "%pwd"
   ]
  },
  {
   "cell_type": "markdown",
   "id": "dd93b0e8-5b6e-4666-a5d9-209a78275e98",
   "metadata": {},
   "source": [
    "This process aligns the SARS-CoV-2 sequences, preparing them for phylogenetic tree construction."
   ]
  },
  {
   "cell_type": "markdown",
   "id": "62a23c0b-a22c-4300-881a-0b43de5566b4",
   "metadata": {},
   "source": [
    "## 3.2 Manage Computational Intensity through Cloud Computing\n",
    "Due to the large size of metagenomic datasets, sequence alignment can be computationally intensive. Utilizing cloud computing resources can significantly enhance the efficiency and speed of these tasks.\n",
    "\n",
    "**Benefits of Cloud Computing for Sequence Alignment:**\n",
    "- Scalability: Easily scale up resources based on the demand of the computation.\n",
    "- Cost-Effectiveness: Pay-as-you-go models allow for cost savings by only using resources when needed.\n",
    "- Accessibility: Access computational resources and data from anywhere, facilitating collaboration among researchers."
   ]
  },
  {
   "cell_type": "markdown",
   "id": "fd904c45-c2bc-486e-873d-a282dd7df8db",
   "metadata": {},
   "source": [
    "## 3.3 Phylogenetic Tree Reconstruction using USHER\n",
    "USHER (Ultrafast Sample Placement on Existing tRee) is a tool designed to place samples on a given phylogenetic tree rapidly. It is beneficial for large-scale phylogenetic analysis and real-time epidemiology.\n",
    "\n",
    "**Important Note:**\n",
    "\n",
    "Before running USHER, change the Jupyter kernel to a dedicated USHER kernel. The dependencies required for USHER may conflict with other installed packages, so a separate kernel helps avoid installation issues.\n",
    "\n",
    "### Steps to Use USHER for Phylogenetic Tree Reconstruction:\n",
    "1. Clone USHER Repository:\n"
   ]
  },
  {
   "cell_type": "code",
   "execution_count": null,
   "id": "192636aa-9bb7-445b-8fdb-0a495638d2d6",
   "metadata": {
    "tags": []
   },
   "outputs": [],
   "source": [
    "# !git clone https://github.com/yatisht/usher.git"
   ]
  },
  {
   "cell_type": "markdown",
   "id": "07dc6a0a-4b69-4204-a53a-1b7f4d8d6ce6",
   "metadata": {},
   "source": [
    "2. Installing Dependencies:\n",
    "- Update the conda environment with the necessary dependencies:"
   ]
  },
  {
   "cell_type": "code",
   "execution_count": null,
   "id": "148b9b09-c05b-4ad5-b492-dca35577ef1c",
   "metadata": {
    "scrolled": true,
    "tags": []
   },
   "outputs": [],
   "source": [
    "# !conda env update -f usher/workflows/envs/usher.yaml"
   ]
  },
  {
   "cell_type": "code",
   "execution_count": null,
   "id": "a9424e10-3d3a-491e-b1ae-25c24cb1dc8c",
   "metadata": {
    "tags": []
   },
   "outputs": [],
   "source": [
    "!conda install -c defaults -c bioconda -c conda-forge usher"
   ]
  },
  {
   "cell_type": "code",
   "execution_count": null,
   "id": "1ff33741-1597-4749-a0b0-911a92cd7ea2",
   "metadata": {
    "tags": []
   },
   "outputs": [],
   "source": [
    "!conda install -c defaults -c bioconda -c conda-forge wget"
   ]
  },
  {
   "cell_type": "code",
   "execution_count": null,
   "id": "dedee662-78e5-424c-9b65-8dda99da3aad",
   "metadata": {
    "tags": []
   },
   "outputs": [],
   "source": [
    "!conda install -c defaults -c bioconda -c conda-forge perl"
   ]
  },
  {
   "cell_type": "code",
   "execution_count": null,
   "id": "ece02739-bcec-4de4-a247-1fd9a67c728b",
   "metadata": {
    "tags": []
   },
   "outputs": [],
   "source": [
    "!conda install -c defaults -c bioconda -c conda-forge gzip"
   ]
  },
  {
   "cell_type": "code",
   "execution_count": null,
   "id": "661479bf",
   "metadata": {},
   "outputs": [],
   "source": [
    "!conda install usher -y"
   ]
  },
  {
   "cell_type": "code",
   "execution_count": null,
   "id": "2961235f",
   "metadata": {},
   "outputs": [],
   "source": [
    "!conda config --add channels defaults\n",
    "!conda config --add channels bioconda\n",
    "!conda config --add channels conda-forge"
   ]
  },
  {
   "cell_type": "markdown",
   "id": "2ae46892-4d47-41ed-baea-da68e319b403",
   "metadata": {},
   "source": [
    "3.\tInstalling Additional Packages:\n",
    "- Install the required packages mafft and fasttree:"
   ]
  },
  {
   "cell_type": "code",
   "execution_count": null,
   "id": "d93be479-c1b1-4d85-a8f0-c231d806f80f",
   "metadata": {
    "tags": []
   },
   "outputs": [],
   "source": [
    "!conda install -c bioconda fasttree -y"
   ]
  },
  {
   "cell_type": "markdown",
   "id": "aacaad5e-33e7-4a2d-aa3c-b135b4294e32",
   "metadata": {},
   "source": [
    "4.\tAligning Sequences:\n",
    "- Use mafft to align your sequences and output them to aligned_sequences.fasta:"
   ]
  },
  {
   "cell_type": "code",
   "execution_count": null,
   "id": "52fbb44e-4a6f-49d8-9178-a6c43cecdd81",
   "metadata": {
    "tags": []
   },
   "outputs": [],
   "source": [
    "!mafft --auto data/cov/sequences_subset.fasta > data/cov/aligned_sequences_mafft_subset.fasta"
   ]
  },
  {
   "cell_type": "markdown",
   "id": "e6c57f91-4169-4d84-800e-e89d8e871d23",
   "metadata": {},
   "source": [
    "5.\tGenerating VCF File:\n",
    "- Convert the aligned sequences to a VCF file:"
   ]
  },
  {
   "cell_type": "code",
   "execution_count": null,
   "id": "8ef45d4e-0a71-4a73-8fb0-8563a1e6a788",
   "metadata": {
    "tags": []
   },
   "outputs": [],
   "source": [
    "!faToVcf data/cov/aligned_sequences_mafft_subset.fasta data/cov/seq_subset.vcf"
   ]
  },
  {
   "cell_type": "markdown",
   "id": "4c2dd6b8-a371-4951-a0a4-b372b4bc08b5",
   "metadata": {},
   "source": [
    "6.\tCreating Newick Tree File:\n",
    "- Use fasttree to generate a Newick tree file:"
   ]
  },
  {
   "cell_type": "code",
   "execution_count": null,
   "id": "d025cf79-e7a2-4e85-b2b0-0afb59a4270f",
   "metadata": {
    "tags": []
   },
   "outputs": [],
   "source": [
    "!fasttree -nt data/cov/aligned_sequences_mafft_subset.fasta > data/cov/reference_sequences_subset.nwk"
   ]
  },
  {
   "cell_type": "markdown",
   "id": "c0a0e0e8-0a8f-490b-941f-2a59860ec5a6",
   "metadata": {},
   "source": [
    "7.\tRunning USHER:\n",
    "- With the aligned sequences, VCF file, and Newick tree file, run USHER:"
   ]
  },
  {
   "cell_type": "code",
   "execution_count": null,
   "id": "3fbc47b6-33b4-49c1-bef9-c986abdcc3c0",
   "metadata": {
    "tags": []
   },
   "outputs": [],
   "source": [
    "!usher -t data/cov/reference_sequences_subset.nwk -v data/cov/seq_subset.vcf -o data/cov/seq_output_subset.nwk"
   ]
  },
  {
   "attachments": {
    "17eaadba-d4ac-409f-be74-9ad593702af2.png": {
     "image/png": "[encoded data removed]"
    },
    "e69eac74-340a-4a4c-b1c6-d884188a09e4.png": {
     "image/png": "[encoded data removed]"
    }
   },
   "cell_type": "markdown",
   "id": "939082d7-f377-4e20-9837-8da69673f171",
   "metadata": {},
   "source": [
    "## Alternate Sequence Alignment of Metagenomic Data using ClustalW\n",
    "Sequence alignment is a critical step in phylogenetic analysis, as it arranges the sequences in a manner that highlights their similarities and differences, allowing for accurate tree construction.\n",
    "Using ClustalW for Sequence Alignment:\n",
    "1. Download Clustal\n",
    "    - Obtain the ClustalW tool from its official website: http://www.clustal.org/clustal2/#Download\n",
    "    - click on ![image.png](attachment:17eaadba-d4ac-409f-be74-9ad593702af2.png) link in the webpage.\n",
    "    - This will take you to another page where you need to download for Windows ![image.png](attachment:e69eac74-340a-4a4c-b1c6-d884188a09e4.png)\n",
    "    - Once downloaded double-click on the downloaded file and complete the installation process.\n",
    "2. Install Clustal\n",
    "    - Follow the installation instructions specific to your operating system. For example, on Windows, it is typically installed at:\n",
    "        - C:\\Program Files (x86)\\ClustalW2\\clustalw2.exe\n",
    "3. Run ClustalW using Python and Biopyon:"
   ]
  },
  {
   "cell_type": "markdown",
   "id": "1fceeb13",
   "metadata": {},
   "source": [
    "## Install and locate clustalw for sequence alignment"
   ]
  },
  {
   "cell_type": "code",
   "execution_count": null,
   "id": "2770e362",
   "metadata": {},
   "outputs": [],
   "source": [
    "!conda config --add channels conda-forge\n",
    "!conda config --add channels bioconda\n",
    "!conda install -y clustalw"
   ]
  },
  {
   "cell_type": "code",
   "execution_count": null,
   "id": "d50de023",
   "metadata": {
    "tags": []
   },
   "outputs": [],
   "source": [
    "!which clustalw2"
   ]
  },
  {
   "cell_type": "markdown",
   "id": "95bef0bf-1c45-4f76-9c3c-4a1828883ae9",
   "metadata": {},
   "source": [
    "### Process with Clustalw"
   ]
  },
  {
   "cell_type": "code",
   "execution_count": null,
   "id": "5f1e1890-9ef6-4afd-a128-9d1cac2ff90e",
   "metadata": {},
   "outputs": [],
   "source": [
    "import subprocess\n",
    "import datetime \n",
    "import matplotlib.pyplot as plt\n",
    "import networkx as nx\n",
    "from Bio import AlignIO\n",
    "from Bio.Phylo.TreeConstruction import DistanceTreeConstructor, DistanceCalculator\n",
    "\n",
    "# Define the paths\n",
    "fasta_file = \"sequences_subset.fasta\"\n",
    "clustalw_exe = \"/home/ec2-user/anaconda3/envs/python3/bin/clustalw2\"\n",
    "seq_algn_file = \"sequences_subset.aln\"\n",
    "\n",
    "start_time = datetime.datetime.now()\n",
    "print(f\"Process started at: {start_time}\")\n",
    "\n",
    "# Run ClustalW for multiple sequence alignment using subprocess\n",
    "try:\n",
    "    subprocess.run([clustalw_exe, \"-INFILE=\" + fasta_file, \"-OUTFILE=\" + seq_algn_file, \"-OUTPUT=FASTA\"], check=True)\n",
    "except subprocess.CalledProcessError as e:\n",
    "    print(\"Error running ClustalW:\", e)\n",
    "    exit(1)\n",
    "\n",
    "end_time = datetime.datetime.now()\n",
    "print(f\"Process ended at: {end_time}\")\n",
    "\n",
    "# Calculate the duration\n",
    "duration = end_time - start_time\n",
    "print(f\"Total time taken: {duration}\")"
   ]
  },
  {
   "cell_type": "code",
   "execution_count": null,
   "id": "c8cb20c9",
   "metadata": {},
   "outputs": [],
   "source": []
  }
 ],
 "metadata": {
  "kernelspec": {
   "display_name": "conda_python3",
   "language": "python",
   "name": "conda_python3"
  },
  "language_info": {
   "codemirror_mode": {
    "name": "ipython",
    "version": 3
   },
   "file_extension": ".py",
   "mimetype": "text/x-python",
   "name": "python",
   "nbconvert_exporter": "python",
   "pygments_lexer": "ipython3",
   "version": "3.10.15"
  }
 },
 "nbformat": 4,
 "nbformat_minor": 5
}
