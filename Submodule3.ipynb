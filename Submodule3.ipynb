{
 "cells": [
  {
   "cell_type": "markdown",
   "id": "ead4567e-3195-474f-b344-bc36cb46ac4c",
   "metadata": {},
   "source": [
    "# Submodule3: Construct Phylogenetic Tree"
   ]
  },
  {
   "attachments": {
    "17eaadba-d4ac-409f-be74-9ad593702af2.png": {
     "image/png": "[encoded data removed]"
    },
    "e69eac74-340a-4a4c-b1c6-d884188a09e4.png": {
     "image/png": "[encoded data removed]"
    }
   },
   "cell_type": "markdown",
   "id": "939082d7-f377-4e20-9837-8da69673f171",
   "metadata": {},
   "source": [
    "## 3.1 Perform Accurate Sequence Alignment of Metagenomic Data using ClustalW\n",
    "Sequence alignment is a critical step in phylogenetic analysis, as it arranges the sequences in a manner that highlights their similarities and differences, allowing for accurate tree construction.\n",
    "Using ClustalW for Sequence Alignment:\n",
    "1. Download Clustal\n",
    "    - Obtain the ClustalW tool from its official website: http://www.clustal.org/clustal2/#Download\n",
    "    - click on ![image.png](attachment:17eaadba-d4ac-409f-be74-9ad593702af2.png) link in the webpage.\n",
    "    - This will take you to another page where you need to download for Windows ![image.png](attachment:e69eac74-340a-4a4c-b1c6-d884188a09e4.png)\n",
    "    - Once downloaded double-click on the downloaded file and complete the installation process.\n",
    "2. Install Clustal\n",
    "    - Follow the installation instructions specific to your operating system. For example, on Windows, it is typically installed at:\n",
    "        - C:\\Program Files (x86)\\ClustalW2\\clustalw2.exe\n",
    "3. Run ClustalW using Python and Biopyon:"
   ]
  },
  {
   "cell_type": "code",
   "execution_count": 1,
   "id": "5f1e1890-9ef6-4afd-a128-9d1cac2ff90e",
   "metadata": {},
   "outputs": [],
   "source": [
    "import subprocess\n",
    "\n",
    "import matplotlib.pyplot as plt\n",
    "import networkx as nx\n",
    "from Bio import AlignIO\n",
    "from Bio.Phylo.TreeConstruction import DistanceTreeConstructor, DistanceCalculator\n",
    "\n",
    "# Define the paths\n",
    "fasta_file = \"data/cov/sequences.fasta\"\n",
    "clustalw_exe = \"C:\\\\Program Files (x86)\\\\ClustalW2\\\\clustalw2.exe\"\n",
    "seq_algn_file = \"data/cov/sequences.aln\"\n",
    "# Run ClustalW for multiple sequence alignment using subprocess\n",
    "try:\n",
    "    subprocess.run([clustalw_exe, \"-INFILE=\" + fasta_file, \"-OUTFILE=\" + seq_algn_file, \"-OUTPUT=FASTA\"], check=True)\n",
    "except subprocess.CalledProcessError as e:\n",
    "    print(\"Error running ClustalW:\", e)\n",
    "    exit(1)"
   ]
  },
  {
   "cell_type": "markdown",
   "id": "dd93b0e8-5b6e-4666-a5d9-209a78275e98",
   "metadata": {},
   "source": [
    "This process aligns the SARS-CoV-2 sequences, preparing them for phylogenetic tree construction."
   ]
  },
  {
   "cell_type": "markdown",
   "id": "62a23c0b-a22c-4300-881a-0b43de5566b4",
   "metadata": {},
   "source": [
    "## 3.2 Manage Computational Intensity through Cloud Computing\n",
    "Due to the large size of metagenomic datasets, sequence alignment can be computationally intensive. Utilizing cloud computing resources can significantly enhance the efficiency and speed of these tasks.\n",
    "\n",
    "**Benefits of Cloud Computing for Sequence Alignment:**\n",
    "- Scalability: Easily scale up resources based on the demand of the computation.\n",
    "- Cost-Effectiveness: Pay-as-you-go models allow for cost savings by only using resources when needed.\n",
    "- Accessibility: Access computational resources and data from anywhere, facilitating collaboration among researchers."
   ]
  },
  {
   "cell_type": "markdown",
   "id": "fd904c45-c2bc-486e-873d-a282dd7df8db",
   "metadata": {},
   "source": [
    "## 3.3 Phylogenetic Tree Reconstruction using USHER\n",
    "USHER (Ultrafast Sample Placement on Existing tRee) is a tool designed to place samples on a given phylogenetic tree rapidly. It is beneficial for large-scale phylogenetic analysis and real-time epidemiology.\n",
    "\n",
    "### Steps to Use USHER for Phylogenetic Tree Reconstruction:\n",
    "1. Clone USHER Repository:\n"
   ]
  },
  {
   "cell_type": "code",
   "execution_count": null,
   "id": "192636aa-9bb7-445b-8fdb-0a495638d2d6",
   "metadata": {},
   "outputs": [],
   "source": [
    "!git clone https://github.com/yatisht/usher.git"
   ]
  },
  {
   "cell_type": "markdown",
   "id": "07dc6a0a-4b69-4204-a53a-1b7f4d8d6ce6",
   "metadata": {},
   "source": [
    "2. Installing Dependencies:\n",
    "- Update the conda environment with the necessary dependencies:"
   ]
  },
  {
   "cell_type": "code",
   "execution_count": null,
   "id": "148b9b09-c05b-4ad5-b492-dca35577ef1c",
   "metadata": {},
   "outputs": [],
   "source": [
    "!conda env update -f usher/workflows/envs/usher.yaml"
   ]
  },
  {
   "cell_type": "markdown",
   "id": "2ae46892-4d47-41ed-baea-da68e319b403",
   "metadata": {},
   "source": [
    "3.\tInstalling Additional Packages:\n",
    "- Install the required packages mafft and fasttree:"
   ]
  },
  {
   "cell_type": "code",
   "execution_count": null,
   "id": "d93be479-c1b1-4d85-a8f0-c231d806f80f",
   "metadata": {},
   "outputs": [],
   "source": [
    "!conda install -c bioconda mafft fasttree"
   ]
  },
  {
   "cell_type": "markdown",
   "id": "aacaad5e-33e7-4a2d-aa3c-b135b4294e32",
   "metadata": {},
   "source": [
    "4.\tAligning Sequences:\n",
    "- Use mafft to align your sequences and output them to aligned_sequences.fasta:"
   ]
  },
  {
   "cell_type": "code",
   "execution_count": null,
   "id": "52fbb44e-4a6f-49d8-9178-a6c43cecdd81",
   "metadata": {},
   "outputs": [],
   "source": [
    "!mafft --auto sequences.fasta > aligned_sequences.fasta"
   ]
  },
  {
   "cell_type": "markdown",
   "id": "e6c57f91-4169-4d84-800e-e89d8e871d23",
   "metadata": {},
   "source": [
    "5.\tGenerating VCF File:\n",
    "- Convert the aligned sequences to a VCF file:"
   ]
  },
  {
   "cell_type": "code",
   "execution_count": null,
   "id": "8ef45d4e-0a71-4a73-8fb0-8563a1e6a788",
   "metadata": {},
   "outputs": [],
   "source": [
    "!faToVcf aligned_sequences.fasta seq.vcf"
   ]
  },
  {
   "cell_type": "markdown",
   "id": "4c2dd6b8-a371-4951-a0a4-b372b4bc08b5",
   "metadata": {},
   "source": [
    "6.\tCreating Newick Tree File:\n",
    "- Use fasttree to generate a Newick tree file:"
   ]
  },
  {
   "cell_type": "code",
   "execution_count": null,
   "id": "d025cf79-e7a2-4e85-b2b0-0afb59a4270f",
   "metadata": {},
   "outputs": [],
   "source": [
    "!fasttree -nt aligned_sequences.fasta > reference.nwk"
   ]
  },
  {
   "cell_type": "markdown",
   "id": "c0a0e0e8-0a8f-490b-941f-2a59860ec5a6",
   "metadata": {},
   "source": [
    "7.\tRunning USHER:\n",
    "- With the aligned sequences, VCF file, and Newick tree file, run USHER:"
   ]
  },
  {
   "cell_type": "code",
   "execution_count": null,
   "id": "3fbc47b6-33b4-49c1-bef9-c986abdcc3c0",
   "metadata": {},
   "outputs": [],
   "source": [
    "!usher -t reference.nwk -v seq.vcf -o seq_output.nwk"
   ]
  },
  {
   "cell_type": "code",
   "execution_count": null,
   "id": "1ae82cfc-59b3-4ebb-bad4-f656cae6dbf3",
   "metadata": {},
   "outputs": [],
   "source": []
  }
 ],
 "metadata": {
  "kernelspec": {
   "display_name": "Python 3 (ipykernel)",
   "language": "python",
   "name": "python3"
  },
  "language_info": {
   "codemirror_mode": {
    "name": "ipython",
    "version": 3
   },
   "file_extension": ".py",
   "mimetype": "text/x-python",
   "name": "python",
   "nbconvert_exporter": "python",
   "pygments_lexer": "ipython3",
   "version": "3.12.4"
  }
 },
 "nbformat": 4,
 "nbformat_minor": 5
}
