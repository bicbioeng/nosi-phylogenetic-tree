{
 "cells": [
  {
   "cell_type": "markdown",
   "id": "ead4567e-3195-474f-b344-bc36cb46ac4c",
   "metadata": {},
   "source": [
    "# Submodule3: Construct Phylogenetic Tree"
   ]
  },
  {
   "cell_type": "markdown",
   "id": "b36c7550",
   "metadata": {},
   "source": [
    "# Learning Objectives:\n",
    "In submodule 3 we will construct phylogenetic tree from a gene sequence that includes the following steps:\n",
    "- Perform sequence alignment\n",
    "- Perform phylogenetic tree reconstruction"
   ]
  },
  {
   "cell_type": "markdown",
   "id": "7f9ad573",
   "metadata": {},
   "source": [
    "----------------------------------------------------------------------------------------------------------------\n",
    "# Training Plan \n"
   ]
  },
  {
   "cell_type": "markdown",
   "id": "097d5864",
   "metadata": {},
   "source": [
    "Submodule #1: Understanding the Basics of Phylogenetic\n",
    "\n",
    "Submodule #2: Collect and Prepare Sequence Data and Analysis\n",
    "\n",
    "<font color=\"green\"> **Submodule #3: Construct Phylogenetic Tree** </font>\n",
    " \n",
    "Submodule #4: Analyze Phylogenetic Tree"
   ]
  },
  {
   "cell_type": "markdown",
   "id": "f7cad5e6",
   "metadata": {},
   "source": [
    "----------------------------------------------------------------------------------------------------------------"
   ]
  },
  {
   "attachments": {
    "17eaadba-d4ac-409f-be74-9ad593702af2.png": {
     "image/png": "[encoded data removed]"
    },
    "e69eac74-340a-4a4c-b1c6-d884188a09e4.png": {
     "image/png": "[encoded data removed]"
    }
   },
   "cell_type": "markdown",
   "id": "939082d7-f377-4e20-9837-8da69673f171",
   "metadata": {},
   "source": [
    "## 3.1 Perform Accurate Sequence Alignment of Metagenomic Data using ClustalW\n",
    "Sequence alignment is a critical step in phylogenetic analysis, as it arranges the sequences in a manner that highlights their similarities and differences, allowing for accurate tree construction.\n",
    "Using ClustalW for Sequence Alignment:\n",
    "1. Download Clustal\n",
    "    - Obtain the ClustalW tool from its official website: http://www.clustal.org/clustal2/#Download\n",
    "    - click on ![image.png](attachment:17eaadba-d4ac-409f-be74-9ad593702af2.png) link in the webpage.\n",
    "    - This will take you to another page where you need to download for Windows ![image.png](attachment:e69eac74-340a-4a4c-b1c6-d884188a09e4.png)\n",
    "    - Once downloaded double-click on the downloaded file and complete the installation process.\n",
    "2. Install Clustal\n",
    "    - Follow the installation instructions specific to your operating system. For example, on Windows, it is typically installed at:\n",
    "        - C:\\Program Files (x86)\\ClustalW2\\clustalw2.exe\n",
    "3. Run ClustalW using Python and Biopyon:"
   ]
  },
  {
   "cell_type": "code",
   "execution_count": 1,
   "id": "2563a93f-ae2d-4b65-8f49-c88fe4a3fe11",
   "metadata": {
    "tags": []
   },
   "outputs": [
    {
     "name": "stdout",
     "output_type": "stream",
     "text": [
      "Requirement already satisfied: matplotlib in /home/ec2-user/anaconda3/envs/python3/lib/python3.10/site-packages (3.8.4)\n",
      "Requirement already satisfied: contourpy>=1.0.1 in /home/ec2-user/anaconda3/envs/python3/lib/python3.10/site-packages (from matplotlib) (1.2.1)\n",
      "Requirement already satisfied: cycler>=0.10 in /home/ec2-user/anaconda3/envs/python3/lib/python3.10/site-packages (from matplotlib) (0.12.1)\n",
      "Requirement already satisfied: fonttools>=4.22.0 in /home/ec2-user/anaconda3/envs/python3/lib/python3.10/site-packages (from matplotlib) (4.53.1)\n",
      "Requirement already satisfied: kiwisolver>=1.3.1 in /home/ec2-user/anaconda3/envs/python3/lib/python3.10/site-packages (from matplotlib) (1.4.5)\n",
      "Requirement already satisfied: numpy>=1.21 in /home/ec2-user/anaconda3/envs/python3/lib/python3.10/site-packages (from matplotlib) (1.22.4)\n",
      "Requirement already satisfied: packaging>=20.0 in /home/ec2-user/anaconda3/envs/python3/lib/python3.10/site-packages (from matplotlib) (21.3)\n",
      "Requirement already satisfied: pillow>=8 in /home/ec2-user/anaconda3/envs/python3/lib/python3.10/site-packages (from matplotlib) (10.4.0)\n",
      "Requirement already satisfied: pyparsing>=2.3.1 in /home/ec2-user/anaconda3/envs/python3/lib/python3.10/site-packages (from matplotlib) (3.1.2)\n",
      "Requirement already satisfied: python-dateutil>=2.7 in /home/ec2-user/anaconda3/envs/python3/lib/python3.10/site-packages (from matplotlib) (2.9.0)\n",
      "Requirement already satisfied: six>=1.5 in /home/ec2-user/anaconda3/envs/python3/lib/python3.10/site-packages (from python-dateutil>=2.7->matplotlib) (1.16.0)\n"
     ]
    }
   ],
   "source": [
    "!pip install matplotlib"
   ]
  },
  {
   "cell_type": "code",
   "execution_count": 2,
   "id": "709e43dd-9921-4293-864a-82e7b86388e4",
   "metadata": {
    "tags": []
   },
   "outputs": [
    {
     "name": "stdout",
     "output_type": "stream",
     "text": [
      "Requirement already satisfied: networkx in /home/ec2-user/anaconda3/envs/python3/lib/python3.10/site-packages (3.3)\n"
     ]
    }
   ],
   "source": [
    "!pip install networkx"
   ]
  },
  {
   "cell_type": "code",
   "execution_count": 3,
   "id": "736ed8e0",
   "metadata": {
    "tags": []
   },
   "outputs": [
    {
     "name": "stdout",
     "output_type": "stream",
     "text": [
      "Requirement already satisfied: biopython in /home/ec2-user/anaconda3/envs/python3/lib/python3.10/site-packages (1.84)\n",
      "Requirement already satisfied: numpy in /home/ec2-user/anaconda3/envs/python3/lib/python3.10/site-packages (from biopython) (1.22.4)\n"
     ]
    }
   ],
   "source": [
    "!pip install biopython"
   ]
  },
  {
   "cell_type": "code",
   "execution_count": 4,
   "id": "098c393a",
   "metadata": {
    "tags": []
   },
   "outputs": [
    {
     "data": {
      "text/plain": [
       "'/home/ec2-user/SageMaker/nosi-phylogenetic-tree'"
      ]
     },
     "execution_count": 4,
     "metadata": {},
     "output_type": "execute_result"
    }
   ],
   "source": [
    "%pwd"
   ]
  },
  {
   "cell_type": "code",
   "execution_count": 5,
   "id": "74479142-d135-48cc-bfaf-ce166caf3640",
   "metadata": {
    "tags": []
   },
   "outputs": [
    {
     "name": "stdout",
     "output_type": "stream",
     "text": [
      "/home/ec2-user/SageMaker/nosi-phylogenetic-tree/data/cov\n"
     ]
    }
   ],
   "source": [
    "%cd data/cov/"
   ]
  },
  {
   "cell_type": "code",
   "execution_count": 6,
   "id": "deb469d8-ba44-4189-9a38-c19b0c50d39e",
   "metadata": {
    "tags": []
   },
   "outputs": [
    {
     "data": {
      "text/plain": [
       "'/home/ec2-user/SageMaker/nosi-phylogenetic-tree/data/cov'"
      ]
     },
     "execution_count": 6,
     "metadata": {},
     "output_type": "execute_result"
    }
   ],
   "source": [
    "%pwd"
   ]
  },
  {
   "cell_type": "markdown",
   "id": "1fceeb13",
   "metadata": {},
   "source": [
    "## Install and locate clustalw for sequence alignment"
   ]
  },
  {
   "cell_type": "code",
   "execution_count": 7,
   "id": "2770e362",
   "metadata": {},
   "outputs": [
    {
     "name": "stdout",
     "output_type": "stream",
     "text": [
      "Warning: 'conda-forge' already in 'channels' list, moving to the top\n",
      "Collecting package metadata (current_repodata.json): done\n",
      "Solving environment: - \n",
      "The environment is inconsistent, please check the package plan carefully\n",
      "The following packages are causing the inconsistency:\n",
      "\n",
      "  - conda-forge/noarch::autopep8==2.0.4=pyhd8ed1ab_0\n",
      "  - conda-forge/linux-64::black==24.4.2=py310hff52083_0\n",
      "  - conda-forge/noarch::bleach==6.1.0=pyhd8ed1ab_0\n",
      "  - conda-forge/noarch::plotly==5.23.0=pyhd8ed1ab_0\n",
      "  - conda-forge/noarch::pytest==8.3.2=pyhd8ed1ab_0\n",
      "  - conda-forge/noarch::qtpy==2.4.1=pyhd8ed1ab_0\n",
      "  - conda-forge/linux-64::sip==6.7.12=py310hc6cd4ac_0\n",
      "  - conda-forge/noarch::flask==3.0.3=pyhd8ed1ab_0\n",
      "  - conda-forge/noarch::importlib_metadata==8.2.0=hd8ed1ab_0\n",
      "  - conda-forge/noarch::lazy_loader==0.4=pyhd8ed1ab_0\n",
      "  - conda-forge/linux-64::pyqt5-sip==12.12.2=py310hc6cd4ac_5\n",
      "  - conda-forge/noarch::pytoolconfig==1.2.5=pyhd8ed1ab_0\n",
      "  - conda-forge/noarch::qdarkstyle==3.1=pyhd8ed1ab_0\n",
      "  - conda-forge/noarch::qtawesome==1.3.1=pyh9208f05_0\n",
      "  - conda-forge/noarch::yapf==0.40.1=pyhd8ed1ab_0\n",
      "  - conda-forge/noarch::dask-core==2024.7.1=pyhd8ed1ab_0\n",
      "  - conda-forge/noarch::flask-cors==4.0.0=pyhd8ed1ab_0\n",
      "  - conda-forge/noarch::jupyter_client==8.6.2=pyhd8ed1ab_0\n",
      "  - conda-forge/noarch::rope==1.13.0=pyhd8ed1ab_0\n",
      "  - conda-forge/noarch::distributed==2024.7.1=pyhd8ed1ab_0\n",
      "  - conda-forge/noarch::ipykernel==6.29.5=pyh3099207_0\n",
      "  - conda-forge/noarch::keyring==25.2.1=pyha804496_0\n",
      "  - conda-forge/noarch::python-lsp-server==1.7.4=pyhd8ed1ab_0\n",
      "  - conda-forge/noarch::jupyter_console==6.6.3=pyhd8ed1ab_0\n",
      "  - conda-forge/noarch::nbclient==0.10.0=pyhd8ed1ab_0\n",
      "  - conda-forge/noarch::pyls-spyder==0.4.0=pyhd8ed1ab_0\n",
      "  - conda-forge/noarch::python-lsp-black==2.0.0=pyhd8ed1ab_0\n",
      "  - conda-forge/noarch::qtconsole-base==5.4.4=pyha770c72_0\n",
      "  - conda-forge/noarch::s3transfer==0.10.2=pyhd8ed1ab_0\n",
      "  - conda-forge/noarch::spyder-kernels==2.4.4=unix_pyh707e725_0\n",
      "  - conda-forge/noarch::nbconvert-core==7.16.4=pyhd8ed1ab_1\n",
      "  - conda-forge/linux-64::pyqt==5.15.9=py310h04931ad_5\n",
      "  - conda-forge/linux-64::astropy==6.1.0=py310h8a78493_0\n",
      "  - conda-forge/noarch::bokeh==3.5.1=pyhd8ed1ab_0\n",
      "  - conda-forge/noarch::jupyter_server==2.14.2=pyhd8ed1ab_0\n",
      "  - conda-forge/linux-64::matplotlib-base==3.8.4=py310hef631a5_2\n",
      "  - conda-forge/noarch::nbconvert-pandoc==7.16.4=hd8ed1ab_1\n",
      "  - conda-forge/linux-64::pyqtwebengine==5.15.9=py310h704022c_5\n",
      "  - conda-forge/linux-64::pytables==3.9.2=py310h73b55d5_3\n",
      "  - conda-forge/noarch::qtconsole==5.4.4=pyhd8ed1ab_0\n",
      "  - conda-forge/linux-64::statsmodels==0.14.2=py310h261611a_0\n",
      "  - conda-forge/noarch::jupyter-lsp==2.2.5=pyhd8ed1ab_0\n",
      "  - conda-forge/noarch::jupyterlab_server==2.27.3=pyhd8ed1ab_0\n",
      "  - conda-forge/linux-64::matplotlib==3.8.4=py310hff52083_2\n",
      "  - conda-forge/noarch::nbconvert==7.16.4=hd8ed1ab_1\n",
      "  - conda-forge/noarch::notebook-shim==0.2.4=pyhd8ed1ab_0\n",
      "  - conda-forge/linux-64::scikit-image==0.24.0=py310hf9f9076_1\n",
      "  - conda-forge/noarch::seaborn-base==0.13.2=pyhd8ed1ab_2\n",
      "  - conda-forge/linux-64::shap==0.45.1=cpu_py310hdd52748_0\n",
      "  - conda-forge/noarch::jupyterlab==4.2.4=pyhd8ed1ab_0\n",
      "  - conda-forge/noarch::seaborn==0.13.2=hd8ed1ab_2\n",
      "  - conda-forge/noarch::dask-expr==1.1.9=pyhd8ed1ab_0\n",
      "  - conda-forge/noarch::notebook==7.2.1=pyhd8ed1ab_0\n",
      "  - conda-forge/noarch::dask==2024.7.1=pyhd8ed1ab_0\n",
      "  - conda-forge/noarch::jupyter==1.0.0=pyhd8ed1ab_10\n",
      "  - conda-forge/noarch::hdijupyterutils==0.21.0=pyh1a96a4e_0\n",
      "  - conda-forge/noarch::autovizwidget==0.21.0=pyh1a96a4e_0\n",
      "  - conda-forge/noarch::sparkmagic==0.21.0=pyhd8ed1ab_0\n",
      "  - conda-forge/noarch::numpydoc==1.7.0=pyhd8ed1ab_3\n",
      "  - conda-forge/linux-64::spyder==5.4.5=py310hff52083_0\n",
      "  - conda-forge/noarch::sphinxcontrib-applehelp==2.0.0=pyhd8ed1ab_0\n",
      "  - conda-forge/noarch::sphinxcontrib-devhelp==2.0.0=pyhd8ed1ab_0\n",
      "  - conda-forge/noarch::sphinxcontrib-htmlhelp==2.1.0=pyhd8ed1ab_0\n",
      "  - conda-forge/noarch::sphinxcontrib-qthelp==2.0.0=pyhd8ed1ab_0\n",
      "  - conda-forge/noarch::sphinx==8.0.2=pyhd8ed1ab_0\n",
      "  - conda-forge/noarch::sphinxcontrib-serializinghtml==1.1.10=pyhd8ed1ab_0\n",
      "  - conda-forge/noarch::sphinxcontrib-websupport==1.2.7=pyhd8ed1ab_0\n",
      "done\n",
      "\n",
      "\n",
      "==> WARNING: A newer version of conda exists. <==\n",
      "  current version: 23.3.1\n",
      "  latest version: 24.7.1\n",
      "\n",
      "Please update conda by running\n",
      "\n",
      "    $ conda update -n base -c conda-forge conda\n",
      "\n",
      "Or to minimize the number of packages updated during conda update use\n",
      "\n",
      "     conda install conda=24.7.1\n",
      "\n",
      "\n",
      "\n",
      "## Package Plan ##\n",
      "\n",
      "  environment location: /home/ec2-user/anaconda3/envs/python3\n",
      "\n",
      "  added / updated specs:\n",
      "    - clustalw\n",
      "\n",
      "\n",
      "The following packages will be downloaded:\n",
      "\n",
      "    package                    |            build\n",
      "    ---------------------------|-----------------\n",
      "    clustalw-2.1               |      h4ac6f70_10         339 KB  bioconda\n",
      "    ------------------------------------------------------------\n",
      "                                           Total:         339 KB\n",
      "\n",
      "The following NEW packages will be INSTALLED:\n",
      "\n",
      "  botocore           conda-forge/noarch::botocore-1.35.23-pyge310_1234567_0 \n",
      "  cloudpickle        conda-forge/noarch::cloudpickle-3.0.0-pyhd8ed1ab_0 \n",
      "  clustalw           bioconda/linux-64::clustalw-2.1-h4ac6f70_10 \n",
      "  docutils           conda-forge/noarch::docutils-0.21.2-pyhd8ed1ab_0 \n",
      "  importlib-metadata conda-forge/noarch::importlib-metadata-8.5.0-pyha770c72_0 \n",
      "  mock               conda-forge/noarch::mock-5.1.0-pyhd8ed1ab_0 \n",
      "  packaging          conda-forge/noarch::packaging-24.1-pyhd8ed1ab_0 \n",
      "\n",
      "The following packages will be UPDATED:\n",
      "\n",
      "  ca-certificates                       2024.7.4-hbcca054_0 --> 2024.8.30-hbcca054_0 \n",
      "  certifi                             2024.7.4-pyhd8ed1ab_0 --> 2024.8.30-pyhd8ed1ab_0 \n",
      "  importlib_metadata                       8.2.0-hd8ed1ab_0 --> 8.5.0-hd8ed1ab_0 \n",
      "\n",
      "\n",
      "\n",
      "Downloading and Extracting Packages\n",
      "                                                                                \n",
      "Preparing transaction: done\n",
      "Verifying transaction: done\n",
      "Executing transaction: done\n"
     ]
    }
   ],
   "source": [
    "!conda config --add channels conda-forge\n",
    "!conda config --add channels bioconda\n",
    "!conda install -y clustalw"
   ]
  },
  {
   "cell_type": "code",
   "execution_count": 7,
   "id": "d50de023",
   "metadata": {
    "tags": []
   },
   "outputs": [
    {
     "name": "stdout",
     "output_type": "stream",
     "text": [
      "which: no clustalw2 in (/usr/local/cuda-11.8/bin:/home/ec2-user/anaconda3/envs/python3/bin:/home/ec2-user/anaconda3/condabin:/home/ec2-user/anaconda3/bin:/opt/amazon/openmpi/bin:/opt/amazon/efa/bin:/home/ec2-user/.dl_binaries/bin:/usr/local/cuda-12.1/bin:/usr/local/cuda-12.1/include:/usr/libexec/gcc/x86_64-redhat-linux/7:/opt/aws/bin:/usr/local/bin:/usr/bin:/usr/local/sbin:/usr/sbin)\n"
     ]
    }
   ],
   "source": [
    "!which clustalw2"
   ]
  },
  {
   "cell_type": "markdown",
   "id": "95bef0bf-1c45-4f76-9c3c-4a1828883ae9",
   "metadata": {},
   "source": [
    "### Process with Clustalw"
   ]
  },
  {
   "cell_type": "code",
   "execution_count": 9,
   "id": "5f1e1890-9ef6-4afd-a128-9d1cac2ff90e",
   "metadata": {},
   "outputs": [],
   "source": [
    "import subprocess\n",
    "import datetime \n",
    "import matplotlib.pyplot as plt\n",
    "import networkx as nx\n",
    "from Bio import AlignIO\n",
    "from Bio.Phylo.TreeConstruction import DistanceTreeConstructor, DistanceCalculator\n",
    "\n",
    "# Define the paths\n",
    "fasta_file = \"sequences_subset.fasta\"\n",
    "clustalw_exe = \"/home/ec2-user/anaconda3/envs/python3/bin/clustalw2\"\n",
    "seq_algn_file = \"sequences_subset.aln\"\n",
    "\n",
    "start_time = datetime.datetime.now()\n",
    "print(f\"Process started at: {start_time}\")\n",
    "\n",
    "# Run ClustalW for multiple sequence alignment using subprocess\n",
    "try:\n",
    "    subprocess.run([clustalw_exe, \"-INFILE=\" + fasta_file, \"-OUTFILE=\" + seq_algn_file, \"-OUTPUT=FASTA\"], check=True)\n",
    "except subprocess.CalledProcessError as e:\n",
    "    print(\"Error running ClustalW:\", e)\n",
    "    exit(1)\n",
    "\n",
    "end_time = datetime.datetime.now()\n",
    "print(f\"Process ended at: {end_time}\")\n",
    "\n",
    "# Calculate the duration\n",
    "duration = end_time - start_time\n",
    "print(f\"Total time taken: {duration}\")"
   ]
  },
  {
   "cell_type": "markdown",
   "id": "c117ee61",
   "metadata": {},
   "source": [
    "## Sequence alignmnet using augur align (Nextstrain)"
   ]
  },
  {
   "cell_type": "code",
   "execution_count": 8,
   "id": "aed1ae95",
   "metadata": {
    "tags": []
   },
   "outputs": [
    {
     "name": "stdout",
     "output_type": "stream",
     "text": [
      "Collecting nextstrain-cli\n",
      "  Downloading nextstrain_cli-8.5.3-py3-none-any.whl.metadata (3.8 kB)\n",
      "Requirement already satisfied: docutils in /home/ec2-user/anaconda3/envs/python3/lib/python3.10/site-packages (from nextstrain-cli) (0.16)\n",
      "Collecting fasteners (from nextstrain-cli)\n",
      "  Downloading fasteners-0.19-py3-none-any.whl.metadata (4.9 kB)\n",
      "Requirement already satisfied: packaging in /home/ec2-user/anaconda3/envs/python3/lib/python3.10/site-packages (from nextstrain-cli) (21.3)\n",
      "Collecting pyjwt>=2.0.0 (from pyjwt[crypto]>=2.0.0->nextstrain-cli)\n",
      "  Downloading PyJWT-2.9.0-py3-none-any.whl.metadata (3.0 kB)\n",
      "Requirement already satisfied: pyparsing>=3.0.0 in /home/ec2-user/anaconda3/envs/python3/lib/python3.10/site-packages (from nextstrain-cli) (3.1.2)\n",
      "Requirement already satisfied: requests in /home/ec2-user/anaconda3/envs/python3/lib/python3.10/site-packages (from nextstrain-cli) (2.32.3)\n",
      "Requirement already satisfied: typing-extensions>=3.7.4 in /home/ec2-user/anaconda3/envs/python3/lib/python3.10/site-packages (from nextstrain-cli) (4.12.2)\n",
      "Collecting wcmatch>=6.0 (from nextstrain-cli)\n",
      "  Downloading wcmatch-10.0-py3-none-any.whl.metadata (5.0 kB)\n",
      "Requirement already satisfied: wrapt in /home/ec2-user/anaconda3/envs/python3/lib/python3.10/site-packages (from nextstrain-cli) (1.16.0)\n",
      "Requirement already satisfied: fsspec!=2023.9.1 in /home/ec2-user/anaconda3/envs/python3/lib/python3.10/site-packages (from nextstrain-cli) (2024.6.1)\n",
      "Collecting s3fs!=2023.9.1,>=2021.04.0 (from s3fs[boto3]!=2023.9.1,>=2021.04.0->nextstrain-cli)\n",
      "  Downloading s3fs-2024.9.0-py3-none-any.whl.metadata (1.6 kB)\n",
      "Requirement already satisfied: importlib-resources>=5.3.0 in /home/ec2-user/anaconda3/envs/python3/lib/python3.10/site-packages (from nextstrain-cli) (6.4.0)\n",
      "Requirement already satisfied: cryptography>=3.4.0 in /home/ec2-user/anaconda3/envs/python3/lib/python3.10/site-packages (from pyjwt[crypto]>=2.0.0->nextstrain-cli) (42.0.8)\n",
      "Collecting aiobotocore<3.0.0,>=2.5.4 (from s3fs!=2023.9.1,>=2021.04.0->s3fs[boto3]!=2023.9.1,>=2021.04.0->nextstrain-cli)\n",
      "  Downloading aiobotocore-2.15.1-py3-none-any.whl.metadata (23 kB)\n",
      "Collecting fsspec!=2023.9.1 (from nextstrain-cli)\n",
      "  Downloading fsspec-2024.9.0-py3-none-any.whl.metadata (11 kB)\n",
      "Requirement already satisfied: aiohttp!=4.0.0a0,!=4.0.0a1 in /home/ec2-user/anaconda3/envs/python3/lib/python3.10/site-packages (from s3fs!=2023.9.1,>=2021.04.0->s3fs[boto3]!=2023.9.1,>=2021.04.0->nextstrain-cli) (3.9.5)\n",
      "Collecting bracex>=2.1.1 (from wcmatch>=6.0->nextstrain-cli)\n",
      "  Downloading bracex-2.5.post1-py3-none-any.whl.metadata (3.5 kB)\n",
      "Requirement already satisfied: charset-normalizer<4,>=2 in /home/ec2-user/anaconda3/envs/python3/lib/python3.10/site-packages (from requests->nextstrain-cli) (3.3.2)\n",
      "Requirement already satisfied: idna<4,>=2.5 in /home/ec2-user/anaconda3/envs/python3/lib/python3.10/site-packages (from requests->nextstrain-cli) (3.7)\n",
      "Requirement already satisfied: urllib3<3,>=1.21.1 in /home/ec2-user/anaconda3/envs/python3/lib/python3.10/site-packages (from requests->nextstrain-cli) (2.2.2)\n",
      "Requirement already satisfied: certifi>=2017.4.17 in /home/ec2-user/anaconda3/envs/python3/lib/python3.10/site-packages (from requests->nextstrain-cli) (2024.8.30)\n",
      "Requirement already satisfied: botocore<1.35.24,>=1.35.16 in /home/ec2-user/anaconda3/envs/python3/lib/python3.10/site-packages (from aiobotocore<3.0.0,>=2.5.4->s3fs!=2023.9.1,>=2021.04.0->s3fs[boto3]!=2023.9.1,>=2021.04.0->nextstrain-cli) (1.35.16)\n",
      "Collecting aioitertools<1.0.0,>=0.5.1 (from aiobotocore<3.0.0,>=2.5.4->s3fs!=2023.9.1,>=2021.04.0->s3fs[boto3]!=2023.9.1,>=2021.04.0->nextstrain-cli)\n",
      "  Downloading aioitertools-0.12.0-py3-none-any.whl.metadata (3.8 kB)\n",
      "Requirement already satisfied: boto3<1.35.24,>=1.35.16 in /home/ec2-user/anaconda3/envs/python3/lib/python3.10/site-packages (from aiobotocore[boto3]<3.0.0,>=2.5.4; extra == \"boto3\"->s3fs[boto3]!=2023.9.1,>=2021.04.0->nextstrain-cli) (1.35.16)\n",
      "Requirement already satisfied: aiosignal>=1.1.2 in /home/ec2-user/anaconda3/envs/python3/lib/python3.10/site-packages (from aiohttp!=4.0.0a0,!=4.0.0a1->s3fs!=2023.9.1,>=2021.04.0->s3fs[boto3]!=2023.9.1,>=2021.04.0->nextstrain-cli) (1.3.1)\n",
      "Requirement already satisfied: attrs>=17.3.0 in /home/ec2-user/anaconda3/envs/python3/lib/python3.10/site-packages (from aiohttp!=4.0.0a0,!=4.0.0a1->s3fs!=2023.9.1,>=2021.04.0->s3fs[boto3]!=2023.9.1,>=2021.04.0->nextstrain-cli) (23.2.0)\n",
      "Requirement already satisfied: frozenlist>=1.1.1 in /home/ec2-user/anaconda3/envs/python3/lib/python3.10/site-packages (from aiohttp!=4.0.0a0,!=4.0.0a1->s3fs!=2023.9.1,>=2021.04.0->s3fs[boto3]!=2023.9.1,>=2021.04.0->nextstrain-cli) (1.4.1)\n",
      "Requirement already satisfied: multidict<7.0,>=4.5 in /home/ec2-user/anaconda3/envs/python3/lib/python3.10/site-packages (from aiohttp!=4.0.0a0,!=4.0.0a1->s3fs!=2023.9.1,>=2021.04.0->s3fs[boto3]!=2023.9.1,>=2021.04.0->nextstrain-cli) (6.0.5)\n",
      "Requirement already satisfied: yarl<2.0,>=1.0 in /home/ec2-user/anaconda3/envs/python3/lib/python3.10/site-packages (from aiohttp!=4.0.0a0,!=4.0.0a1->s3fs!=2023.9.1,>=2021.04.0->s3fs[boto3]!=2023.9.1,>=2021.04.0->nextstrain-cli) (1.9.4)\n",
      "Requirement already satisfied: async-timeout<5.0,>=4.0 in /home/ec2-user/anaconda3/envs/python3/lib/python3.10/site-packages (from aiohttp!=4.0.0a0,!=4.0.0a1->s3fs!=2023.9.1,>=2021.04.0->s3fs[boto3]!=2023.9.1,>=2021.04.0->nextstrain-cli) (4.0.3)\n",
      "Requirement already satisfied: cffi>=1.12 in /home/ec2-user/anaconda3/envs/python3/lib/python3.10/site-packages (from cryptography>=3.4.0->pyjwt[crypto]>=2.0.0->nextstrain-cli) (1.16.0)\n",
      "Requirement already satisfied: jmespath<2.0.0,>=0.7.1 in /home/ec2-user/anaconda3/envs/python3/lib/python3.10/site-packages (from boto3<1.35.24,>=1.35.16->aiobotocore[boto3]<3.0.0,>=2.5.4; extra == \"boto3\"->s3fs[boto3]!=2023.9.1,>=2021.04.0->nextstrain-cli) (1.0.1)\n",
      "Requirement already satisfied: s3transfer<0.11.0,>=0.10.0 in /home/ec2-user/anaconda3/envs/python3/lib/python3.10/site-packages (from boto3<1.35.24,>=1.35.16->aiobotocore[boto3]<3.0.0,>=2.5.4; extra == \"boto3\"->s3fs[boto3]!=2023.9.1,>=2021.04.0->nextstrain-cli) (0.10.2)\n",
      "Requirement already satisfied: python-dateutil<3.0.0,>=2.1 in /home/ec2-user/anaconda3/envs/python3/lib/python3.10/site-packages (from botocore<1.35.24,>=1.35.16->aiobotocore<3.0.0,>=2.5.4->s3fs!=2023.9.1,>=2021.04.0->s3fs[boto3]!=2023.9.1,>=2021.04.0->nextstrain-cli) (2.9.0)\n",
      "Requirement already satisfied: pycparser in /home/ec2-user/anaconda3/envs/python3/lib/python3.10/site-packages (from cffi>=1.12->cryptography>=3.4.0->pyjwt[crypto]>=2.0.0->nextstrain-cli) (2.22)\n",
      "Requirement already satisfied: six>=1.5 in /home/ec2-user/anaconda3/envs/python3/lib/python3.10/site-packages (from python-dateutil<3.0.0,>=2.1->botocore<1.35.24,>=1.35.16->aiobotocore<3.0.0,>=2.5.4->s3fs!=2023.9.1,>=2021.04.0->s3fs[boto3]!=2023.9.1,>=2021.04.0->nextstrain-cli) (1.16.0)\n",
      "Downloading nextstrain_cli-8.5.3-py3-none-any.whl (174 kB)\n",
      "\u001b[2K   \u001b[90m━━━━━━━━━━━━━━━━━━━━━━━━━━━━━━━━━━━━━━━━\u001b[0m \u001b[32m174.5/174.5 kB\u001b[0m \u001b[31m13.9 MB/s\u001b[0m eta \u001b[36m0:00:00\u001b[0m\n",
      "\u001b[?25hDownloading PyJWT-2.9.0-py3-none-any.whl (22 kB)\n",
      "Downloading s3fs-2024.9.0-py3-none-any.whl (29 kB)\n",
      "Downloading fsspec-2024.9.0-py3-none-any.whl (179 kB)\n",
      "\u001b[2K   \u001b[90m━━━━━━━━━━━━━━━━━━━━━━━━━━━━━━━━━━━━━━━━\u001b[0m \u001b[32m179.3/179.3 kB\u001b[0m \u001b[31m18.5 MB/s\u001b[0m eta \u001b[36m0:00:00\u001b[0m\n",
      "\u001b[?25hDownloading wcmatch-10.0-py3-none-any.whl (39 kB)\n",
      "Downloading fasteners-0.19-py3-none-any.whl (18 kB)\n",
      "Downloading aiobotocore-2.15.1-py3-none-any.whl (77 kB)\n",
      "\u001b[2K   \u001b[90m━━━━━━━━━━━━━━━━━━━━━━━━━━━━━━━━━━━━━━━━\u001b[0m \u001b[32m77.4/77.4 kB\u001b[0m \u001b[31m6.1 MB/s\u001b[0m eta \u001b[36m0:00:00\u001b[0m\n",
      "\u001b[?25hDownloading bracex-2.5.post1-py3-none-any.whl (11 kB)\n",
      "Downloading aioitertools-0.12.0-py3-none-any.whl (24 kB)\n",
      "Installing collected packages: pyjwt, fsspec, fasteners, bracex, aioitertools, wcmatch, aiobotocore, s3fs, nextstrain-cli\n",
      "  Attempting uninstall: fsspec\n",
      "    Found existing installation: fsspec 2024.6.1\n",
      "    Uninstalling fsspec-2024.6.1:\n",
      "      Successfully uninstalled fsspec-2024.6.1\n",
      "  Attempting uninstall: s3fs\n",
      "    Found existing installation: s3fs 0.4.2\n",
      "    Uninstalling s3fs-0.4.2:\n",
      "      Successfully uninstalled s3fs-0.4.2\n",
      "Successfully installed aiobotocore-2.15.1 aioitertools-0.12.0 bracex-2.5.post1 fasteners-0.19 fsspec-2024.9.0 nextstrain-cli-8.5.3 pyjwt-2.9.0 s3fs-2024.9.0 wcmatch-10.0\n"
     ]
    }
   ],
   "source": [
    "!pip install nextstrain-cli"
   ]
  },
  {
   "cell_type": "code",
   "execution_count": 9,
   "id": "1f3ae62d",
   "metadata": {
    "tags": []
   },
   "outputs": [
    {
     "name": "stdout",
     "output_type": "stream",
     "text": [
      "Collecting nextstrain-augur\n",
      "  Downloading nextstrain_augur-26.0.0-py3-none-any.whl.metadata (6.1 kB)\n",
      "Collecting bcbio-gff==0.7.*,>=0.7.1 (from nextstrain-augur)\n",
      "  Downloading bcbio_gff-0.7.1-py3-none-any.whl.metadata (343 bytes)\n",
      "Requirement already satisfied: biopython==1.*,>=1.80 in /home/ec2-user/anaconda3/envs/python3/lib/python3.10/site-packages (from nextstrain-augur) (1.84)\n",
      "Collecting cvxopt==1.*,>=1.1.9 (from nextstrain-augur)\n",
      "  Downloading cvxopt-1.3.2-cp310-cp310-manylinux_2_17_x86_64.manylinux2014_x86_64.whl.metadata (1.3 kB)\n",
      "Collecting isodate==0.6.* (from nextstrain-augur)\n",
      "  Downloading isodate-0.6.1-py2.py3-none-any.whl.metadata (9.6 kB)\n",
      "Collecting jsonschema==3.*,>=3.0.0 (from nextstrain-augur)\n",
      "  Downloading jsonschema-3.2.0-py2.py3-none-any.whl.metadata (7.8 kB)\n",
      "Requirement already satisfied: networkx<4,>=2.5 in /home/ec2-user/anaconda3/envs/python3/lib/python3.10/site-packages (from nextstrain-augur) (3.3)\n",
      "Requirement already satisfied: numpy==1.* in /home/ec2-user/anaconda3/envs/python3/lib/python3.10/site-packages (from nextstrain-augur) (1.22.4)\n",
      "Requirement already satisfied: packaging>=19.2 in /home/ec2-user/anaconda3/envs/python3/lib/python3.10/site-packages (from nextstrain-augur) (21.3)\n",
      "Collecting pandas==1.*,>=1.0.0 (from nextstrain-augur)\n",
      "  Downloading pandas-1.5.3-cp310-cp310-manylinux_2_17_x86_64.manylinux2014_x86_64.whl.metadata (11 kB)\n",
      "Collecting phylo-treetime<0.12,>=0.11.2 (from nextstrain-augur)\n",
      "  Downloading phylo_treetime-0.11.4-py3-none-any.whl.metadata (13 kB)\n",
      "Collecting pyfastx<3.0,>=1.0.0 (from nextstrain-augur)\n",
      "  Downloading pyfastx-2.1.0-cp310-cp310-manylinux_2_17_x86_64.manylinux2014_x86_64.whl.metadata (30 kB)\n",
      "Collecting python-calamine>=0.2.0 (from nextstrain-augur)\n",
      "  Downloading python_calamine-0.2.3-cp310-cp310-manylinux_2_17_x86_64.manylinux2014_x86_64.whl.metadata (3.1 kB)\n",
      "Requirement already satisfied: scipy==1.* in /home/ec2-user/anaconda3/envs/python3/lib/python3.10/site-packages (from nextstrain-augur) (1.14.0)\n",
      "Collecting xopen<3,>=1.7.0 (from xopen[zstd]<3,>=1.7.0->nextstrain-augur)\n",
      "  Downloading xopen-2.0.2-py3-none-any.whl.metadata (15 kB)\n",
      "Requirement already satisfied: importlib-resources>=5.3.0 in /home/ec2-user/anaconda3/envs/python3/lib/python3.10/site-packages (from nextstrain-augur) (6.4.0)\n",
      "Requirement already satisfied: six in /home/ec2-user/anaconda3/envs/python3/lib/python3.10/site-packages (from bcbio-gff==0.7.*,>=0.7.1->nextstrain-augur) (1.16.0)\n",
      "Requirement already satisfied: attrs>=17.4.0 in /home/ec2-user/anaconda3/envs/python3/lib/python3.10/site-packages (from jsonschema==3.*,>=3.0.0->nextstrain-augur) (23.2.0)\n",
      "Requirement already satisfied: pyrsistent>=0.14.0 in /home/ec2-user/anaconda3/envs/python3/lib/python3.10/site-packages (from jsonschema==3.*,>=3.0.0->nextstrain-augur) (0.20.0)\n",
      "Requirement already satisfied: setuptools in /home/ec2-user/anaconda3/envs/python3/lib/python3.10/site-packages (from jsonschema==3.*,>=3.0.0->nextstrain-augur) (71.0.4)\n",
      "Requirement already satisfied: python-dateutil>=2.8.1 in /home/ec2-user/anaconda3/envs/python3/lib/python3.10/site-packages (from pandas==1.*,>=1.0.0->nextstrain-augur) (2.9.0)\n",
      "Requirement already satisfied: pytz>=2020.1 in /home/ec2-user/anaconda3/envs/python3/lib/python3.10/site-packages (from pandas==1.*,>=1.0.0->nextstrain-augur) (2024.1)\n",
      "Collecting numpy==1.* (from nextstrain-augur)\n",
      "  Downloading numpy-1.26.4-cp310-cp310-manylinux_2_17_x86_64.manylinux2014_x86_64.whl.metadata (61 kB)\n",
      "\u001b[2K     \u001b[90m━━━━━━━━━━━━━━━━━━━━━━━━━━━━━━━━━━━━━━━━\u001b[0m \u001b[32m61.0/61.0 kB\u001b[0m \u001b[31m11.0 MB/s\u001b[0m eta \u001b[36m0:00:00\u001b[0m\n",
      "\u001b[?25hRequirement already satisfied: pyparsing!=3.0.5,>=2.0.2 in /home/ec2-user/anaconda3/envs/python3/lib/python3.10/site-packages (from packaging>=19.2->nextstrain-augur) (3.1.2)\n",
      "Requirement already satisfied: matplotlib>=2.0 in /home/ec2-user/anaconda3/envs/python3/lib/python3.10/site-packages (from phylo-treetime<0.12,>=0.11.2->nextstrain-augur) (3.8.4)\n",
      "Collecting isal>=1.6.1 (from xopen<3,>=1.7.0->xopen[zstd]<3,>=1.7.0->nextstrain-augur)\n",
      "  Downloading isal-1.7.1-cp310-cp310-manylinux_2_17_x86_64.manylinux2014_x86_64.whl.metadata (10 kB)\n",
      "Collecting zlib-ng>=0.4.1 (from xopen<3,>=1.7.0->xopen[zstd]<3,>=1.7.0->nextstrain-augur)\n",
      "  Downloading zlib_ng-0.5.1-cp310-cp310-manylinux_2_17_x86_64.manylinux2014_x86_64.whl.metadata (6.8 kB)\n",
      "Requirement already satisfied: zstandard<1 in /home/ec2-user/anaconda3/envs/python3/lib/python3.10/site-packages (from xopen[zstd]<3,>=1.7.0->nextstrain-augur) (0.23.0)\n",
      "Requirement already satisfied: contourpy>=1.0.1 in /home/ec2-user/anaconda3/envs/python3/lib/python3.10/site-packages (from matplotlib>=2.0->phylo-treetime<0.12,>=0.11.2->nextstrain-augur) (1.2.1)\n",
      "Requirement already satisfied: cycler>=0.10 in /home/ec2-user/anaconda3/envs/python3/lib/python3.10/site-packages (from matplotlib>=2.0->phylo-treetime<0.12,>=0.11.2->nextstrain-augur) (0.12.1)\n",
      "Requirement already satisfied: fonttools>=4.22.0 in /home/ec2-user/anaconda3/envs/python3/lib/python3.10/site-packages (from matplotlib>=2.0->phylo-treetime<0.12,>=0.11.2->nextstrain-augur) (4.53.1)\n",
      "Requirement already satisfied: kiwisolver>=1.3.1 in /home/ec2-user/anaconda3/envs/python3/lib/python3.10/site-packages (from matplotlib>=2.0->phylo-treetime<0.12,>=0.11.2->nextstrain-augur) (1.4.5)\n",
      "Requirement already satisfied: pillow>=8 in /home/ec2-user/anaconda3/envs/python3/lib/python3.10/site-packages (from matplotlib>=2.0->phylo-treetime<0.12,>=0.11.2->nextstrain-augur) (10.4.0)\n",
      "Downloading nextstrain_augur-26.0.0-py3-none-any.whl (340 kB)\n",
      "\u001b[2K   \u001b[90m━━━━━━━━━━━━━━━━━━━━━━━━━━━━━━━━━━━━━━━━\u001b[0m \u001b[32m340.9/340.9 kB\u001b[0m \u001b[31m35.0 MB/s\u001b[0m eta \u001b[36m0:00:00\u001b[0m\n",
      "\u001b[?25hDownloading bcbio_gff-0.7.1-py3-none-any.whl (16 kB)\n",
      "Downloading cvxopt-1.3.2-cp310-cp310-manylinux_2_17_x86_64.manylinux2014_x86_64.whl (13.6 MB)\n",
      "\u001b[2K   \u001b[90m━━━━━━━━━━━━━━━━━━━━━━━━━━━━━━━━━━━━━━━━\u001b[0m \u001b[32m13.6/13.6 MB\u001b[0m \u001b[31m85.4 MB/s\u001b[0m eta \u001b[36m0:00:00\u001b[0m:00:01\u001b[0m00:01\u001b[0m\n",
      "\u001b[?25hDownloading isodate-0.6.1-py2.py3-none-any.whl (41 kB)\n",
      "\u001b[2K   \u001b[90m━━━━━━━━━━━━━━━━━━━━━━━━━━━━━━━━━━━━━━━━\u001b[0m \u001b[32m41.7/41.7 kB\u001b[0m \u001b[31m5.5 MB/s\u001b[0m eta \u001b[36m0:00:00\u001b[0m\n",
      "\u001b[?25hDownloading jsonschema-3.2.0-py2.py3-none-any.whl (56 kB)\n",
      "\u001b[2K   \u001b[90m━━━━━━━━━━━━━━━━━━━━━━━━━━━━━━━━━━━━━━━━\u001b[0m \u001b[32m56.3/56.3 kB\u001b[0m \u001b[31m6.7 MB/s\u001b[0m eta \u001b[36m0:00:00\u001b[0m\n",
      "\u001b[?25hDownloading pandas-1.5.3-cp310-cp310-manylinux_2_17_x86_64.manylinux2014_x86_64.whl (12.1 MB)\n",
      "\u001b[2K   \u001b[90m━━━━━━━━━━━━━━━━━━━━━━━━━━━━━━━━━━━━━━━━\u001b[0m \u001b[32m12.1/12.1 MB\u001b[0m \u001b[31m114.7 MB/s\u001b[0m eta \u001b[36m0:00:00\u001b[0m00:01\u001b[0m0:01\u001b[0m\n",
      "\u001b[?25hDownloading numpy-1.26.4-cp310-cp310-manylinux_2_17_x86_64.manylinux2014_x86_64.whl (18.2 MB)\n",
      "\u001b[2K   \u001b[90m━━━━━━━━━━━━━━━━━━━━━━━━━━━━━━━━━━━━━━━━\u001b[0m \u001b[32m18.2/18.2 MB\u001b[0m \u001b[31m94.9 MB/s\u001b[0m eta \u001b[36m0:00:00\u001b[0m:00:01\u001b[0m00:01\u001b[0m\n",
      "\u001b[?25hDownloading phylo_treetime-0.11.4-py3-none-any.whl (148 kB)\n",
      "\u001b[2K   \u001b[90m━━━━━━━━━━━━━━━━━━━━━━━━━━━━━━━━━━━━━━━━\u001b[0m \u001b[32m148.4/148.4 kB\u001b[0m \u001b[31m18.8 MB/s\u001b[0m eta \u001b[36m0:00:00\u001b[0m\n",
      "\u001b[?25hDownloading pyfastx-2.1.0-cp310-cp310-manylinux_2_17_x86_64.manylinux2014_x86_64.whl (1.1 MB)\n",
      "\u001b[2K   \u001b[90m━━━━━━━━━━━━━━━━━━━━━━━━━━━━━━━━━━━━━━━━\u001b[0m \u001b[32m1.1/1.1 MB\u001b[0m \u001b[31m78.5 MB/s\u001b[0m eta \u001b[36m0:00:00\u001b[0m\n",
      "\u001b[?25hDownloading python_calamine-0.2.3-cp310-cp310-manylinux_2_17_x86_64.manylinux2014_x86_64.whl (819 kB)\n",
      "\u001b[2K   \u001b[90m━━━━━━━━━━━━━━━━━━━━━━━━━━━━━━━━━━━━━━━━\u001b[0m \u001b[32m819.5/819.5 kB\u001b[0m \u001b[31m63.6 MB/s\u001b[0m eta \u001b[36m0:00:00\u001b[0m\n",
      "\u001b[?25hDownloading xopen-2.0.2-py3-none-any.whl (17 kB)\n",
      "Downloading isal-1.7.1-cp310-cp310-manylinux_2_17_x86_64.manylinux2014_x86_64.whl (258 kB)\n",
      "\u001b[2K   \u001b[90m━━━━━━━━━━━━━━━━━━━━━━━━━━━━━━━━━━━━━━━━\u001b[0m \u001b[32m258.9/258.9 kB\u001b[0m \u001b[31m28.2 MB/s\u001b[0m eta \u001b[36m0:00:00\u001b[0m\n",
      "\u001b[?25hDownloading zlib_ng-0.5.1-cp310-cp310-manylinux_2_17_x86_64.manylinux2014_x86_64.whl (108 kB)\n",
      "\u001b[2K   \u001b[90m━━━━━━━━━━━━━━━━━━━━━━━━━━━━━━━━━━━━━━━━\u001b[0m \u001b[32m108.1/108.1 kB\u001b[0m \u001b[31m13.4 MB/s\u001b[0m eta \u001b[36m0:00:00\u001b[0m\n",
      "\u001b[?25hInstalling collected packages: pyfastx, zlib-ng, python-calamine, numpy, jsonschema, isodate, isal, cvxopt, xopen, pandas, bcbio-gff, phylo-treetime, nextstrain-augur\n",
      "  Attempting uninstall: numpy\n",
      "    Found existing installation: numpy 1.22.4\n",
      "    Uninstalling numpy-1.22.4:\n",
      "      Successfully uninstalled numpy-1.22.4\n",
      "  Attempting uninstall: jsonschema\n",
      "    Found existing installation: jsonschema 4.23.0\n",
      "    Uninstalling jsonschema-4.23.0:\n",
      "      Successfully uninstalled jsonschema-4.23.0\n",
      "  Attempting uninstall: pandas\n",
      "    Found existing installation: pandas 2.2.2\n",
      "    Uninstalling pandas-2.2.2:\n",
      "      Successfully uninstalled pandas-2.2.2\n",
      "\u001b[31mERROR: pip's dependency resolver does not currently take into account all the packages that are installed. This behaviour is the source of the following dependency conflicts.\n",
      "mkl-fft 1.3.10 requires mkl, which is not installed.\n",
      "dask-expr 1.1.9 requires pandas>=2, but you have pandas 1.5.3 which is incompatible.\n",
      "jupyter-events 0.10.0 requires jsonschema[format-nongpl]>=4.18.0, but you have jsonschema 3.2.0 which is incompatible.\n",
      "jupyter-server 2.14.2 requires packaging>=22.0, but you have packaging 21.3 which is incompatible.\n",
      "jupyterlab-server 2.27.3 requires jsonschema>=4.18.0, but you have jsonschema 3.2.0 which is incompatible.\u001b[0m\u001b[31m\n",
      "\u001b[0mSuccessfully installed bcbio-gff-0.7.1 cvxopt-1.3.2 isal-1.7.1 isodate-0.6.1 jsonschema-3.2.0 nextstrain-augur-26.0.0 numpy-1.26.4 pandas-1.5.3 phylo-treetime-0.11.4 pyfastx-2.1.0 python-calamine-0.2.3 xopen-2.0.2 zlib-ng-0.5.1\n"
     ]
    }
   ],
   "source": [
    "!pip install nextstrain-augur"
   ]
  },
  {
   "cell_type": "code",
   "execution_count": 10,
   "id": "ed8d5339",
   "metadata": {
    "tags": []
   },
   "outputs": [
    {
     "name": "stdout",
     "output_type": "stream",
     "text": [
      "Collecting package metadata (current_repodata.json): done\n",
      "Solving environment: done\n",
      "\n",
      "\n",
      "==> WARNING: A newer version of conda exists. <==\n",
      "  current version: 23.3.1\n",
      "  latest version: 24.9.1\n",
      "\n",
      "Please update conda by running\n",
      "\n",
      "    $ conda update -n base -c conda-forge conda\n",
      "\n",
      "Or to minimize the number of packages updated during conda update use\n",
      "\n",
      "     conda install conda=24.9.1\n",
      "\n",
      "\n",
      "\n",
      "## Package Plan ##\n",
      "\n",
      "  environment location: /home/ec2-user/anaconda3/envs/python3\n",
      "\n",
      "  added / updated specs:\n",
      "    - fasttree\n",
      "    - mafft\n",
      "\n",
      "\n",
      "The following packages will be downloaded:\n",
      "\n",
      "    package                    |            build\n",
      "    ---------------------------|-----------------\n",
      "    fasttree-2.1.11            |       h031d066_4         261 KB  bioconda\n",
      "    mafft-7.505                |       hec16e2b_0         3.5 MB  bioconda\n",
      "    ------------------------------------------------------------\n",
      "                                           Total:         3.7 MB\n",
      "\n",
      "The following NEW packages will be INSTALLED:\n",
      "\n",
      "  fasttree           bioconda/linux-64::fasttree-2.1.11-h031d066_4 \n",
      "  mafft              bioconda/linux-64::mafft-7.505-hec16e2b_0 \n",
      "\n",
      "\n",
      "\n",
      "Downloading and Extracting Packages\n",
      "mafft-7.505          | 3.5 MB    |                                       |   0% \n",
      "mafft-7.505          | 3.5 MB    | ########################              |  65% \u001b[A\n",
      "fasttree-2.1.11      | 261 KB    | ##################################### | 100% \u001b[A\n",
      "                                                                                \u001b[A\n",
      "                                                                                \u001b[A\n",
      "Preparing transaction: done\n",
      "Verifying transaction: done\n",
      "Executing transaction: done\n"
     ]
    }
   ],
   "source": [
    "!conda install -c bioconda mafft fasttree -y"
   ]
  },
  {
   "cell_type": "code",
   "execution_count": 11,
   "id": "51ac3e60",
   "metadata": {
    "tags": []
   },
   "outputs": [
    {
     "name": "stdout",
     "output_type": "stream",
     "text": [
      "\n",
      "using mafft to align via:\n",
      "\tmafft --reorder --anysymbol --nomemsave --adjustdirection --thread 1 aligned_subset_augur.fasta.to_align.fasta 1> aligned_subset_augur.fasta 2> aligned_subset_augur.fasta.log \n",
      "\n",
      "\tKatoh et al, Nucleic Acid Research, vol 30, issue 14\n",
      "\thttps://doi.org/10.1093%2Fnar%2Fgkf436\n",
      "\n"
     ]
    }
   ],
   "source": [
    "!augur align --sequences sequences_subset.fasta --output aligned_subset_augur.fasta --fill-gaps"
   ]
  },
  {
   "cell_type": "code",
   "execution_count": 12,
   "id": "0c6e404b",
   "metadata": {
    "tags": []
   },
   "outputs": [
    {
     "name": "stdout",
     "output_type": "stream",
     "text": [
      "/home/ec2-user/SageMaker/nosi-phylogenetic-tree\n"
     ]
    }
   ],
   "source": [
    "%cd ../.."
   ]
  },
  {
   "cell_type": "code",
   "execution_count": 13,
   "id": "bb051710",
   "metadata": {
    "tags": []
   },
   "outputs": [
    {
     "data": {
      "text/plain": [
       "'/home/ec2-user/SageMaker/nosi-phylogenetic-tree'"
      ]
     },
     "execution_count": 13,
     "metadata": {},
     "output_type": "execute_result"
    }
   ],
   "source": [
    "%pwd"
   ]
  },
  {
   "cell_type": "markdown",
   "id": "dd93b0e8-5b6e-4666-a5d9-209a78275e98",
   "metadata": {},
   "source": [
    "This process aligns the SARS-CoV-2 sequences, preparing them for phylogenetic tree construction."
   ]
  },
  {
   "cell_type": "markdown",
   "id": "62a23c0b-a22c-4300-881a-0b43de5566b4",
   "metadata": {},
   "source": [
    "## 3.2 Manage Computational Intensity through Cloud Computing\n",
    "Due to the large size of metagenomic datasets, sequence alignment can be computationally intensive. Utilizing cloud computing resources can significantly enhance the efficiency and speed of these tasks.\n",
    "\n",
    "**Benefits of Cloud Computing for Sequence Alignment:**\n",
    "- Scalability: Easily scale up resources based on the demand of the computation.\n",
    "- Cost-Effectiveness: Pay-as-you-go models allow for cost savings by only using resources when needed.\n",
    "- Accessibility: Access computational resources and data from anywhere, facilitating collaboration among researchers."
   ]
  },
  {
   "cell_type": "markdown",
   "id": "fd904c45-c2bc-486e-873d-a282dd7df8db",
   "metadata": {},
   "source": [
    "## 3.3 Phylogenetic Tree Reconstruction using USHER\n",
    "USHER (Ultrafast Sample Placement on Existing tRee) is a tool designed to place samples on a given phylogenetic tree rapidly. It is beneficial for large-scale phylogenetic analysis and real-time epidemiology.\n",
    "\n",
    "### Steps to Use USHER for Phylogenetic Tree Reconstruction:\n",
    "1. Clone USHER Repository:\n"
   ]
  },
  {
   "cell_type": "code",
   "execution_count": 14,
   "id": "192636aa-9bb7-445b-8fdb-0a495638d2d6",
   "metadata": {
    "tags": []
   },
   "outputs": [],
   "source": [
    "# !git clone https://github.com/yatisht/usher.git"
   ]
  },
  {
   "cell_type": "code",
   "execution_count": 15,
   "id": "16ef2945",
   "metadata": {
    "tags": []
   },
   "outputs": [],
   "source": [
    "# !ls"
   ]
  },
  {
   "cell_type": "code",
   "execution_count": 16,
   "id": "f550c8cc",
   "metadata": {
    "tags": []
   },
   "outputs": [],
   "source": [
    "# !conda env update -f usher/workflows/envs/usher.yaml"
   ]
  },
  {
   "cell_type": "code",
   "execution_count": null,
   "id": "a9424e10-3d3a-491e-b1ae-25c24cb1dc8c",
   "metadata": {
    "tags": []
   },
   "outputs": [
    {
     "name": "stdout",
     "output_type": "stream",
     "text": [
      "Collecting package metadata (current_repodata.json): - WARNING conda.models.version:get_matcher(546): Using .* with relational operator is superfluous and deprecated and will be removed in a future version of conda. Your spec was 1.7.1.*, but conda is ignoring the .* and treating it as 1.7.1\n",
      "done\n",
      "Solving environment: | "
     ]
    }
   ],
   "source": [
    "!conda install -c defaults -c bioconda -c conda-forge usher"
   ]
  },
  {
   "cell_type": "code",
   "execution_count": null,
   "id": "1ff33741-1597-4749-a0b0-911a92cd7ea2",
   "metadata": {
    "tags": []
   },
   "outputs": [],
   "source": [
    "!conda install -c defaults -c bioconda -c conda-forge wget"
   ]
  },
  {
   "cell_type": "code",
   "execution_count": null,
   "id": "dedee662-78e5-424c-9b65-8dda99da3aad",
   "metadata": {
    "tags": []
   },
   "outputs": [],
   "source": [
    "!conda install -c defaults -c bioconda -c conda-forge perl"
   ]
  },
  {
   "cell_type": "code",
   "execution_count": null,
   "id": "ece02739-bcec-4de4-a247-1fd9a67c728b",
   "metadata": {
    "tags": []
   },
   "outputs": [],
   "source": [
    "!conda install -c defaults -c bioconda -c conda-forge gzip"
   ]
  },
  {
   "cell_type": "markdown",
   "id": "07dc6a0a-4b69-4204-a53a-1b7f4d8d6ce6",
   "metadata": {},
   "source": [
    "2. Installing Dependencies:\n",
    "- Update the conda environment with the necessary dependencies:"
   ]
  },
  {
   "cell_type": "code",
   "execution_count": null,
   "id": "148b9b09-c05b-4ad5-b492-dca35577ef1c",
   "metadata": {
    "scrolled": true,
    "tags": []
   },
   "outputs": [],
   "source": [
    "# !conda env update -f usher/workflows/envs/usher.yaml"
   ]
  },
  {
   "cell_type": "markdown",
   "id": "2ae46892-4d47-41ed-baea-da68e319b403",
   "metadata": {},
   "source": [
    "3.\tInstalling Additional Packages:\n",
    "- Install the required packages mafft and fasttree:"
   ]
  },
  {
   "cell_type": "code",
   "execution_count": null,
   "id": "d93be479-c1b1-4d85-a8f0-c231d806f80f",
   "metadata": {
    "tags": []
   },
   "outputs": [],
   "source": [
    "!conda install -c bioconda mafft fasttree -y"
   ]
  },
  {
   "cell_type": "markdown",
   "id": "aacaad5e-33e7-4a2d-aa3c-b135b4294e32",
   "metadata": {},
   "source": [
    "4.\tAligning Sequences:\n",
    "- Use mafft to align your sequences and output them to aligned_sequences.fasta:"
   ]
  },
  {
   "cell_type": "code",
   "execution_count": null,
   "id": "52fbb44e-4a6f-49d8-9178-a6c43cecdd81",
   "metadata": {
    "tags": []
   },
   "outputs": [],
   "source": [
    "!mafft --auto data/cov/sequences_subset.fasta > data/cov/aligned_sequences_mafft_subset.fasta"
   ]
  },
  {
   "cell_type": "markdown",
   "id": "e6c57f91-4169-4d84-800e-e89d8e871d23",
   "metadata": {},
   "source": [
    "5.\tGenerating VCF File:\n",
    "- Convert the aligned sequences to a VCF file:"
   ]
  },
  {
   "cell_type": "code",
   "execution_count": null,
   "id": "8ef45d4e-0a71-4a73-8fb0-8563a1e6a788",
   "metadata": {
    "tags": []
   },
   "outputs": [],
   "source": [
    "!faToVcf aligned_sequences_subset.fasta seq_subset.vcf"
   ]
  },
  {
   "cell_type": "markdown",
   "id": "4c2dd6b8-a371-4951-a0a4-b372b4bc08b5",
   "metadata": {},
   "source": [
    "6.\tCreating Newick Tree File:\n",
    "- Use fasttree to generate a Newick tree file:"
   ]
  },
  {
   "cell_type": "code",
   "execution_count": null,
   "id": "d025cf79-e7a2-4e85-b2b0-0afb59a4270f",
   "metadata": {
    "tags": []
   },
   "outputs": [],
   "source": [
    "!fasttree -nt aligned_sequences_subset.fasta > reference_sequences_subset.nwk"
   ]
  },
  {
   "cell_type": "markdown",
   "id": "c0a0e0e8-0a8f-490b-941f-2a59860ec5a6",
   "metadata": {},
   "source": [
    "7.\tRunning USHER:\n",
    "- With the aligned sequences, VCF file, and Newick tree file, run USHER:"
   ]
  },
  {
   "cell_type": "code",
   "execution_count": null,
   "id": "3fbc47b6-33b4-49c1-bef9-c986abdcc3c0",
   "metadata": {
    "tags": []
   },
   "outputs": [],
   "source": [
    "!usher -t reference_sequences_subset.nwk -v seq_subset.vcf -o seq_output_subset.nwk"
   ]
  },
  {
   "cell_type": "code",
   "execution_count": null,
   "id": "1ae82cfc-59b3-4ebb-bad4-f656cae6dbf3",
   "metadata": {},
   "outputs": [],
   "source": []
  }
 ],
 "metadata": {
  "kernelspec": {
   "display_name": "conda_python3",
   "language": "python",
   "name": "conda_python3"
  },
  "language_info": {
   "codemirror_mode": {
    "name": "ipython",
    "version": 3
   },
   "file_extension": ".py",
   "mimetype": "text/x-python",
   "name": "python",
   "nbconvert_exporter": "python",
   "pygments_lexer": "ipython3",
   "version": "3.10.14"
  }
 },
 "nbformat": 4,
 "nbformat_minor": 5
}
