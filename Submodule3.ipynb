{
 "cells": [
  {
   "cell_type": "markdown",
   "id": "ead4567e-3195-474f-b344-bc36cb46ac4c",
   "metadata": {},
   "source": [
    "# Submodule3: Construct Phylogenetic Tree"
   ]
  },
  {
   "cell_type": "markdown",
   "id": "b36c7550",
   "metadata": {},
   "source": [
    "# Learning Objectives:\n",
    "In submodule 3 we will construct phylogenetic tree from a gene sequence that includes the following steps:\n",
    "- Perform sequence alignment\n",
    "- Perform phylogenetic tree reconstruction"
   ]
  },
  {
   "cell_type": "markdown",
   "id": "7f9ad573",
   "metadata": {},
   "source": [
    "----------------------------------------------------------------------------------------------------------------\n",
    "# Training Plan \n"
   ]
  },
  {
   "cell_type": "markdown",
   "id": "097d5864",
   "metadata": {},
   "source": [
    "Submodule #1: Understanding the Basics of Phylogenetic\n",
    "\n",
    "Submodule #2: Collect and Prepare Sequence Data and Analysis\n",
    "\n",
    "<font color=\"green\"> **Submodule #3: Construct Phylogenetic Tree** </font>\n",
    " \n",
    "Submodule #4: Analyze Phylogenetic Tree"
   ]
  },
  {
   "cell_type": "markdown",
   "id": "f7cad5e6",
   "metadata": {},
   "source": [
    "----------------------------------------------------------------------------------------------------------------"
   ]
  },
  {
   "cell_type": "markdown",
   "id": "af234402",
   "metadata": {},
   "source": [
    "## 3.1 Perform Accurate Sequence Alignment of Metagenomic Data using augur align (Nextstrain)\n",
    "Sequence alignment is essential for phylogenetic analysis, as it arranges sequences to emphasize their similarities and differences, setting the foundation for accurate tree construction.\n",
    "\n",
    "**Using augur align for Sequence Alignment**\n",
    "\n",
    "In this notebook, we’ll use `augur align` from Nextstrain to align SARS-CoV-2 sequences in preparation for phylogenetic tree construction. Follow these steps to install the necessary packages and perform sequence alignment with `augur align`.\n",
    "\n",
    "#### Step-by-Step Guide:\n",
    "1. Install Necessary Packages: Ensure that the required libraries are installed, including `nextstrain-cli`, `nextstrain-augur`, and `bioconda tools` for `mafft` and `fasttree`."
   ]
  },
  {
   "cell_type": "markdown",
   "id": "62a23c0b-a22c-4300-881a-0b43de5566b4",
   "metadata": {},
   "source": [
    "## 3.2 Manage Computational Intensity through Cloud Computing\n",
    "Due to the large size of metagenomic datasets, sequence alignment can be computationally intensive. Utilizing cloud computing resources can significantly enhance the efficiency and speed of these tasks.\n",
    "\n",
    "**Benefits of Cloud Computing for Sequence Alignment:**\n",
    "- Scalability: Easily scale up resources based on the demand of the computation.\n",
    "- Cost-Effectiveness: Pay-as-you-go models allow for cost savings by only using resources when needed.\n",
    "- Accessibility: Access computational resources and data from anywhere, facilitating collaboration among researchers."
   ]
  },
  {
   "cell_type": "markdown",
   "id": "fd904c45-c2bc-486e-873d-a282dd7df8db",
   "metadata": {},
   "source": [
    "## 3.3 Phylogenetic Tree Reconstruction using USHER\n",
    "USHER (Ultrafast Sample Placement on Existing tRee) is a tool designed to place samples on a given phylogenetic tree rapidly. It is beneficial for large-scale phylogenetic analysis and real-time epidemiology.\n",
    "\n",
    "**Important Note:**\n",
    "\n",
    "Before running USHER, change the Jupyter kernel to a dedicated USHER kernel. The dependencies required for USHER may conflict with other installed packages, so a separate kernel helps avoid installation issues.\n",
    "\n",
    "### Steps to Use USHER for Phylogenetic Tree Reconstruction:"
   ]
  },
  {
   "cell_type": "code",
   "execution_count": null,
   "id": "dedee662-78e5-424c-9b65-8dda99da3aad",
   "metadata": {
    "tags": []
   },
   "outputs": [],
   "source": [
    "!conda install -c defaults -c bioconda -c conda-forge perl"
   ]
  },
  {
   "cell_type": "code",
   "execution_count": null,
   "id": "ece02739-bcec-4de4-a247-1fd9a67c728b",
   "metadata": {
    "tags": []
   },
   "outputs": [],
   "source": [
    "!conda install -c defaults -c bioconda -c conda-forge gzip"
   ]
  },
  {
   "cell_type": "markdown",
   "id": "aacaad5e-33e7-4a2d-aa3c-b135b4294e32",
   "metadata": {},
   "source": [
    "4.\tAligning Sequences:\n",
    "- Use mafft to align your sequences and output them to aligned_sequences.fasta:"
   ]
  },
  {
   "cell_type": "code",
   "execution_count": null,
   "id": "52fbb44e-4a6f-49d8-9178-a6c43cecdd81",
   "metadata": {
    "tags": []
   },
   "outputs": [],
   "source": [
    "!mafft --auto data/cov/sequences_subset.fasta > data/cov/aligned_sequences_mafft_subset.fasta"
   ]
  },
  {
   "cell_type": "markdown",
   "id": "e6c57f91-4169-4d84-800e-e89d8e871d23",
   "metadata": {},
   "source": [
    "5.\tGenerating VCF File:\n",
    "- Convert the aligned sequences to a VCF file:"
   ]
  },
  {
   "cell_type": "code",
   "execution_count": null,
   "id": "8ef45d4e-0a71-4a73-8fb0-8563a1e6a788",
   "metadata": {
    "tags": []
   },
   "outputs": [],
   "source": [
    "!faToVcf data/cov/aligned_sequences_mafft_subset.fasta data/cov/seq_subset.vcf"
   ]
  },
  {
   "cell_type": "markdown",
   "id": "4c2dd6b8-a371-4951-a0a4-b372b4bc08b5",
   "metadata": {},
   "source": [
    "6.\tCreating Newick Tree File:\n",
    "- Use fasttree to generate a Newick tree file:"
   ]
  },
  {
   "cell_type": "code",
   "execution_count": null,
   "id": "d025cf79-e7a2-4e85-b2b0-0afb59a4270f",
   "metadata": {
    "tags": []
   },
   "outputs": [],
   "source": [
    "!fasttree -nt data/cov/aligned_sequences_mafft_subset.fasta > data/cov/reference_sequences_subset.nwk"
   ]
  },
  {
   "cell_type": "markdown",
   "id": "c0a0e0e8-0a8f-490b-941f-2a59860ec5a6",
   "metadata": {},
   "source": [
    "7.\tRunning USHER:\n",
    "- With the aligned sequences, VCF file, and Newick tree file, run USHER:"
   ]
  },
  {
   "cell_type": "code",
   "execution_count": null,
   "id": "3fbc47b6-33b4-49c1-bef9-c986abdcc3c0",
   "metadata": {
    "tags": []
   },
   "outputs": [],
   "source": [
    "!usher -t data/cov/reference_sequences_subset.nwk -v data/cov/seq_subset.vcf -o data/cov/seq_output_subset.nwk"
   ]
  },
  {
   "cell_type": "markdown",
   "id": "939082d7-f377-4e20-9837-8da69673f171",
   "metadata": {},
   "source": [
    "## Alternate Sequence Alignment of Metagenomic Data using ClustalW\n",
    "Sequence alignment is a critical step in phylogenetic analysis, as it arranges the sequences in a manner that highlights their similarities and differences, allowing for accurate tree construction.\n",
    "Using ClustalW for Sequence Alignment:"
   ]
  },
  {
   "cell_type": "markdown",
   "id": "95bef0bf-1c45-4f76-9c3c-4a1828883ae9",
   "metadata": {},
   "source": [
    "### Process with Clustalw"
   ]
  },
  {
   "cell_type": "code",
   "execution_count": null,
   "id": "5f1e1890-9ef6-4afd-a128-9d1cac2ff90e",
   "metadata": {},
   "outputs": [],
   "source": [
    "import subprocess\n",
    "import datetime \n",
    "import matplotlib.pyplot as plt\n",
    "import networkx as nx\n",
    "from Bio import AlignIO\n",
    "from Bio.Phylo.TreeConstruction import DistanceTreeConstructor, DistanceCalculator\n",
    "\n",
    "# Define the paths\n",
    "fasta_file = \"sequences_subset.fasta\"\n",
    "clustalw_exe = \"/home/ec2-user/anaconda3/envs/python3/bin/clustalw2\"\n",
    "seq_algn_file = \"sequences_subset.aln\"\n",
    "\n",
    "start_time = datetime.datetime.now()\n",
    "print(f\"Process started at: {start_time}\")\n",
    "\n",
    "# Run ClustalW for multiple sequence alignment using subprocess\n",
    "try:\n",
    "    subprocess.run([clustalw_exe, \"-INFILE=\" + fasta_file, \"-OUTFILE=\" + seq_algn_file, \"-OUTPUT=FASTA\"], check=True)\n",
    "except subprocess.CalledProcessError as e:\n",
    "    print(\"Error running ClustalW:\", e)\n",
    "    exit(1)\n",
    "\n",
    "end_time = datetime.datetime.now()\n",
    "print(f\"Process ended at: {end_time}\")\n",
    "\n",
    "# Calculate the duration\n",
    "duration = end_time - start_time\n",
    "print(f\"Total time taken: {duration}\")"
   ]
  },
  {
   "cell_type": "code",
   "execution_count": null,
   "id": "c8cb20c9",
   "metadata": {},
   "outputs": [],
   "source": [
    "from jupyterquiz import display_quiz\n",
    "display_quiz('Quiz/QS3.json')"
   ]
  },
  {
   "cell_type": "code",
   "execution_count": null,
   "id": "8ef9ab52",
   "metadata": {},
   "outputs": [],
   "source": []
  }
 ],
 "metadata": {
  "kernelspec": {
   "display_name": "conda_python3",
   "language": "python",
   "name": "conda_python3"
  },
  "language_info": {
   "codemirror_mode": {
    "name": "ipython",
    "version": 3
   },
   "file_extension": ".py",
   "mimetype": "text/x-python",
   "name": "python",
   "nbconvert_exporter": "python",
   "pygments_lexer": "ipython3",
   "version": "3.10.15"
  }
 },
 "nbformat": 4,
 "nbformat_minor": 5
}
