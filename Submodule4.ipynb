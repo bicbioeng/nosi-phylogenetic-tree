{
 "cells": [
  {
   "cell_type": "markdown",
   "id": "b0b46310-e49a-4033-bd86-49c5d47db67b",
   "metadata": {},
   "source": [
    "# Submodule #4: Analyze Phylogenetic Tree\n",
    "\n",
    "### Primary Objective\n",
    "This module will teach you how to analyze and interpret phylogenetic trees to uncover evolutionary insights. You'll learn to:\n",
    "1. Visualize trees and understand what they reveal about relationships between species or genes.\n",
    "2. Use tools like BLAST to compare sequences and link them to tree data.\n",
    "3. Apply ancestral state reconstruction to predict traits or genes in common ancestors.\n",
    "\n",
    "### Overview\n",
    "- **What You'll Learn:**\n",
    "1. Visualize and interpret phylogenetic trees using IQ-TREE (a tree-building and visualization tool) and iTOL (a customizable online tree viewer).\n",
    "Example: Understand how bird species in different regions evolved from a common ancestor.\n",
    "2. Conduct comparative metagenomics using BLAST and Biopython to identify functional relationships.\n",
    "Example: Compare sequences of antibiotic-resistant bacteria to study the spread of resistance genes.\n",
    "3. Perform ancestral state reconstruction using BEAST, a Bayesian inference tool.\n",
    "Example: Reconstruct the genetic traits of the last common ancestor of mammals.\n",
    "\n",
    "\n",
    "- **Tools and Libraries:**\n",
    "  - **IQ-TREE and iTOL**: For creating and visualizing phylogenetic trees.\n",
    "  - **BLAST**: To compare sequences with databases and identify similarities.\n",
    "  - **BEAST**: For reconstructing ancestral states using Bayesian statistical methods.\n",
    "\n",
    "\n",
    "- **Why It Matters:**\n",
    "\n",
    "- **Revealing Evolutionary Relationships**:\n",
    "Phylogenetic trees help us see how species, genes, or traits are connected through evolution.\n",
    "Real-world Example: During the COVID-19 pandemic, phylogenetic trees were used to track the evolution of new variants of the virus.\n",
    "- **Deeper Biological Insights**:\n",
    "Comparative analysis and ancestral reconstruction provide a better understanding of functional relationships and evolutionary trends.\n",
    "Real-world Example: Reconstructing the ancestral traits of dinosaurs helped scientists understand the origins of feathers in birds.\n",
    "\n",
    "This introduction prepares students for the practical tasks in the module while highlighting the significance of each concept with relatable examples. Let me know if you'd like adjustments or further elaboration!"
   ]
  },
  {
   "cell_type": "markdown",
   "id": "a1d11f3e-54c7-45c0-bd14-f85379a9d897",
   "metadata": {},
   "source": [
    "## Learning Objectives\n",
    "In Submodule 4, we will build upon the phylogenetic trees constructed in Submodule 3 to analyze and interpret their significance. This includes:\n",
    "\n",
    "#### 1. **Comparative Metagenomics from the Tree:**\n",
    "\n",
    "Linking tree branches or nodes to functional genes or sequences to uncover relationships.\n",
    "Example: Identify genes responsible for drug resistance in bacterial species and how they are distributed across evolutionary branches.\n",
    "#### 2.**Ancestral Tree Reconstruction Using Advanced Tools:**\n",
    "\n",
    "Reconstruct traits or genetic sequences of common ancestors using statistical methods.\n",
    "Example: Determine when certain traits, like antibiotic resistance or venom production, first appeared in evolutionary history.\n",
    "\n",
    "#### ***By the End of This Submodule, You Will Be Able To:***\n",
    "#### 1.**Interpret and Visually Represent Phylogenetic Trees:**\n",
    "\n",
    "Understand the structure of phylogenetic trees, including branch lengths, bootstrap values, and evolutionary relationships.\n",
    "Example: Explain how two species, like humans and chimpanzees, share a common ancestor and how they diverged over time.\n",
    "#### 2.**Conduct Comparative Metagenomics Analysis:**\n",
    "\n",
    "Use BLAST and Biopython to compare sequences and extract meaningful biological insights.\n",
    "Example: Study how genes associated with photosynthesis are conserved across plants and cyanobacteria.\n",
    "#### 3.**Gain Insights into Ancestral State Reconstruction:**\n",
    "\n",
    "Apply Bayesian inference to predict traits or sequences of ancestral nodes.\n",
    "Example: Reconstruct the genetic sequences of early mammals to identify traits shared with modern species.\n",
    "\n",
    "This version is designed to give students a clear understanding of what they will achieve by the end of the submodule, while connecting the learning objectives to real-world applications. Let me know if further clarification or edits are needed!"
   ]
  },
  {
   "cell_type": "markdown",
   "id": "ad2fe407-ccfb-4474-a883-c89fb78efd7f",
   "metadata": {},
   "source": [
    "----------------------------------------------------------------------------------------------------------------\n",
    "# Training Plan "
   ]
  },
  {
   "cell_type": "markdown",
   "id": "c6b6e3cc-f0ca-4795-97a3-2d40a69a7d0b",
   "metadata": {},
   "source": [
    "Submodule #1: Understanding the Basics of Phylogenetic\n",
    "\n",
    "Submodule #2: Collect and Prepare Sequence Data and Analysis\n",
    "\n",
    "Submodule #3: Construct Phylogenetic Tree\n",
    "\n",
    " \n",
    "<font color=\"green\"> **Submodule #4: Analyze Phylogenetic Tree** </font>"
   ]
  },
  {
   "cell_type": "code",
   "execution_count": null,
   "id": "68dbd8b5-3dfd-4c57-b559-c05498d93bdf",
   "metadata": {},
   "outputs": [],
   "source": [
    "## Import All Libraries Used in This Submodule\n",
    "import os\n",
    "from Bio import Phylo\n",
    "import matplotlib.pyplot as plt\n"
   ]
  },
  {
   "cell_type": "markdown",
   "id": "ecada1f8-866f-4f47-9657-be536d9eacab",
   "metadata": {},
   "source": [
    "## 4.1 Interpret and Visually Represent Phylogenetic Trees\n",
    "\n",
    "### Overview\n",
    "Visualizing phylogenetic trees is crucial for interpreting evolutionary relationships and presenting findings effectively. In this section, we will:\n",
    "\n",
    "- Learn to construct and visualize phylogenetic trees using IQ-TREE.\n",
    "- Explore iTOL (Interactive Tree of Life) as an alternative for more customized visualizations.\n",
    "\n",
    "\n",
    "### Why use IQ-TREE after USHER?\n",
    "In Submodule 3, we used USHER to quickly integrate new sequences into an existing reference tree. USHER is ideal for generating a preliminary phylogenetic tree using a maximum parsimony approach. However, to refine the tree and ensure it is statistically robust, we now use IQ-TREE in Submodule 4.\n",
    "IQ-TREE uses a maximum likelihood method to:\n",
    "- Reconstruct the tree with greater statistical accuracy.\n",
    "- Add branch support values (e.g., bootstrap values) to assess the confidence in the tree topology.\n",
    "- Produce a tree that is more reliable for detailed evolutionary analysis and visualization.\n",
    "By combining the strengths of both tools, we demonstrate the use of complementary approaches in phylogenetics.\n",
    "\n",
    "#### Key Features of IQ-TREE:\n",
    "1. **Phylogenetic Analysis:**\n",
    "- Supports model testing to select the best evolutionary model for your data.\n",
    "- Offers bootstrapping and Approximate Likelihood Ratio Tests (aLRT) for assessing the reliability of tree branches.\n",
    "2. **Tree Visualization:**\n",
    "- Provides built-in capabilities to explore trees and understand relationships.\n",
    "\n",
    "**Real-world Example:**\n",
    "Scientists studying COVID-19 variants used IQ-TREE to build phylogenetic trees. These trees helped track mutations and identify how the virus spread globally.\n",
    "\n",
    "### Steps to Use IQ-TREE\n",
    "#### 1. Running IQ-TREE to Visualize Trees:\n",
    "The following command constructs and visualizes a phylogenetic tree:"
   ]
  },
  {
   "cell_type": "code",
   "execution_count": null,
   "id": "0d6df452-9dc4-4e15-b174-8aaea35cfdd3",
   "metadata": {},
   "outputs": [],
   "source": [
    "# Create the folder structure\n",
    "\n",
    "# Check if the directory exists\n",
    "uniport_dir = os.path.isdir('./data/cov/visualization')\n",
    "\n",
    "# If the directory does not exist, create it\n",
    "if not uniport_dir:\n",
    "    try:\n",
    "        os.makedirs('./data/cov/visualization')\n",
    "        print(\"Directory created successfully\")\n",
    "    except Exception as e:\n",
    "        print(f\"An error occurred: {e}\")"
   ]
  },
  {
   "cell_type": "code",
   "execution_count": null,
   "id": "f20bc532-4be9-4825-aa46-7e872d687cef",
   "metadata": {
    "scrolled": true
   },
   "outputs": [],
   "source": [
    "!iqtree -s ./data/cov/alignment/aligned_sequences.fasta -m GTR+G -bb 1000 -alrt 1000 -nt AUTO -pre ./data/cov/visualization/aligned_sequences\n"
   ]
  },
  {
   "cell_type": "markdown",
   "id": "0b244038-4fbc-46c7-b5b6-5463589e37a5",
   "metadata": {},
   "source": [
    "#### Command Parameters Explained:\n",
    "1. **iqtree**: This is the command to run the IQ-TREE program.\n",
    "2. **s**: Specifies the input alignment file. In this case, ./data/cov/alignment/aligned_sequences.fasta is the file containing the aligned sequences in FASTA format.\n",
    "3. **-m**: Specifies the substitution model to use for phylogenetic tree reconstruction. Here, GTR+G is used:\n",
    "   - GTR (General Time Reversible): A commonly used nucleotide substitution model.\n",
    "   - +G: Indicates that the model includes a Gamma distribution to account for rate heterogeneity across sites.\n",
    "4. **-bb**: Enables ultrafast bootstrap analysis for assessing branch support, with the number of bootstrap replicates specified. Here, 1000 bootstrap replicates will be performed. This provides confidence values for the branches of the tree.\n",
    "5. **-alrt**: Enables approximate likelihood ratio tests (aLRT) for branch support. Here, 1000 replicates are used, providing additional support metrics for tree branches.\n",
    "6. **-nt**: Specifies the number of CPU threads to use. AUTO lets IQ-TREE automatically detect the number of available CPU cores and use them for parallel computation.\n",
    "7. **-pre**: Specifies the prefix for the output files. Here, ./data/cov/visualization/aligned_sequences will be the prefix, and IQ-TREE will append additional information to the filenames based on the results.\n",
    "    "
   ]
  },
  {
   "cell_type": "markdown",
   "id": "57796605-7d14-4adb-a477-3e762fbb815d",
   "metadata": {},
   "source": [
    "| **Parameter**          | **Impact on Execution Time**                     | **Recommendation**                              |\n",
    "|----------------------- |----------------------------------------------|------------------------------------------------|\n",
    "| `-s` (Input Data)      | More sequences/longer sequences → More time  | Prune redundant sequences                      |\n",
    "| `-m` (Model Selection) | `TEST` → Slow, specific model → Fast         | Use a known model (e.g., `GTR+G`)              |\n",
    "| `-bb` (Bootstrap)      | Higher replicates → Longer time              | Use at least **1000 replicates** for accuracy    |\n",
    "| `-alrt` (aLRT)         | Higher replicates → Longer time              | Use at least **1000 replicates** for accuracy  |\n",
    "| `-nt` (Threads)        | More threads → Faster                        | Use `AUTO` or match your CPU cores             |\n",
    "| Tree Method            | Approximation → Fast, Exact → Slow           | Use ultrafast bootstrap for large datasets     |\n"
   ]
  },
  {
   "cell_type": "markdown",
   "id": "b45bd5af-e8a6-4f61-bb97-084242da88f5",
   "metadata": {},
   "source": [
    "#### 2. Visualize the Tree in Python:\n",
    "The output tree `(aligned_sequences_subset.treefile)` can be visualized using `Bio.Phylo` and Matplotlib:"
   ]
  },
  {
   "cell_type": "code",
   "execution_count": null,
   "id": "fa0d3d24-2541-4189-9c1f-748ddab36454",
   "metadata": {},
   "outputs": [],
   "source": [
    "\n",
    "\n",
    "# File paths\n",
    "treefile = \"./data/cov/visualization/aligned_sequences.treefile\"\n",
    "output_path = \"./data/cov/visualization/phylogenetic_tree.svg\"\n",
    "\n",
    "try:\n",
    "    # Read the tree\n",
    "    tree = Phylo.read(treefile, \"newick\")\n",
    "\n",
    "    # Dynamically calculate figure size based on the number of labels\n",
    "    num_labels = len(tree.get_terminals())\n",
    "    fig_width = 50\n",
    "    fig_height = max(10, num_labels // 2)  # Adjust height to fit the tree\n",
    "\n",
    "    # Create a figure and axis\n",
    "    fig, ax = plt.subplots(figsize=(fig_width, fig_height))\n",
    "\n",
    "    # Draw the tree\n",
    "    Phylo.draw(tree, do_show=False, axes=ax)\n",
    "\n",
    "    # Adjust label rotation and font size dynamically to reduce overlap\n",
    "    font_size = max(5, 200 // num_labels)  # Smaller font for more labels\n",
    "    for label in ax.get_yticklabels():\n",
    "        label.set_rotation(45)  # Rotate labels by 45 degrees\n",
    "        label.set_fontsize(font_size)\n",
    "\n",
    "    # Ensure the output directory exists\n",
    "    os.makedirs(os.path.dirname(output_path), exist_ok=True)\n",
    "\n",
    "    # Save the figure in SVG format\n",
    "    fig.savefig(output_path, dpi=200, bbox_inches='tight', format='svg')\n",
    "\n",
    "    print(f\"Tree successfully saved at: {output_path}\")\n",
    "\n",
    "    plt.show()\n",
    "\n",
    "except FileNotFoundError:\n",
    "    print(f\"Error: The file '{treefile}' does not exist.\")\n",
    "except Exception as e:\n",
    "    print(f\"An error occurred: {e}\")\n",
    "\n",
    "\n"
   ]
  },
  {
   "cell_type": "markdown",
   "id": "01ba9a01-6ce7-4a25-a06c-ee6b44dd8974",
   "metadata": {},
   "source": [
    "### Explanation of the Tree\n",
    "The tree generated by IQ-TREE represents evolutionary relationships, with branch lengths corresponding to genetic divergence. Users can interpret the topology to understand lineage splits and evolutionary distances.\n",
    "\n",
    "For customization, users may optionally use iTOL (Interactive Tree of Life), which offers publication-quality visualizations.\n",
    "Using iTOL is especially recommended as a second option if the phylogenetic tree is not properly visualized, particularly for large datasets, as iTOL provides advanced tools for better clarity and annotation."
   ]
  },
  {
   "cell_type": "markdown",
   "id": "677359a5-236b-43b5-8365-74f4c09ad29e",
   "metadata": {},
   "source": [
    "#### 3. Using iTOL (Interactive Tree of Life):\n",
    "1. Visit the iTOL website.\n",
    "2. Upload your `phylogenetic_tree_output_aligned_sequences_subset.nwk` file.\n",
    "3. Customize the tree by adding labels, colors, and annotations."
   ]
  },
  {
   "cell_type": "markdown",
   "id": "5b696a71-5844-4278-8cf4-929d6b556912",
   "metadata": {},
   "source": [
    "<div style=\"padding: 10px; border: 1px solid #b3e5fc; border-radius: 5px; background-color: #e1f5fe;\">\n",
    "    <strong>Tip:</strong>💡 Use iTOL for publication-quality visualizations and advanced customization options.\n",
    "</div>"
   ]
  },
  {
   "cell_type": "markdown",
   "id": "b669ece9-47b5-4bbf-b719-652c186263ca",
   "metadata": {},
   "source": [
    "### 4.2 Importance of Visual Representation\n",
    "Visual representation is critical for:\n",
    "\n",
    "1. **Interpreting Results:** Simplifies understanding of evolutionary relationships.\n",
    "2. **Communication:** Makes findings accessible to a broader audience.\n",
    "3. **Highlighting Features:** Emphasizes key evolutionary events and patterns."
   ]
  },
  {
   "cell_type": "markdown",
   "id": "954649e3-d724-49a9-8fb1-278d1b121951",
   "metadata": {},
   "source": [
    "<div style=\"padding: 10px; border: 1px solid #b3e5fc; border-radius: 5px; background-color: #e1f5fe;\">\n",
    "    <strong>Note:</strong> 📝  A well-designed visualization can make complex evolutionary relationships easier to comprehend.\n",
    "</div>"
   ]
  },
  {
   "cell_type": "markdown",
   "id": "20772323-85bb-461d-87ed-0c99593b99ad",
   "metadata": {},
   "source": [
    "## 4.3 Conduct Comparative Metagenomics Along Different Branches\n",
    "\n",
    "### Overview\n",
    "Comparative metagenomics involves analyzing genetic content along different branches of a phylogenetic tree. By mapping genetic sequences to branches of the tree, researchers can uncover patterns of variation and evolution across species or strains. This method provides critical insights into how genetic features are distributed and how they have evolved in different lineages.\n",
    "\n",
    "For instance, variations in genes between closely related species might indicate adaptations to specific environmental pressures or unique evolutionary events. Comparative metagenomics can also help identify conserved genetic elements or functions, highlighting essential genes shared across lineages.\n",
    "\n",
    "### Steps for Comparative Metagenomics\n",
    "\n",
    "#### 1. BLAST:\n",
    "BLAST (Basic Local Alignment Search Tool) is a powerful tool for comparing biological sequences, such as DNA or protein sequences. It identifies regions of similarity, helping to link sequences from different species to a common ancestor or highlight differences that have emerged over time.\n",
    "\n",
    "Using BLAST in comparative metagenomics allows you to:\n",
    "- Compare query sequences against a reference database.\n",
    "- Identify homologous sequences, which are indicative of shared ancestry.\n",
    "- Detect unique sequences that might explain species-specific traits or adaptations.\n",
    "\n",
    "#### Example Use Case:\n",
    "Suppose you have a set of genetic sequences from species represented in a phylogenetic tree. Using BLAST:\n",
    "1. You can create a database from the sequences.\n",
    "2. Compare a query sequence (e.g., a gene of interest) to identify its presence and variation across the branches of the tree.\n",
    "3. Analyze the results to determine patterns of conservation or divergence.\n",
    "\n",
    "The outputs of BLAST (alignment scores, e-values, etc.) can then be visualized and interpreted in the context of the phylogenetic tree to draw meaningful biological conclusions.\n"
   ]
  },
  {
   "cell_type": "markdown",
   "id": "0d13914c-cf68-4cdb-9a4a-85d76d8b883a",
   "metadata": {},
   "source": [
    "##### **1. Create a BLAST Database**\n",
    "Navigate to your data directory and create a database:"
   ]
  },
  {
   "cell_type": "code",
   "execution_count": null,
   "id": "94a52286-ca20-4db7-91c6-d0b7dec70b07",
   "metadata": {},
   "outputs": [],
   "source": [
    "!makeblastdb -in ./data/cov/sequence/sequences.fasta -dbtype nucl -out ./data/cov/analysis_result/seq_database"
   ]
  },
  {
   "cell_type": "markdown",
   "id": "ea392a47-a46f-4377-b812-dec0ffab00e4",
   "metadata": {},
   "source": [
    "#### 2. Run BLAST for Comparisons:\n",
    "Create a `query_seq.fasta` file with sequences to compare.\n",
    "Run BLAST to compare query sequences against the database:"
   ]
  },
  {
   "cell_type": "code",
   "execution_count": null,
   "id": "b4ce16ce-f9ab-459f-8f61-e15a74257b81",
   "metadata": {},
   "outputs": [],
   "source": [
    "!blastn -query ./data/cov/sequence/query_seq.fasta -db ./data/cov/analysis_result/seq_database -out ./data/cov/analysis_result/analysis_result_phylogenetic_tree_output_aligned_sequences.txt -outfmt 6"
   ]
  },
  {
   "cell_type": "markdown",
   "id": "ce8db262-3d8c-4779-895c-716cde5cdda3",
   "metadata": {},
   "source": [
    "#### 3. View Results:\n",
    "Results are saved in `analysis_result_phylogenetic_tree_output_aligned_sequences_subset.txt.`"
   ]
  },
  {
   "cell_type": "markdown",
   "id": "7eba5284-5288-435f-b946-4d9f6c584144",
   "metadata": {},
   "source": [
    "<div style=\"padding: 10px; border: 1px solid #ffccbc; border-radius: 5px; background-color: #ffebee;\">\n",
    "    <strong>Alert:</strong>⚠️ Ensure your sequences are properly formatted and validated before running BLAST to avoid errors.\n",
    "</div>"
   ]
  },
  {
   "cell_type": "markdown",
   "id": "be5f4cfe-cd3c-4338-804f-104b0d5629a5",
   "metadata": {},
   "source": [
    "## 4.4 Automate Comparative Metagenomics Analysis using Biopython\n",
    "\n",
    "### Overview\n",
    "Automation can streamline comparative metagenomics analysis, making it more efficient and reproducible. Manual processing of sequences, especially when dealing with large datasets, can be time-consuming and error-prone. By automating tasks such as BLAST searches, data parsing, and result visualization, researchers can focus more on interpretation and biological insights.\n",
    "\n",
    "### How Biopython Helps\n",
    "Biopython is a robust library for biological computation in Python. It provides tools to:\n",
    "- Automate sequence alignments and BLAST queries.\n",
    "- Parse BLAST results to extract meaningful information programmatically.\n",
    "- Handle large datasets efficiently, reducing manual overhead.\n",
    "\n",
    "### Script for Automation\n",
    "Below is a general outline of how a Biopython script can be structured to automate comparative metagenomics:"
   ]
  },
  {
   "cell_type": "code",
   "execution_count": null,
   "id": "e84eea5b-dbdc-4f9e-834d-9f94d573c9e4",
   "metadata": {},
   "outputs": [],
   "source": [
    "#Setup and Import Libraries\n",
    "from Bio.Blast import NCBIWWW, NCBIXML\n",
    "\n",
    "# Function to run BLAST and parse results\n",
    "def run_blast(query_file, db_file, output_file):\n",
    "    result_handle = NCBIWWW.qblast(\"blastn\", db_file, query_file)\n",
    "    with open(output_file, \"w\") as out_handle:\n",
    "        out_handle.write(result_handle.read())\n",
    "    result_handle.close()\n",
    "\n",
    "# Run the BLAST\n",
    "run_blast(\"./data/cov/sequence/query_seq.fasta\", \"./data/cov/analysis_result/seq_database\", \"./data/cov/analysis_result/blast_analysis_result_phylogenetic_tree_output_aligned_sequences.xml\")\n",
    "\n",
    "# Parse the BLAST results\n",
    "with open(\"./data/cov/analysis_result/blast_analysis_result_phylogenetic_tree_output_aligned_sequences.xml\") as result_handle:\n",
    "    blast_records = NCBIXML.parse(result_handle)\n",
    "    for blast_record in blast_records:\n",
    "        for alignment in blast_record.alignments:\n",
    "            for hsp in alignment.hsps:\n",
    "                print(f\"****Alignment****\")\n",
    "                print(f\"sequence: {alignment.title}\")\n",
    "                print(f\"length: {alignment.length}\")\n",
    "                print(f\"e value: {hsp.expect}\")\n",
    "                print(f\"{hsp.query[0:75]}...\")\n",
    "                print(f\"{hsp.match[0:75]}...\")\n",
    "                print(f\"{hsp.sbjct[0:75]}...\")\n"
   ]
  },
  {
   "cell_type": "markdown",
   "id": "09b67416-583c-45fe-b68d-7a71638ee32c",
   "metadata": {},
   "source": [
    "<div style=\"padding: 10px; border: 1px solid #b3e5fc; border-radius: 5px; background-color: #e1f5fe;\">\n",
    "    <strong>Tip:</strong>💡Automating BLAST processes is especially useful when working with large datasets.\n",
    "</div>"
   ]
  },
  {
   "cell_type": "markdown",
   "id": "3bb94fa5-dac5-4d46-ac6c-1fde42d46cd4",
   "metadata": {},
   "source": [
    "### Key Advantages of Automation\n",
    "- **Efficiency:** Process hundreds of sequences without manual intervention.\n",
    "- **Reproducibility:** Ensure consistent results by using standardized scripts.\n",
    "- **Scalability:** Handle large datasets effortlessly.\n",
    "\n",
    "By using Biopython for automation, researchers can significantly enhance the throughput and accuracy of comparative metagenomics analyses."
   ]
  },
  {
   "cell_type": "markdown",
   "id": "dd59f0a2-4ac1-4e7f-a54e-c348d8d0ca20",
   "metadata": {},
   "source": [
    "## 4.5 Discuss Insights from Ancestral State Reconstruction\n",
    "\n",
    "### Overview\n",
    "Ancestral state reconstruction is a computational approach to infer the traits, genes, or characteristics of common ancestors based on observed data from existing species. It provides valuable insights into evolutionary processes by mapping changes onto a phylogenetic tree.\n",
    "\n",
    "#### Key Insights\n",
    "1. **Evolutionary Dynamics:**\n",
    "   - Tracks how specific traits or genes have evolved over time.\n",
    "   - Identifies when significant changes or adaptations occurred in evolutionary history.\n",
    "   - Helps reconstruct the sequence of evolutionary events leading to the diversity observed today.\n",
    "\n",
    "2. **Diversity:**\n",
    "   - Highlights variations within and between metagenomic samples.\n",
    "   - Provides a framework to study how environmental factors or genetic drift influence diversity across lineages.\n",
    "   - Offers clues about the emergence of novel traits or gene functions.\n",
    "\n",
    "3. **Evolutionary Pressures:**\n",
    "   - Pinpoints selective pressures that shaped genetic traits.\n",
    "   - Determines whether traits were conserved due to essential functions or evolved due to environmental adaptability.\n",
    "\n",
    "#### Example Application:\n",
    "Imagine studying the evolution of antibiotic resistance genes. Using ancestral state reconstruction, you can:\n",
    "- Map the presence or absence of resistance genes onto a phylogenetic tree.\n",
    "- Infer when and where these genes emerged in the evolutionary timeline.\n",
    "- Understand the evolutionary pressures, such as environmental antibiotic exposure, that influenced the spread of resistance.\n",
    "\n",
    "By integrating data from ancestral state reconstruction, researchers gain a deeper understanding of how traits evolve and the factors driving these changes, enabling predictions about future evolutionary trends.\n"
   ]
  },
  {
   "cell_type": "markdown",
   "id": "837cf0aa-de27-4505-a269-c3dec9cf0cf2",
   "metadata": {},
   "source": [
    "<div style=\"padding: 10px; border: 1px solid #b3e5fc; border-radius: 5px; background-color: #e1f5fe;\">\n",
    "    <strong>Note:</strong> 📝  Use tools like BEAST to infer ancestral states and reconstruct evolutionary pathways.\n",
    "</div>"
   ]
  },
  {
   "cell_type": "markdown",
   "id": "723cec05-9af5-4f21-b962-c53192f2c3b5",
   "metadata": {},
   "source": [
    "## 4.6 Utilize Bayesian Inference Methods with BEAST for Ancestral State Reconstruction\n",
    "\n",
    "### Overview\n",
    "Bayesian inference methods provide a probabilistic framework to reconstruct ancestral states by incorporating uncertainty and prior knowledge. BEAST (Bayesian Evolutionary Analysis Sampling Trees) is a cutting-edge software designed for phylogenetic and evolutionary analysis. It excels in Bayesian inference and allows researchers to:\n",
    "\n",
    "- Model the evolution of traits or genes over time using complex statistical approaches.\n",
    "- Estimate the probabilities of different ancestral states based on observed data.\n",
    "- Generate credible intervals for ancestral state predictions, providing confidence in the reconstruction.\n",
    "\n",
    "### Key Features of BEAST\n",
    "- **Customizable Models:** BEAST supports various evolutionary models, including substitution rates, relaxed molecular clocks, and coalescent processes.\n",
    "- **User-Friendly Interface:** The BEAUti graphical interface simplifies XML file preparation for analyses.\n",
    "- **Comprehensive Outputs:** Generates detailed statistical reports and phylogenetic trees, which can be visualized and interpreted using additional tools like Tracer and TreeAnnotator.\n",
    "\n",
    "### How BEAST Works\n",
    "1. **Data Input:** BEAST requires an input file, usually in XML format, that specifies the alignment of sequences, evolutionary models, and priors.\n",
    "2. **Bayesian Framework:** Using Markov Chain Monte Carlo (MCMC) sampling, BEAST explores the possible evolutionary histories and estimates the posterior probabilities of different ancestral states.\n",
    "3. **Visualization:** Results can be visualized in tools like Tracer for convergence analysis and TreeAnnotator for summarizing posterior trees.\n"
   ]
  },
  {
   "cell_type": "markdown",
   "id": "1b22983b-1970-44a9-b7cf-626f1783ed97",
   "metadata": {},
   "source": [
    "### Practical Workflow\n",
    "\n",
    "#### Step 1: Run BEAUti for Configuration\n",
    "1. Find BEAUti’s path:"
   ]
  },
  {
   "cell_type": "code",
   "execution_count": null,
   "id": "76710477-75c7-433e-9d9d-7b56bafd7995",
   "metadata": {},
   "outputs": [],
   "source": [
    "!find $CONDA_PREFIX -name \"beauti\""
   ]
  },
  {
   "cell_type": "markdown",
   "id": "3a236ca6-ae94-4da0-adb0-f28328ffa4de",
   "metadata": {},
   "source": [
    "2. Open BEAUti:\n",
    "- /path/to/bin/beauti\n",
    "3. Import your aligned_sequences.fasta file in BEAUti.\n",
    "4. Configure parameters and save as seq_config.xml."
   ]
  },
  {
   "cell_type": "markdown",
   "id": "c9c4c299-1108-45ee-beda-51e79f390f97",
   "metadata": {},
   "source": [
    "#### 2. Run BEAST: Run the analysis with the saved configuration file:"
   ]
  },
  {
   "cell_type": "code",
   "execution_count": null,
   "id": "fd09f48a-5bc8-4aad-9223-741a27ab026b",
   "metadata": {
    "scrolled": true
   },
   "outputs": [],
   "source": [
    "!beast seq_config.xml"
   ]
  },
  {
   "cell_type": "markdown",
   "id": "5fed2750-f942-4c09-bc99-6cb1a0f06e17",
   "metadata": {},
   "source": [
    "<div style=\"padding: 10px; border: 1px solid #ffccbc; border-radius: 5px; background-color: #ffebee;\">\n",
    "    <strong>Alert:</strong>⚠️ BEAST is computationally intensive, so ensure sufficient resources are allocated.\n",
    "</div>"
   ]
  },
  {
   "cell_type": "markdown",
   "id": "0a292903-1f88-4560-b66b-1fcd68ed65bb",
   "metadata": {},
   "source": [
    "\n",
    "\n",
    "Ensure the following tools are installed before proceeding:\n",
    "\n",
    "- IQ-TREE: For phylogenetic tree analysis.\n",
    "- BLAST: For sequence comparison.\n",
    "- BEAST: For ancestral state reconstruction."
   ]
  },
  {
   "cell_type": "markdown",
   "id": "3d136b47-2875-4f97-82ca-3559feaea60e",
   "metadata": {},
   "source": [
    "## Interactive Quiz\n",
    "\n",
    "Test your understanding of phylogenetic analysis and ancestral state reconstruction:"
   ]
  },
  {
   "cell_type": "code",
   "execution_count": null,
   "id": "e1b3af0d-5d23-4e78-bd24-b2cfdec296f8",
   "metadata": {},
   "outputs": [],
   "source": [
    "from IPython.display import IFrame\n",
    "IFrame(\"Quiz/QS4.html\", width=800, height=350)"
   ]
  },
  {
   "cell_type": "code",
   "execution_count": null,
   "id": "5463c8f8-e33e-4ceb-908b-40ff7528b22d",
   "metadata": {},
   "outputs": [],
   "source": []
  }
 ],
 "metadata": {
  "kernelspec": {
   "display_name": "Python 3 (ipykernel)",
   "language": "python",
   "name": "python3"
  },
  "language_info": {
   "codemirror_mode": {
    "name": "ipython",
    "version": 3
   },
   "file_extension": ".py",
   "mimetype": "text/x-python",
   "name": "python",
   "nbconvert_exporter": "python",
   "pygments_lexer": "ipython3",
   "version": "3.10.14"
  }
 },
 "nbformat": 4,
 "nbformat_minor": 5
}
