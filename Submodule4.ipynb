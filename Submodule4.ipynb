{
 "cells": [
  {
   "cell_type": "markdown",
   "id": "85ebd615-af35-4577-b1d0-30cbbb8611cb",
   "metadata": {},
   "source": [
    "# Submodule 4: Analyze Phylogenetic Tree"
   ]
  },
  {
   "cell_type": "markdown",
   "id": "294a756b",
   "metadata": {},
   "source": [
    "## Learning Objectives\n",
    "In Submodule 4, we will analyze phylogenetic trees constructed in Submodule 3. This includes:\n",
    "1. Comparative metagenomics from the tree.\n",
    "2. Ancestral tree reconstruction using advanced tools.\n",
    "\n",
    "By the end of this submodule, learners will:\n",
    "- Interpret and visually represent phylogenetic trees.\n",
    "- Conduct comparative metagenomics analysis.\n",
    "- Gain insights into ancestral state reconstruction using Bayesian inference methods."
   ]
  },
  {
   "cell_type": "markdown",
   "id": "13dd7a66",
   "metadata": {},
   "source": [
    "----------------------------------------------------------------------------------------------------------------\n",
    "# Training Plan \n"
   ]
  },
  {
   "cell_type": "markdown",
   "id": "d4adb8bc",
   "metadata": {},
   "source": [
    "Submodule #1: Understanding the Basics of Phylogenetic\n",
    "\n",
    "Submodule #2: Collect and Prepare Sequence Data and Analysis\n",
    "\n",
    "Submodule #3: Construct Phylogenetic Tree\n",
    "\n",
    " \n",
    "<font color=\"green\"> **Submodule #4: Analyze Phylogenetic Tree** </font>"
   ]
  },
  {
   "cell_type": "markdown",
   "id": "45bb5329",
   "metadata": {},
   "source": [
    "## 4.1 Interpret and Visually Represent Phylogenetic Trees\n",
    "\n",
    "### Overview\n",
    "Visualizing phylogenetic trees helps interpret evolutionary relationships and present findings effectively. In this submodule, we use **IQ-TREE** as the primary tool for tree visualization and **iTOL (Interactive Tree of Life)** as an alternative for customization.\n",
    "\n",
    "### Why IQ-TREE?\n",
    "**IQ-TREE** is a comprehensive tool for:\n",
    "1. **Phylogenetic Analysis:** It supports model testing, bootstrapping, and tree construction.\n",
    "2. **Tree Visualization:** Integrated visualization capabilities allow users to explore trees effectively.\n",
    "\n",
    "### Steps to Use IQ-TREE\n",
    "#### 1. Running IQ-TREE to Visualize Trees:\n",
    "The following command constructs and visualizes a phylogenetic tree:"
   ]
  },
  {
   "cell_type": "code",
   "execution_count": null,
   "id": "c4973f17",
   "metadata": {},
   "outputs": [],
   "source": [
    "import subprocess\n",
    "\n",
    "subprocess.run([\"iqtree\", \"-s\", \"aligned_subset_augur.fasta\", \"-m\", \"TEST\", \"-bb\", \"1000\", \"-alrt\", \"1000\", \"-nt\", \"AUTO\"])"
   ]
  },
  {
   "cell_type": "markdown",
   "id": "97fa0d3b",
   "metadata": {},
   "source": [
    "#### Options Explained:\n",
    "- -s: Specifies the input file.\n",
    "- -m TEST: Automatically selects the best substitution model.\n",
    "- -bb 1000: Runs bootstrap analysis for statistical support.\n",
    "- -alrt 1000: Performs approximate likelihood ratio testing.\n",
    "- -nt AUTO: Automatically determines the number of threads."
   ]
  },
  {
   "cell_type": "markdown",
   "id": "8a25ee97",
   "metadata": {},
   "source": [
    "#### 2. Visualize the Tree in Python:\n",
    "The output tree `(seq_output_subset.nwk)` can be visualized using `Bio.Phylo` and Matplotlib:"
   ]
  },
  {
   "cell_type": "code",
   "execution_count": null,
   "id": "7d917b74",
   "metadata": {},
   "outputs": [],
   "source": [
    "from Bio import Phylo\n",
    "import matplotlib.pyplot as plt\n",
    "\n",
    "tree = Phylo.read(\"data/cov/seq_output_subset.nwk\", \"newick\")\n",
    "\n",
    "Phylo.draw(tree)\n",
    "plt.show()"
   ]
  },
  {
   "cell_type": "markdown",
   "id": "a6c2d14c",
   "metadata": {},
   "source": [
    "#### 3. Using iTOL (Interactive Tree of Life):\n",
    "1. Visit the iTOL website.\n",
    "2. Upload your `seq_output_subset.nwk` file.\n",
    "3. Customize the tree by adding labels, colors, and annotations."
   ]
  },
  {
   "cell_type": "markdown",
   "id": "ecd2d9f3",
   "metadata": {},
   "source": [
    "<div style=\"padding: 10px; border: 1px solid #b3e5fc; border-radius: 5px; background-color: #e1f5fe;\">\n",
    "    <strong>Tip:</strong>💡 Use iTOL for publication-quality visualizations and advanced customization options.\n",
    "</div>"
   ]
  },
  {
   "cell_type": "markdown",
   "id": "469de38f-281a-4d77-9ea5-d95288f38b9c",
   "metadata": {},
   "source": [
    "### 4.2 Importance of Visual Representation\n",
    "Visual representation is critical for:\n",
    "\n",
    "1. **Interpreting Results:** Simplifies understanding of evolutionary relationships.\n",
    "2. **Communication:** Makes findings accessible to a broader audience.\n",
    "3. **Highlighting Features:** Emphasizes key evolutionary events and patterns."
   ]
  },
  {
   "cell_type": "markdown",
   "id": "41e9d074",
   "metadata": {},
   "source": [
    "<div style=\"padding: 10px; border: 1px solid #b3e5fc; border-radius: 5px; background-color: #e1f5fe;\">\n",
    "    <strong>Note:</strong> 📝  A well-designed visualization can make complex evolutionary relationships easier to comprehend.\n",
    "</div>"
   ]
  },
  {
   "cell_type": "markdown",
   "id": "3df7d60e-fcdc-42ec-9d68-20960c760601",
   "metadata": {},
   "source": [
    "## 4.3 Conduct Comparative Metagenomics Along Different Branches\n",
    "\n",
    "### Overview\n",
    "Comparative metagenomics involves analyzing genetic content along different branches of a phylogenetic tree. This helps identify variations and patterns in the genetic data across species or strains.\n",
    "\n",
    "### Steps for Comparative Metagenomics\n",
    "#### 1. BLAST:\n",
    "BLAST is a critical tool for comparing sequences."
   ]
  },
  {
   "cell_type": "markdown",
   "id": "2c93cf09",
   "metadata": {},
   "source": [
    "#### 2. Create a BLAST Database:\n",
    "Navigate to your data directory and create a database:"
   ]
  },
  {
   "cell_type": "code",
   "execution_count": null,
   "id": "9e0d5271-4f24-411a-853c-f445fc806df6",
   "metadata": {},
   "outputs": [],
   "source": [
    "!makeblastdb -in sequences_subset.fasta -dbtype nucl -out seq_database"
   ]
  },
  {
   "cell_type": "markdown",
   "id": "58f54a97",
   "metadata": {},
   "source": [
    "#### 3. Run BLAST for Comparisons:\n",
    "Create a `query_seq.fasta` file with sequences to compare.\n",
    "Run BLAST to compare query sequences against the database:"
   ]
  },
  {
   "cell_type": "code",
   "execution_count": null,
   "id": "4295d166-017a-4447-b3e2-2f4032fa5881",
   "metadata": {},
   "outputs": [],
   "source": [
    "!blastn -query query_seq.fasta -db seq_database -out seq_results.txt -outfmt 6"
   ]
  },
  {
   "cell_type": "markdown",
   "id": "25ea6dbb",
   "metadata": {},
   "source": [
    "#### 4. View Results:\n",
    "Results are saved in `seq_results.txt.`"
   ]
  },
  {
   "cell_type": "markdown",
   "id": "56963bb3",
   "metadata": {},
   "source": [
    "<div style=\"padding: 10px; border: 1px solid #ffccbc; border-radius: 5px; background-color: #ffebee;\">\n",
    "    <strong>Alert:</strong>⚠️ Ensure your sequences are properly formatted and validated before running BLAST to avoid errors.\n",
    "</div>"
   ]
  },
  {
   "cell_type": "markdown",
   "id": "764430e1-9dc0-475c-8ce5-0ee15e4bd41e",
   "metadata": {},
   "source": [
    "### 4.4 Automate Comparative Metagenomics Analysis using Biopython\n",
    "Automation can streamline comparative metagenomics analysis, making it more efficient.\n",
    "\n",
    "**Script for Automation:**"
   ]
  },
  {
   "cell_type": "code",
   "execution_count": null,
   "id": "676fe175",
   "metadata": {},
   "outputs": [],
   "source": [
    "from Bio.Blast import NCBIWWW, NCBIXML\n",
    "\n",
    "# Function to run BLAST and parse results\n",
    "def run_blast(query_file, db_file, output_file):\n",
    "    result_handle = NCBIWWW.qblast(\"blastn\", db_file, query_file)\n",
    "    with open(output_file, \"w\") as out_handle:\n",
    "        out_handle.write(result_handle.read())\n",
    "    result_handle.close()\n",
    "\n",
    "# Run the BLAST\n",
    "run_blast(\"query_seq.fasta\", \"seq_database\", \"blast_results.xml\")\n",
    "\n",
    "# Parse the BLAST results\n",
    "with open(\"blast_results.xml\") as result_handle:\n",
    "    blast_records = NCBIXML.parse(result_handle)\n",
    "    for blast_record in blast_records:\n",
    "        for alignment in blast_record.alignments:\n",
    "            for hsp in alignment.hsps:\n",
    "                print(f\"****Alignment****\")\n",
    "                print(f\"sequence: {alignment.title}\")\n",
    "                print(f\"length: {alignment.length}\")\n",
    "                print(f\"e value: {hsp.expect}\")\n",
    "                print(f\"{hsp.query[0:75]}...\")\n",
    "                print(f\"{hsp.match[0:75]}...\")\n",
    "                print(f\"{hsp.sbjct[0:75]}...\")\n"
   ]
  },
  {
   "cell_type": "markdown",
   "id": "5a24b0cd",
   "metadata": {},
   "source": [
    "<div style=\"padding: 10px; border: 1px solid #b3e5fc; border-radius: 5px; background-color: #e1f5fe;\">\n",
    "    <strong>Tip:</strong>💡Automating BLAST processes is especially useful when working with large datasets.\n",
    "</div>"
   ]
  },
  {
   "cell_type": "markdown",
   "id": "483c1ae9",
   "metadata": {},
   "source": [
    "## 4.5 Discuss Insights from Ancestral State Reconstruction\n",
    "\n",
    "### Overview\n",
    "Ancestral state reconstruction provides insights into:\n",
    "1. **Evolutionary Dynamics:** Tracks how traits or genes evolved over time.\n",
    "2. **Diversity:** Highlights diversity within and between metagenomic samples.\n",
    "3. **Evolutionary Pressures:** Identifies selective pressures shaping genetic traits."
   ]
  },
  {
   "cell_type": "markdown",
   "id": "37095529",
   "metadata": {},
   "source": [
    "<div style=\"padding: 10px; border: 1px solid #b3e5fc; border-radius: 5px; background-color: #e1f5fe;\">\n",
    "    <strong>Note:</strong> 📝  Use tools like BEAST to infer ancestral states and reconstruct evolutionary pathways.\n",
    "</div>"
   ]
  },
  {
   "cell_type": "markdown",
   "id": "f8396fa3",
   "metadata": {},
   "source": [
    "## 4.6 Utilize Bayesian Inference Methods with BEAST for Ancestral State Reconstruction\n",
    "\n",
    "### Overview\n",
    "Bayesian inference methods allow for probabilistic reconstruction of ancestral states. BEAST is a powerful tool for this purpose."
   ]
  },
  {
   "cell_type": "markdown",
   "id": "3ed93b25",
   "metadata": {},
   "source": [
    "#### 2. Run BEAUti for Configuration:\n",
    "\n",
    "1. Find BEAUti’s path:"
   ]
  },
  {
   "cell_type": "code",
   "execution_count": null,
   "id": "f2a365b6-8aea-4a26-9ea0-3a04c21d589c",
   "metadata": {},
   "outputs": [],
   "source": [
    "!find $CONDA_PREFIX -name \"beauti\""
   ]
  },
  {
   "cell_type": "markdown",
   "id": "5edb3dea",
   "metadata": {},
   "source": [
    "2. Open BEAUti:\n",
    "- /path/to/bin/beauti\n",
    "3. Import your aligned_sequences.fasta file in BEAUti.\n",
    "4. Configure parameters and save as seq_config.xml."
   ]
  },
  {
   "cell_type": "markdown",
   "id": "65701269",
   "metadata": {},
   "source": [
    "#### 3. Run BEAST: Run the analysis with the saved configuration file:"
   ]
  },
  {
   "cell_type": "code",
   "execution_count": null,
   "id": "24977dba-c254-4e29-bff1-3346275accbc",
   "metadata": {},
   "outputs": [],
   "source": [
    "!beast seq_config.xml"
   ]
  },
  {
   "cell_type": "markdown",
   "id": "49620894",
   "metadata": {},
   "source": [
    "<div style=\"padding: 10px; border: 1px solid #ffccbc; border-radius: 5px; background-color: #ffebee;\">\n",
    "    <strong>Alert:</strong>⚠️ BEAST is computationally intensive, so ensure sufficient resources are allocated.\n",
    "</div>"
   ]
  },
  {
   "cell_type": "markdown",
   "id": "fd09389b",
   "metadata": {},
   "source": [
    "## Interactive Quiz\n",
    "\n",
    "Test your understanding of phylogenetic analysis and ancestral state reconstruction:"
   ]
  },
  {
   "cell_type": "code",
   "execution_count": null,
   "id": "68f06d02",
   "metadata": {},
   "outputs": [],
   "source": [
    "from jupyterquiz import display_quiz\n",
    "display_quiz('Quiz/QS4.json')"
   ]
  },
  {
   "cell_type": "markdown",
   "id": "3647676b",
   "metadata": {},
   "source": [
    "## Installations\n",
    "\n",
    "#### Install IQ-TREE"
   ]
  },
  {
   "cell_type": "code",
   "execution_count": null,
   "id": "fe2e1c35",
   "metadata": {},
   "outputs": [],
   "source": [
    "!conda install -c bioconda iqtree -y"
   ]
  },
  {
   "cell_type": "code",
   "execution_count": null,
   "id": "7eccfb27",
   "metadata": {},
   "outputs": [],
   "source": [
    "!find $CONDA_PREFIX -name \"iqtree\""
   ]
  },
  {
   "cell_type": "markdown",
   "id": "9f2d1a43",
   "metadata": {},
   "source": [
    "#### Install BLAST"
   ]
  },
  {
   "cell_type": "code",
   "execution_count": null,
   "id": "a65d8f61-5d36-4c44-9f72-35a26dbbffbf",
   "metadata": {},
   "outputs": [],
   "source": [
    "!conda install -c bioconda blast -y"
   ]
  },
  {
   "cell_type": "markdown",
   "id": "727c26ef",
   "metadata": {},
   "source": [
    "#### Install BEAST"
   ]
  },
  {
   "cell_type": "code",
   "execution_count": null,
   "id": "09234a06-ef52-4302-b7c9-4182904a9848",
   "metadata": {},
   "outputs": [],
   "source": [
    "!conda install -c bioconda beast -y"
   ]
  },
  {
   "cell_type": "code",
   "execution_count": null,
   "id": "c6d6ab33",
   "metadata": {},
   "outputs": [],
   "source": []
  }
 ],
 "metadata": {
  "kernelspec": {
   "display_name": "conda_python3",
   "language": "python",
   "name": "conda_python3"
  },
  "language_info": {
   "codemirror_mode": {
    "name": "ipython",
    "version": 3
   },
   "file_extension": ".py",
   "mimetype": "text/x-python",
   "name": "python",
   "nbconvert_exporter": "python",
   "pygments_lexer": "ipython3",
   "version": "3.10.14"
  }
 },
 "nbformat": 4,
 "nbformat_minor": 5
}
