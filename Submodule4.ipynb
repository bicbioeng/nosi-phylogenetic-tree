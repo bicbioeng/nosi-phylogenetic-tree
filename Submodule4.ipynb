{
 "cells": [
  {
   "cell_type": "markdown",
   "id": "85ebd615-af35-4577-b1d0-30cbbb8611cb",
   "metadata": {},
   "source": [
    "# Submodule 4: Analyze Phylogenetic Tree"
   ]
  },
  {
   "cell_type": "markdown",
   "id": "294a756b",
   "metadata": {},
   "source": [
    "# Learning Objectives:\n",
    "In submodule 4 we will be anlyzing phylogenetic trees constructed in previous submodule (submodule 3) that includes following steps:\n",
    "- Comparative metagenomics from the tree\n",
    "- Ancestral tree reconstruction"
   ]
  },
  {
   "cell_type": "markdown",
   "id": "13dd7a66",
   "metadata": {},
   "source": [
    "----------------------------------------------------------------------------------------------------------------\n",
    "# Training Plan \n"
   ]
  },
  {
   "cell_type": "markdown",
   "id": "d4adb8bc",
   "metadata": {},
   "source": [
    "Submodule #1: Understanding the Basics of Phylogenetic\n",
    "\n",
    "Submodule #2: Collect and Prepare Sequence Data and Analysis\n",
    "\n",
    "Submodule #3: Construct Phylogenetic Tree\n",
    "\n",
    " \n",
    "<font color=\"green\"> **Submodule #4: Analyze Phylogenetic Tree** </font>"
   ]
  },
  {
   "cell_type": "markdown",
   "id": "45bb5329",
   "metadata": {},
   "source": [
    "### 4.1 Interpret and Visually Represent Phylogenetic Trees:\n",
    "\n",
    "#### Overview:\n",
    "Visualizing phylogenetic trees helps interpret and present evolutionary relationships. This step uses IQ-TREE as the primary tool, with iTOL as an alternative option for tree visualization.\n",
    "\n",
    "#### Visualization Tools:\n",
    "* **IQ-TREE:** A comprehensive tool for both phylogenetic analysis and tree visualization.\n",
    "\n",
    "    + Installation:"
   ]
  },
  {
   "cell_type": "code",
   "execution_count": null,
   "id": "fe2e1c35",
   "metadata": {},
   "outputs": [],
   "source": [
    "!conda install -c bioconda iqtree -y"
   ]
  },
  {
   "cell_type": "code",
   "execution_count": null,
   "id": "7eccfb27",
   "metadata": {},
   "outputs": [],
   "source": [
    "!find $CONDA_PREFIX -name \"iqtree\""
   ]
  },
  {
   "cell_type": "markdown",
   "id": "5b14e7a9",
   "metadata": {},
   "source": [
    "+ **Run IQ-TREE:**"
   ]
  },
  {
   "cell_type": "code",
   "execution_count": null,
   "id": "c4973f17",
   "metadata": {},
   "outputs": [],
   "source": [
    "import subprocess\n",
    "\n",
    "subprocess.run([\"iqtree\", \"-s\", \"aligned_subset_augur.fasta\", \"-m\", \"TEST\", \"-bb\", \"1000\", \"-alrt\", \"1000\", \"-nt\", \"AUTO\"])"
   ]
  },
  {
   "cell_type": "markdown",
   "id": "5244c7da",
   "metadata": {},
   "source": [
    "+ **Visualize with IQ-TREE:**"
   ]
  },
  {
   "cell_type": "code",
   "execution_count": null,
   "id": "7d917b74",
   "metadata": {},
   "outputs": [],
   "source": [
    "from Bio import Phylo\n",
    "import matplotlib.pyplot as plt\n",
    "\n",
    "tree = Phylo.read(\"data/cov/seq_output_subset.nwk\", \"newick\")\n",
    "\n",
    "Phylo.draw(tree)\n",
    "plt.show()"
   ]
  },
  {
   "cell_type": "markdown",
   "id": "24b38597",
   "metadata": {},
   "source": [
    "* **iTOL (Interactive Tree of Life):** An online tool for additional customization options.\n",
    "\n",
    "    + **Usage:**\n",
    "       1. Visit iTOL:\n",
    "           - https://itol.embl.de/upload.cgi\n",
    "       2. Upload your seq_output.nwk file.\n",
    "       3. Customize and view the tree as desired."
   ]
  },
  {
   "cell_type": "markdown",
   "id": "469de38f-281a-4d77-9ea5-d95288f38b9c",
   "metadata": {},
   "source": [
    "### 4.2 Importance of Visual Representation\n",
    "**Visual representation of phylogenetic trees aids in:**\n",
    "- **Interpreting Results:** Makes it easier to understand evolutionary relationships.\n",
    "- **Communication:** Helps in conveying findings to a broader audience, including those who may not be specialists in phylogenetics.\n",
    "- **Highlighting Key Features:** Emphasizes important evolutionary events and patterns."
   ]
  },
  {
   "cell_type": "markdown",
   "id": "3df7d60e-fcdc-42ec-9d68-20960c760601",
   "metadata": {},
   "source": [
    "### 4.3 Conduct Comparative Metagenomics along Different Branches\n",
    "Comparative metagenomics involves comparing the genetic content of different samples to uncover variations.\n",
    "\n",
    "#### Steps for Comparative Metagenomics:\n",
    "\n",
    "1. Installing BLAST:\n",
    "    - Install BLAST using conda:"
   ]
  },
  {
   "cell_type": "code",
   "execution_count": null,
   "id": "a65d8f61-5d36-4c44-9f72-35a26dbbffbf",
   "metadata": {},
   "outputs": [],
   "source": [
    "!conda install -c bioconda blast -y"
   ]
  },
  {
   "cell_type": "code",
   "execution_count": null,
   "id": "1cae71c7",
   "metadata": {},
   "outputs": [],
   "source": [
    "!conda update -n base -c conda-forge conda"
   ]
  },
  {
   "cell_type": "markdown",
   "id": "74fd99bc-a27b-44c6-9064-9864a646427c",
   "metadata": {},
   "source": [
    "2. Creating a BLAST Database:\n",
    "- Create a BLAST database from your sequence file:"
   ]
  },
  {
   "cell_type": "code",
   "execution_count": null,
   "id": "81fe847a-1eb4-4c8b-aafa-27b42148113a",
   "metadata": {},
   "outputs": [],
   "source": [
    "%pwd"
   ]
  },
  {
   "cell_type": "markdown",
   "id": "f042f297",
   "metadata": {},
   "source": [
    "* Navigate to your data directory"
   ]
  },
  {
   "cell_type": "code",
   "execution_count": null,
   "id": "7f8a5d69-fecc-45cb-9fea-c03387861946",
   "metadata": {},
   "outputs": [],
   "source": [
    "%cd data/cov/"
   ]
  },
  {
   "cell_type": "code",
   "execution_count": null,
   "id": "c0edac21-80b0-4988-9259-6aecdcefeaff",
   "metadata": {},
   "outputs": [],
   "source": [
    "%pwd"
   ]
  },
  {
   "cell_type": "markdown",
   "id": "d943dbf7",
   "metadata": {},
   "source": [
    "* Create the database:"
   ]
  },
  {
   "cell_type": "code",
   "execution_count": null,
   "id": "9e0d5271-4f24-411a-853c-f445fc806df6",
   "metadata": {},
   "outputs": [],
   "source": [
    "!makeblastdb -in sequences_subset.fasta -dbtype nucl -out seq_database"
   ]
  },
  {
   "cell_type": "markdown",
   "id": "a010cc87-67f8-4e54-a03c-9291a3a777e4",
   "metadata": {},
   "source": [
    "3. **Run BLAST:**\n",
    "    - Create a new file query_seq.fasta with the sequences you want to compare.\n",
    "    - Run BLAST to compare your query sequences against the database:\n",
    "    - The results will be saved in seq_results.txt."
   ]
  },
  {
   "cell_type": "code",
   "execution_count": null,
   "id": "4295d166-017a-4447-b3e2-2f4032fa5881",
   "metadata": {},
   "outputs": [],
   "source": [
    "!blastn -query query_seq.fasta -db seq_database -out seq_results.txt -outfmt 6"
   ]
  },
  {
   "cell_type": "markdown",
   "id": "764430e1-9dc0-475c-8ce5-0ee15e4bd41e",
   "metadata": {},
   "source": [
    "### 4.4 Automate Comparative Metagenomics Analysis using Biopython\n",
    "Automation can streamline comparative metagenomics analysis, making it more efficient.\n",
    "\n",
    "**Script for Automation:**"
   ]
  },
  {
   "cell_type": "code",
   "execution_count": null,
   "id": "6d2c32c5-3992-4615-aaba-cfe7cf6a3f30",
   "metadata": {},
   "outputs": [],
   "source": [
    "!pip install biopython"
   ]
  },
  {
   "cell_type": "code",
   "execution_count": null,
   "id": "5df1dd5e-e9d7-486c-8808-c95ed3482324",
   "metadata": {},
   "outputs": [],
   "source": [
    "from Bio.Blast import NCBIWWW, NCBIXML\n",
    "\n",
    "# Function to run BLAST and parse results\n",
    "def run_blast(query_file, db_file, output_file):\n",
    "    result_handle = NCBIWWW.qblast(\"blastn\", db_file, query_file)\n",
    "    with open(output_file, \"w\") as out_handle:\n",
    "        out_handle.write(result_handle.read())\n",
    "    result_handle.close()\n",
    "\n",
    "# Run the BLAST\n",
    "run_blast(\"query_seq.fasta\", \"seq_database\", \"blast_results.xml\")\n",
    "\n",
    "# Parse the BLAST results\n",
    "with open(\"blast_results.xml\") as result_handle:\n",
    "    blast_records = NCBIXML.parse(result_handle)\n",
    "    for blast_record in blast_records:\n",
    "        for alignment in blast_record.alignments:\n",
    "            for hsp in alignment.hsps:\n",
    "                print(f\"****Alignment****\")\n",
    "                print(f\"sequence: {alignment.title}\")\n",
    "                print(f\"length: {alignment.length}\")\n",
    "                print(f\"e value: {hsp.expect}\")\n",
    "                print(f\"{hsp.query[0:75]}...\")\n",
    "                print(f\"{hsp.match[0:75]}...\")\n",
    "                print(f\"{hsp.sbjct[0:75]}...\")\n"
   ]
  },
  {
   "cell_type": "markdown",
   "id": "3770e27c-46ce-45f5-8cd8-495add5b3f8c",
   "metadata": {},
   "source": [
    "### 4.5 Discuss Insights from Ancestral State Reconstruction\n",
    "Ancestral state reconstruction provides insights into:\n",
    "- Evolutionary Dynamics: Understanding how certain traits or genetic sequences have evolved over time.\n",
    "- Diversity: Gaining a deeper understanding of the diversity within and between metagenomic samples.\n",
    "- Evolutionary Pressures: Identifying the evolutionary pressures that have shaped the genetic makeup of organisms.\n"
   ]
  },
  {
   "cell_type": "markdown",
   "id": "9713bce5-ec26-478e-a8bb-894314fe375b",
   "metadata": {},
   "source": [
    "### 4.6 Utilize Bayesian Inference Methods with BEAST for Ancestral State Reconstruction\n",
    "Bayesian inference methods are powerful for reconstructing ancestral states and understanding evolutionary dynamics.\n",
    "\n",
    "**Using BEAST for Ancestral State Reconstruction:**\n",
    "\n",
    "1.\tInstalling BEAST:\n",
    "- Install BEAST using conda:"
   ]
  },
  {
   "cell_type": "code",
   "execution_count": null,
   "id": "09234a06-ef52-4302-b7c9-4182904a9848",
   "metadata": {},
   "outputs": [],
   "source": [
    "!conda install -c bioconda beast -y"
   ]
  },
  {
   "cell_type": "markdown",
   "id": "affa4368-e592-4ca7-88c9-82f70bd114a6",
   "metadata": {},
   "source": [
    "- You can check the installation and available options with:"
   ]
  },
  {
   "cell_type": "code",
   "execution_count": null,
   "id": "23d95ad7-006b-4469-be7e-c7b4afbae328",
   "metadata": {},
   "outputs": [],
   "source": [
    "!beast -beagle_info"
   ]
  },
  {
   "cell_type": "markdown",
   "id": "d3d49f5e-07aa-47d6-861b-67e42b33af9d",
   "metadata": {},
   "source": [
    "2.\tLaunching BEAUti:\n",
    "- Find the path to the BEAUti software:"
   ]
  },
  {
   "cell_type": "code",
   "execution_count": null,
   "id": "f2a365b6-8aea-4a26-9ea0-3a04c21d589c",
   "metadata": {},
   "outputs": [],
   "source": [
    "!find $CONDA_PREFIX -name \"beauti\""
   ]
  },
  {
   "cell_type": "markdown",
   "id": "a4a24b00-b824-46e2-85da-00c92169fc97",
   "metadata": {},
   "source": [
    "- Open BEAUti by running the found path in your command line.\n",
    "    - Example:\n",
    "        - /path/to/bin/beauti"
   ]
  },
  {
   "cell_type": "markdown",
   "id": "3ec7ade2-cc59-40ea-b3bc-dba5e1475370",
   "metadata": {},
   "source": [
    "3.\tUsing BEAUti:\n",
    "- In BEAUti, go to File > Import and load your aligned_sequences.fasta.\n",
    "- Set up the parameters for your analysis and generate the BEAST XML file.\n",
    "- Save the configuration as seq_config.xml.\n",
    "4.\tRunning BEAST:\n",
    "- Run BEAST with the configuration file:\n"
   ]
  },
  {
   "cell_type": "code",
   "execution_count": null,
   "id": "24977dba-c254-4e29-bff1-3346275accbc",
   "metadata": {},
   "outputs": [],
   "source": [
    "!beast seq_config.xml"
   ]
  },
  {
   "cell_type": "markdown",
   "id": "5dddb00e",
   "metadata": {},
   "source": [
    "## Quiz\n",
    "1. What is the primary purpose of using visualization tools in phylogenetic tree analysis?\n",
    "\n",
    "+ A) To improve data storage\n",
    "+ B) To enable interactive editing of the sequences\n",
    "+ C) To interpret and communicate evolutionary relationships\n",
    "+ D) To run genetic sequence alignments\n",
    "<!-- Answer: C) To interpret and communicate evolutionary relationships -->\n",
    "\n",
    "2. Which tool is recommended as the main software for phylogenetic tree visualization in this submodule?\n",
    "\n",
    "+ A) iTOL\n",
    "+ B) IQ-TREE\n",
    "+ C) BLAST\n",
    "+ D) BEAST\n",
    "<!-- Answer: B) IQ-TREE -->\n",
    "\n",
    "3. What is the purpose of comparative metagenomics in the context of phylogenetic analysis?\n",
    "\n",
    "+ A) To visualize the phylogenetic tree\n",
    "+ B) To compare the genetic content across different branches of the tree\n",
    "+ C) To align sequences from different species\n",
    "+ D) To build a BLAST database for ancestral traits\n",
    "<!-- Answer: B) To compare the genetic content across different branches of the tree -->\n",
    "\n",
    "4. Which software is used in this submodule to perform ancestral state reconstruction?\n",
    "\n",
    "+ A) Biopython\n",
    "+ B) iTOL\n",
    "+ C) IQ-TREE\n",
    "+ D) BEAST\n",
    "<!-- Answer: D) BEAST -->\n",
    "\n",
    "5. What is a key benefit of automating comparative metagenomics analysis with Biopython?\n",
    "\n",
    "+ A) It improves the visualization of phylogenetic trees\n",
    "+ B) It simplifies and accelerates the analysis process\n",
    "+ C) It generates a more accurate phylogenetic tree\n",
    "+ D) It identifies the evolutionary pressures affecting a species\n",
    "<!-- Answer: B) It simplifies and accelerates the analysis process -->\n",
    "\n"
   ]
  },
  {
   "cell_type": "code",
   "execution_count": null,
   "id": "68f06d02",
   "metadata": {},
   "outputs": [],
   "source": []
  }
 ],
 "metadata": {
  "kernelspec": {
   "display_name": "conda_python3",
   "language": "python",
   "name": "conda_python3"
  },
  "language_info": {
   "codemirror_mode": {
    "name": "ipython",
    "version": 3
   },
   "file_extension": ".py",
   "mimetype": "text/x-python",
   "name": "python",
   "nbconvert_exporter": "python",
   "pygments_lexer": "ipython3",
   "version": "3.10.14"
  }
 },
 "nbformat": 4,
 "nbformat_minor": 5
}
