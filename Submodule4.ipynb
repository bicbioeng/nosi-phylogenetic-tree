{
 "cells": [
  {
   "cell_type": "markdown",
   "id": "85ebd615-af35-4577-b1d0-30cbbb8611cb",
   "metadata": {},
   "source": [
    "# Submodule 4\n",
    "## Analyze Phylogenetic Tree\n",
    "### 4.1 Interpret and Visually Represent Phylogenetic Trees:\n",
    "\n",
    "Visualization tools are essential for interpreting and presenting phylogenetic trees.\n",
    "\n",
    "**Tools for Tree Visualization:**\n",
    "\n",
    "iTOL (Interactive Tree of Life): An online tool for the display and annotation of phylogenetic trees.\n",
    "- Upload the seq_output.nwk file: iTOL Up: https://itol.embl.de/upload.cgi\n",
    "- Visualize and customize your phylogenetic tree as needed.\r\n"
   ]
  },
  {
   "cell_type": "markdown",
   "id": "469de38f-281a-4d77-9ea5-d95288f38b9c",
   "metadata": {},
   "source": [
    "### 4.2 Importance of Visual Representation\n",
    "**Visual representation of phylogenetic trees aids in:**\n",
    "- Interpreting Results: Makes it easier to understand evolutionary relationships.\n",
    "- Communication: Helps in conveying findings to a broader audience, including those who may not be specialists in phylogenetics.\n",
    "- Highlighting Key Features: Emphasizes important evolutionary events and patterns."
   ]
  },
  {
   "cell_type": "markdown",
   "id": "3df7d60e-fcdc-42ec-9d68-20960c760601",
   "metadata": {},
   "source": [
    "### 4.3 Conduct Comparative Metagenomics along Different Branches\r\n",
    "Comparative metagenomics involves comparing the genetic content of different samples to uncover variations.\r\n",
    "Steps for Comparative Metagenomics:\r\n",
    "\n",
    "1.\tInstalling BLAST:\n",
    " - Install BLAST using conda:"
   ]
  },
  {
   "cell_type": "code",
   "execution_count": null,
   "id": "a65d8f61-5d36-4c44-9f72-35a26dbbffbf",
   "metadata": {},
   "outputs": [],
   "source": [
    "!conda install -c bioconda blast"
   ]
  },
  {
   "cell_type": "markdown",
   "id": "74fd99bc-a27b-44c6-9064-9864a646427c",
   "metadata": {},
   "source": [
    "2. Creating a BLAST Database:\n",
    "- Create a BLAST database from your sequence file:"
   ]
  },
  {
   "cell_type": "code",
   "execution_count": null,
   "id": "9e0d5271-4f24-411a-853c-f445fc806df6",
   "metadata": {},
   "outputs": [],
   "source": [
    "!makeblastdb -in sequences.fasta -dbtype nucl –out seq_database"
   ]
  },
  {
   "cell_type": "markdown",
   "id": "a010cc87-67f8-4e54-a03c-9291a3a777e4",
   "metadata": {},
   "source": [
    "3. Running BLAST:\n",
    "- Create a new file query_sequences.fasta with the sequences you want to compare.\n",
    "- Run BLAST to compare your query sequences against the database:\n",
    "- The results will be saved in seq_results.txt."
   ]
  },
  {
   "cell_type": "code",
   "execution_count": null,
   "id": "4295d166-017a-4447-b3e2-2f4032fa5881",
   "metadata": {},
   "outputs": [],
   "source": [
    "!blastn -query query_sequences.fasta -db seq_database -out seq_results.txt -outfmt 6"
   ]
  },
  {
   "cell_type": "markdown",
   "id": "764430e1-9dc0-475c-8ce5-0ee15e4bd41e",
   "metadata": {},
   "source": [
    "### 4.4 Automate Comparative Metagenomics Analysis using Biopython\n",
    "Automation can streamline comparative metagenomics analysis, making it more efficient.\n",
    "\n",
    "**Script for Automation:**"
   ]
  },
  {
   "cell_type": "code",
   "execution_count": 2,
   "id": "6d2c32c5-3992-4615-aaba-cfe7cf6a3f30",
   "metadata": {},
   "outputs": [
    {
     "name": "stdout",
     "output_type": "stream",
     "text": [
      "Collecting biopython\n",
      "  Downloading biopython-1.84-cp39-cp39-manylinux_2_17_x86_64.manylinux2014_x86_64.whl.metadata (12 kB)\n",
      "Collecting numpy (from biopython)\n",
      "  Downloading numpy-2.0.1-cp39-cp39-manylinux_2_17_x86_64.manylinux2014_x86_64.whl.metadata (60 kB)\n",
      "\u001b[2K     \u001b[90m━━━━━━━━━━━━━━━━━━━━━━━━━━━━━━━━━━━━━━━\u001b[0m \u001b[32m60.9/60.9 kB\u001b[0m \u001b[31m741.9 kB/s\u001b[0m eta \u001b[36m0:00:00\u001b[0ma \u001b[36m0:00:01\u001b[0m\n",
      "\u001b[?25hDownloading biopython-1.84-cp39-cp39-manylinux_2_17_x86_64.manylinux2014_x86_64.whl (3.2 MB)\n",
      "\u001b[2K   \u001b[90m━━━━━━━━━━━━━━━━━━━━━━━━━━━━━━━━━━━━━━━━\u001b[0m \u001b[32m3.2/3.2 MB\u001b[0m \u001b[31m10.0 MB/s\u001b[0m eta \u001b[36m0:00:00\u001b[0m00:01\u001b[0m00:01\u001b[0m\n",
      "\u001b[?25hDownloading numpy-2.0.1-cp39-cp39-manylinux_2_17_x86_64.manylinux2014_x86_64.whl (19.5 MB)\n",
      "\u001b[2K   \u001b[90m━━━━━━━━━━━━━━━━━━━━━━━━━━━━━━━━━━━━━━━━\u001b[0m \u001b[32m19.5/19.5 MB\u001b[0m \u001b[31m22.2 MB/s\u001b[0m eta \u001b[36m0:00:00\u001b[0m00:01\u001b[0m00:01\u001b[0m\n",
      "\u001b[?25hInstalling collected packages: numpy, biopython\n",
      "Successfully installed biopython-1.84 numpy-2.0.1\n"
     ]
    }
   ],
   "source": [
    "!pip install biopython"
   ]
  },
  {
   "cell_type": "code",
   "execution_count": 3,
   "id": "5df1dd5e-e9d7-486c-8808-c95ed3482324",
   "metadata": {},
   "outputs": [],
   "source": [
    "from Bio.Blast import NCBIWWW, NCBIXML\n",
    "\n",
    "# Function to run BLAST and parse results\n",
    "def run_blast(query_file, db_file, output_file):\n",
    "    result_handle = NCBIWWW.qblast(\"blastn\", db_file, query_file)\n",
    "    with open(output_file, \"w\") as out_handle:\n",
    "        out_handle.write(result_handle.read())\n",
    "    result_handle.close()\n",
    "\n",
    "# Run the BLAST\n",
    "run_blast(\"data/cov/query_sequences.fasta\", \"data/cov/seq_database\", \"blast_results.xml\")\n",
    "\n",
    "# Parse the BLAST results\n",
    "with open(\"blast_results.xml\") as result_handle:\n",
    "    blast_records = NCBIXML.parse(result_handle)\n",
    "    for blast_record in blast_records:\n",
    "        for alignment in blast_record.alignments:\n",
    "            for hsp in alignment.hsps:\n",
    "                print(f\"****Alignment****\")\n",
    "                print(f\"sequence: {alignment.title}\")\n",
    "                print(f\"length: {alignment.length}\")\n",
    "                print(f\"e value: {hsp.expect}\")\n",
    "                print(f\"{hsp.query[0:75]}...\")\n",
    "                print(f\"{hsp.match[0:75]}...\")\n",
    "                print(f\"{hsp.sbjct[0:75]}...\")\n"
   ]
  },
  {
   "cell_type": "markdown",
   "id": "3770e27c-46ce-45f5-8cd8-495add5b3f8c",
   "metadata": {},
   "source": [
    "### 4.5 Discuss Insights from Ancestral State Reconstruction\n",
    "Ancestral state reconstruction provides insights into:\n",
    "- Evolutionary Dynamics: Understanding how certain traits or genetic sequences have evolved over time.\n",
    "- Diversity: Gaining a deeper understanding of the diversity within and between metagenomic samples.\n",
    "- Evolutionary Pressures: Identifying the evolutionary pressures that have shaped the genetic makeup of organisms.\n"
   ]
  },
  {
   "cell_type": "markdown",
   "id": "9713bce5-ec26-478e-a8bb-894314fe375b",
   "metadata": {},
   "source": [
    "### 4.6 Utilize Bayesian Inference Methods with BEAST for Ancestral State Reconstruction\n",
    "Bayesian inference methods are powerful for reconstructing ancestral states and understanding evolutionary dynamics.\n",
    "\n",
    "**Using BEAST for Ancestral State Reconstruction:**\n",
    "\n",
    "1.\tInstalling BEAST:\n",
    "- Install BEAST using conda:"
   ]
  },
  {
   "cell_type": "code",
   "execution_count": null,
   "id": "09234a06-ef52-4302-b7c9-4182904a9848",
   "metadata": {},
   "outputs": [],
   "source": [
    "!conda install -c bioconda beast"
   ]
  },
  {
   "cell_type": "markdown",
   "id": "affa4368-e592-4ca7-88c9-82f70bd114a6",
   "metadata": {},
   "source": [
    "- You can check the installation and available options with:"
   ]
  },
  {
   "cell_type": "code",
   "execution_count": 2,
   "id": "23d95ad7-006b-4469-be7e-c7b4afbae328",
   "metadata": {},
   "outputs": [
    {
     "name": "stdout",
     "output_type": "stream",
     "text": [
      "\n",
      "        BEAST v1.10.4 Prerelease #bc6cbd9, 2002-2018\n",
      "       Bayesian Evolutionary Analysis Sampling Trees\n",
      "                 Designed and developed by\n",
      "   Alexei J. Drummond, Andrew Rambaut and Marc A. Suchard\n",
      "                              \n",
      "               Department of Computer Science\n",
      "                   University of Auckland\n",
      "                  alexei@cs.auckland.ac.nz\n",
      "                              \n",
      "             Institute of Evolutionary Biology\n",
      "                  University of Edinburgh\n",
      "                     a.rambaut@ed.ac.uk\n",
      "                              \n",
      "              David Geffen School of Medicine\n",
      "           University of California, Los Angeles\n",
      "                     msuchard@ucla.edu\n",
      "                              \n",
      "                Downloads, Help & Resources:\n",
      "                  \thttp://beast.community\n",
      "                              \n",
      "Source code distributed under the GNU Lesser General Public License:\n",
      "          \thttp://github.com/beast-dev/beast-mcmc\n",
      "                              \n",
      "                     BEAST developers:\n",
      "\tAlex Alekseyenko, Guy Baele, Trevor Bedford, Filip Bielejec, Erik Bloomquist, Matthew Hall,\n",
      "\tJoseph Heled, Sebastian Hoehna, Denise Kuehnert, Philippe Lemey, Wai Lok Sibon Li,\n",
      "\tGerton Lunter, Sidney Markowitz, Vladimir Minin, Michael Defoin Platel,\n",
      "          \tOliver Pybus, Chieh-Hsi Wu, Walter Xie\n",
      "                              \n",
      "                         Thanks to:\n",
      "    \tRoald Forsberg, Beth Shapiro and Korbinian Strimmer\n",
      "\n",
      "Using BEAGLE library v4.0.1 (PRE-RELEASE) for accelerated, parallel likelihood evaluation\n",
      "2009-, BEAGLE Working Group - https://beagle-dev.github.io/\n",
      "Citation: Ayres et al (2019) Systematic Biology 68: 1052-1061 | doi:10.1093/sysbio/syz020\n",
      "\n",
      "\n",
      "BEAGLE resources available:\n",
      "0 : CPU (x86_64)\n",
      "    Flags: PRECISION_SINGLE PRECISION_DOUBLE COMPUTATION_SYNCH EIGEN_REAL EIGEN_COMPLEX SCALING_MANUAL SCALING_AUTO SCALING_ALWAYS SCALERS_RAW SCALERS_LOG VECTOR_SSE VECTOR_NONE THREADING_CPP THREADING_NONE PROCESSOR_CPU FRAMEWORK_CPU\n",
      "\n",
      "\n"
     ]
    }
   ],
   "source": [
    "!beast -beagle_info"
   ]
  },
  {
   "cell_type": "markdown",
   "id": "d3d49f5e-07aa-47d6-861b-67e42b33af9d",
   "metadata": {},
   "source": [
    "2.\tLaunching BEAUti:\n",
    "- Find the path to the BEAUti software:"
   ]
  },
  {
   "cell_type": "code",
   "execution_count": 5,
   "id": "f2a365b6-8aea-4a26-9ea0-3a04c21d589c",
   "metadata": {},
   "outputs": [
    {
     "name": "stdout",
     "output_type": "stream",
     "text": [
      "/home/anushuyabaidya/anaconda3/envs/phylo/bin/beauti\n"
     ]
    }
   ],
   "source": [
    "!find $CONDA_PREFIX -name \"beauti\""
   ]
  },
  {
   "cell_type": "markdown",
   "id": "a4a24b00-b824-46e2-85da-00c92169fc97",
   "metadata": {},
   "source": [
    "- Open BEAUti by running the found path in your command line.\n",
    "    - Example:\n",
    "        - /path/to/bin/beauti"
   ]
  },
  {
   "cell_type": "markdown",
   "id": "3ec7ade2-cc59-40ea-b3bc-dba5e1475370",
   "metadata": {},
   "source": [
    "3.\tUsing BEAUti:\n",
    "- In BEAUti, go to File > Import and load your aligned_sequences.fasta.\n",
    "- Set up the parameters for your analysis and generate the BEAST XML file.\n",
    "- Save the configuration as seq_config.xml.\n",
    "4.\tRunning BEAST:\n",
    "- Run BEAST with the configuration file:\n"
   ]
  },
  {
   "cell_type": "code",
   "execution_count": null,
   "id": "24977dba-c254-4e29-bff1-3346275accbc",
   "metadata": {},
   "outputs": [],
   "source": [
    "!beast seq_config.xml"
   ]
  },
  {
   "cell_type": "code",
   "execution_count": null,
   "id": "0b50c74f-aa49-43c3-a1b3-102753eb5ca0",
   "metadata": {},
   "outputs": [],
   "source": []
  }
 ],
 "metadata": {
  "kernelspec": {
   "display_name": "Python 3 (ipykernel)",
   "language": "python",
   "name": "python3"
  },
  "language_info": {
   "codemirror_mode": {
    "name": "ipython",
    "version": 3
   },
   "file_extension": ".py",
   "mimetype": "text/x-python",
   "name": "python",
   "nbconvert_exporter": "python",
   "pygments_lexer": "ipython3",
   "version": "3.9.19"
  }
 },
 "nbformat": 4,
 "nbformat_minor": 5
}
