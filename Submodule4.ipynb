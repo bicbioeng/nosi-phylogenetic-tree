{
 "cells": [
  {
   "cell_type": "markdown",
   "id": "d02c5deb-90ba-46b2-b3dd-f02731adfb8b",
   "metadata": {},
   "source": [
    "# Submodule 4\n",
    "## Analyze Phylogenetic Tree\n",
    "### Step 1: Tree Visualization\r\n",
    "1.\tUsing iTOL for Visualization\n",
    "   - \tGo to the iTOL website: iTOL: Interactive Tree Of L:\n",
    "    - https://itol.embl.de/upload.cgii\n",
    "   - \tUpload the seq_output.nwk fi\n",
    "   - \tVisualize and customize your phylogenetic tree as needed.\r\n"
   ]
  },
  {
   "cell_type": "markdown",
   "id": "3df7d60e-fcdc-42ec-9d68-20960c760601",
   "metadata": {},
   "source": [
    "### Step 2: Comparative Genomics\n",
    "1.\tInstalling BLAST:\n",
    " - Install BLAST using conda:"
   ]
  },
  {
   "cell_type": "code",
   "execution_count": null,
   "id": "a65d8f61-5d36-4c44-9f72-35a26dbbffbf",
   "metadata": {},
   "outputs": [],
   "source": [
    "!conda install -c bioconda blast"
   ]
  },
  {
   "cell_type": "markdown",
   "id": "74fd99bc-a27b-44c6-9064-9864a646427c",
   "metadata": {},
   "source": [
    "2. Creating a BLAST Database:\n",
    "- Create a BLAST database from your sequence file:"
   ]
  },
  {
   "cell_type": "code",
   "execution_count": null,
   "id": "9e0d5271-4f24-411a-853c-f445fc806df6",
   "metadata": {},
   "outputs": [],
   "source": [
    "!makeblastdb -in sequences.fasta -dbtype nucl –out seq_database"
   ]
  },
  {
   "cell_type": "markdown",
   "id": "a010cc87-67f8-4e54-a03c-9291a3a777e4",
   "metadata": {},
   "source": [
    "3. Running BLAST:\n",
    "- Create a new file query_sequences.fasta with the sequences you want to compare.\n",
    "- Run BLAST to compare your query sequences against the database:\n",
    "- The results will be saved in seq_results.txt."
   ]
  },
  {
   "cell_type": "code",
   "execution_count": null,
   "id": "4295d166-017a-4447-b3e2-2f4032fa5881",
   "metadata": {},
   "outputs": [],
   "source": [
    "!blastn -query query_sequences.fasta -db seq_database -out seq_results.txt -outfmt 6"
   ]
  },
  {
   "cell_type": "markdown",
   "id": "9713bce5-ec26-478e-a8bb-894314fe375b",
   "metadata": {},
   "source": [
    "### Step 3: Ancestral State Reconstruction and Phylogeography using BEAST\n",
    "1.\tInstalling BEAST:\n",
    "- Install BEAST using conda:"
   ]
  },
  {
   "cell_type": "code",
   "execution_count": null,
   "id": "09234a06-ef52-4302-b7c9-4182904a9848",
   "metadata": {},
   "outputs": [],
   "source": [
    "!conda install -c bioconda beast"
   ]
  },
  {
   "cell_type": "markdown",
   "id": "affa4368-e592-4ca7-88c9-82f70bd114a6",
   "metadata": {},
   "source": [
    "- You can check the installation and available options with:"
   ]
  },
  {
   "cell_type": "code",
   "execution_count": 2,
   "id": "23d95ad7-006b-4469-be7e-c7b4afbae328",
   "metadata": {},
   "outputs": [
    {
     "name": "stdout",
     "output_type": "stream",
     "text": [
      "\n",
      "        BEAST v1.10.4 Prerelease #bc6cbd9, 2002-2018\n",
      "       Bayesian Evolutionary Analysis Sampling Trees\n",
      "                 Designed and developed by\n",
      "   Alexei J. Drummond, Andrew Rambaut and Marc A. Suchard\n",
      "                              \n",
      "               Department of Computer Science\n",
      "                   University of Auckland\n",
      "                  alexei@cs.auckland.ac.nz\n",
      "                              \n",
      "             Institute of Evolutionary Biology\n",
      "                  University of Edinburgh\n",
      "                     a.rambaut@ed.ac.uk\n",
      "                              \n",
      "              David Geffen School of Medicine\n",
      "           University of California, Los Angeles\n",
      "                     msuchard@ucla.edu\n",
      "                              \n",
      "                Downloads, Help & Resources:\n",
      "                  \thttp://beast.community\n",
      "                              \n",
      "Source code distributed under the GNU Lesser General Public License:\n",
      "          \thttp://github.com/beast-dev/beast-mcmc\n",
      "                              \n",
      "                     BEAST developers:\n",
      "\tAlex Alekseyenko, Guy Baele, Trevor Bedford, Filip Bielejec, Erik Bloomquist, Matthew Hall,\n",
      "\tJoseph Heled, Sebastian Hoehna, Denise Kuehnert, Philippe Lemey, Wai Lok Sibon Li,\n",
      "\tGerton Lunter, Sidney Markowitz, Vladimir Minin, Michael Defoin Platel,\n",
      "          \tOliver Pybus, Chieh-Hsi Wu, Walter Xie\n",
      "                              \n",
      "                         Thanks to:\n",
      "    \tRoald Forsberg, Beth Shapiro and Korbinian Strimmer\n",
      "\n",
      "Using BEAGLE library v4.0.1 (PRE-RELEASE) for accelerated, parallel likelihood evaluation\n",
      "2009-, BEAGLE Working Group - https://beagle-dev.github.io/\n",
      "Citation: Ayres et al (2019) Systematic Biology 68: 1052-1061 | doi:10.1093/sysbio/syz020\n",
      "\n",
      "\n",
      "BEAGLE resources available:\n",
      "0 : CPU (x86_64)\n",
      "    Flags: PRECISION_SINGLE PRECISION_DOUBLE COMPUTATION_SYNCH EIGEN_REAL EIGEN_COMPLEX SCALING_MANUAL SCALING_AUTO SCALING_ALWAYS SCALERS_RAW SCALERS_LOG VECTOR_SSE VECTOR_NONE THREADING_CPP THREADING_NONE PROCESSOR_CPU FRAMEWORK_CPU\n",
      "\n",
      "\n"
     ]
    }
   ],
   "source": [
    "!beast -beagle_info"
   ]
  },
  {
   "cell_type": "markdown",
   "id": "d3d49f5e-07aa-47d6-861b-67e42b33af9d",
   "metadata": {},
   "source": [
    "2.\tLaunching BEAUti:\n",
    "- Find the path to the BEAUti software:"
   ]
  },
  {
   "cell_type": "code",
   "execution_count": 5,
   "id": "f2a365b6-8aea-4a26-9ea0-3a04c21d589c",
   "metadata": {},
   "outputs": [
    {
     "name": "stdout",
     "output_type": "stream",
     "text": [
      "/home/anushuyabaidya/anaconda3/envs/phylo/bin/beauti\n"
     ]
    }
   ],
   "source": [
    "!find $CONDA_PREFIX -name \"beauti\""
   ]
  },
  {
   "cell_type": "markdown",
   "id": "a4a24b00-b824-46e2-85da-00c92169fc97",
   "metadata": {},
   "source": [
    "- Open BEAUti by running the found path in your command line.\n",
    "    - Example:\n",
    "        - /path/to/bin/beauti"
   ]
  },
  {
   "cell_type": "markdown",
   "id": "3ec7ade2-cc59-40ea-b3bc-dba5e1475370",
   "metadata": {},
   "source": [
    "3.\tUsing BEAUti:\n",
    "- In BEAUti, go to File > Import and load your aligned_sequences.fasta.\n",
    "- Set up the parameters for your analysis and generate the BEAST XML file.\n",
    "- Save the configuration as seq_config.xml.\n",
    "4.\tRunning BEAST:\n",
    "- Run BEAST with the configuration file:\n"
   ]
  },
  {
   "cell_type": "code",
   "execution_count": null,
   "id": "24977dba-c254-4e29-bff1-3346275accbc",
   "metadata": {},
   "outputs": [],
   "source": [
    "!beast seq_config.xml"
   ]
  },
  {
   "cell_type": "code",
   "execution_count": null,
   "id": "0b50c74f-aa49-43c3-a1b3-102753eb5ca0",
   "metadata": {},
   "outputs": [],
   "source": []
  }
 ],
 "metadata": {
  "kernelspec": {
   "display_name": "Python 3 (ipykernel)",
   "language": "python",
   "name": "python3"
  },
  "language_info": {
   "codemirror_mode": {
    "name": "ipython",
    "version": 3
   },
   "file_extension": ".py",
   "mimetype": "text/x-python",
   "name": "python",
   "nbconvert_exporter": "python",
   "pygments_lexer": "ipython3",
   "version": "3.9.19"
  }
 },
 "nbformat": 4,
 "nbformat_minor": 5
}
