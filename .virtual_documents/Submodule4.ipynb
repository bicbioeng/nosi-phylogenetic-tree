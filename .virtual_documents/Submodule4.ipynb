








!conda install -c bioconda blast





!makeblastdb -in sequences.fasta -dbtype nucl –out seq_database





!blastn -query query_sequences.fasta -db seq_database -out seq_results.txt -outfmt 6





!pip install biopython


from Bio.Blast import NCBIWWW, NCBIXML

# Function to run BLAST and parse results
def run_blast(query_file, db_file, output_file):
    result_handle = NCBIWWW.qblast("blastn", db_file, query_file)
    with open(output_file, "w") as out_handle:
        out_handle.write(result_handle.read())
    result_handle.close()

# Run the BLAST
run_blast("data/cov/query_sequences.fasta", "data/cov/seq_database", "blast_results.xml")

# Parse the BLAST results
with open("blast_results.xml") as result_handle:
    blast_records = NCBIXML.parse(result_handle)
    for blast_record in blast_records:
        for alignment in blast_record.alignments:
            for hsp in alignment.hsps:
                print(f"****Alignment****")
                print(f"sequence: {alignment.title}")
                print(f"length: {alignment.length}")
                print(f"e value: {hsp.expect}")
                print(f"{hsp.query[0:75]}...")
                print(f"{hsp.match[0:75]}...")
                print(f"{hsp.sbjct[0:75]}...")









!conda install -c bioconda beast





!beast -beagle_info





!find $CONDA_PREFIX -name "beauti"








!beast seq_config.xml



