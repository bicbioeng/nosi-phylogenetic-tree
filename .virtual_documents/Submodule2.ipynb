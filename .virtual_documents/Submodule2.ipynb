














import os
data_dir = os.path.isdir('./data')
print(data_dir)
if not data_dir:
    !mkdir data











import os

# Check if the directory exists
kegg_dir = os.path.isdir('./data/kegg')
print(kegg_dir)

# If the directory does not exist, create it
if not kegg_dir:
    try:
        os.makedirs('./data/kegg/')
        print("Directory created successfully")
    except Exception as e:
        print(f"An error occurred: {e}")


!wget -o "./data/kegg/br01553.fasta" "https://firebasestorage.googleapis.com/v0/b/reactfirebase-142f5.appspot.com/o/nosi-phylogeny%2Fbr01553.fasta?alt=media&token=08d87736-6f5b-4512-94c8-16531c87aa38"








import os

# Check if the directory exists
uniport_dir = os.path.isdir('./data/uniport')
print(uniport_dir)

# If the directory does not exist, create it
if not uniport_dir:
    try:
        os.makedirs('./data/uniport/')
        print("Directory created successfully")
    except Exception as e:
        print(f"An error occurred: {e}")


!wget -o "./data/uniport/uniprot_sprot_varsplic.fasta" "https://firebasestorage.googleapis.com/v0/b/reactfirebase-142f5.appspot.com/o/uniprot_sprot_varsplic.fasta?alt=media&token=a7695fee-82a3-4100-983c-5eae5db474e9"








import os

# Check if the directory exists
cov_dir = os.path.isdir('./data/cov')
print(cov_dir)

# If the directory does not exist, create it
if not cov_dir:
    try:
        os.makedirs('./data/cov/')
        print("Directory created successfully")
    except Exception as e:
        print(f"An error occurred: {e}")


!wget -o "./data/cov/sequences.fasta" "https://firebasestorage.googleapis.com/v0/b/reactfirebase-142f5.appspot.com/o/nosi-phylogeny%2Fsequences.fasta?alt=media&token=4de7706b-0084-4846-b829-79d8ea35d327"





!pip install biopython


from Bio import SeqIO


def fasta_to_fastq(fasta_file, fastq_file, quality=40):
    with open(fastq_file, "w") as output_handle:
        for record in SeqIO.parse(fasta_file, "fasta"):
            record.letter_annotations["phred_quality"] = [quality] * len(record.seq)
            SeqIO.write(record, output_handle, "fastq")


if __name__ == '__main__':
    fasta_file = "./data/cov/sequences.fasta"
    fastq_file = "./data/cov/sequences_converted.fastq"
    fasta_to_fastq(fasta_file=fasta_file, fastq_file=fastq_file)












!wget https://www.bioinformatics.babraham.ac.uk/projects/fastqc/fastqc_v0.11.9.zip





!unzip fastqc_v0.11.9.zip





!cd FastQC


!chmod +x fastqc





!fastqc --version


### Using FastQC
You can now use FastQC to analyze your sequence data. For example:


!fastqc -t 4 uniprot_sprot_varsplic.fastq
