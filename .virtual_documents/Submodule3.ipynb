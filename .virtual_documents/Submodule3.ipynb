





import subprocess

import matplotlib.pyplot as plt
import networkx as nx
from Bio import AlignIO
from Bio.Phylo.TreeConstruction import DistanceTreeConstructor, DistanceCalculator

# Define the paths
fasta_file = "data/cov/sequences.fasta"
clustalw_exe = "C:\\Program Files (x86)\\ClustalW2\\clustalw2.exe"
seq_algn_file = "data/cov/sequences.aln"
# Run ClustalW for multiple sequence alignment using subprocess
try:
    subprocess.run([clustalw_exe, "-INFILE=" + fasta_file, "-OUTFILE=" + seq_algn_file, "-OUTPUT=FASTA"], check=True)
except subprocess.CalledProcessError as e:
    print("Error running ClustalW:", e)
    exit(1)











!git clone https://github.com/yatisht/usher.git





!conda env update -f usher/workflows/envs/usher.yaml





!conda install -c bioconda mafft fasttree





!mafft --auto sequences.fasta > aligned_sequences.fasta





!faToVcf aligned_sequences.fasta seq.vcf





!fasttree -nt aligned_sequences.fasta > reference.nwk





!usher -t reference.nwk -v seq.vcf -o seq_output.nwk



