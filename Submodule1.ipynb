{
 "cells": [
  {
   "cell_type": "markdown",
   "id": "1b7e0f11-40d7-47e4-a64d-f623601d38f6",
   "metadata": {},
   "source": [
    "# **University of South Dakota: Phylogenetic Analysis**\n",
    "\n",
    "## **Submodule #1: Understanding the Basics of Phylogenetic Trees**\n",
    "\n",
    "### **Introduction to Phylogenetics**\n",
    "\n",
    "Phylogenetics is the study of evolutionary relationships among organisms using genetic or phenotypic data. It uses genetic data (like DNA sequences) or phenotypic data (traits like size or color) to understand these relationships. By comparing similarities and differences, scientists can create evolutionary trees (called phylogenetic trees) that show how species share common ancestors and have evolved over time.\n",
    "\n",
    "To illustrate its importance, consider the COVID-19 pandemic. Researchers around the world have used phylogenetic trees to:\n",
    " - Track the spread and mutation of SARS-CoV-2.\n",
    " - Identify emerging variants and their ancestral relationships.\n",
    " - Understand how the virus evolves over time and across populations.\n",
    "\n",
    "This module builds foundational skills to analyze and visualize phylogenetic trees using Python. By the end, these skills can be applied to real-world biological datasets, including COVID-19 genomic data.\n",
    "\n",
    "\n",
    "\n",
    "\n"
   ]
  },
  {
   "cell_type": "markdown",
   "id": "355a9996-3b47-4f5f-a669-e3ac9500d508",
   "metadata": {},
   "source": [
    "### **Learning Objectives:**\n",
    "\n",
    "Phylogenetics explores the evolutionary connections and ancestral relationships among organisms, providing insights into their genetic and evolutionary history. This submodule introduces the foundational concepts of phylogenetic trees, helping learners understand their structure, purpose, and applications in biological research. By the end of this module, learners will be able to define and interpret phylogenetic trees, recognize their importance in mapping genetic changes and understanding biodiversity, and apply practical skills to construct and analyze phylogenetic trees using Python for real-world biological data.\n",
    "\n",
    "- **What You'll Learn:**\n",
    "    - Basics of phylogenetic trees and their significance.\n",
    "    - Steps to create and interpret different tree types (Rooted, Unrooted, Cladograms, Phylograms, Dendrograms).\n",
    "    - Hands-on examples using Python for visualizations.\n",
    "- **Tools and Libraries:** \n",
    "    - `Biopython` for phylogenetic analysis.\n",
    "    - `Matplotlib` for visualization.\n",
    "    - Real-world biological data in Newick format.\n",
    "- **Why It Matters:**\n",
    "    - Phylogenetic trees provide insights into evolutionary history, biodiversity, and genetic variation.\n",
    "    - Understanding these trees is critical for applications in genomics, disease research, and conservation biology.\n",
    "\n"
   ]
  },
  {
   "cell_type": "markdown",
   "id": "cf83e963-0240-4b96-94f1-fd24527e6bea",
   "metadata": {},
   "source": [
    "-------------------------------------------------------------------------------------------------------------------"
   ]
  },
  {
   "cell_type": "markdown",
   "id": "65e9f611-6f95-4b1c-b34e-2f8d2e9440d1",
   "metadata": {},
   "source": [
    "### **1.1 What is a Phylogenetic Tree?**\n",
    "A phylogenetic tree is a diagram that represents evolutionary relationships among organisms. Just as a family tree traces ancestry among relatives, a phylogenetic tree maps out how species are related through common ancestors, illustrating evolutionary pathways based on genetic, morphological, or molecular data.\n",
    "\n",
    "Each branch point (or node) in a phylogenetic tree represents a common ancestor, while the branches indicate evolutionary divergence. Organisms that share a recent common ancestor appear closer together, while those that diverged earlier appear farther apart.\n",
    "\n",
    "\n",
    "Example: Phylogenetic Tree of Primates\n",
    "\n",
    "\n",
    "<center>\n",
    "    <img src=\"images/primates.drawio.png\" width=\"500\">\n",
    "</center>\n",
    "\n",
    "\n",
    "\n",
    "This phylogenetic tree illustrates the evolutionary relationships among primates. It divides them into apes (hominoids)—including humans, chimpanzees, gorillas, orangutans, and gibbons—and monkeys (cercopithecoids) such as baboons, macaques, and colobus monkeys. Species on closer branches share a more recent common ancestor, with humans and chimpanzees being the most closely related. This tree highlights primate evolution based on genetic and morphological similarities.\n",
    "\n",
    "\n"
   ]
  },
  {
   "cell_type": "markdown",
   "id": "5f10e824-1941-471e-94d4-117ccfe3b69e",
   "metadata": {},
   "source": [
    "### **1.2 Why Are Phylogenetic Trees Important?**\n",
    "\n",
    "Phylogenetic trees are powerful tools for visualizing and understanding the relationships among organisms, genes, or pathogens. They play a central role in many fields, including evolutionary biology, disease research, and conservation. Here’s a detailed breakdown of their importance, with real-world examples like COVID-19:\n",
    "\n",
    "1. **Tracing Evolutionary Pathways:** Phylogenetic trees help scientists understand the origins and evolutionary history of species, populations, or pathogens. They reveal how organisms are related to one another through a shared common ancestor and show the timeline of divergence.\n",
    "   - **Example: COVID-19:** When SARS-CoV-2 first emerged, scientists constructed phylogenetic trees to trace its origins.  \n",
    "     - By comparing the genetic sequence of SARS-CoV-2 to other coronaviruses, researchers found that it likely originated from a bat coronavirus and later jumped to humans.  \n",
    "     - Phylogenetic analysis continues to track how the virus evolves, leading to new variants like Delta, Omicron, and their sublineages.  \n",
    "3. **Mapping Genetic Changes:** Phylogenetic trees allow us to identify and track mutations and genetic divergence over time. This is particularly important for studying pathogens, as mutations can impact their transmissibility, severity, or resistance to treatment.\n",
    "Example: Tracking SARS-CoV-2 Mutations\n",
    "As SARS-CoV-2 spreads, it accumulates mutations in its genome. Scientists use phylogenetic trees to map these changes and understand their significance. For instance:\n",
    "   - **The Delta variant**: Known for increased transmissibility.\n",
    "   - **The Omicron variant**: Has numerous mutations in its spike protein, which affects vaccine efficacy.\n",
    "By visualizing these changes on a phylogenetic tree, researchers can predict how future variants might evolve and prepare vaccines or treatments accordingly.\n",
    "           \n",
    "4. **Understanding Biodiversity:** Phylogenetic trees help us explore how species diversify, adapt, and evolve over time. They show relationships among organisms and help identify patterns of adaptation to different environments.\n",
    "Example: Bird Species Adaptation\n",
    "In evolutionary biology, phylogenetic trees have been used to study Darwin’s finches on the Galápagos Islands. The trees revealed how the finches adapted to different niches, leading to the evolution of distinct beak shapes that suited their food sources. This example highlights how evolutionary pressures drive biodiversity.\n",
    "5. **Disease Research:** Phylogenetic trees are essential for tracking the spread and evolution of infectious diseases. They help identify the origin of outbreaks, monitor how pathogens evolve, and guide public health responses.\n",
    "   Example: Global Spread of COVID-19\n",
    "   During the COVID-19 pandemic, phylogenetic trees were used to:\n",
    "   - **Trace Spread:** Show how SARS-CoV-2 traveled between countries. For example, variants found in the UK and          South Africa spread globally.\n",
    "   - **Monitor Evolution:** Identify how and when new variants emerged. For instance, the Alpha variant emerged in        the UK, followed by Beta in South Africa and Delta in India.\n",
    "   - **Inform Decisions:** Governments and health agencies used this data to implement travel restrictions, update        vaccines, and develop targeted interventions.\n"
   ]
  },
  {
   "cell_type": "markdown",
   "id": "9edbad5f-d997-4733-85dc-1043a75f98ac",
   "metadata": {},
   "source": [
    "### **1.3 How Are Phylogenetic Trees Created?**\n",
    "Phylogenetic trees are constructed using a combination of genetic data, computational tools, and mathematical models. This section outlines the key components involved in the process, including the types of data used, the sources of this data, the technologies that enable data generation, and the methods used to infer evolutionary relationships.\n",
    "#### **1.3.1 Data Types and Sources for Phylogenetic Analysis**\n",
    "Phylogenetic analysis relies on several types of data, which are often sourced from publicly available repositories or generated through sequencing technologies. Below is a breakdown of the primary data types and their common sources:\n",
    "\n",
    "1. **Genetic Sequences:**\n",
    "    - **Data Type:** DNA, RNA, or protein sequences.\n",
    "\n",
    "    - **Role in Phylogenetics:** These sequences are compared across species or viruses to identify similarities and differences, which form the basis for inferring evolutionary relationships.\n",
    "\n",
    "    - **Common Sources:**\n",
    "      - **Public Databases**: Repositories like GenBank, EMBL, and DDBJ provide annotated genetic sequences for a wide range of organisms.\n",
    "\n",
    "      - **Genomic Projects**: Large-scale initiatives, such as the Human Genome Project and the 1000 Genomes Project, generate extensive datasets that are valuable for phylogenetic studies.\n",
    "\n",
    "#### **1.3.2 Sequencing Technologies Enabling Data Generation:** \n",
    "Advances in sequencing technologies have revolutionized the field of phylogenetics by making genetic data more accessible and affordable. Key technologies include:\n",
    "\n",
    "- **Next-Generation Sequencing (NGS):**\n",
    " NGS allows for the rapid and cost-effective generation of high-quality genetic data from a wide range of organisms.\n",
    "It has democratized access to sequencing, enabling researchers to study non-model organisms and large populations.\n",
    "\n",
    "- **Third-Generation Sequencing:** Technologies like PacBio and Oxford Nanopore provide long-read sequencing, which is particularly useful for resolving complex genomic regions and improving the accuracy of phylogenetic trees.\n",
    "These technologies have expanded the scope of phylogenetic studies by providing richer and more diverse datasets.\n",
    "  \n",
    "#### **1.3.3 Mathematical Modeling and Tree Construction**\n",
    "The construction of phylogenetic trees involves applying mathematical models to genetic data to estimate evolutionary relationships. Key steps and methods include:\n",
    "\n",
    "- **Sequence Alignment:**\n",
    "   - Genetic sequences are aligned to identify homologous regions, which are then used for comparison.\n",
    "\n",
    "  - Tools like Clustal Omega and MAFFT are commonly used for this purpose.\n",
    "\n",
    "- **Model Selection:**\n",
    "        - Evolutionary models (e.g., Jukes-Cantor, Kimura, or more complex models like GTR) are selected to account for variations in mutation rates and other evolutionary processes.\n",
    "\n",
    "- **Tree Inference Methods:**\n",
    "\n",
    "  - Distance-Based Methods: These methods, such as Neighbor-Joining, calculate pairwise distances between sequences and use them to construct trees.\n",
    "\n",
    "  - Character-Based Methods: Maximum Parsimony and Maximum Likelihood approaches evaluate possible trees and select the one that best explains the observed data.\n",
    "\n",
    "  - Bayesian Inference: This method uses probabilistic models to estimate the posterior distribution of trees, incorporating prior knowledge and uncertainty.\n",
    "\n",
    " - **Tree Visualization and Validation:**\n",
    "\n",
    "   - Constructed trees are visualized using tools like FigTree or iTOL.\n",
    "\n",
    "    - Bootstrap analysis or posterior probabilities are used to assess the robustness of the tree topology.\n",
    "\n",
    "#### **1.3.4 Integrating Data and Methods for Accurate Phylogenetics**\n",
    "\n",
    "The accuracy of phylogenetic trees depends on the quality of the data, the appropriateness of the evolutionary models, and the computational methods used. By integrating diverse data sources, leveraging advanced sequencing technologies, and applying robust mathematical models, researchers can reconstruct evolutionary relationships with greater confidence."
   ]
  },
  {
   "cell_type": "markdown",
   "id": "a0d30d52-ac85-4735-b85b-375c659f2f22",
   "metadata": {},
   "source": [
    "### **1.4 Newick Format**\n",
    "The Newick format is a way of representing tree structures, especially phylogenetic trees, in a simple and compact text format. It is widely used in bioinformatics and evolutionary biology to store and exchange tree data.\n",
    "\n",
    "**Syntax**\n",
    "\n",
    "- A tree is represented using parentheses to denote branching and colons to indicate branch lengths.\n",
    "- Leaf nodes (species or taxa) are labeled with names.\n",
    "- Internal nodes (ancestral relationships) are represented by nested parentheses.\n",
    "- The tree ends with a semicolon (;).\n",
    "\n",
    "**Basic Example**\n",
    "\n",
    "``(A,B,(C,D));  ``\n",
    "\n",
    "This represents a tree where A and B are closely related, while C and D are also related, and together they form a larger grouping.\n",
    "\n",
    "**Example with Branch Lengths**\n",
    "\n",
    "``(A:0.5, B:0.6, (C:0.7, D:0.8):0.4);``\n",
    "\n",
    "Here, A, B, C, and D are species.\n",
    "The numbers after colons (e.g., 0.5, 0.6) represent branch lengths, which often correspond to evolutionary distances.\n",
    "\n",
    "**Reading the Format**\n",
    "\n",
    "1. Parentheses group related species together.\n",
    "2. Comma (,) separates branches at the same level.\n",
    "3. Colon (:) followed by a number indicates branch length.\n",
    "4. The entire structure ends with a semicolon (;).\n"
   ]
  },
  {
   "cell_type": "markdown",
   "id": "2d6d38ce-bdbd-4434-ad2b-d84f689acc0d",
   "metadata": {},
   "source": [
    "### **1.4 Types of Phylogenetic Trees and Their Applications**\n",
    "\n",
    "#### 1. **Rooted Trees:**\n",
    "A rooted tree is a type of phylogenetic tree that has a single common ancestor (root) at its base. All other branches in the tree descend from this root, representing evolutionary relationships over time. The direction of branches in a rooted tree is important because it indicates the passage of time and evolutionary divergence of species or variants.\n",
    "\n",
    "In the context of COVID-19 Variant Tracking, a rooted tree can be used to show how different variants of the virus evolved from an original strain. The root represents the earliest known variant, and as mutations accumulate over time, new branches (variants) emerge.\n",
    "\n",
    "**Key Features of a Rooted Tree:**\n",
    "\n",
    "- Has a single root node that represents the most recent common ancestor.\n",
    "\n",
    "- Branches represent evolutionary paths, and their lengths may indicate time or genetic distance.\n",
    "\n",
    "- Nodes (branching points) represent divergence events, such as the emergence of new variants.\n",
    "\n",
    "- The direction of branches shows the evolutionary history over time."
   ]
  },
  {
   "cell_type": "code",
   "execution_count": null,
   "id": "44127754-24a8-4a20-8645-b4f3a1c2e2a3",
   "metadata": {},
   "outputs": [],
   "source": [
    "from Bio import Phylo\n",
    "from io import StringIO\n",
    "import matplotlib.pyplot as plt\n",
    "\n",
    "# Hypothetical rooted tree for COVID-19 variants in Newick format\n",
    "covid_rooted_tree = \"((Alpha:0.2, Delta:0.3):0.5, (Omicron:0.4, Beta:0.6):0.3);\"\n",
    "tree = Phylo.read(StringIO(covid_rooted_tree), \"newick\")\n",
    "\n",
    "# Visualization\n",
    "fig, ax = plt.subplots(figsize=(12, 8))\n",
    "Phylo.draw(tree, axes=ax)\n",
    "ax.set_title(\"Rooted Tree: COVID-19 Variants Evolution\", fontsize=14, weight='bold')\n",
    "plt.show()"
   ]
  },
  {
   "cell_type": "markdown",
   "id": "3a9034ff-1dee-4537-983f-16b37b1d2f42",
   "metadata": {},
   "source": [
    "- **Interpretation**: This rooted tree helps trace how different variants evolved from a common ancestor."
   ]
  },
  {
   "cell_type": "code",
   "execution_count": null,
   "id": "f7facfe2-a7ba-4bb1-85c1-ce3ac93a1e07",
   "metadata": {},
   "outputs": [],
   "source": [
    "from Bio import Phylo\n",
    "from io import StringIO\n",
    "import matplotlib.pyplot as plt\n",
    "\n",
    "# Newick format representing a rooted tree for mammals\n",
    "rooted_tree = \"((Human:0.6, Chimpanzee:0.6):0.4, (Dog:0.8, (Cat:0.7, Mouse:0.7):0.3):0.2);\"\n",
    "tree = Phylo.read(StringIO(rooted_tree), \"newick\")\n",
    "\n",
    "# Visualization\n",
    "fig, ax = plt.subplots(figsize=(12, 8))\n",
    "Phylo.draw(tree, axes=ax)\n",
    "ax.set_title(\"Rooted Tree: Evolutionary Relationships Among Mammals\", fontsize=14, weight='bold')\n",
    "plt.show()\n"
   ]
  },
  {
   "cell_type": "markdown",
   "id": "5ea73a35-cc96-48ef-9bad-e75fb711bfb6",
   "metadata": {},
   "source": [
    "##### **Exercise 1**\n",
    "##### **Create a Rooted Tree using the following dataset:**\n",
    "##### Dataset 1: Avian Species Evolution\n",
    "##### The dataset is provided in Newick format:\n",
    "##### ((Sparrow:0.3, Crow:0.4):0.2, (Eagle:0.5, Hawk:0.6):0.3);\n"
   ]
  },
  {
   "cell_type": "code",
   "execution_count": null,
   "id": "e5cde777-02e0-44e8-9c17-7a1dec9dce6d",
   "metadata": {},
   "outputs": [],
   "source": [
    "from IPython.display import IFrame\n",
    "IFrame(\"Exercises/answers1.html\", width=800, height=350)"
   ]
  },
  {
   "cell_type": "code",
   "execution_count": null,
   "id": "c6ac67be-0647-4b9d-b4b3-5d29fff69fca",
   "metadata": {},
   "outputs": [],
   "source": [
    "## Implement your solution here\n"
   ]
  },
  {
   "cell_type": "markdown",
   "id": "6d0a3735-dd1a-4fdf-b1df-286c88045aee",
   "metadata": {},
   "source": [
    "#### 2. **Unrooted Tree**\n",
    "\n",
    "An unrooted tree is a type of phylogenetic tree that does not specify a common ancestor. Instead of showing evolutionary direction over time, it represents genetic relationships between different species or strains without assuming a starting point.\n",
    "\n",
    "In the context of COVID-19 strain analysis, an unrooted tree can be used to visualize genetic similarity between different virus strains without assuming which one evolved first.\n",
    "\n",
    "**Key Characteristics of Unrooted Trees**\n",
    "\n",
    "-  **No Root (Common Ancestor):** Unlike rooted trees, unrooted trees do not show the earliest ancestor of all species/strains.\n",
    "\n",
    "- **Focus on Genetic Distance:**  The branches indicate genetic similarity or dissimilarity, but they do not show which strain evolved from which.\n",
    "\n",
    "- **Interpretation Based on Clustering:** Strains that are closer together on the tree are more genetically similar, while those further apart have accumulated more mutations.\n",
    "\n",
    "- **Common in Genetic Similarity Studies:** Used when we have genetic data but do not know the exact evolutionary history.\n",
    "\n",
    "\n",
    "**Example: Genetic Similarity Among COVID-19 Strains**\n",
    "Let's visualize an unrooted phylogenetic tree of different COVID-19 strains using Biopython.\n"
   ]
  },
  {
   "cell_type": "code",
   "execution_count": null,
   "id": "f7ced9db-1591-46c1-bbf9-9ccdb06a8b15",
   "metadata": {},
   "outputs": [],
   "source": [
    "from Bio import Phylo\n",
    "from io import StringIO\n",
    "import matplotlib.pyplot as plt\n",
    "\n",
    "# Hypothetical genetic similarity tree in Newick format (unrooted)\n",
    "covid_unrooted_tree = \"((Alpha:0.1, Beta:0.2, Delta:0.15, Omicron:0.25, Gamma:0.18));\"\n",
    "\n",
    "# Load the tree from the Newick string\n",
    "tree = Phylo.read(StringIO(covid_unrooted_tree), \"newick\")\n",
    "\n",
    "# Set tree as unrooted\n",
    "fig, ax = plt.subplots(figsize=(8, 6))\n",
    "Phylo.draw(tree, axes=ax, do_show=False)\n",
    "ax.set_title(\"Unrooted Tree: Genetic Similarity Among COVID-19 Strains\", fontsize=14, weight='bold')\n",
    "\n",
    "# Display the unrooted tree\n",
    "plt.show()\n"
   ]
  },
  {
   "cell_type": "code",
   "execution_count": null,
   "id": "cd5ea91a-9cfe-4371-b8c9-c25ee420e230",
   "metadata": {},
   "outputs": [],
   "source": [
    "from Bio import Phylo\n",
    "from io import StringIO\n",
    "import matplotlib.pyplot as plt\n",
    "\n",
    "# Define a more complex unrooted tree in Newick format\n",
    "newick_unrooted_tree = \"(((Human, Chimpanzee), (Dog, Wolf)), ((Cat, Tiger), (Elephant, Horse)), ((Frog, Lizard), (Eagle, Hawk)));\"\n",
    "\n",
    "# Read the tree using Biopython\n",
    "tree = Phylo.read(StringIO(newick_unrooted_tree), \"newick\")\n",
    "\n",
    "# Set the tree as unrooted and visualize it\n",
    "fig, ax = plt.subplots(figsize=(10, 8))\n",
    "Phylo.draw(tree, axes=ax)\n",
    "ax.set_title(\"Unrooted Phylogenetic Tree with More Taxa\", fontsize=14)\n",
    "plt.show()\n"
   ]
  },
  {
   "cell_type": "markdown",
   "id": "e763420c-af5e-4e51-aaa7-58a45800f8e2",
   "metadata": {},
   "source": [
    "**Explanation of the Tree**\n",
    "\n",
    "This unrooted tree contains three major clades:\n",
    "\n",
    "- Primates & Canines: (Human, Chimpanzee) and (Dog, Wolf)\n",
    "- Felidae & Large Mammals: (Cat, Tiger) and (Elephant, Horse)\n",
    "- Reptiles & Birds: (Frog, Lizard) and (Eagle, Hawk)\n",
    "Since it's unrooted, it does not show a common ancestor but still represents evolutionary relationships."
   ]
  },
  {
   "cell_type": "markdown",
   "id": "4fe5b176-b02a-4241-8ac0-137722b10d72",
   "metadata": {},
   "source": [
    "- **When to Use**: Unrooted trees are helpful when ancestry is unknown or not relevant."
   ]
  },
  {
   "cell_type": "markdown",
   "id": "3f697194-4b54-48cb-9033-919550155476",
   "metadata": {},
   "source": [
    "##### **Exercise 2**\n",
    "##### **Interactive Question: Rooting an Unrooted Tree**\n",
    "##### Given the following unrooted tree for Microbial Communities:\n",
    "##### ***(Bacteria, Archaea, Eukaryota);***\n",
    "##### Tasks:\n",
    "- Visualize the unrooted tree using Biopython.\n",
    "- Root the tree again, but this time use \"Archaea\" as the outgroup.\n",
    "- Compare the two rooted trees:\n",
    "- How do the relationships between Bacteria, Archaea, and Eukaryota change?\n",
    "- Which rooting method provides a more meaningful representation, and why?\n",
    "\n"
   ]
  },
  {
   "cell_type": "code",
   "execution_count": null,
   "id": "0fed2ac9-0920-4b78-b7d6-34552f28dd36",
   "metadata": {
    "scrolled": true
   },
   "outputs": [],
   "source": [
    "from IPython.display import IFrame\n",
    "IFrame(\"Exercises/answers2.html\", width=800, height=350)"
   ]
  },
  {
   "cell_type": "code",
   "execution_count": null,
   "id": "b093fd1b-d016-45f2-a3f6-935c7f806b24",
   "metadata": {},
   "outputs": [],
   "source": [
    "## Implement your solution here\n"
   ]
  },
  {
   "cell_type": "markdown",
   "id": "68521ceb-bc3f-4658-9f9c-dcfc41424fd3",
   "metadata": {},
   "source": [
    "#### 3. **Cladograms:**\n",
    "\n",
    "A cladogram is a type of phylogenetic tree that illustrates the branching order (relationships between species) but does not show branch lengths or evolutionary distances. Instead, it focuses only on shared ancestry and divergence patterns.\n",
    "\n",
    "**Key Features of a Cladogram**\n",
    "- **No Branch Lengths:**  Unlike phylograms, cladograms do not represent evolutionary time or genetic differences.\n",
    "\n",
    "- **Only Branching Order Matters:**  It shows which species are closely related, but not how much they differ genetically.\n",
    "\n",
    "- **Represents Hypotheses:** It suggests possible relationships based on shared characteristics (clades).\n",
    "\n",
    "- **Used in Evolutionary Biology:** Often constructed using morphological traits or genetic data.\n",
    "\n",
    "\n",
    "   "
   ]
  },
  {
   "cell_type": "code",
   "execution_count": null,
   "id": "42225b8b-d235-433e-af15-3e9384372773",
   "metadata": {},
   "outputs": [],
   "source": [
    "cladogram = \"(((Human, Chimpanzee), Gorilla), Orangutan);\"\n",
    "tree = Phylo.read(StringIO(cladogram), \"newick\")\n",
    "\n",
    "# Visualization\n",
    "fig, ax = plt.subplots(figsize=(10, 6))\n",
    "Phylo.draw(tree, axes=ax)\n",
    "ax.set_title(\"Cladogram: Evolution of Primates\", fontsize=14, weight='bold')\n",
    "plt.show()"
   ]
  },
  {
   "cell_type": "markdown",
   "id": "f5ab16ae-5afb-47b1-8ba1-fadcc9cf187a",
   "metadata": {},
   "source": [
    "- **Why It Matters**: Cladograms focus on relationships rather than evolutionary time.\n",
    "\n"
   ]
  },
  {
   "cell_type": "code",
   "execution_count": null,
   "id": "d7e6cbf9-5db7-495c-a59a-98ae63e0d0cb",
   "metadata": {},
   "outputs": [],
   "source": [
    "from Bio import Phylo\n",
    "from io import StringIO\n",
    "import matplotlib.pyplot as plt\n",
    "\n",
    "# Newick format for a cladogram (branching order only)\n",
    "cladogram = \"(((Frog, Lizard), (Bird, Mammal)), Fish);\"\n",
    "tree = Phylo.read(StringIO(cladogram), \"newick\")\n",
    "\n",
    "# Visualization\n",
    "fig, ax = plt.subplots(figsize=(10, 8))\n",
    "Phylo.draw(tree, axes=ax)\n",
    "ax.set_title(\"Cladogram: Vertebrate Evolution\", fontsize=14, weight='bold')\n",
    "plt.show()"
   ]
  },
  {
   "cell_type": "markdown",
   "id": "25ca743f-6714-4bec-a990-e3923051e1e4",
   "metadata": {},
   "source": [
    "##### **Exercise 3**\n",
    "##### **Using the following Newick format:**\n",
    "(((Human, Chimpanzee), Gorilla), Orangutan);\n",
    "Which species are most closely related in the cladogram?"
   ]
  },
  {
   "cell_type": "code",
   "execution_count": null,
   "id": "0c304f89-6963-42fc-b318-83238f5541ac",
   "metadata": {},
   "outputs": [],
   "source": [
    "from IPython.display import IFrame\n",
    "IFrame(\"Exercises/answers3.html\", width=800, height=350)"
   ]
  },
  {
   "cell_type": "code",
   "execution_count": null,
   "id": "b46bfb69-c87b-4ff0-ae89-37579c7aa91f",
   "metadata": {},
   "outputs": [],
   "source": [
    "## Implement your solution here\n"
   ]
  },
  {
   "cell_type": "markdown",
   "id": "6d7d1360-a3c5-42d7-aa6e-9065730d5d71",
   "metadata": {},
   "source": [
    "#### 4. **Phylograms**\n",
    "A phylogram is a type of phylogenetic tree that represents:\n",
    "\n",
    "- **Branching Order:**  Which species are closely related.\n",
    "\n",
    "- **Branch Lengths:** The amount of evolutionary change (e.g., mutation rates or genetic differences).\n",
    "\n",
    "Unlike cladograms, phylograms use branch lengths to show the degree of genetic divergence between species.\n",
    "\n",
    "**Example: Genetic Divergence in Fruit Flies**\n",
    "\n",
    "A phylogram of fruit flies can illustrate how different Drosophila species (e.g., Drosophila melanogaster, Drosophila simulans, Drosophila yakuba) diverged over time."
   ]
  },
  {
   "cell_type": "code",
   "execution_count": null,
   "id": "468cf299-5db8-4a4a-be50-a820deb847c0",
   "metadata": {},
   "outputs": [],
   "source": [
    "from Bio import Phylo\n",
    "from io import StringIO\n",
    "import matplotlib.pyplot as plt\n",
    "\n",
    "# Hypothetical phylogram of Fruit Fly species with branch lengths\n",
    "fruit_fly_phylogram = \"(Drosophila_melanogaster:0.1, (Drosophila_simulans:0.2, (Drosophila_yakuba:0.15, Drosophila_ananassae:0.3):0.25):0.2);\"\n",
    "\n",
    "# Read the tree from the Newick string\n",
    "tree = Phylo.read(StringIO(fruit_fly_phylogram), \"newick\")\n",
    "\n",
    "# Plotting the Phylogram\n",
    "fig, ax = plt.subplots(figsize=(10, 6))\n",
    "Phylo.draw(tree, axes=ax, do_show=False)  # Ensure we can modify the plot\n",
    "\n",
    "# Add a title\n",
    "ax.set_title(\"Phylogram: Genetic Divergence in Fruit Flies\", fontsize=14, weight='bold')\n",
    "\n",
    "# Display the plot\n",
    "plt.show()\n"
   ]
  },
  {
   "cell_type": "markdown",
   "id": "c724c1a3-9a90-4ef9-8ee2-ba7a853b3006",
   "metadata": {},
   "source": [
    "- **Why It Matters**: Useful for understanding evolutionary rates and genetic distances.\n",
    "\n"
   ]
  },
  {
   "cell_type": "markdown",
   "id": "37015713-c1b3-4eb9-95e6-8021ed25800c",
   "metadata": {},
   "source": [
    "##### **Exercises 4**\n",
    "###### Visualize the Phylogram: Use the provided Newick format to visualize the genetic divergence among fruit flies:\n",
    "###### ((A:0.2,B:0.3):0.4,C:0.5);\n",
    "\n"
   ]
  },
  {
   "cell_type": "code",
   "execution_count": null,
   "id": "06876845-0673-4d77-9b3f-1632e5d3848e",
   "metadata": {},
   "outputs": [],
   "source": [
    "from IPython.display import IFrame\n",
    "IFrame(\"Exercises/answers4.html\", width=800, height=350)"
   ]
  },
  {
   "cell_type": "code",
   "execution_count": null,
   "id": "661b0861-046a-489d-925b-0c426c1fbf76",
   "metadata": {},
   "outputs": [],
   "source": [
    "## Implement your solution here\n"
   ]
  },
  {
   "cell_type": "markdown",
   "id": "54993434-0128-44d6-9001-3e857704281c",
   "metadata": {},
   "source": [
    "#### 5. **Dendrograms**:\n",
    "    \n",
    "A dendrogram is a tree-like diagram used to illustrate the arrangement of clusters based on hierarchical relationships. Unlike phylogenetic trees that focus on evolutionary history, dendrograms are often used in hierarchical clustering, such as:\n",
    "\n",
    "- Gene Expression Analysis (grouping genes with similar expression patterns).\n",
    "\n",
    "- Linguistics (showing language relationships).\n",
    "\n",
    "- Social Sciences (clustering similar behaviors or preferences).\n",
    "\n",
    "**Example: Gene Expression Analysis**\n",
    "\n",
    "In genomics, dendrograms help visualize how genes cluster based on expression levels across different samples."
   ]
  },
  {
   "cell_type": "code",
   "execution_count": null,
   "id": "8a625ce7-7ed2-4b08-9e72-e9112789b305",
   "metadata": {},
   "outputs": [],
   "source": [
    "import numpy as np\n",
    "import scipy.cluster.hierarchy as sch\n",
    "import matplotlib.pyplot as plt\n",
    "\n",
    "# Hypothetical gene expression data (rows: genes, columns: samples)\n",
    "np.random.seed(42)\n",
    "gene_expression_data = np.random.rand(10, 5)  # 10 genes, 5 samples\n",
    "\n",
    "# Compute hierarchical clustering using Euclidean distance and Ward's linkage\n",
    "linkage_matrix = sch.linkage(gene_expression_data, method='ward', metric='euclidean')\n",
    "\n",
    "# Plot the dendrogram\n",
    "plt.figure(figsize=(10, 6))\n",
    "dendro = sch.dendrogram(linkage_matrix, labels=[f\"Gene {i+1}\" for i in range(10)], leaf_rotation=45)\n",
    "\n",
    "# Add title and labels\n",
    "plt.title(\"Dendrogram: Hierarchical Clustering of Gene Expression\", fontsize=14, weight='bold')\n",
    "plt.xlabel(\"Genes\")\n",
    "plt.ylabel(\"Cluster Distance\")\n",
    "\n",
    "# Display the plot\n",
    "plt.show()\n"
   ]
  },
  {
   "cell_type": "markdown",
   "id": "68bdafe0-73db-4135-ad4e-cb8fb1efb2f9",
   "metadata": {},
   "source": [
    "### **1.5 Why Choose a Specific Tree Type?**\n",
    "\n",
    "1. **Rooted Trees**: Ideal for understanding evolutionary direction and common ancestry.\n",
    "\n",
    "2. **Unrooted Trees**: Best for visualizing relationships when ancestral information is unavailable.\n",
    "\n",
    "3. **Cladograms**: Focus on relationships without evolutionary time.\n",
    "\n",
    "4. **Phylograms**: Combine evolutionary relationships with branch lengths for quantitative analysis.\n",
    "\n",
    "5. **Dendrograms**: Use clustering for hierarchical relationships in data."
   ]
  },
  {
   "cell_type": "markdown",
   "id": "8b8433cb-89a6-4ff7-a57a-41f9724cb74e",
   "metadata": {},
   "source": [
    "### **Summary** ##\n",
    "\n",
    "Phylogenetic trees are powerful tools for visualizing evolutionary relationships and understanding genetic changes. In the context of COVID-19, they help trace variants, study mutations, and inform public health strategies.\n",
    "\n",
    "By mastering the tools and concepts in this module, you will:\n",
    "\n",
    "- Interpret and analyze biological data.\n",
    "\n",
    "- Construct phylogenetic trees using Python.\n",
    "\n",
    "- Solve real-world problems like tracking disease evolution.\n",
    "\n",
    "\n",
    "  In next module we will study about \"Collect and Prepare Sequence Data\". It is the preprocessing step for constructing phylogenetic Tree.\n",
    "\n"
   ]
  },
  {
   "cell_type": "markdown",
   "id": "a067c7be-1d25-4d1a-a5fe-0670b4b2f59f",
   "metadata": {},
   "source": [
    "### **Interactive Quiz**\n",
    "The following quiz will help reinforce the understanding of phylogenetics:"
   ]
  },
  {
   "cell_type": "code",
   "execution_count": null,
   "id": "99105550-9e02-4a3c-8ed3-90713ca843a9",
   "metadata": {
    "scrolled": true
   },
   "outputs": [],
   "source": [
    "from IPython.display import IFrame\n",
    "IFrame(\"Quiz/QS1.html\", width=800, height=1000)"
   ]
  },
  {
   "cell_type": "code",
   "execution_count": null,
   "id": "c1559066-b30a-45cb-a319-43a7e3d7a377",
   "metadata": {},
   "outputs": [],
   "source": []
  }
 ],
 "metadata": {
  "kernelspec": {
   "display_name": "Python 3 (ipykernel)",
   "language": "python",
   "name": "python3"
  },
  "language_info": {
   "codemirror_mode": {
    "name": "ipython",
    "version": 3
   },
   "file_extension": ".py",
   "mimetype": "text/x-python",
   "name": "python",
   "nbconvert_exporter": "python",
   "pygments_lexer": "ipython3",
   "version": "3.10.14"
  }
 },
 "nbformat": 4,
 "nbformat_minor": 5
}
