{
 "cells": [
  {
   "cell_type": "markdown",
   "id": "07df54c3-15b7-4a9f-bc27-fdf308ab88c1",
   "metadata": {},
   "source": [
    "# Submodule 1: Understanding the Basics of Phylogenetic"
   ]
  },
  {
   "cell_type": "markdown",
   "id": "ec1488a1",
   "metadata": {},
   "source": [
    "# Learning Objectives:\n",
    "\n",
    "A phylogenetic tree is a visual representation that illustrates the evolutionary connections and ancestral relationships among different biological species or organisms. It depicts how closely related these species are based on similarities and differences in their physical traits or genetic makeup. This submodule will expose the learner to fundamental concepts of phylogenetic tree."
   ]
  },
  {
   "cell_type": "markdown",
   "id": "e1ada00f",
   "metadata": {},
   "source": [
    "----------------------------------------------------------------------------------------------------------------\n",
    "# Training Plan \n"
   ]
  },
  {
   "cell_type": "markdown",
   "id": "f06fde7c",
   "metadata": {},
   "source": [
    "<font color=\"green\"> **Submodule #1: Understanding the Basics of Phylogenetic** </font>\n",
    "\n",
    " \n",
    "Submodule #2: Collect and Prepare Sequence Data and Analysis\n",
    "\n",
    "\n",
    "Submodule #3: Construct Phylogenetic Tree\n",
    "\n",
    " \n",
    "Submodule #4: Analyze Phylogenetic Tree"
   ]
  },
  {
   "cell_type": "markdown",
   "id": "fff60c6b",
   "metadata": {},
   "source": [
    "----------------------------------------------------------------------------------------------------------------"
   ]
  },
  {
   "cell_type": "markdown",
   "id": "68a2e9bd-790c-4474-81d0-fdb21c464736",
   "metadata": {},
   "source": [
    "## What is a Phylogenetic Tree? \n",
    "A phylogenetic tree is a visual representation that illustrates the evolutionary connections and ancestral relationships among different biological species or organisms. It depicts how closely related these species are based on similarities and differences in their physical traits or genetic makeup. For example, a phylogenetic tree of various primates (like humans, chimpanzees, gorillas, and orangutans) would show how closely or distantly related these species are to one another based on their shared characteristics and common ancestors. Essentially, a phylogenetic tree is a hypothesis or educated guess about the evolutionary history and lineage of the organisms being studied."
   ]
  },
  {
   "cell_type": "markdown",
   "id": "1a34f870-6460-42d3-9729-2753420a3da2",
   "metadata": {},
   "source": [
    "## The Purpose of Phylogenetic Trees\n",
    "### Phylogenetic trees are essential tools in evolutionary biology and related fields, serving several critical functions:\n",
    "\n",
    "1. Tracing Evolutionary Pathways: These trees help scientists understand how different species have evolved over time from common ancestors. They provide insights into the branching patterns and evolutionary relationships between organisms.\n",
    "2. Mapping Genetic Changes: By analyzing genetic sequences, phylogenetic trees enable researchers to track genetic changes that have occurred throughout the evolutionary process. This helps in studying the evolution of specific traits or genes across different species.\n",
    "3. Understanding Biodiversity: The branching patterns in phylogenetic trees shed light on the diversification of species and the development of new characteristics or traits. This knowledge contributes to our understanding of the vast biodiversity on Earth.\n",
    "4. Disease Research: In the context of pathogens, such as viruses or bacteria, phylogenetic trees are invaluable tools for tracking the spread and evolution of diseases. They help identify the origins, transmission pathways, and potential sources of disease outbreaks."
   ]
  },
  {
   "cell_type": "markdown",
   "id": "1feb209f-4e34-4f5f-b1a6-ae3dcfe33fc2",
   "metadata": {},
   "source": [
    "## Data Sources for Creating Phylogenetic Trees \n",
    "### To construct accurate phylogenetic trees, researchers rely on various data sources:\n",
    "\n",
    "1.\tGenetic Sequences: The primary data used in phylogenetic analysis are DNA, RNA, or protein sequences obtained from different species or strains. These sequences are compared to identify similarities and differences.\n",
    "2.\tPublic Databases: Genetic sequence data can be accessed from public repositories like GenBank, EMBL, and DDBJ, which maintain comprehensive and annotated genetic information for numerous organisms.\n",
    "3.\tGenomic Projects: Large-scale genomic projects, such as the Human Genome Project or the 1000 Genomes Project, provide extensive datasets that can be utilized for phylogenetic studies.\n",
    "4.\tSequencing Technologies: Advances in sequencing technologies, like next-generation sequencing (NGS), have made it easier and more cost-effective to obtain high-quality genetic data for a wide range of organisms.\n"
   ]
  },
  {
   "cell_type": "markdown",
   "id": "cb021436-9029-4319-9f33-cf3e0725c72c",
   "metadata": {},
   "source": [
    "## Types of Phylogenetic Trees \n",
    "### Phylogenetic trees can be classified into different types based on their structure and the information they convey:\n",
    "1. **Rooted Trees:** These trees have a single ancestral root, representing the common ancestor of all the entities in the tree. The direction of the branches indicates the passage of time and evolutionary divergence.\n",
    "2. **Unrooted Trees:** Unrooted trees do not show a common ancestor but illustrate the relationships among species without indicating the direction of evolutionary time.\n",
    "3. **Cladograms:** Cladograms represent the branching order of evolutionary relationships but do not provide information about the branch lengths or the amount of evolutionary change.\n",
    "4. **Phylograms:** Phylograms provide both the branching order and the branch lengths, indicating the amount of evolutionary change along each branch.\n",
    "5. **Dendrograms:** Similar to phylograms, dendrograms can also include hierarchical clustering, making them useful in various fields like genomics and linguistics.\n",
    "   \n",
    "By studying phylogenetic trees, scientists can gain valuable insights into the evolutionary history, relationships, and diversification of different organisms, ultimately expanding our understanding of the intricate tapestry of life on Earth."
   ]
  },
  {
   "cell_type": "code",
   "execution_count": 1,
   "id": "661e25f4-33ed-461c-965d-fb824012ce3a",
   "metadata": {
    "tags": []
   },
   "outputs": [
    {
     "data": {
      "text/html": [
       "\n",
       "        <iframe\n",
       "            width=\"900\"\n",
       "            height=\"700\"\n",
       "            src=\"https://play.kahoot.it/v2/?quizId=f284d691-8325-4c96-8983-4aeebd41c0ac&hostId=bf1e29c0-250c-438b-98bd-101ef3ab494b\"\n",
       "            frameborder=\"0\"\n",
       "            allowfullscreen\n",
       "            \n",
       "        ></iframe>\n",
       "        "
      ],
      "text/plain": [
       "<IPython.lib.display.IFrame at 0x2427823be50>"
      ]
     },
     "execution_count": 1,
     "metadata": {},
     "output_type": "execute_result"
    }
   ],
   "source": [
    "from IPython.display import IFrame\n",
    "IFrame('https://play.kahoot.it/v2/?quizId=f284d691-8325-4c96-8983-4aeebd41c0ac&hostId=bf1e29c0-250c-438b-98bd-101ef3ab494b', width=900, height=700)"
   ]
  },
  {
   "cell_type": "code",
   "execution_count": null,
   "id": "1bf31898-1e16-4b7d-8554-03689785037b",
   "metadata": {},
   "outputs": [],
   "source": []
  }
 ],
 "metadata": {
  "kernelspec": {
   "display_name": "Python 3 (ipykernel)",
   "language": "python",
   "name": "python3"
  },
  "language_info": {
   "codemirror_mode": {
    "name": "ipython",
    "version": 3
   },
   "file_extension": ".py",
   "mimetype": "text/x-python",
   "name": "python",
   "nbconvert_exporter": "python",
   "pygments_lexer": "ipython3",
   "version": "3.11.5"
  }
 },
 "nbformat": 4,
 "nbformat_minor": 5
}
