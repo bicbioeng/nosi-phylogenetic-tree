{
 "cells": [
  {
   "cell_type": "markdown",
   "id": "07df54c3-15b7-4a9f-bc27-fdf308ab88c1",
   "metadata": {},
   "source": [
    "# Submodule #1: Understanding the Basics of Phylogenetic Trees\n",
    "\n",
    "## Phylogenetic Analysis of Sequence Data\n",
    "\n",
    "Phylogenetics explores the evolutionary connections among organisms by analyzing genetic or phenotypic data. This module provides an in-depth tutorial on phylogenetic tree construction and visualization to understand evolutionary relationships across species.\n",
    "\n",
    "### **Primary Objective:**\n",
    "Develop an educational and practical workflow to analyze and visualize phylogenetic trees, leveraging real-world biological data. This module will enable students to:\n",
    "1. Understand the importance of phylogenetics in studying evolutionary biology.\n",
    "2. Learn methods to construct rooted, unrooted, and other phylogenetic tree types.\n",
    "3. Visualize phylogenetic relationships using Python.\n",
    "\n",
    "### **Overview:**\n",
    "- **What You'll Learn:**\n",
    "    - Basics of phylogenetic trees and their significance.\n",
    "    - Steps to create and interpret different tree types (Rooted, Unrooted, Cladograms, Phylograms, Dendrograms).\n",
    "    - Hands-on examples using Python for visualizations.\n",
    "- **Tools and Libraries:** \n",
    "    - `Biopython` for phylogenetic analysis.\n",
    "    - `Matplotlib` for visualization.\n",
    "    - Real-world biological data in Newick format.\n",
    "- **Why It Matters:**\n",
    "    - Phylogenetic trees provide insights into evolutionary history, biodiversity, and genetic variation.\n",
    "    - Understanding these trees is critical for applications in genomics, disease research, and conservation biology.\n"
   ]
  },
  {
   "cell_type": "markdown",
   "id": "e1ada00f",
   "metadata": {},
   "source": [
    "----------------------------------------------------------------------------------------------------------------\n",
    "# Training Plan \n"
   ]
  },
  {
   "cell_type": "markdown",
   "id": "f06fde7c",
   "metadata": {},
   "source": [
    "<font color=\"green\"> **Submodule #1: Understanding the Basics of Phylogenetic** </font>\n",
    "\n",
    " \n",
    "Submodule #2: Collect and Prepare Sequence Data and Analysis\n",
    "\n",
    "\n",
    "Submodule #3: Construct Phylogenetic Tree\n",
    "\n",
    " \n",
    "Submodule #4: Analyze Phylogenetic Tree"
   ]
  },
  {
   "cell_type": "markdown",
   "id": "fff60c6b",
   "metadata": {},
   "source": [
    "----------------------------------------------------------------------------------------------------------------"
   ]
  },
  {
   "cell_type": "markdown",
   "id": "ec1488a1",
   "metadata": {},
   "source": [
    "# Learning Objectives:\n",
    "\n",
    "Phylogenetics explores the evolutionary connections and ancestral relationships among organisms, providing insights into their genetic and evolutionary history. This submodule introduces the foundational concepts of phylogenetic trees, helping learners understand their structure, purpose, and applications in biological research. By the end of this module, learners will be able to define and interpret phylogenetic trees, recognize their importance in mapping genetic changes and understanding biodiversity, and apply practical skills to construct and analyze phylogenetic trees using Python for real-world biological data."
   ]
  },
  {
   "cell_type": "markdown",
   "id": "72b70003",
   "metadata": {},
   "source": [
    "----------------------------------------------------------------------------------------------------------------"
   ]
  },
  {
   "cell_type": "markdown",
   "id": "68a2e9bd-790c-4474-81d0-fdb21c464736",
   "metadata": {},
   "source": [
    "## What is a Phylogenetic Tree? \n",
    "Imagine tracing your family tree to uncover your ancestry and relationships with relatives. A phylogenetic tree works similarly, but instead of human relatives, it maps the evolutionary history of organisms. It illustrates how species are connected, showing shared ancestry and how closely related they are based on genetic or physical traits.\n",
    "\n",
    "For example, consider a phylogenetic tree of primates. It reveals how humans, chimpanzees, gorillas, and orangutans share common ancestors and highlights their evolutionary divergence. A phylogenetic tree is essentially a hypothesis that depicts evolutionary pathways and relationships."
   ]
  },
  {
   "cell_type": "markdown",
   "id": "1a34f870-6460-42d3-9729-2753420a3da2",
   "metadata": {},
   "source": [
    "## Why Are Phylogenetic Trees Important?\n",
    "\n",
    "### Phylogenetic trees are essential tools in evolutionary biology and related fields, serving several critical functions:\n",
    "\n",
    "1. **Tracing Evolutionary Pathways:** These trees help scientists understand how different species have evolved over time from common ancestors. They provide insights into the branching patterns and evolutionary relationships between organisms.\n",
    "2. **Mapping Genetic Changes:** By analyzing genetic sequences, phylogenetic trees enable researchers to track genetic changes that have occurred throughout the evolutionary process. This helps in studying the evolution of specific traits or genes across different species.\n",
    "3. **Understanding Biodiversity:** The branching patterns in phylogenetic trees shed light on the diversification of species and the development of new characteristics or traits. This knowledge contributes to our understanding of the vast biodiversity on Earth.\n",
    "4. **Disease Research:** In the context of pathogens, such as viruses or bacteria, phylogenetic trees are invaluable tools for tracking the spread and evolution of diseases. They help identify the origins, transmission pathways, and potential sources of disease outbreaks."
   ]
  },
  {
   "cell_type": "markdown",
   "id": "1feb209f-4e34-4f5f-b1a6-ae3dcfe33fc2",
   "metadata": {},
   "source": [
    "## How Are Phylogenetic Trees Created?\n",
    "### To construct accurate phylogenetic trees, researchers rely on various data sources:\n",
    "\n",
    "1. **Genetic Sequences:** The primary data used in phylogenetic analysis are DNA, RNA, or protein sequences obtained from different species or strains. These sequences are compared to identify similarities and differences.\n",
    "2. **Public Databases:** Genetic sequence data can be accessed from public repositories like GenBank, EMBL, and DDBJ, which maintain comprehensive and annotated genetic information for numerous organisms.\n",
    "3. **Genomic Projects:** Large-scale genomic projects, such as the Human Genome Project or the 1000 Genomes Project, provide extensive datasets that can be utilized for phylogenetic studies.\n",
    "4. **Sequencing Technologies:** Advances in sequencing technologies, like next-generation sequencing (NGS), have made it easier and more cost-effective to obtain high-quality genetic data for a wide range of organisms.\n"
   ]
  },
  {
   "cell_type": "markdown",
   "id": "cb021436-9029-4319-9f33-cf3e0725c72c",
   "metadata": {},
   "source": [
    "## Types of Phylogenetic Trees \n",
    "### Phylogenetic trees can take various forms, each suited to specific research questions and data interpretations. Below are the main types of phylogenetic trees, with examples and visualization code to help you understand their differences.\n",
    "<!-- 1. **Rooted Trees:** These trees have a single ancestral root, representing the common ancestor of all the entities in the tree. The direction of the branches indicates the passage of time and evolutionary divergence.\n",
    "2. **Unrooted Trees:** Unrooted trees do not show a common ancestor but illustrate the relationships among species without indicating the direction of evolutionary time.\n",
    "3. **Cladograms:** Cladograms represent the branching order of evolutionary relationships but do not provide information about the branch lengths or the amount of evolutionary change.\n",
    "4. **Phylograms:** Phylograms provide both the branching order and the branch lengths, indicating the amount of evolutionary change along each branch.\n",
    "5. **Dendrograms:** Similar to phylograms, dendrograms can also include hierarchical clustering, making them useful in various fields like genomics and linguistics.\n",
    "   \n",
    "By studying phylogenetic trees, scientists can gain valuable insights into the evolutionary history, relationships, and diversification of different organisms, ultimately expanding our understanding of the intricate tapestry of life on Earth. -->"
   ]
  },
  {
   "cell_type": "markdown",
   "id": "4719f3d1",
   "metadata": {},
   "source": [
    "#### 1. **Rooted Trees**:\n",
    "\n",
    "A rooted tree includes a single common ancestor, represented by the root, from which all other branches diverge. The direction of the branches shows the passage of time and evolutionary divergence."
   ]
  },
  {
   "cell_type": "code",
   "execution_count": null,
   "id": "fc8b15e4",
   "metadata": {},
   "outputs": [],
   "source": [
    "from Bio import Phylo\n",
    "from io import StringIO\n",
    "import matplotlib.pyplot as plt\n",
    "\n",
    "# Newick format representing a rooted tree for mammals\n",
    "rooted_tree = \"((Human:0.6, Chimpanzee:0.6):0.4, (Dog:0.8, (Cat:0.7, Mouse:0.7):0.3):0.2);\"\n",
    "tree = Phylo.read(StringIO(rooted_tree), \"newick\")\n",
    "\n",
    "# Visualization\n",
    "fig, ax = plt.subplots(figsize=(12, 8))\n",
    "Phylo.draw(tree, axes=ax)\n",
    "ax.set_title(\"Rooted Tree: Evolutionary Relationships Among Mammals\", fontsize=14, weight='bold')\n",
    "plt.show()\n"
   ]
  },
  {
   "cell_type": "markdown",
   "id": "0f8562ba",
   "metadata": {},
   "source": [
    "#### 2. **Unrooted Trees**:\n",
    "\n",
    "Unrooted trees do not indicate a common ancestor. They depict relationships between species without implying evolutionary direction or time."
   ]
  },
  {
   "cell_type": "code",
   "execution_count": null,
   "id": "0bd5679d",
   "metadata": {},
   "outputs": [],
   "source": [
    "from Bio import Phylo\n",
    "from io import StringIO\n",
    "import matplotlib.pyplot as plt\n",
    "\n",
    "# Newick format for an unrooted tree comparing microbial communities\n",
    "unrooted_tree = \"(Bacteria, Archaea, Eukaryota);\"\n",
    "tree = Phylo.read(StringIO(unrooted_tree), \"newick\")\n",
    "\n",
    "# Visualization\n",
    "fig = plt.figure(figsize=(8, 6))\n",
    "ax = fig.add_subplot(1, 1, 1)\n",
    "Phylo.draw(tree, axes=ax)\n",
    "ax.set_title(\"Unrooted Tree: Microbial Communities\", fontsize=14, weight='bold')\n",
    "plt.show()"
   ]
  },
  {
   "cell_type": "markdown",
   "id": "c081b80d",
   "metadata": {},
   "source": [
    "#### 3. **Cladograms**:\n",
    "\n",
    "Cladograms focus on branching order, showing relationships between species but not providing information about branch lengths or evolutionary distances.\n",
    "\n",
    "Visualization Example:"
   ]
  },
  {
   "cell_type": "code",
   "execution_count": null,
   "id": "896268f3",
   "metadata": {},
   "outputs": [],
   "source": [
    "from Bio import Phylo\n",
    "from io import StringIO\n",
    "import matplotlib.pyplot as plt\n",
    "\n",
    "# Newick format for a cladogram (branching order only)\n",
    "cladogram = \"(((Frog, Lizard), (Bird, Mammal)), Fish);\"\n",
    "tree = Phylo.read(StringIO(cladogram), \"newick\")\n",
    "\n",
    "# Visualization\n",
    "fig, ax = plt.subplots(figsize=(10, 8))\n",
    "Phylo.draw(tree, axes=ax)\n",
    "ax.set_title(\"Cladogram: Vertebrate Evolution\", fontsize=14, weight='bold')\n",
    "plt.show()"
   ]
  },
  {
   "cell_type": "markdown",
   "id": "524f1fa5",
   "metadata": {},
   "source": [
    "#### 4. **Phylograms**:\n",
    "    \n",
    "Phylograms provide information on both branching order and branch lengths, which represent evolutionary changes.\n",
    "\n",
    "Visualization Example:"
   ]
  },
  {
   "cell_type": "code",
   "execution_count": null,
   "id": "df161317",
   "metadata": {},
   "outputs": [],
   "source": [
    "from Bio import Phylo\n",
    "from io import StringIO\n",
    "import matplotlib.pyplot as plt\n",
    "\n",
    "# Newick format for a phylogram with branch lengths representing genetic divergence\n",
    "phylogram = \"((Drosophila_melanogaster:0.4, Drosophila_simulans:0.5):0.3, Drosophila_yakuba:0.6);\"\n",
    "tree = Phylo.read(StringIO(phylogram), \"newick\")\n",
    "\n",
    "# Visualization\n",
    "fig, ax = plt.subplots(figsize=(12, 6))\n",
    "Phylo.draw(tree, axes=ax)\n",
    "ax.set_title(\"Phylogram: Genetic Divergence in Fruit Flies\", fontsize=14, weight='bold')\n",
    "plt.show()"
   ]
  },
  {
   "cell_type": "markdown",
   "id": "30a8b1a0",
   "metadata": {},
   "source": [
    "#### 5. **Dendrograms**:\n",
    "    \n",
    "Dendrograms include hierarchical clustering information and are useful in fields like genomics and linguistics.\n",
    "\n",
    "Visualization Example:"
   ]
  },
  {
   "cell_type": "code",
   "execution_count": null,
   "id": "b01c3bbb",
   "metadata": {},
   "outputs": [],
   "source": [
    "from scipy.cluster.hierarchy import dendrogram, linkage\n",
    "import matplotlib.pyplot as plt\n",
    "import numpy as np\n",
    "from scipy.spatial.distance import squareform\n",
    "\n",
    "# Sample data: distances between genes based on expression profiles\n",
    "genes = ['GeneA', 'GeneB', 'GeneC', 'GeneD', 'GeneE']\n",
    "similarity_data = np.array([\n",
    "    [0, 2, 4, 6, 8],\n",
    "    [2, 0, 3, 5, 7],\n",
    "    [4, 3, 0, 2, 4],\n",
    "    [6, 5, 2, 0, 3],\n",
    "    [8, 7, 4, 3, 0]\n",
    "])\n",
    "\n",
    "# Convert similarity matrix to condensed distance format\n",
    "condensed_similarity_data = squareform(similarity_data)\n",
    "\n",
    "# Perform clustering\n",
    "linkage_matrix = linkage(condensed_similarity_data, method='ward')\n",
    "\n",
    "# Plot dendrogram\n",
    "plt.figure(figsize=(10, 7))\n",
    "dendrogram(\n",
    "    linkage_matrix,\n",
    "    labels=genes,\n",
    "    leaf_rotation=45,\n",
    "    leaf_font_size=12,\n",
    "    color_threshold=6\n",
    ")\n",
    "plt.title(\"Dendrogram: Hierarchical Clustering of Genes\", fontsize=14, weight='bold')\n",
    "plt.xlabel(\"Genes\", fontsize=12)\n",
    "plt.ylabel(\"Distance\", fontsize=12)\n",
    "plt.tight_layout()\n",
    "plt.show()"
   ]
  },
  {
   "cell_type": "markdown",
   "id": "bbe297f9",
   "metadata": {},
   "source": [
    "# Summary\n",
    "Phylogenetic trees are like a detective story unraveling the history of life. They offer insights into how organisms evolved, diversified, and adapted to different environments. From understanding human ancestry to tracking diseases like COVID-19, these trees play a crucial role in modern science.\n",
    " \n",
    "To solidify your understanding, engage with the interactive quiz below and test your knowledge of phylogenetic basics."
   ]
  },
  {
   "cell_type": "markdown",
   "id": "c1614b4f",
   "metadata": {
    "tags": []
   },
   "source": [
    "# Interactive Quiz\n",
    "The following quiz will help reinforce the understanding of phylogenetics:"
   ]
  },
  {
   "cell_type": "code",
   "execution_count": null,
   "id": "96d0169b-3b8e-41e9-8423-ab297e8143fe",
   "metadata": {},
   "outputs": [],
   "source": [
    "from jupyterquiz import display_quiz\n",
    "display_quiz('Quiz/QS1.json')"
   ]
  },
  {
   "cell_type": "code",
   "execution_count": null,
   "id": "b8e637b6",
   "metadata": {},
   "outputs": [],
   "source": []
  }
 ],
 "metadata": {
  "kernelspec": {
   "display_name": "conda_python3",
   "language": "python",
   "name": "conda_python3"
  },
  "language_info": {
   "codemirror_mode": {
    "name": "ipython",
    "version": 3
   },
   "file_extension": ".py",
   "mimetype": "text/x-python",
   "name": "python",
   "nbconvert_exporter": "python",
   "pygments_lexer": "ipython3",
   "version": "3.10.15"
  }
 },
 "nbformat": 4,
 "nbformat_minor": 5
}
