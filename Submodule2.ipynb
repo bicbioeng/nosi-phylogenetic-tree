{
 "cells": [
  {
   "cell_type": "markdown",
   "id": "ce2ca986-b0d9-43b1-8928-00dfbf050a84",
   "metadata": {},
   "source": [
    "# Submodule2: Collect and prepare sequence data and analysis:"
   ]
  },
  {
   "cell_type": "markdown",
   "id": "259677a7",
   "metadata": {},
   "source": [
    "# Learning Objectives:\n",
    "In submodule 2 we will leverage the fundamental concepts from [**Submodule 1**](./SubModule1.ipynb) to do the following:\n",
    "- Demonstrate different ways of extracting dataset\n",
    "- Preparing those data for phylogenetic analysis\n",
    "- Discuss how cloud solutions can be helpful on all these things\n",
    "- Implement Quality Control checks on the dataset"
   ]
  },
  {
   "cell_type": "markdown",
   "id": "7805b2a7",
   "metadata": {},
   "source": [
    "----------------------------------------------------------------------------------------------------------------\n",
    "# Training Plan \n"
   ]
  },
  {
   "cell_type": "markdown",
   "id": "58931161",
   "metadata": {},
   "source": [
    "Submodule #1: Understanding the Basics of Phylogenetic\n",
    "\n",
    "<font color=\"green\"> **Submodule #2: Collect and Prepare Sequence Data and Analysis** </font>\n",
    "\n",
    "Submodule #3: Construct Phylogenetic Tree\n",
    "\n",
    " \n",
    "Submodule #4: Analyze Phylogenetic Tree"
   ]
  },
  {
   "cell_type": "markdown",
   "id": "a004ca3b",
   "metadata": {},
   "source": [
    "----------------------------------------------------------------------------------------------------------------"
   ]
  },
  {
   "cell_type": "markdown",
   "id": "a4ef0389-80cf-40e1-ac52-c1e75b28ce0e",
   "metadata": {},
   "source": [
    "## 2.1 Efficient Methods for Sourcing Pathogen Sequences\n",
    "\n",
    "Efficient sourcing and preparation of sequence data are critical for accurate phylogenetic analysis.\n",
    "\n",
    "### Steps to Source Pathogen Sequences\n",
    "1. **Public Databases:**\n",
    "   - Access public repositories like **GenBank**, **EMBL**, and **DDBJ** to retrieve high-quality, annotated genetic data.\n",
    "2. **Automated Sequence Retrieval Tools:**\n",
    "   - Tools like **Entrez Direct** and **Biopython** simplify sequence retrieval and minimize manual errors.\n",
    "3. **Preprocessing Tools:**\n",
    "   - Use tools like **Trimmomatic** or **Cutadapt** to remove low-quality reads and adapters from the sequences.\n",
    "4. **Sequence Alignment:**\n",
    "   - Use alignment tools like **MAFFT** or **ClustalW** to align sequences, ensuring proper alignment for downstream analysis."
   ]
  },
  {
   "cell_type": "markdown",
   "id": "b891ee4d-809f-4b9f-998c-b5c72b2364a4",
   "metadata": {
    "tags": []
   },
   "source": [
    "<div style=\"padding: 10px; border: 1px solid #b3e5fc; border-radius: 5px; background-color: #e1f5fe;\">\n",
    "    <strong>Tip:</strong>💡 Use advanced search options in public databases to filter results based on organism, region, or gene of interest.\n",
    "</div>"
   ]
  },
  {
   "cell_type": "markdown",
   "id": "ef2d5045-66d7-46fe-a4d4-3476c1948a1f",
   "metadata": {
    "tags": []
   },
   "source": [
    "<div style=\"padding: 10px; border: 1px solid #b3e5fc; border-radius: 5px; background-color: #e1f5fe;\">\n",
    "    <strong>Note:</strong> 📝 Validate the alignment using metrics like alignment scores to avoid errors during tree construction.\n",
    "</div>"
   ]
  },
  {
   "cell_type": "markdown",
   "id": "8e29c985-eb0d-40f9-80ae-31d3c71358bf",
   "metadata": {},
   "source": [
    "<div style=\"padding: 10px; border: 1px solid #ffccbc; border-radius: 5px; background-color: #ffebee;\">\n",
    "    <strong>Alert:</strong>⚠️ Poor preprocessing can lead to errors in alignment and tree construction.\n",
    "</div>"
   ]
  },
  {
   "cell_type": "markdown",
   "id": "bbe7bffb-431b-4518-8c64-7ca50ea1e996",
   "metadata": {},
   "source": [
    "## 2.2 Importance of Cloud-Based Storage Solutions\n",
    "\n",
    "Cloud-based storage solutions simplify the management of large-scale sequence data.\n",
    "\n",
    "### Benefits of Cloud-Based Solutions\n",
    "1. **Scalability:** Handle large datasets without local storage constraints.\n",
    "2. **Accessibility:** Enable real-time collaboration by making datasets accessible from any location.\n",
    "3. **Cost-Effectiveness:** Pay-as-you-go models minimize costs by charging only for used resources.\n",
    "4. **Data Security and Backup:** Automatic backups and encryption protect datasets from loss or breaches."
   ]
  },
  {
   "cell_type": "markdown",
   "id": "c28b6053-fd45-4a9c-b8db-4092fad73f68",
   "metadata": {},
   "source": [
    "<div style=\"padding: 10px; border: 1px solid #b3e5fc; border-radius: 5px; background-color: #e1f5fe;\">\n",
    "    <strong>Note:</strong> 📝 Consider using established platforms like AWS, Google Cloud, or Azure to streamline data storage and processing.\n",
    "</div>"
   ]
  },
  {
   "cell_type": "markdown",
   "id": "a2cef563-a086-494c-9e3e-2096616e540a",
   "metadata": {},
   "source": [
    "<div style=\"padding: 10px; border: 1px solid #b3e5fc; border-radius: 5px; background-color: #e1f5fe;\">\n",
    "    <strong>Tip:</strong>💡 Leverage genomic analysis services offered by cloud providers for faster processing.\n",
    "</div>"
   ]
  },
  {
   "cell_type": "markdown",
   "id": "c493fef6-c6b5-4058-8aea-1a094d8feb1f",
   "metadata": {},
   "source": [
    "## 2.3 Enhancing Analysis with Publicly Available Datasets\n",
    "\n",
    "Publicly available datasets improve the depth and accuracy of phylogenetic analyses.\n",
    "\n",
    "### Benefits of Public Datasets\n",
    "1. **Increased Data Volume:** Larger datasets improve statistical power and robustness.\n",
    "2. **Comparative Analysis:** Analyze trends across species or geographic regions using existing data.\n",
    "3. **Validation and Reproducibility:** Public datasets enable reproducible research.\n",
    "4. **Collaborative Research:** Shared datasets foster collaboration and knowledge-sharing among researchers."
   ]
  },
  {
   "cell_type": "markdown",
   "id": "e1120e92-6449-4a90-b2b9-01fe796bbcae",
   "metadata": {},
   "source": [
    "<div style=\"padding: 10px; border: 1px solid #b3e5fc; border-radius: 5px; background-color: #e1f5fe;\">\n",
    "    <strong>Note:</strong> 📝  Verify the format and metadata compatibility of public datasets before integrating them into your analysis pipeline.\n",
    "</div>"
   ]
  },
  {
   "cell_type": "markdown",
   "id": "f104290f-4fc9-4e61-9473-968c03be0f3d",
   "metadata": {},
   "source": [
    "# Create data directory to store data\n",
    "To manage datasets efficiently, it is essential to organize them into directories. This ensures that all related files are stored systematically and can be accessed without confusion. The following Python code automates this process:"
   ]
  },
  {
   "cell_type": "code",
   "execution_count": null,
   "id": "8fa8e9f8-1279-4bbf-b4a4-6535e34f5737",
   "metadata": {},
   "outputs": [],
   "source": [
    "import os\n",
    "data_dir = os.path.isdir('./data')\n",
    "if not data_dir:\n",
    "    !mkdir data"
   ]
  },
  {
   "cell_type": "markdown",
   "id": "2de317f8",
   "metadata": {},
   "source": [
    "This code checks if a directory named data exists in the current working directory. If it does not exist, it creates the directory. This is useful for organizing and storing datasets."
   ]
  },
  {
   "cell_type": "markdown",
   "id": "bbd3190a-88b9-4d99-8b84-ea7f6c45e2bf",
   "metadata": {},
   "source": [
    "## Understanding the SARS-CoV-2 Dataset\n",
    "\n",
    "The **SARS-CoV-2 dataset** contains genetic sequence data for the virus responsible for the COVID-19 pandemic. This dataset is widely used in phylogenetic studies to track mutations, understand evolutionary relationships, and analyze the spread of the virus globally.\n",
    "\n",
    "### **Key Components of the SARS-CoV-2 Dataset**\n",
    "1. **Genetic Sequences:**\n",
    "   - The dataset typically contains nucleotide or protein sequences for various strains of the virus.\n",
    "   - These sequences are vital for studying how the virus evolves over time and across different regions.\n",
    "\n",
    "2. **Metadata:**\n",
    "   - Associated metadata includes information such as:\n",
    "     - Geographic location of sample collection.\n",
    "     - Date of sample collection.\n",
    "     - Variant classification or lineage (e.g., Delta, Omicron).\n",
    "   - Metadata enhances analysis by providing context for understanding variations across samples.\n",
    "\n",
    "3. **Applications:**\n",
    "   - **Phylogenetic Analysis:** Track how different strains of the virus are related.\n",
    "   - **Mutation Analysis:** Identify specific mutations and their impacts on viral behavior (e.g., transmissibility or resistance to vaccines).\n",
    "   - **Epidemiological Studies:** Analyze how the virus spreads in specific populations.\n",
    "\n",
    "### **Sources of SARS-CoV-2 Data**\n",
    "1. **Nextstrain Project:**\n",
    "   - A global initiative providing curated datasets for viral evolution studies.\n",
    "   - SARS-CoV-2 datasets from Nextstrain are preprocessed for downstream phylogenetic analysis.\n",
    "   - Visit the [Nextstrain documentation](https://docs.nextstrain.org/projects/nextclade/en/stable/user/datasets.html) for more details.\n",
    "\n",
    "2. **NCBI Virus Database:**\n",
    "   - A comprehensive resource for viral sequences and metadata.\n",
    "   - The NCBI database allows users to search by strain, variant, or geographic location.\n",
    "   - Access the NCBI SARS-CoV-2 dataset [here](https://www.ncbi.nlm.nih.gov/labs/virus/vssi/#/virus?SeqType_s=Nucleotide&VirusLineage_ss=taxid:2697049&USAState_s=SD).\n",
    "\n",
    "### **Why Use SARS-CoV-2 Data?**\n",
    "1. **Scientific Relevance:**\n",
    "   - SARS-CoV-2 remains a high-priority topic for research due to its global impact.\n",
    "   - Understanding its genetic evolution helps predict future outbreaks and design effective vaccines.\n",
    "\n",
    "2. **Real-World Applications:**\n",
    "   - This dataset is used in vaccine development, drug resistance studies, and public health policies.\n",
    "   - It is also a benchmark for testing bioinformatics tools in a real-world context."
   ]
  },
  {
   "cell_type": "markdown",
   "id": "c1bc514b-0c83-4280-817d-a96d119aab77",
   "metadata": {},
   "source": [
    "<div style=\"padding: 10px; border: 1px solid #b3e5fc; border-radius: 5px; background-color: #e1f5fe;\">\n",
    "    <strong>Tip:</strong>💡 Always cross-check the integrity and annotation quality of sequences before using them in your analysis.\n",
    "</div>"
   ]
  },
  {
   "cell_type": "markdown",
   "id": "550bbceb-0775-45be-9f13-7a894e40965b",
   "metadata": {},
   "source": [
    "## Download SARS-Cov-2 Dataset"
   ]
  },
  {
   "cell_type": "code",
   "execution_count": null,
   "id": "150d58da-941e-4112-8020-4a3fcbc5e6a5",
   "metadata": {},
   "outputs": [],
   "source": [
    "import os\n",
    "\n",
    "# Check if the directory exists\n",
    "cov_dir = os.path.isdir('./data/cov')\n",
    "\n",
    "# If the directory does not exist, create it\n",
    "if not cov_dir:\n",
    "    try:\n",
    "        os.makedirs('./data/cov/')\n",
    "        print(\"Directory created successfully\")\n",
    "    except Exception as e:\n",
    "        print(f\"An error occurred: {e}\")"
   ]
  },
  {
   "cell_type": "markdown",
   "id": "a7774a96",
   "metadata": {},
   "source": [
    "### NCBI SARS-CoV-2 sequence file."
   ]
  },
  {
   "cell_type": "markdown",
   "id": "9dab4724",
   "metadata": {},
   "source": [
    "#### Subset of the data \n",
    "The subset of the data use for tutorial (./data/cov/sequence_PQ230960.fasta). The full data require heavy compute resource (./data/cov/sequence.fasta)."
   ]
  },
  {
   "cell_type": "markdown",
   "id": "7b0fb3b4-9e81-4228-a159-a5bf2b1a9179",
   "metadata": {},
   "source": [
    "### Data Preparation\n",
    "**Convert the .fasta file to .fastq format using the following Python code:**\n"
   ]
  },
  {
   "cell_type": "code",
   "execution_count": null,
   "id": "4e74d5fb-729c-4494-b2ee-7330a8be297b",
   "metadata": {},
   "outputs": [],
   "source": [
    "from Bio import SeqIO\n",
    "\n",
    "\n",
    "def fasta_to_fastq(fasta_file, fastq_file, quality=40):\n",
    "    with open(fastq_file, \"w\") as output_handle:\n",
    "        for record in SeqIO.parse(fasta_file, \"fasta\"):\n",
    "            record.letter_annotations[\"phred_quality\"] = [quality] * len(record.seq)\n",
    "            SeqIO.write(record, output_handle, \"fastq\")\n",
    "\n",
    "\n",
    "if __name__ == '__main__':\n",
    "    fasta_file = \"./data/cov/sequences_subset.fasta\"\n",
    "    fastq_file = \"./data/cov/sequences_subset_converted.fastq\"\n",
    "    fasta_to_fastq(fasta_file=fasta_file, fastq_file=fastq_file)\n"
   ]
  },
  {
   "cell_type": "markdown",
   "id": "04b30c7d",
   "metadata": {},
   "source": [
    "This code converts a .fasta file containing SARS-CoV-2 sequence data to .fastq format using Biopython. The fasta_to_fastq function takes a default quality score of 40 for all sequences, which is typical for high-quality sequence data."
   ]
  },
  {
   "cell_type": "markdown",
   "id": "42872fd7-3f52-4c59-81b0-10a81aafe89b",
   "metadata": {},
   "source": [
    "## 2.4 Quality Control Checks\n",
    "\n",
    "Quality control ensures the reliability and accuracy of sequence data.\n",
    "\n",
    "### Steps for Quality Control\n",
    "1. **Install and Configure FastQC:**\n",
    "   - Ensure a **Java Runtime Environment (JRE)** is installed.\n",
    "   - **Ubuntu Command:** `sudo apt install default-jre`\n",
    "   - **RedHat Command:** `sudo yum install java-1.8.0-openjdk`\n",
    "   - Verify installation:\n",
    "     ```bash\n",
    "     java --version\n",
    "     fastqc --version\n",
    "     ```\n",
    "\n",
    "2. **Run FastQC:**\n",
    "   - Analyze the quality of `.fastq` files with the following command:"
   ]
  },
  {
   "cell_type": "markdown",
   "id": "7b2d6762-8953-43e4-8220-dd63313981bb",
   "metadata": {},
   "source": [
    "<div style=\"padding: 10px; border: 1px solid #ffccbc; border-radius: 5px; background-color: #ffebee;\">\n",
    "    <strong>Alert:</strong>⚠️ Address low-quality sequences and high adapter content before proceeding to sequence alignment.\n",
    "</div>"
   ]
  },
  {
   "cell_type": "markdown",
   "id": "66cdc713-0d63-48ba-8dde-ed9448bc1306",
   "metadata": {},
   "source": [
    "### Run FastQC"
   ]
  },
  {
   "cell_type": "code",
   "execution_count": null,
   "id": "dea022ee-cab1-4d8b-82ae-2b1682551362",
   "metadata": {
    "tags": []
   },
   "outputs": [],
   "source": [
    "!fastqc -t 4 ./data/cov/sequences_subset_converted.fastq"
   ]
  },
  {
   "cell_type": "markdown",
   "id": "8ab30da3-e22e-44e0-97c3-d71f25ef06f7",
   "metadata": {},
   "source": [
    "## Interactive Quiz\n",
    "\n",
    "Test your understanding of sequence data preparation and quality control using this interactive quiz:"
   ]
  },
  {
   "cell_type": "code",
   "execution_count": null,
   "id": "491a05a0",
   "metadata": {
    "tags": []
   },
   "outputs": [],
   "source": [
    "from jupyterquiz import display_quiz\n",
    "display_quiz('Quiz/QS2.json')"
   ]
  },
  {
   "cell_type": "markdown",
   "id": "7ea98ed9-dba4-430c-bd41-d77aaac8f608",
   "metadata": {},
   "source": [
    "# More Datasets to explore"
   ]
  },
  {
   "cell_type": "markdown",
   "id": "c551e82f-d6c0-485a-84d8-ba6ab6f04058",
   "metadata": {},
   "source": [
    "### KEGG Dataset:\n",
    "Dataset 1: KEGG for Phylogenetic Tree\n",
    "Downloading KEGG Dataset\n",
    "**KEGG (Kyoto Encyclopedia of Genes and Genomes)** provides a wealth of data for understanding high-level functions and utilities of biological systems. To download KEGG data:\n",
    "1. Access KEGG Dataset: KEGG provides a website for data retrieval.\n",
    "    - https://www.genome.jp/kegg/seq/\n",
    "2. Downloaded file from FASTA sequence files section on the website.\n",
    "    - More resources on KEGG: https://www.genome.jp/kegg/\n"
   ]
  },
  {
   "cell_type": "markdown",
   "id": "7a27dde2-52a8-44b4-8463-e5c8412362c8",
   "metadata": {},
   "source": [
    "## Download KEGG dataset from URL"
   ]
  },
  {
   "cell_type": "markdown",
   "id": "c5f79c10-5ea1-4d86-9648-b5a719572667",
   "metadata": {},
   "source": [
    "### Create Kegg folder to store data"
   ]
  },
  {
   "cell_type": "code",
   "execution_count": null,
   "id": "bea11637-3a5f-4ce6-a874-f38f681d2ae0",
   "metadata": {},
   "outputs": [],
   "source": [
    "import os\n",
    "\n",
    "# Check if the directory exists\n",
    "kegg_dir = os.path.isdir('./data/kegg')\n",
    "\n",
    "# If the directory does not exist, create it\n",
    "if not kegg_dir:\n",
    "    try:\n",
    "        os.makedirs('./data/kegg/')\n",
    "        print(\"Directory created successfully\")\n",
    "    except Exception as e:\n",
    "        print(f\"An error occurred: {e}\")"
   ]
  },
  {
   "cell_type": "markdown",
   "id": "c7b3d154-518a-41c3-afb2-92e8913765e8",
   "metadata": {},
   "source": [
    "## Uniport Dataset\n",
    "Dataset 2: UniProt for Phylogenetic Tree\n",
    "Downloading UniProt Dataset\n",
    "UniProt is a comprehensive resource for protein sequence and functional information. To download UniProt data:\n",
    "1. Access UniProt Website: Visit the UniProt website and search for the desired protein sequences.\n",
    "2. Retrieve Data: Downloaded the Isoform sequences fasta file from the website.\n",
    "    - File name: uniprot_sprot_varsplic.fasta"
   ]
  },
  {
   "cell_type": "markdown",
   "id": "8de6f7bf-f67e-40c8-8fc1-f56076ad0bf7",
   "metadata": {},
   "source": [
    "## Download Uniport Dataset from URL"
   ]
  },
  {
   "cell_type": "code",
   "execution_count": null,
   "id": "22071134-8b6f-4dcd-8d34-2703cc064699",
   "metadata": {},
   "outputs": [],
   "source": [
    "import os\n",
    "\n",
    "# Check if the directory exists\n",
    "uniport_dir = os.path.isdir('./data/uniport')\n",
    "\n",
    "# If the directory does not exist, create it\n",
    "if not uniport_dir:\n",
    "    try:\n",
    "        os.makedirs('./data/uniport/')\n",
    "        print(\"Directory created successfully\")\n",
    "    except Exception as e:\n",
    "        print(f\"An error occurred: {e}\")"
   ]
  },
  {
   "cell_type": "markdown",
   "id": "34dd36ef",
   "metadata": {},
   "source": [
    "# Installations"
   ]
  },
  {
   "cell_type": "code",
   "execution_count": null,
   "id": "3673dc77-b348-4f50-992d-4d4dbc4405ad",
   "metadata": {
    "tags": []
   },
   "outputs": [],
   "source": [
    "!pip install biopython"
   ]
  },
  {
   "cell_type": "code",
   "execution_count": null,
   "id": "5ea267cb-9b4f-4ca4-a404-2698a76da8e7",
   "metadata": {},
   "outputs": [],
   "source": [
    "!conda install bioconda::fastqc -y"
   ]
  },
  {
   "cell_type": "code",
   "execution_count": null,
   "id": "5c4b8b5d-d7c2-4baf-9bf0-e6cc84ad855b",
   "metadata": {},
   "outputs": [],
   "source": []
  }
 ],
 "metadata": {
  "kernelspec": {
   "display_name": "conda_python3",
   "language": "python",
   "name": "conda_python3"
  },
  "language_info": {
   "codemirror_mode": {
    "name": "ipython",
    "version": 3
   },
   "file_extension": ".py",
   "mimetype": "text/x-python",
   "name": "python",
   "nbconvert_exporter": "python",
   "pygments_lexer": "ipython3",
   "version": "3.10.14"
  }
 },
 "nbformat": 4,
 "nbformat_minor": 5
}
