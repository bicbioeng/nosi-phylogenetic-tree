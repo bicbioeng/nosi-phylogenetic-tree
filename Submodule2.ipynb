{
 "cells": [
  {
   "cell_type": "markdown",
   "id": "ce2ca986-b0d9-43b1-8928-00dfbf050a84",
   "metadata": {},
   "source": [
    "# **University of South Dakota: Phylogenetic Analysis**\n",
    "\n",
    "## **Submodule #2: Collect and Prepare Sequence Data**\n",
    "\n",
    "### **Primary Objective**\n",
    "Introduce learners to the essential steps for data collection, and preparation required for phylogenetic analysis. This module focuses on organizing sequence data and ensuring readiness for downstream analysis.\n",
    "\n",
    "### **Overview**\n",
    "- **What You'll Learn:**\n",
    "  - Explore datasets, including `sequences.fasta`.\n",
    "    \n",
    "\n",
    "\n"
   ]
  },
  {
   "cell_type": "markdown",
   "id": "259677a7",
   "metadata": {},
   "source": [
    "### **Learning Objectives:**\n",
    "In submodule 2 we will leverage the fundamental concepts from [**Submodule 1**](./SubModule1.ipynb) to do the following:\n",
    "- Demonstrate different ways of extracting dataset\n",
    "- Preparing those data for phylogenetic analysis\n"
   ]
  },
  {
   "cell_type": "markdown",
   "id": "a004ca3b",
   "metadata": {},
   "source": [
    "----------------------------------------------------------------------------------------------------------------"
   ]
  },
  {
   "cell_type": "markdown",
   "id": "a4ef0389-80cf-40e1-ac52-c1e75b28ce0e",
   "metadata": {},
   "source": [
    "### **2.1 Efficient Methods for Sourcing Pathogen Sequences**\n",
    "\n",
    "Efficient sourcing and preparation of sequence data are critical for accurate phylogenetic analysis.\n",
    "\n",
    "#### **Steps to Source Pathogen Sequences**\n",
    "1. **Public Databases:**\n",
    "   - Access public repositories like *GenBank*, *EMBL*, and *DDBJ* to retrieve high-quality, annotated genetic data.\n",
    "2. **Automated Sequence Retrieval Tools:**\n",
    "   - Tools like *Entrez Direct* and *Biopython* simplify sequence retrieval and minimize manual errors.\n",
    "4. **Sequence Alignment:**\n",
    "   - Use alignment tool like *MAFFT* to align sequences, ensuring proper alignment for downstream analysis."
   ]
  },
  {
   "cell_type": "markdown",
   "id": "b891ee4d-809f-4b9f-998c-b5c72b2364a4",
   "metadata": {
    "tags": []
   },
   "source": [
    "<div style=\"padding: 10px; border: 1px solid #b3e5fc; border-radius: 5px; background-color: #e1f5fe;\">\n",
    "    <strong>Tip:</strong>💡 Use advanced search options in public databases to filter results based on organism, region, or gene of interest.\n",
    "</div>"
   ]
  },
  {
   "cell_type": "markdown",
   "id": "c493fef6-c6b5-4058-8aea-1a094d8feb1f",
   "metadata": {},
   "source": [
    "### **2.2 Enhancing Analysis with Publicly Available Datasets**\n",
    "\n",
    "Publicly available datasets improve the depth and accuracy of phylogenetic analyses.\n",
    "\n",
    "#### **Benefits of Public Datasets**\n",
    "1. <u>Increased Data Volume</u>:  Larger datasets improve statistical power and robustness.\n",
    "2. <u>Comparative Analysis</u>:  Analyze trends across species or geographic regions using existing data.\n",
    "3. <u>Validation and Reproducibility</u>:  Public datasets enable reproducible research.\n",
    "4. <u>Collaborative Research</u>:  Shared datasets foster collaboration and knowledge-sharing among researchers."
   ]
  },
  {
   "cell_type": "markdown",
   "id": "e1120e92-6449-4a90-b2b9-01fe796bbcae",
   "metadata": {},
   "source": [
    "<div style=\"padding: 10px; border: 1px solid #b3e5fc; border-radius: 5px; background-color: #e1f5fe;\">\n",
    "    <strong>Note:</strong> 📝  Verify the format and metadata compatibility of public datasets before integrating them into your analysis pipeline.\n",
    "</div>"
   ]
  },
  {
   "cell_type": "markdown",
   "id": "bbd3190a-88b9-4d99-8b84-ea7f6c45e2bf",
   "metadata": {},
   "source": [
    "### **2.3 Understanding the SARS-CoV-2 Dataset**\n",
    "\n",
    "The **SARS-CoV-2 dataset** contains genetic sequence data for the virus responsible for the COVID-19 pandemic. This dataset is widely used in phylogenetic studies to track mutations, understand evolutionary relationships, and analyze the spread of the virus globally.\n",
    "\n",
    "#### **Key Components of the SARS-CoV-2 Dataset**\n",
    "1. **Genetic Sequences:**\n",
    "   - The dataset typically contains nucleotide or protein sequences for various strains of the virus.\n",
    "   - These sequences are vital for studying how the virus evolves over time and across different regions.\n",
    "\n",
    "2. **Metadata:**\n",
    "   - Associated metadata includes information such as:\n",
    "     - Geographic location of sample collection.\n",
    "     - Date of sample collection.\n",
    "     - Variant classification or lineage (e.g., Delta, Omicron).\n",
    "   - Metadata enhances analysis by providing context for understanding variations across samples.\n",
    "\n",
    "3. **Applications:**\n",
    "   - <u>Phylogenetic Analysis</u>: Track how different strains of the virus are related.\n",
    "   - <u>Mutation Analysis</u>: Identify specific mutations and their impacts on viral behavior (e.g., transmissibility or resistance to vaccines).\n",
    "   - <u>Epidemiological Studies</u>: Analyze how the virus spreads in specific populations.\n",
    "\n",
    "#### **Sources of SARS-CoV-2 Data**\n",
    "1. **Nextstrain Project:**\n",
    "   - A global initiative providing curated datasets for viral evolution studies.\n",
    "   - SARS-CoV-2 datasets from Nextstrain are preprocessed for downstream phylogenetic analysis.\n",
    "   - Visit the [Nextstrain documentation](https://docs.nextstrain.org/projects/nextclade/en/stable/user/datasets.html) for more details.\n",
    "\n",
    "2. **NCBI Virus Database:**\n",
    "   - A comprehensive resource for viral sequences and metadata.\n",
    "   - The NCBI database allows users to search by strain, variant, or geographic location.\n",
    "   - Access the NCBI SARS-CoV-2 dataset [here](https://www.ncbi.nlm.nih.gov/labs/virus/vssi/#/virus?SeqType_s=Nucleotide&VirusLineage_ss=taxid:2697049&USAState_s=SD).\n",
    "\n",
    "#### **Why Use SARS-CoV-2 Data?**\n",
    "1. **Scientific Relevance:**\n",
    "   - SARS-CoV-2 remains a high-priority topic for research due to its global impact.\n",
    "   - Understanding its genetic evolution helps predict future outbreaks and design effective vaccines.\n",
    "\n",
    "2. **Real-World Applications:**\n",
    "   - This dataset is used in vaccine development, drug resistance studies, and public health policies.\n",
    "   - It is also a benchmark for testing bioinformatics tools in a real-world context."
   ]
  },
  {
   "attachments": {},
   "cell_type": "markdown",
   "id": "931dcccd-3885-40d4-9f82-3533a4757686",
   "metadata": {},
   "source": [
    "### **2.4 Let’s Do an Example: Downloading SARS-CoV-2 Data from NCBI**\n",
    "To help you get started, let’s walk through an example of downloading SARS-CoV-2 genetic sequence data from NCBI.\n",
    "\n",
    "\n",
    "**Step 1: Access NCBI Virus Database**\n",
    "1. Open your web browser and go to the [NCBI Virus Website](https://www.ncbi.nlm.nih.gov/labs/virus/vssi/#/)\n",
    "2. The homepage will show a search bar and various filtering options.\n",
    "   \n",
    "**Step 2: Search for SARS-CoV-2 Sequences**\n",
    "1. In the search bar, type *Severe acute respiratory syndrome coronavirus 2*, or use the `taxonomy ID: 2697049`.\n",
    "\n",
    "2. Use the filters on the left sidebar to refine your search:\n",
    "   - **Geographic Region**: Scroll down to the Geographic Region section in the left sidebar. Click on Search All Geo Locations, then expand the list for USA. From the USA list, select your specific state or region. For this example, select South Dakota (SD).\n",
    "\n",
    "   - **Collection Date** (Optional): Select a date range, such as 2023-01-01 to 2023-03-31, to include only sequences collected within a specific timeframe. \n",
    "     ***Note***:\n",
    "              Choosing a larger date range will result in more data, which may require more computational resources to process. For example:\n",
    "     1. A full year's data will generate a significantly larger dataset, requiring multi-core CPUs and at least 16GB of RAM to handle alignment or phylogenetic analysis efficiently.\n",
    "     2. Selecting a smaller date range, such as two months (e.g., 2023-01-01 to 2023-02-28), will produce a smaller dataset that can execute faster and work well on machines with limited resources.\n",
    "   ***It's recommended to tailor your date range based on the scope of your analysis and the computational power available.***\n",
    "   - **Sequence Type**: Choose \"Nucleotide\" for genomic sequence\n",
    "     \n",
    "**Step 3: Select the Desired Sequences**\n",
    "1. Look through the search results and check the metadata, like location, collection date, or lineage, to make sure the sequences match your needs.\n",
    "2. If you want to select specific sequences, click the checkbox next to them.\n",
    "3. Alternatively, let’s say I select all sequences instead of individual ones. In this case, I can skip selecting specific checkboxes and go directly to the Download button at the top of the page. This will include all sequences from the filtered search results.\n",
    "\n",
    "\n",
    "**Step 4: Download the Sequences**\n",
    "1. Click the Download button at the top of the page.\n",
    "2. After clicking the Download button, a new window will appear, as shown in the screenshot.\n",
    "\n",
    "3. In Step 1 of 3, select Nucleotide under the Sequence Data (FASTA format) option. This ensures that the downloaded file contains nucleotide sequences in the standard FASTA format, which is commonly used for bioinformatics analyses.\n",
    "4. Click Next to proceed.\n",
    "5. Choose Download All Records to include all the filtered sequences (e.g., 554 records in this example). Alternatively, you can choose Download Selected Records if you have manually selected specific sequences in the results list.\n",
    "6. After making your choice, click Next to proceed.\n",
    "7. In this final step, you’ll be asked to choose the FASTA definition line format.\n",
    "8. Select the Use default option, which includes the Accession and GenBank Title, to proceed with standard formatting for the downloaded sequences.\n",
    "9. Click the Download button to save the FASTA file to your system.\n",
    "\n",
    "   The following image provides a step-by-step visual guide on how to download the sequence.fasta file. Each screenshot is labeled in sequential order (1, 2, 3) for clarity.\n",
    "   ![image-ncbi](images/ncbi3.png)"
   ]
  },
  {
   "cell_type": "markdown",
   "id": "c1bc514b-0c83-4280-817d-a96d119aab77",
   "metadata": {},
   "source": [
    "<div style=\"padding: 10px; border: 1px solid #b3e5fc; border-radius: 5px; background-color: #e1f5fe;\">\n",
    "    <strong>Tip:</strong>💡 Always cross-check the integrity and annotation quality of sequences before using them in your analysis.\n",
    "</div>"
   ]
  },
  {
   "cell_type": "markdown",
   "id": "d9f50bc3-ad7b-4fb5-8c0b-751a5d194d31",
   "metadata": {},
   "source": [
    "#### **Cross-Checking Sequence Integrity & Annotation Quality**"
   ]
  },
  {
   "cell_type": "markdown",
   "id": "13804c7a-2842-421c-b055-8b26a99df7ae",
   "metadata": {},
   "source": [
    "Before analysis, verify the following:\n",
    "\n",
    "- **File Integrity & Format** – Ensure the FASTA file is correctly formatted, with headers (> identifier) and valid nucleotide bases (A, T, G, C, N).\n",
    "  \n",
    "- **Completeness** – Check for truncated sequences or excessive \"N\" characters. Ensure reasonable sequence length.\n",
    "\n",
    "- **Annotation Accuracy** – Confirm taxonomy (txid2697049), metadata (e.g., \"South Dakota\"), and consistency in annotations."
   ]
  },
  {
   "cell_type": "markdown",
   "id": "434d3686-806b-4aa3-ae2c-0e0326f7a84c",
   "metadata": {},
   "source": [
    "**Quick Check Example:**"
   ]
  },
  {
   "cell_type": "code",
   "execution_count": null,
   "id": "b826b89e-2dbf-475d-9f8d-c08f368a5e58",
   "metadata": {},
   "outputs": [],
   "source": [
    "!head -n 10 ./data/cov/sequence/sequences.fasta\n"
   ]
  },
  {
   "cell_type": "markdown",
   "id": "d18f0ccb-af2c-4a70-b75c-f5a581813d55",
   "metadata": {},
   "source": [
    "Suppose it produces results in the following format:\n",
    "\n",
    "\">PQ649471.1 | Severe acute respiratory syndrome coronavirus 2 isolate SARS-CoV-2/human/USA/SD-UW-23020804223/2023 ORF1ab polyprotein (ORF1ab), ORF1a polyprotein (ORF1ab), surface glycoprotein (S), ORF3a protein (ORF3a), envelope protein (E), membrane glycoprotein (M), ORF6 protein (ORF6), ORF7a protein (ORF7a), ORF7b (ORF7b), ORF8 protein (ORF8), nucleocapsid phosphoprotein (N), and ORF10 protein (ORF10) genes, complete cds\n",
    "\n",
    "TCGTCCGTGTTGCAGCCAATCATCAGCACATCTAGGTTTTGTCCGGGTGTGACCGAAAGG\n",
    "TAAGATGGAGAGCCTTGTCCCTGGTTTCAACGAGAAAACACACGTCCAACTCAGTTTGCC\n",
    "TGTTTTACAGGTTCGCGACGTGCTCGTACGTGGCTTTGGAGACTCCGTGGAGGAGGTCTT\n",
    "ATCAGAGGCACGTCAACATCTTAAAGATGGCACTTGTGGCTTAGTAGAAGTTGAAAAAGG\n",
    "CGTTTTGCCTCAACTTGAACAGCCCTATGTGTTCATCAAACGTTCGGATGCTCGAACTGC\n",
    "ACCTCATGGTCATGTTATGGTTGAGCTGGTAGCAGAACTCGAAGGCATTCAGTACGGTCG\n",
    "TAGTGGTGAGACACTTGGTGTCCTTGTCCCTCATGTGGGCGAAATACCAGTGGCTTACCG\n",
    "CAAGGTTCTTCTTCGTAAGAACGGTAATAAAGGAGCTGGTGGCCATAGGTACGGCGCCGA\n",
    "TCTAAAGTCATTTGACTTAGGCGACGAGCTTGGCACTGATCCTTATGAAGATTTTCAAGA\"\n",
    "\n",
    "- Header Format – The header starts with > and contains a unique identifier (PQ649471.1), organism information (SARS-CoV-2/human/USA/SD-UW-23020804223/2023), and gene descriptions. It appears well-annotated.\n",
    "- Sequence Integrity – Only valid nucleotide bases (A, T, G, C) are present, with no excessive \"N\" characters or gaps.\n",
    "- Metadata Consistency – Matches known SARS-CoV-2 sequences, including genes such as ORF1ab, S, M, N, etc."
   ]
  },
  {
   "cell_type": "markdown",
   "id": "1dab4943-9eb2-45be-8577-80ea1097b6e6",
   "metadata": {},
   "source": [
    "#### **Alternative CLI method for advance user (recommend to run in terminal instead of jupyter notebook)**\n",
    "\n",
    "Downloading FASTA sequences from NCBI using the Command Line Interface (CLI) involves using the Entrez Direct (EDirect) tools. While this method is powerful, there are limitations in achieving highly specific results, such as filtering by virus name, date range, and geographical location.\n",
    "\n",
    "Use CLI for automation and quick downloads, with the understanding that metadata filtering may not always work perfectly.\n",
    "\n",
    "**Step 1**: Install Entrez Direct\n",
    "To use EDirect, first install it with the following command:"
   ]
  },
  {
   "cell_type": "code",
   "execution_count": null,
   "id": "13db6157-d1d3-4bb1-a908-b443b1baa98e",
   "metadata": {
    "scrolled": true
   },
   "outputs": [],
   "source": [
    "!yes | sh -c \"$(curl -fsSL https://ftp.ncbi.nlm.nih.gov/entrez/entrezdirect/install-edirect.sh)\""
   ]
  },
  {
   "cell_type": "markdown",
   "id": "2744df3e-ecba-4828-836e-123a053bb608",
   "metadata": {},
   "source": [
    "**Step 2**: Search for SARS-CoV-2 sequences:\n"
   ]
  },
  {
   "cell_type": "code",
   "execution_count": null,
   "id": "1afc2297-b54b-4989-9402-315acf78b441",
   "metadata": {},
   "outputs": [],
   "source": [
    "# Create the folder structure\n",
    "import os\n",
    "\n",
    "# Check if the directory exists\n",
    "alignment_dir = os.path.isdir('./data/CLI')\n",
    "\n",
    "# If the directory does not exist, create it\n",
    "if not alignment_dir:\n",
    "    try:\n",
    "        os.makedirs('./data/CLI')\n",
    "        print(\"Directory created successfully\")\n",
    "    except Exception as e:\n",
    "        print(f\"An error occurred: {e}\")"
   ]
  },
  {
   "cell_type": "code",
   "execution_count": null,
   "id": "2174e085-a9e4-4a97-a41c-83f8e799cfb1",
   "metadata": {},
   "outputs": [],
   "source": [
    "!esearch -db nucleotide -query 'txid2697049[Organism:exp] AND South Dakota[All Fields] AND (2023/01/01:2023/03/31[PDAT])' | efetch -format fasta > data/CLI/sequences_25.fasta\n"
   ]
  },
  {
   "cell_type": "markdown",
   "id": "e2d523f1-dcbf-4d97-a467-e0b94a71cc2f",
   "metadata": {},
   "source": [
    "Above command downloads nucleotide sequences related to Severe Acute Respiratory Syndrome Coronavirus 2 (SARS-CoV-2), specifically from samples collected in South Dakota between January 1, 2023, and March 31, 2023."
   ]
  },
  {
   "cell_type": "markdown",
   "id": "b1803912-a59b-4677-a41d-11885f56cba0",
   "metadata": {},
   "source": [
    "**Potential Issues to Consider:**\n",
    "Executing the above command without filtering specific data or limiting the number of sequences could result in downloading a large volume of data, potentially overwhelming system memory, storage, or network bandwidth. This may lead to performance issues or even cause the system to crash."
   ]
  },
  {
   "cell_type": "markdown",
   "id": "e7995bde-e3c6-407d-80d0-928cab503618",
   "metadata": {},
   "source": [
    "#### **Alternative Methods to Download Sequence Files from the API**"
   ]
  },
  {
   "cell_type": "code",
   "execution_count": null,
   "id": "4df7c62b-6f22-4268-8f41-4fa353353ce4",
   "metadata": {},
   "outputs": [],
   "source": [
    "from Bio import Entrez\n",
    "stream = Entrez.esearch(db=\"nucleotide\", term=\"txid2697049[Organism:exp] AND South Dakota[All Fields] AND (2023/01/01:2023/03/31[PDAT])\", idtype=\"acc\")\n",
    "record = Entrez.read(stream)\n",
    "record[\"Count\"]"
   ]
  },
  {
   "cell_type": "code",
   "execution_count": null,
   "id": "9984f2c7-1c60-4b72-9345-f4aa3c7cba6b",
   "metadata": {},
   "outputs": [],
   "source": [
    "record[\"IdList\"]"
   ]
  },
  {
   "cell_type": "code",
   "execution_count": null,
   "id": "6b6ba9fb-da4c-443c-864b-8fcdd6a4039d",
   "metadata": {},
   "outputs": [],
   "source": [
    "import os\n",
    "from Bio import Entrez\n",
    "\n",
    "test_id = record[\"IdList\"][0]\n",
    "filepath = os.path.join(\"./data\", \"CLI\", test_id + \".fasta\")\n",
    "if not os.path.isfile(filepath):\n",
    "    # Downloading...\n",
    "    stream = Entrez.efetch(db=\"nucleotide\", id=test_id, rettype=\"fasta\", retmode=\"text\")\n",
    "    output = open(filepath, \"w\")\n",
    "    output.write(stream.read())\n",
    "    output.close()\n",
    "    stream.close()\n",
    "    print(\"Saved\")"
   ]
  },
  {
   "cell_type": "markdown",
   "id": "4d85be03",
   "metadata": {},
   "source": [
    "### **2.5 Dataset Description**\n",
    "\n",
    "The question of why we download data in FASTA format instead of other formats often arises. FASTA is a widely accepted standard format for storing biological sequences, providing only the sequence data without additional metadata like quality scores. This makes it lightweight and easy to work with, especially for tasks like sequence alignment and reference-based analysis. Additionally, FASTA files are universally supported by most bioinformatics tools and workflows. Other formats, such as FASTQ, include quality scores but are larger and primarily used for raw sequencing data, which may not always be necessary for downstream analyses. The simplicity and accessibility of FASTA make it the preferred choice for many applications.\n",
    "\n",
    "To perform sequence alignment and phylogenetic analysis, we provide one sequence file in the `data/cov/sequence` directory. This file allow for flexibility based on the computational resources available and the analysis requirements.\n",
    "\n",
    "##### **1. sequences.fasta**\n",
    "- We downloaded the sequences.fasta file from NCBI, which contains the full SARS-CoV-2 sequence dataset, including data collected from 01/01/2023 to 03/31/2023.\n",
    "- It is a comprehensive dataset, suitable for medium-scale analyses but requires significant computational resources.\n",
    "- **File Size:** Approximately 9.66 MB.\n"
   ]
  },
  {
   "cell_type": "markdown",
   "id": "7ea98ed9-dba4-430c-bd41-d77aaac8f608",
   "metadata": {},
   "source": [
    "### **2.6 Other Data Sources Beyond NCBI**\n",
    "While NCBI is a primary source for nucleotide sequence data, other repositories offer complementary datasets that can enhance phylogenetic studies:"
   ]
  },
  {
   "cell_type": "markdown",
   "id": "c551e82f-d6c0-485a-84d8-ba6ab6f04058",
   "metadata": {},
   "source": [
    "#### **2.6.1 KEGG Dataset:**\n",
    "Dataset 1: KEGG for Phylogenetic Tree\n",
    "\n",
    "Downloading KEGG Dataset\n",
    "\n",
    "KEGG (Kyoto Encyclopedia of Genes and Genomes) provides extensive data for understanding the functions and interactions of biological systems. You can retrieve KEGG data through both the website and API.\n",
    "\n",
    "1. **Downloading from the KEGG Website: To access KEGG data from their website:**\n",
    "\n",
    "Visit the KEGG Sequence Retrieval page: https://www.genome.jp/kegg/seq/\n",
    "Navigate to the FASTA Sequence Files section on the page and download the required files.\n",
    "For more resources and datasets, check KEGG Main Website.\n",
    "\n",
    "2. **Downloading from KEGG API:**\n",
    "\n",
    "Follow these steps to download data using the KEGG API:\n",
    "\n",
    "- Step 1: Visit the KEGG website: https://www.genome.jp/kegg/\n",
    "- Step 2: In the search bar, type \"cov\" (or the gene/pathway you're interested in).\n",
    "- Step 3: Click on \"KEGG Genes\" or any entry of interest. For this example, we select hsa:10495.\n",
    "- Step 4: Scroll down to find the sequence type. For this example, we choose \"NTseq\" (nucleotide sequence).\n",
    "- Step 5: For NT sequence, the API URL will be: https://rest.kegg.jp/get/hsa:10495/ntseq\n",
    "  \n",
    "To download the file using wget, use the following command:\n",
    "\n",
    "\n"
   ]
  },
  {
   "cell_type": "code",
   "execution_count": null,
   "id": "ec4ba183-1c75-43f7-907a-6c48c4942040",
   "metadata": {},
   "outputs": [],
   "source": [
    "!wget -O data/kegg_fasta.fasta \"https://rest.kegg.jp/get/hsa:10495/ntseq\""
   ]
  },
  {
   "cell_type": "markdown",
   "id": "6c7a635d-eef9-440d-9cef-659d64b704c9",
   "metadata": {},
   "source": [
    "\n",
    "This command will download the NT sequence for the specified gene hsa:10495.\n",
    "\n",
    "**Breaking Down the Command**\n",
    "\n",
    "- wget → Command to download files from the web.\n",
    "\n",
    "- -O data/kegg_fasta.fasta → Saves the output as kegg_fasta.fasta in the data directory.\n",
    "\n",
    "- \"https://rest.kegg.jp/get/hsa:10495/ntseq\" → Retrieves the nucleotide sequence for gene hsa:10495 (replace 10495 with another KEGG gene ID to get different sequences).\n",
    "\n",
    "**Modify this query:**\n",
    "\n",
    "To download another gene, replace hsa:10495 with your desired gene ID.\n",
    "You can find KEGG gene IDs [here](https://www.genome.jp/kegg/)."
   ]
  },
  {
   "cell_type": "markdown",
   "id": "c7b3d154-518a-41c3-afb2-92e8913765e8",
   "metadata": {},
   "source": [
    "#### **2.6.2 Uniport Dataset**\n",
    "Dataset 2: UniProt for Phylogenetic Tree\n",
    "\n",
    "Downloading UniProt Dataset\n",
    "\n",
    "UniProt is a comprehensive resource for protein sequences and functional information. You can retrieve data from UniProt through both their website and API.\n",
    "\n",
    "1. **Downloading from the UniProt Website:**\n",
    "\n",
    "To download data from the UniProt website:\n",
    "\n",
    "Visit the UniProt website: https://www.uniprot.org/.\n",
    "In the search bar, type the name of the protein (e.g., \"sars-cov-2\") or any protein you are interested in.\n",
    "For specific protein sequences, click on the protein entry you want, then click the \"Share\" button. If you want to select multiple entries or all, click the \"Share\" button directly.\n",
    "Download the Isoform Sequences in FASTA format from the website.\n",
    "These datasets can complement NCBI data and provide additional insights for advanced research needs.\n",
    "\n",
    "2. **Downloading from UniProt API:**\n",
    "\n",
    "Follow these steps to download data using the UniProt API:\n",
    "\n",
    "- Step 1: Visit the UniProt website: https://www.uniprot.org/.\n",
    "- Step 2: In the search bar, type \"sars-cov-2\" (or any protein name of your interest).\n",
    "- Step 3: To select specific entries, click on the entry you want, then click the \"Share\" button.  Alternatively, to select all, click the \"Share\" button directly.\n",
    "- Step 4: Click on the \"Generate API for URL\" option.\n",
    "- Step 5: Choose \"Compressed\" for the download option.\n",
    "- Step 6: Copy the link provided for the API URL using the streaming endpoint.\n",
    "To download the desired FASTA file, use the following command:\n"
   ]
  },
  {
   "cell_type": "code",
   "execution_count": null,
   "id": "71933e07-ea27-481f-bd07-4fd82d2a6d59",
   "metadata": {},
   "outputs": [],
   "source": [
    "!wget -O data/uniprot_fasta.fasta \"https://rest.uniprot.org/uniprotkb/stream?format=fasta&query=accession%3AA0A0M3Q1Q3+OR+accession%3AQ2FHV1+OR+accession%3AQ8IUC6+OR+accession%3AQ92985\""
   ]
  },
  {
   "cell_type": "markdown",
   "id": "6d5e5c4e-3fca-42e1-88b1-1400932aee88",
   "metadata": {},
   "source": [
    "This will download the specified FASTA file containing the sequences for the given accession numbers.\n",
    "\n",
    "**Breaking Down the Command**\n",
    "\n",
    "- \"https://rest.uniprot.org/uniprotkb/stream?format=fasta&query=...\" → Queries the UniProt database.\n",
    "\n",
    "  \n",
    "- accession%3AA0A0M3Q1Q3+OR+accession%3AQ2FHV1+OR+... → Requests multiple protein sequences using their accession numbers.\n",
    "\n",
    "- -O data/uniprot_fasta.fasta → Saves the output.\n",
    "\n",
    "  \n",
    "**Modify this query:**\n",
    "\n",
    "- Replace the accession numbers (A0A0M3Q1Q3, Q2FHV1, etc.) with other UniProt accessions.\n",
    "- To search for more proteins, visit [UniProt](https://www.uniprot.org/) .\n"
   ]
  },
  {
   "cell_type": "markdown",
   "id": "34dd36ef",
   "metadata": {},
   "source": [
    "### **Summary**"
   ]
  },
  {
   "cell_type": "markdown",
   "id": "c18beea3-ecec-460b-98a4-3b37ee3c403f",
   "metadata": {},
   "source": [
    "In this module, we focused on the critical first step in constructing phylogenetic trees: data collection. Learners were introduced to retrieving sequence data from various sources, such as NCBI, KEGG, and UniProt, using appropriate database queries and APIs. We explored methods for interacting with these databases, fetching relevant sequence data, and subsetting it for further analysis. Additionally, we provided an overview of the FASTA file format, demonstrating its structure and significance in bioinformatics. By examining the contents of a FASTA file, learners gained a better understanding of how sequence data is organized and prepared for downstream analysis. This module sets the stage for the next step in phylogenetic analysis, where we will perform sequence alignment and explore different algorithms and tools for constructing phylogenetic trees.\n",
    "\n"
   ]
  },
  {
   "cell_type": "markdown",
   "id": "8ab30da3-e22e-44e0-97c3-d71f25ef06f7",
   "metadata": {},
   "source": [
    "### **Interactive Quiz**\n",
    "\n",
    "Test your understanding of sequence data preparation and quality control using this interactive quiz:"
   ]
  },
  {
   "cell_type": "code",
   "execution_count": null,
   "id": "491a05a0",
   "metadata": {
    "tags": []
   },
   "outputs": [],
   "source": [
    "from IPython.display import IFrame\n",
    "IFrame(\"Quiz/QS2.html\", width=800, height=350)"
   ]
  }
 ],
 "metadata": {
  "kernelspec": {
   "display_name": "Python 3 (ipykernel)",
   "language": "python",
   "name": "python3"
  },
  "language_info": {
   "codemirror_mode": {
    "name": "ipython",
    "version": 3
   },
   "file_extension": ".py",
   "mimetype": "text/x-python",
   "name": "python",
   "nbconvert_exporter": "python",
   "pygments_lexer": "ipython3",
   "version": "3.10.14"
  }
 },
 "nbformat": 4,
 "nbformat_minor": 5
}
