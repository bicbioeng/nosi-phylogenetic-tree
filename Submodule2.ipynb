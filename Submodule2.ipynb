{
 "cells": [
  {
   "cell_type": "markdown",
   "id": "ce2ca986-b0d9-43b1-8928-00dfbf050a84",
   "metadata": {},
   "source": [
    "# Submodule #2: Collect and Prepare Sequence Data\n",
    "\n",
    "### Primary Objective\n",
    "Introduce learners to the essential steps for data collection, quality control, and preparation required for phylogenetic analysis. This module focuses on organizing sequence data and ensuring readiness for downstream analysis.\n",
    "\n",
    "### Overview\n",
    "- **What You'll Learn:**\n",
    "  - Explore datasets, including `sequences.fasta`, `sequences_subset.fasta`, and `sequence_sars_cov_PQ230960.fasta`.\n",
    "  - Prepare sequence files for alignment using Biopython.\n",
    "  - Perform quality control using tools like FASTQC and MultiQC.\n",
    "\n",
    "- **Tools and Libraries:**\n",
    "  - Biopython for data preprocessing.\n",
    "  - FASTQC and MultiQC for quality assessment.\n",
    "  - Cloud-based storage for scalable resource handling.\n",
    "\n",
    "- **Why It Matters:**\n",
    "  - Proper preparation ensures accuracy in alignment and tree construction.\n",
    "  - Quality control avoids errors in downstream phylogenetic analysis.\n"
   ]
  },
  {
   "cell_type": "markdown",
   "id": "259677a7",
   "metadata": {},
   "source": [
    "# Learning Objectives:\n",
    "In submodule 2 we will leverage the fundamental concepts from [**Submodule 1**](./SubModule1.ipynb) to do the following:\n",
    "- Demonstrate different ways of extracting dataset\n",
    "- Preparing those data for phylogenetic analysis\n",
    "- Discuss how cloud solutions can be helpful on all these things\n",
    "- Implement Quality Control checks on the dataset"
   ]
  },
  {
   "cell_type": "markdown",
   "id": "7805b2a7",
   "metadata": {},
   "source": [
    "----------------------------------------------------------------------------------------------------------------\n",
    "# Training Plan \n"
   ]
  },
  {
   "cell_type": "markdown",
   "id": "58931161",
   "metadata": {},
   "source": [
    "Submodule #1: Understanding the Basics of Phylogenetic\n",
    "\n",
    "<font color=\"green\"> **Submodule #2: Collect and Prepare Sequence Data and Analysis** </font>\n",
    "\n",
    "Submodule #3: Construct Phylogenetic Tree\n",
    "\n",
    " \n",
    "Submodule #4: Analyze Phylogenetic Tree"
   ]
  },
  {
   "cell_type": "markdown",
   "id": "a004ca3b",
   "metadata": {},
   "source": [
    "----------------------------------------------------------------------------------------------------------------"
   ]
  },
  {
   "cell_type": "markdown",
   "id": "a4ef0389-80cf-40e1-ac52-c1e75b28ce0e",
   "metadata": {},
   "source": [
    "## 2.1 Efficient Methods for Sourcing Pathogen Sequences\n",
    "\n",
    "Efficient sourcing and preparation of sequence data are critical for accurate phylogenetic analysis.\n",
    "\n",
    "### Steps to Source Pathogen Sequences\n",
    "1. **Public Databases:**\n",
    "   - Access public repositories like **GenBank**, **EMBL**, and **DDBJ** to retrieve high-quality, annotated genetic data.\n",
    "2. **Automated Sequence Retrieval Tools:**\n",
    "   - Tools like **Entrez Direct** and **Biopython** simplify sequence retrieval and minimize manual errors.\n",
    "3. **Preprocessing Tools:**\n",
    "   - Use tools like **Trimmomatic** or **Cutadapt** to remove low-quality reads and adapters from the sequences.\n",
    "4. **Sequence Alignment:**\n",
    "   - Use alignment tools like **MAFFT** or **ClustalW** to align sequences, ensuring proper alignment for downstream analysis."
   ]
  },
  {
   "cell_type": "markdown",
   "id": "b891ee4d-809f-4b9f-998c-b5c72b2364a4",
   "metadata": {
    "tags": []
   },
   "source": [
    "<div style=\"padding: 10px; border: 1px solid #b3e5fc; border-radius: 5px; background-color: #e1f5fe;\">\n",
    "    <strong>Tip:</strong>💡 Use advanced search options in public databases to filter results based on organism, region, or gene of interest.\n",
    "</div>"
   ]
  },
  {
   "cell_type": "markdown",
   "id": "ef2d5045-66d7-46fe-a4d4-3476c1948a1f",
   "metadata": {
    "tags": []
   },
   "source": [
    "<div style=\"padding: 10px; border: 1px solid #b3e5fc; border-radius: 5px; background-color: #e1f5fe;\">\n",
    "    <strong>Note:</strong> 📝 Validate the alignment using metrics like alignment scores to avoid errors during tree construction.\n",
    "</div>"
   ]
  },
  {
   "cell_type": "markdown",
   "id": "8e29c985-eb0d-40f9-80ae-31d3c71358bf",
   "metadata": {},
   "source": [
    "<div style=\"padding: 10px; border: 1px solid #ffccbc; border-radius: 5px; background-color: #ffebee;\">\n",
    "    <strong>Alert:</strong>⚠️ Poor preprocessing can lead to errors in alignment and tree construction.\n",
    "</div>"
   ]
  },
  {
   "cell_type": "markdown",
   "id": "bbe7bffb-431b-4518-8c64-7ca50ea1e996",
   "metadata": {},
   "source": [
    "## 2.2 Importance of Cloud-Based Storage Solutions\n",
    "\n",
    "Cloud-based storage solutions simplify the management of large-scale sequence data.\n",
    "\n",
    "### Benefits of Cloud-Based Solutions\n",
    "1. **Scalability:** Handle large datasets without local storage constraints.\n",
    "2. **Accessibility:** Enable real-time collaboration by making datasets accessible from any location.\n",
    "3. **Cost-Effectiveness:** Pay-as-you-go models minimize costs by charging only for used resources.\n",
    "4. **Data Security and Backup:** Automatic backups and encryption protect datasets from loss or breaches."
   ]
  },
  {
   "cell_type": "markdown",
   "id": "c28b6053-fd45-4a9c-b8db-4092fad73f68",
   "metadata": {},
   "source": [
    "<div style=\"padding: 10px; border: 1px solid #b3e5fc; border-radius: 5px; background-color: #e1f5fe;\">\n",
    "    <strong>Note:</strong> 📝 Consider using established platforms like AWS, Google Cloud, or Azure to streamline data storage and processing.\n",
    "</div>"
   ]
  },
  {
   "cell_type": "markdown",
   "id": "a2cef563-a086-494c-9e3e-2096616e540a",
   "metadata": {},
   "source": [
    "<div style=\"padding: 10px; border: 1px solid #b3e5fc; border-radius: 5px; background-color: #e1f5fe;\">\n",
    "    <strong>Tip:</strong>💡 Leverage genomic analysis services offered by cloud providers for faster processing.\n",
    "</div>"
   ]
  },
  {
   "cell_type": "markdown",
   "id": "c493fef6-c6b5-4058-8aea-1a094d8feb1f",
   "metadata": {},
   "source": [
    "## 2.3 Enhancing Analysis with Publicly Available Datasets\n",
    "\n",
    "Publicly available datasets improve the depth and accuracy of phylogenetic analyses.\n",
    "\n",
    "### Benefits of Public Datasets\n",
    "1. **Increased Data Volume:** Larger datasets improve statistical power and robustness.\n",
    "2. **Comparative Analysis:** Analyze trends across species or geographic regions using existing data.\n",
    "3. **Validation and Reproducibility:** Public datasets enable reproducible research.\n",
    "4. **Collaborative Research:** Shared datasets foster collaboration and knowledge-sharing among researchers."
   ]
  },
  {
   "cell_type": "markdown",
   "id": "e1120e92-6449-4a90-b2b9-01fe796bbcae",
   "metadata": {},
   "source": [
    "<div style=\"padding: 10px; border: 1px solid #b3e5fc; border-radius: 5px; background-color: #e1f5fe;\">\n",
    "    <strong>Note:</strong> 📝  Verify the format and metadata compatibility of public datasets before integrating them into your analysis pipeline.\n",
    "</div>"
   ]
  },
  {
   "cell_type": "markdown",
   "id": "bbd3190a-88b9-4d99-8b84-ea7f6c45e2bf",
   "metadata": {},
   "source": [
    "## Understanding the SARS-CoV-2 Dataset\n",
    "\n",
    "The **SARS-CoV-2 dataset** contains genetic sequence data for the virus responsible for the COVID-19 pandemic. This dataset is widely used in phylogenetic studies to track mutations, understand evolutionary relationships, and analyze the spread of the virus globally.\n",
    "\n",
    "### **Key Components of the SARS-CoV-2 Dataset**\n",
    "1. **Genetic Sequences:**\n",
    "   - The dataset typically contains nucleotide or protein sequences for various strains of the virus.\n",
    "   - These sequences are vital for studying how the virus evolves over time and across different regions.\n",
    "\n",
    "2. **Metadata:**\n",
    "   - Associated metadata includes information such as:\n",
    "     - Geographic location of sample collection.\n",
    "     - Date of sample collection.\n",
    "     - Variant classification or lineage (e.g., Delta, Omicron).\n",
    "   - Metadata enhances analysis by providing context for understanding variations across samples.\n",
    "\n",
    "3. **Applications:**\n",
    "   - **Phylogenetic Analysis:** Track how different strains of the virus are related.\n",
    "   - **Mutation Analysis:** Identify specific mutations and their impacts on viral behavior (e.g., transmissibility or resistance to vaccines).\n",
    "   - **Epidemiological Studies:** Analyze how the virus spreads in specific populations.\n",
    "\n",
    "### **Sources of SARS-CoV-2 Data**\n",
    "1. **Nextstrain Project:**\n",
    "   - A global initiative providing curated datasets for viral evolution studies.\n",
    "   - SARS-CoV-2 datasets from Nextstrain are preprocessed for downstream phylogenetic analysis.\n",
    "   - Visit the [Nextstrain documentation](https://docs.nextstrain.org/projects/nextclade/en/stable/user/datasets.html) for more details.\n",
    "\n",
    "2. **NCBI Virus Database:**\n",
    "   - A comprehensive resource for viral sequences and metadata.\n",
    "   - The NCBI database allows users to search by strain, variant, or geographic location.\n",
    "   - Access the NCBI SARS-CoV-2 dataset [here](https://www.ncbi.nlm.nih.gov/labs/virus/vssi/#/virus?SeqType_s=Nucleotide&VirusLineage_ss=taxid:2697049&USAState_s=SD).\n",
    "\n",
    "### **Why Use SARS-CoV-2 Data?**\n",
    "1. **Scientific Relevance:**\n",
    "   - SARS-CoV-2 remains a high-priority topic for research due to its global impact.\n",
    "   - Understanding its genetic evolution helps predict future outbreaks and design effective vaccines.\n",
    "\n",
    "2. **Real-World Applications:**\n",
    "   - This dataset is used in vaccine development, drug resistance studies, and public health policies.\n",
    "   - It is also a benchmark for testing bioinformatics tools in a real-world context."
   ]
  },
  {
   "cell_type": "markdown",
   "id": "c1bc514b-0c83-4280-817d-a96d119aab77",
   "metadata": {},
   "source": [
    "<div style=\"padding: 10px; border: 1px solid #b3e5fc; border-radius: 5px; background-color: #e1f5fe;\">\n",
    "    <strong>Tip:</strong>💡 Always cross-check the integrity and annotation quality of sequences before using them in your analysis.\n",
    "</div>"
   ]
  },
  {
   "cell_type": "markdown",
   "id": "4d85be03",
   "metadata": {},
   "source": [
    "## Dataset Description\n",
    "\n",
    "To perform sequence alignment and phylogenetic analysis, we provide three sequence files in the `data/cov/sequence` directory. These files allow for flexibility based on the computational resources available and the analysis requirements.\n",
    "\n",
    "### **1. sequences.fasta**\n",
    "- This file contains the **full SARS-CoV-2 sequence dataset**.\n",
    "- It is a comprehensive dataset, suitable for large-scale analyses but requires significant computational resources.\n",
    "- **File Size:** Approximately 4.96 MB.\n",
    "\n",
    "### **2. sequences_subset.fasta**\n",
    "- This is a **smaller subset** of the `sequences.fasta` file.\n",
    "- It is created for testing and tutorial purposes to reduce computational load during demonstrations.\n",
    "- **File Size:** Approximately 308 KB.\n",
    "\n",
    "### **3. sequence_sars_cov_PQ230960.fasta**\n",
    "- This file contains **only one sequence** from the full dataset.\n",
    "- It is intended for step-by-step demonstrations and quick testing of phylogenetic tools.\n",
    "- **File Size:** Approximately 30.2 KB."
   ]
  },
  {
   "cell_type": "markdown",
   "id": "71e908a3",
   "metadata": {},
   "source": [
    "<div style=\"padding: 10px; border: 1px solid #b3e5fc; border-radius: 5px; background-color: #e1f5fe;\">\n",
    "    <strong>Note:</strong> 📝  Use `sequences_subset.fasta` for the tutorial to follow along efficiently. The full `sequences.fasta` file is available for advanced analyses requiring detailed insights. Start with `sequence_sars_cov_PQ230960.fasta` for testing alignment or tree construction steps with minimal processing.\n",
    "</div>"
   ]
  },
  {
   "cell_type": "markdown",
   "id": "7b0fb3b4-9e81-4228-a159-a5bf2b1a9179",
   "metadata": {},
   "source": [
    "### Data Preparation\n",
    "**Convert the .fasta file to .fastq format using the following Python code:**\n"
   ]
  },
  {
   "cell_type": "code",
   "execution_count": 12,
   "id": "4e74d5fb-729c-4494-b2ee-7330a8be297b",
   "metadata": {},
   "outputs": [],
   "source": [
    "from Bio import SeqIO\n",
    "\n",
    "\n",
    "def fasta_to_fastq(fasta_file, fastq_file, quality=40):\n",
    "    with open(fastq_file, \"w\") as output_handle:\n",
    "        for record in SeqIO.parse(fasta_file, \"fasta\"):\n",
    "            record.letter_annotations[\"phred_quality\"] = [quality] * len(record.seq)\n",
    "            SeqIO.write(record, output_handle, \"fastq\")\n",
    "\n",
    "\n",
    "if __name__ == '__main__':\n",
    "    fasta_file = \"./data/cov/sequence/Coronavirus-Orf9-NCBI.fasta\"\n",
    "    fastq_file = \"./data/cov/sequence/Coronavirus-Orf9-NCBI.fastq\"\n",
    "    fasta_to_fastq(fasta_file=fasta_file, fastq_file=fastq_file)\n"
   ]
  },
  {
   "cell_type": "markdown",
   "id": "04b30c7d",
   "metadata": {},
   "source": [
    "This code converts a .fasta file containing SARS-CoV-2 sequence data to .fastq format using Biopython. The fasta_to_fastq function takes a default quality score of 40 for all sequences, which is typical for high-quality sequence data."
   ]
  },
  {
   "cell_type": "markdown",
   "id": "42872fd7-3f52-4c59-81b0-10a81aafe89b",
   "metadata": {},
   "source": [
    "## 2.4 Quality Control Checks\n",
    "\n",
    "Quality control ensures the reliability and accuracy of sequence data.\n",
    "\n",
    "### Steps for Quality Control\n",
    "1. **Install and Configure FastQC:**\n",
    "   - Ensure a **Java Runtime Environment (JRE)** is installed.\n",
    "   - **Ubuntu Command:** `sudo apt install default-jre`\n",
    "   - **RedHat Command:** `sudo yum install java-1.8.0-openjdk`\n",
    "   - Verify installation:\n",
    "     ```bash\n",
    "     java --version\n",
    "     fastqc --version\n",
    "     ```\n",
    "\n",
    "2. **Run FastQC:**\n",
    "   - Analyze the quality of `.fastq` files with the following command:"
   ]
  },
  {
   "cell_type": "markdown",
   "id": "7b2d6762-8953-43e4-8220-dd63313981bb",
   "metadata": {},
   "source": [
    "<div style=\"padding: 10px; border: 1px solid #ffccbc; border-radius: 5px; background-color: #ffebee;\">\n",
    "    <strong>Alert:</strong>⚠️ Address low-quality sequences and high adapter content before proceeding to sequence alignment.\n",
    "</div>"
   ]
  },
  {
   "cell_type": "markdown",
   "id": "66cdc713-0d63-48ba-8dde-ed9448bc1306",
   "metadata": {},
   "source": [
    "### Run FastQC"
   ]
  },
  {
   "cell_type": "code",
   "execution_count": 13,
   "id": "dea022ee-cab1-4d8b-82ae-2b1682551362",
   "metadata": {
    "tags": []
   },
   "outputs": [
    {
     "name": "stdout",
     "output_type": "stream",
     "text": [
      "null\n",
      "Started analysis of Coronavirus-Orf9-NCBI.fastq\n",
      "Analysis complete for Coronavirus-Orf9-NCBI.fastq\n"
     ]
    }
   ],
   "source": [
    "!fastqc -t 4 ./data/cov/sequence/Coronavirus-Orf9-NCBI.fastq -o ./data/cov/qc/"
   ]
  },
  {
   "cell_type": "markdown",
   "id": "8ab30da3-e22e-44e0-97c3-d71f25ef06f7",
   "metadata": {},
   "source": [
    "## Interactive Quiz\n",
    "\n",
    "Test your understanding of sequence data preparation and quality control using this interactive quiz:"
   ]
  },
  {
   "cell_type": "code",
   "execution_count": 14,
   "id": "491a05a0",
   "metadata": {
    "tags": []
   },
   "outputs": [
    {
     "data": {
      "text/html": [
       "<div id=\"xwqzBXuQAHJc\" data-shufflequestions=\"False\"\n",
       "               data-shuffleanswers=\"True\"\n",
       "               data-preserveresponses=\"false\"\n",
       "               data-numquestions=\"1000000\"\n",
       "               data-maxwidth=\"600\"\n",
       "               style=\"border-radius: 10px; text-align: left\"> <style>\n",
       "#xwqzBXuQAHJc {\n",
       "   --jq-multiple-choice-bg: #6f78ffff;\n",
       "   --jq-mc-button-bg: #fafafa;\n",
       "   --jq-mc-button-border: #e0e0e0e0;\n",
       "   --jq-mc-button-inset-shadow: #555555;\n",
       "   --jq-many-choice-bg: #f75c03ff;\n",
       "   --jq-numeric-bg: #392061ff;\n",
       "   --jq-numeric-input-bg: #c0c0c0;\n",
       "   --jq-numeric-input-label: #101010;\n",
       "   --jq-numeric-input-shadow: #999999;\n",
       "   --jq-incorrect-color: #c80202;\n",
       "   --jq-correct-color: #009113;\n",
       "   --jq-text-color: #fafafa;\n",
       "}\n",
       "\n",
       ".Quiz {\n",
       "    max-width: 600px;\n",
       "    margin-top: 15px;\n",
       "    margin-left: auto;\n",
       "    margin-right: auto;\n",
       "/*    margin-bottom: 15px;*/\n",
       "/*    padding-bottom: 4px;*/\n",
       "    padding-top: 4px;\n",
       "    line-height: 1.1;\n",
       "    font-size: 16pt;\n",
       "    border-radius: inherit;\n",
       "}\n",
       "\n",
       ".QuizCode {\n",
       "    font-size: 14pt;\n",
       "    margin-top: 10px;\n",
       "    margin-left: 20px;\n",
       "    margin-right: 20px;\n",
       "}\n",
       "\n",
       ".QuizCode>pre {\n",
       "    padding: 4px;\n",
       "}\n",
       "\n",
       ".Quiz code {\n",
       "    background-color: lightgray;\n",
       "    color: black;\n",
       "}\n",
       "\n",
       ".Quiz .QuizCode code {\n",
       "    background-color: inherit;\n",
       "    color: inherit;\n",
       "}\n",
       "\n",
       "\n",
       ".Quiz .MCButton code {\n",
       "    background-color: inherit;\n",
       "    color: inherit;\n",
       "}\n",
       "\n",
       ".MCButton .QuizCode {\n",
       "    text-align: left;\n",
       "}\n",
       "\n",
       "\n",
       "\n",
       "\n",
       ".Answer {\n",
       "    border-radius: inherit;\n",
       "    display: grid;\n",
       "    grid-gap: 10px;\n",
       "    grid-template-columns: 1fr 1fr;\n",
       "    margin: 10px 0;\n",
       "}\n",
       "\n",
       "@media only screen and (max-width:480px) {\n",
       "    .Answer {\n",
       "        grid-template-columns: 1fr;\n",
       "    }\n",
       "\n",
       "}\n",
       "\n",
       ".Feedback {\n",
       "    font-size: 16pt;\n",
       "    text-align: center;\n",
       "/*    min-height: 2em;*/\n",
       "}\n",
       "\n",
       ".Input {\n",
       "    align: left;\n",
       "    font-size: 20pt;\n",
       "}\n",
       "\n",
       ".Input-text {\n",
       "    display: block;\n",
       "    margin: 10px;\n",
       "    color: inherit;\n",
       "    width: 140px;\n",
       "    background-color: var(--jq-numeric-input-bg);\n",
       "    color: var(--jq-text-color);\n",
       "    padding: 5px;\n",
       "    padding-left: 10px;\n",
       "    font-family: inherit;\n",
       "    font-size: 20px;\n",
       "    font-weight: inherit;\n",
       "    line-height: 20pt;\n",
       "    border: none;\n",
       "    border-radius: 0.2rem;\n",
       "    transition: box-shadow 0.1s);\n",
       "}\n",
       "\n",
       ".Input-text:focus {\n",
       "    /*outline: none;*/\n",
       "    background-color: var(--jq-numeric-input-bg);\n",
       "    box-shadow: 0.6rem 0.8rem 1.4rem -0.5rem var(--jq-numeric-input-shadow);\n",
       "}\n",
       "\n",
       ".MCButton {\n",
       "    background: var(--jq-mc-button-bg);\n",
       "    border: 1px solid var(--jq-mc-button-border);\n",
       "    border-radius: inherit;\n",
       "    color: #333333;\n",
       "    padding: 10px;\n",
       "    font-size: 16px;\n",
       "    cursor: pointer;\n",
       "    text-align: center;\n",
       "    display: flex;\n",
       "    align-items: center;\n",
       "    justify-content: center;\n",
       "}\n",
       "\n",
       ".MCButton p {\n",
       "    color: inherit;\n",
       "}\n",
       "\n",
       ".MultipleChoiceQn {\n",
       "    padding: 10px;\n",
       "    background: var(--jq-multiple-choice-bg);\n",
       "    color: var(--jq-text-color);\n",
       "    border-radius: inherit;\n",
       "}\n",
       "\n",
       ".ManyChoiceQn {\n",
       "    padding: 10px;\n",
       "    background: var(--jq-many-choice-bg);\n",
       "    color: var(--jq-text-color);\n",
       "    border-radius: inherit;\n",
       "}\n",
       "\n",
       ".NumericQn {\n",
       "    background: var(--jq-numeric-bg);\n",
       "    border-radius: inherit;\n",
       "    color: var(--jq-text-color);\n",
       "    padding: 10px;\n",
       "}\n",
       "\n",
       ".NumericQn p {\n",
       "    color: inherit;\n",
       "}\n",
       "\n",
       ".InpLabel {\n",
       "    color: var(--jq-numeric-input-label);\n",
       "    float: left;\n",
       "    font-size: 15pt;\n",
       "    line-height: 34px;\n",
       "    margin-right: 10px;\n",
       "}\n",
       "\n",
       ".incorrect {\n",
       "    color: var(--jq-incorrect-color);\n",
       "}\n",
       "\n",
       ".correct {\n",
       "    color: var(--jq-correct-color);\n",
       "}\n",
       "\n",
       ".correctButton {\n",
       "    /*\n",
       "    background: var(--jq-correct-color);\n",
       "   */\n",
       "    animation: correct-anim 0.6s ease;\n",
       "    animation-fill-mode: forwards;\n",
       "    box-shadow: inset 0 0 5px var(--jq-mc-button-inset-shadow);\n",
       "    color: var(--jq-text-color);\n",
       "    /*outline: none;*/\n",
       "}\n",
       "\n",
       ".incorrectButton {\n",
       "    animation: incorrect-anim 0.8s ease;\n",
       "    animation-fill-mode: forwards;\n",
       "    box-shadow: inset 0 0 5px var(--jq-mc-button-inset-shadow);\n",
       "    color: var(--jq-text-color);\n",
       "    /*outline: none;*/\n",
       "}\n",
       "\n",
       "@keyframes incorrect-anim {\n",
       "    100% {\n",
       "        background-color: var(--jq-incorrect-color);\n",
       "    }\n",
       "}\n",
       "\n",
       "@keyframes correct-anim {\n",
       "    100% {\n",
       "        background-color: var(--jq-correct-color);\n",
       "    }\n",
       "}\n",
       "</style>"
      ],
      "text/plain": [
       "<IPython.core.display.HTML object>"
      ]
     },
     "metadata": {},
     "output_type": "display_data"
    },
    {
     "data": {
      "application/javascript": "var questionsxwqzBXuQAHJc=[\n    {\n        \"question\": \"Which of the following is NOT a recommended source for high-quality pathogen sequences?\",\n        \"type\": \"multiple_choice\",\n        \"answers\": [\n            {\n                \"answer\": \"GenBank\",\n                \"correct\": false,\n                \"feedback\": \"Incorrect. GenBank is a widely used source for pathogen sequences.\"\n            },\n            {\n                \"answer\": \"EMBL\",\n                \"correct\": false,\n                \"feedback\": \"Incorrect. EMBL is another reputable source for pathogen sequences.\"\n            },\n            {\n                \"answer\": \"DDBJ\",\n                \"correct\": false,\n                \"feedback\": \"Incorrect. DDBJ is a recognized source for pathogen sequences.\"\n            },\n            {\n                \"answer\": \"Google Scholar\",\n                \"correct\": true,\n                \"feedback\": \"Correct. Google Scholar is not a source for pathogen sequences.\"\n            }\n        ]\n    },\n    {\n        \"question\": \"Why is cloud-based storage important in managing metagenomic sequence data?\",\n        \"type\": \"multiple_choice\",\n        \"answers\": [\n            {\n                \"answer\": \"It automatically edits and corrects sequence data.\",\n                \"correct\": false,\n                \"feedback\": \"Incorrect. Cloud storage does not edit or correct data.\"\n            },\n            {\n                \"answer\": \"It provides secure, scalable storage and accessibility for large datasets.\",\n                \"correct\": true,\n                \"feedback\": \"Correct. Cloud storage offers secure, scalable storage and accessibility.\"\n            },\n            {\n                \"answer\": \"It replaces the need for sequence alignment tools.\",\n                \"correct\": false,\n                \"feedback\": \"Incorrect. Cloud storage does not replace sequence alignment tools.\"\n            },\n            {\n                \"answer\": \"It directly performs phylogenetic analysis.\",\n                \"correct\": false,\n                \"feedback\": \"Incorrect. Cloud storage does not perform phylogenetic analysis.\"\n            }\n        ]\n    },\n    {\n        \"question\": \"Which command is used in this notebook to download the SARS-CoV-2 dataset?\",\n        \"type\": \"multiple_choice\",\n        \"answers\": [\n            {\n                \"answer\": \"!curl -O\",\n                \"correct\": false,\n                \"feedback\": \"Incorrect. The correct command is !wget -O.\"\n            },\n            {\n                \"answer\": \"!wget -O\",\n                \"correct\": true,\n                \"feedback\": \"Correct. The !wget -O command is used for downloading the dataset.\"\n            },\n            {\n                \"answer\": \"!git clone\",\n                \"correct\": false,\n                \"feedback\": \"Incorrect. This command is used to clone repositories.\"\n            },\n            {\n                \"answer\": \"!ftp -O\",\n                \"correct\": false,\n                \"feedback\": \"Incorrect. The correct command is !wget -O.\"\n            }\n        ]\n    },\n    {\n        \"question\": \"What is the purpose of using FastQC in this tutorial?\",\n        \"type\": \"multiple_choice\",\n        \"answers\": [\n            {\n                \"answer\": \"To align sequence data.\",\n                \"correct\": false,\n                \"feedback\": \"Incorrect. FastQC is not used for sequence alignment.\"\n            },\n            {\n                \"answer\": \"To download SARS-CoV-2 data.\",\n                \"correct\": false,\n                \"feedback\": \"Incorrect. FastQC does not download data.\"\n            },\n            {\n                \"answer\": \"To assess the quality of sequence data.\",\n                \"correct\": true,\n                \"feedback\": \"Correct. FastQC is used to assess the quality of sequence data.\"\n            },\n            {\n                \"answer\": \"To convert data formats from .fasta to .fastq.\",\n                \"correct\": false,\n                \"feedback\": \"Incorrect. FastQC does not convert data formats.\"\n            }\n        ]\n    },\n    {\n        \"question\": \"What does the Python function fasta_to_fastq do in this notebook?\",\n        \"type\": \"multiple_choice\",\n        \"answers\": [\n            {\n                \"answer\": \"It downloads sequence data from a URL.\",\n                \"correct\": false,\n                \"feedback\": \"Incorrect. This function does not download data.\"\n            },\n            {\n                \"answer\": \"It converts .fastq files to .fasta format.\",\n                \"correct\": false,\n                \"feedback\": \"Incorrect. This function does not convert .fastq files to .fasta format.\"\n            },\n            {\n                \"answer\": \"It prepares quality scores for each base in a .fasta file and writes it in .fastq format.\",\n                \"correct\": true,\n                \"feedback\": \"Correct. This function prepares quality scores and writes them in .fastq format.\"\n            },\n            {\n                \"answer\": \"It removes duplicate sequences from a dataset.\",\n                \"correct\": false,\n                \"feedback\": \"Incorrect. This function does not remove duplicates.\"\n            }\n        ]\n    }\n]\n;\n    // Make a random ID\nfunction makeid(length) {\n    var result = [];\n    var characters = 'ABCDEFGHIJKLMNOPQRSTUVWXYZabcdefghijklmnopqrstuvwxyz';\n    var charactersLength = characters.length;\n    for (var i = 0; i < length; i++) {\n        result.push(characters.charAt(Math.floor(Math.random() * charactersLength)));\n    }\n    return result.join('');\n}\n\n// Choose a random subset of an array. Can also be used to shuffle the array\nfunction getRandomSubarray(arr, size) {\n    var shuffled = arr.slice(0), i = arr.length, temp, index;\n    while (i--) {\n        index = Math.floor((i + 1) * Math.random());\n        temp = shuffled[index];\n        shuffled[index] = shuffled[i];\n        shuffled[i] = temp;\n    }\n    return shuffled.slice(0, size);\n}\n\nfunction printResponses(responsesContainer) {\n    var responses=JSON.parse(responsesContainer.dataset.responses);\n    var stringResponses='<B>IMPORTANT!</B>To preserve this answer sequence for submission, when you have finalized your answers: <ol> <li> Copy the text in this cell below \"Answer String\"</li> <li> Double click on the cell directly below the Answer String, labeled \"Replace Me\"</li> <li> Select the whole \"Replace Me\" text</li> <li> Paste in your answer string and press shift-Enter.</li><li>Save the notebook using the save icon or File->Save Notebook menu item</li></ul><br><br><br><b>Answer String:</b><br> ';\n    console.log(responses);\n    responses.forEach((response, index) => {\n        if (response) {\n            console.log(index + ': ' + response);\n            stringResponses+= index + ': ' + response +\"<BR>\";\n        }\n    });\n    responsesContainer.innerHTML=stringResponses;\n}\n/* Callback function to determine whether a selected multiple-choice\n   button corresponded to a correct answer and to provide feedback\n   based on the answer */\nfunction check_mc() {\n    var id = this.id.split('-')[0];\n    //var response = this.id.split('-')[1];\n    //console.log(response);\n    //console.log(\"In check_mc(), id=\"+id);\n    //console.log(event.srcElement.id)           \n    //console.log(event.srcElement.dataset.correct)   \n    //console.log(event.srcElement.dataset.feedback)\n\n    var label = event.srcElement;\n    //console.log(label, label.nodeName);\n    var depth = 0;\n    while ((label.nodeName != \"LABEL\") && (depth < 20)) {\n        label = label.parentElement;\n        console.log(depth, label);\n        depth++;\n    }\n\n\n\n    var answers = label.parentElement.children;\n    //console.log(answers);\n\n    // Split behavior based on multiple choice vs many choice:\n    var fb = document.getElementById(\"fb\" + id);\n\n\n\n    /* Multiple choice (1 answer). Allow for 0 correct\n       answers as an edge case */\n    if (fb.dataset.numcorrect <= 1) {\n        // What follows is for the saved responses stuff\n        var outerContainer = fb.parentElement.parentElement;\n        var responsesContainer = document.getElementById(\"responses\" + outerContainer.id);\n        if (responsesContainer) {\n            //console.log(responsesContainer);\n            var response = label.firstChild.innerText;\n            if (label.querySelector(\".QuizCode\")){\n                response+= label.querySelector(\".QuizCode\").firstChild.innerText;\n            }\n            console.log(response);\n            //console.log(document.getElementById(\"quizWrap\"+id));\n            var qnum = document.getElementById(\"quizWrap\"+id).dataset.qnum;\n            console.log(\"Question \" + qnum);\n            //console.log(id, \", got numcorrect=\",fb.dataset.numcorrect);\n            var responses=JSON.parse(responsesContainer.dataset.responses);\n            console.log(responses);\n            responses[qnum]= response;\n            responsesContainer.setAttribute('data-responses', JSON.stringify(responses));\n            printResponses(responsesContainer);\n        }\n        // End code to preserve responses\n\n        for (var i = 0; i < answers.length; i++) {\n            var child = answers[i];\n            //console.log(child);\n            child.className = \"MCButton\";\n        }\n\n\n\n        if (label.dataset.correct == \"true\") {\n            // console.log(\"Correct action\");\n            if (\"feedback\" in label.dataset) {\n                fb.innerHTML = jaxify(label.dataset.feedback);\n            } else {\n                fb.innerHTML = \"Correct!\";\n            }\n            label.classList.add(\"correctButton\");\n\n            fb.className = \"Feedback\";\n            fb.classList.add(\"correct\");\n\n        } else {\n            if (\"feedback\" in label.dataset) {\n                fb.innerHTML = jaxify(label.dataset.feedback);\n            } else {\n                fb.innerHTML = \"Incorrect -- try again.\";\n            }\n            //console.log(\"Error action\");\n            label.classList.add(\"incorrectButton\");\n            fb.className = \"Feedback\";\n            fb.classList.add(\"incorrect\");\n        }\n    }\n    else { /* Many choice (more than 1 correct answer) */\n        var reset = false;\n        var feedback;\n         if (label.dataset.correct == \"true\") {\n            if (\"feedback\" in label.dataset) {\n                feedback = jaxify(label.dataset.feedback);\n            } else {\n                feedback = \"Correct!\";\n            }\n            if (label.dataset.answered <= 0) {\n                if (fb.dataset.answeredcorrect < 0) {\n                    fb.dataset.answeredcorrect = 1;\n                    reset = true;\n                } else {\n                    fb.dataset.answeredcorrect++;\n                }\n                if (reset) {\n                    for (var i = 0; i < answers.length; i++) {\n                        var child = answers[i];\n                        child.className = \"MCButton\";\n                        child.dataset.answered = 0;\n                    }\n                }\n                label.classList.add(\"correctButton\");\n                label.dataset.answered = 1;\n                fb.className = \"Feedback\";\n                fb.classList.add(\"correct\");\n\n            }\n        } else {\n            if (\"feedback\" in label.dataset) {\n                feedback = jaxify(label.dataset.feedback);\n            } else {\n                feedback = \"Incorrect -- try again.\";\n            }\n            if (fb.dataset.answeredcorrect > 0) {\n                fb.dataset.answeredcorrect = -1;\n                reset = true;\n            } else {\n                fb.dataset.answeredcorrect--;\n            }\n\n            if (reset) {\n                for (var i = 0; i < answers.length; i++) {\n                    var child = answers[i];\n                    child.className = \"MCButton\";\n                    child.dataset.answered = 0;\n                }\n            }\n            label.classList.add(\"incorrectButton\");\n            fb.className = \"Feedback\";\n            fb.classList.add(\"incorrect\");\n        }\n        // What follows is for the saved responses stuff\n        var outerContainer = fb.parentElement.parentElement;\n        var responsesContainer = document.getElementById(\"responses\" + outerContainer.id);\n        if (responsesContainer) {\n            //console.log(responsesContainer);\n            var response = label.firstChild.innerText;\n            if (label.querySelector(\".QuizCode\")){\n                response+= label.querySelector(\".QuizCode\").firstChild.innerText;\n            }\n            console.log(response);\n            //console.log(document.getElementById(\"quizWrap\"+id));\n            var qnum = document.getElementById(\"quizWrap\"+id).dataset.qnum;\n            console.log(\"Question \" + qnum);\n            //console.log(id, \", got numcorrect=\",fb.dataset.numcorrect);\n            var responses=JSON.parse(responsesContainer.dataset.responses);\n            if (label.dataset.correct == \"true\") {\n                if (typeof(responses[qnum]) == \"object\"){\n                    if (!responses[qnum].includes(response))\n                        responses[qnum].push(response);\n                } else{\n                    responses[qnum]= [ response ];\n                }\n            } else {\n                responses[qnum]= response;\n            }\n            console.log(responses);\n            responsesContainer.setAttribute('data-responses', JSON.stringify(responses));\n            printResponses(responsesContainer);\n        }\n        // End save responses stuff\n\n\n\n        var numcorrect = fb.dataset.numcorrect;\n        var answeredcorrect = fb.dataset.answeredcorrect;\n        if (answeredcorrect >= 0) {\n            fb.innerHTML = feedback + \" [\" + answeredcorrect + \"/\" + numcorrect + \"]\";\n        } else {\n            fb.innerHTML = feedback + \" [\" + 0 + \"/\" + numcorrect + \"]\";\n        }\n\n\n    }\n\n    if (typeof MathJax != 'undefined') {\n        var version = MathJax.version;\n        console.log('MathJax version', version);\n        if (version[0] == \"2\") {\n            MathJax.Hub.Queue([\"Typeset\", MathJax.Hub]);\n        } else if (version[0] == \"3\") {\n            MathJax.typeset([fb]);\n        }\n    } else {\n        console.log('MathJax not detected');\n    }\n\n}\n\n\n/* Function to produce the HTML buttons for a multiple choice/\n   many choice question  and to update the CSS tags based on\n   the question type */\nfunction make_mc(qa, shuffle_answers, outerqDiv, qDiv, aDiv, id) {\n\n    var shuffled;\n    if (shuffle_answers == \"True\") {\n        //console.log(shuffle_answers+\" read as true\");\n        shuffled = getRandomSubarray(qa.answers, qa.answers.length);\n    } else {\n        //console.log(shuffle_answers+\" read as false\");\n        shuffled = qa.answers;\n    }\n\n\n    var num_correct = 0;\n\n    shuffled.forEach((item, index, ans_array) => {\n        //console.log(answer);\n\n        // Make input element\n        var inp = document.createElement(\"input\");\n        inp.type = \"radio\";\n        inp.id = \"quizo\" + id + index;\n        inp.style = \"display:none;\";\n        aDiv.append(inp);\n\n        //Make label for input element\n        var lab = document.createElement(\"label\");\n        lab.className = \"MCButton\";\n        lab.id = id + '-' + index;\n        lab.onclick = check_mc;\n        var aSpan = document.createElement('span');\n        aSpan.classsName = \"\";\n        //qDiv.id=\"quizQn\"+id+index;\n        if (\"answer\" in item) {\n            aSpan.innerHTML = jaxify(item.answer);\n            //aSpan.innerHTML=item.answer;\n        }\n        lab.append(aSpan);\n\n        // Create div for code inside question\n        var codeSpan;\n        if (\"code\" in item) {\n            codeSpan = document.createElement('span');\n            codeSpan.id = \"code\" + id + index;\n            codeSpan.className = \"QuizCode\";\n            var codePre = document.createElement('pre');\n            codeSpan.append(codePre);\n            var codeCode = document.createElement('code');\n            codePre.append(codeCode);\n            codeCode.innerHTML = item.code;\n            lab.append(codeSpan);\n            //console.log(codeSpan);\n        }\n\n        //lab.textContent=item.answer;\n\n        // Set the data attributes for the answer\n        lab.setAttribute('data-correct', item.correct);\n        if (item.correct) {\n            num_correct++;\n        }\n        if (\"feedback\" in item) {\n            lab.setAttribute('data-feedback', item.feedback);\n        }\n        lab.setAttribute('data-answered', 0);\n\n        aDiv.append(lab);\n\n    });\n\n    if (num_correct > 1) {\n        outerqDiv.className = \"ManyChoiceQn\";\n    } else {\n        outerqDiv.className = \"MultipleChoiceQn\";\n    }\n\n    return num_correct;\n\n}\nfunction check_numeric(ths, event) {\n\n    if (event.keyCode === 13) {\n        ths.blur();\n\n        var id = ths.id.split('-')[0];\n\n        var submission = ths.value;\n        if (submission.indexOf('/') != -1) {\n            var sub_parts = submission.split('/');\n            //console.log(sub_parts);\n            submission = sub_parts[0] / sub_parts[1];\n        }\n        //console.log(\"Reader entered\", submission);\n\n        if (\"precision\" in ths.dataset) {\n            var precision = ths.dataset.precision;\n            submission = Number(Number(submission).toPrecision(precision));\n        }\n\n\n        //console.log(\"In check_numeric(), id=\"+id);\n        //console.log(event.srcElement.id)           \n        //console.log(event.srcElement.dataset.feedback)\n\n        var fb = document.getElementById(\"fb\" + id);\n        fb.style.display = \"none\";\n        fb.innerHTML = \"Incorrect -- try again.\";\n\n        var answers = JSON.parse(ths.dataset.answers);\n        //console.log(answers);\n\n        var defaultFB = \"Incorrect. Try again.\";\n        var correct;\n        var done = false;\n        answers.every(answer => {\n            //console.log(answer.type);\n\n            correct = false;\n            // if (answer.type==\"value\"){\n            if ('value' in answer) {\n                if (submission == answer.value) {\n                    if (\"feedback\" in answer) {\n                        fb.innerHTML = jaxify(answer.feedback);\n                    } else {\n                        fb.innerHTML = jaxify(\"Correct\");\n                    }\n                    correct = answer.correct;\n                    //console.log(answer.correct);\n                    done = true;\n                }\n                // } else if (answer.type==\"range\") {\n            } else if ('range' in answer) {\n                console.log(answer.range);\n                console.log(submission, submission >=answer.range[0], submission < answer.range[1])\n                if ((submission >= answer.range[0]) && (submission < answer.range[1])) {\n                    fb.innerHTML = jaxify(answer.feedback);\n                    correct = answer.correct;\n                    console.log(answer.correct);\n                    done = true;\n                }\n            } else if (answer.type == \"default\") {\n                if (\"feedback\" in answer) {\n                    defaultFB = answer.feedback;\n                } \n            }\n            if (done) {\n                return false; // Break out of loop if this has been marked correct\n            } else {\n                return true; // Keep looking for case that includes this as a correct answer\n            }\n        });\n        console.log(\"done:\", done);\n\n        if ((!done) && (defaultFB != \"\")) {\n            fb.innerHTML = jaxify(defaultFB);\n            //console.log(\"Default feedback\", defaultFB);\n        }\n\n        fb.style.display = \"block\";\n        if (correct) {\n            ths.className = \"Input-text\";\n            ths.classList.add(\"correctButton\");\n            fb.className = \"Feedback\";\n            fb.classList.add(\"correct\");\n        } else {\n            ths.className = \"Input-text\";\n            ths.classList.add(\"incorrectButton\");\n            fb.className = \"Feedback\";\n            fb.classList.add(\"incorrect\");\n        }\n\n        // What follows is for the saved responses stuff\n        var outerContainer = fb.parentElement.parentElement;\n        var responsesContainer = document.getElementById(\"responses\" + outerContainer.id);\n        if (responsesContainer) {\n            console.log(submission);\n            var qnum = document.getElementById(\"quizWrap\"+id).dataset.qnum;\n            //console.log(\"Question \" + qnum);\n            //console.log(id, \", got numcorrect=\",fb.dataset.numcorrect);\n            var responses=JSON.parse(responsesContainer.dataset.responses);\n            console.log(responses);\n            if (submission == ths.value){\n                responses[qnum]= submission;\n            } else {\n                responses[qnum]= ths.value + \"(\" + submission +\")\";\n            }\n            responsesContainer.setAttribute('data-responses', JSON.stringify(responses));\n            printResponses(responsesContainer);\n        }\n        // End code to preserve responses\n\n        if (typeof MathJax != 'undefined') {\n            var version = MathJax.version;\n            console.log('MathJax version', version);\n            if (version[0] == \"2\") {\n                MathJax.Hub.Queue([\"Typeset\", MathJax.Hub]);\n            } else if (version[0] == \"3\") {\n                MathJax.typeset([fb]);\n            }\n        } else {\n            console.log('MathJax not detected');\n        }\n        return false;\n    }\n\n}\n\nfunction isValid(el, charC) {\n    //console.log(\"Input char: \", charC);\n    if (charC == 46) {\n        if (el.value.indexOf('.') === -1) {\n            return true;\n        } else if (el.value.indexOf('/') != -1) {\n            var parts = el.value.split('/');\n            if (parts[1].indexOf('.') === -1) {\n                return true;\n            }\n        }\n        else {\n            return false;\n        }\n    } else if (charC == 47) {\n        if (el.value.indexOf('/') === -1) {\n            if ((el.value != \"\") && (el.value != \".\")) {\n                return true;\n            } else {\n                return false;\n            }\n        } else {\n            return false;\n        }\n    } else if (charC == 45) {\n        var edex = el.value.indexOf('e');\n        if (edex == -1) {\n            edex = el.value.indexOf('E');\n        }\n\n        if (el.value == \"\") {\n            return true;\n        } else if (edex == (el.value.length - 1)) { // If just after e or E\n            return true;\n        } else {\n            return false;\n        }\n    } else if (charC == 101) { // \"e\"\n        if ((el.value.indexOf('e') === -1) && (el.value.indexOf('E') === -1) && (el.value.indexOf('/') == -1)) {\n            // Prev symbol must be digit or decimal point:\n            if (el.value.slice(-1).search(/\\d/) >= 0) {\n                return true;\n            } else if (el.value.slice(-1).search(/\\./) >= 0) {\n                return true;\n            } else {\n                return false;\n            }\n        } else {\n            return false;\n        }\n    } else {\n        if (charC > 31 && (charC < 48 || charC > 57))\n            return false;\n    }\n    return true;\n}\n\nfunction numeric_keypress(evnt) {\n    var charC = (evnt.which) ? evnt.which : evnt.keyCode;\n\n    if (charC == 13) {\n        check_numeric(this, evnt);\n    } else {\n        return isValid(this, charC);\n    }\n}\n\n\n\n\n\nfunction make_numeric(qa, outerqDiv, qDiv, aDiv, id) {\n\n\n\n    //console.log(answer);\n\n\n    outerqDiv.className = \"NumericQn\";\n    aDiv.style.display = 'block';\n\n    var lab = document.createElement(\"label\");\n    lab.className = \"InpLabel\";\n    lab.innerHTML = \"Type numeric answer here:\";\n    aDiv.append(lab);\n\n    var inp = document.createElement(\"input\");\n    inp.type = \"text\";\n    //inp.id=\"input-\"+id;\n    inp.id = id + \"-0\";\n    inp.className = \"Input-text\";\n    inp.setAttribute('data-answers', JSON.stringify(qa.answers));\n    if (\"precision\" in qa) {\n        inp.setAttribute('data-precision', qa.precision);\n    }\n    aDiv.append(inp);\n    //console.log(inp);\n\n    //inp.addEventListener(\"keypress\", check_numeric);\n    //inp.addEventListener(\"keypress\", numeric_keypress);\n    /*\n    inp.addEventListener(\"keypress\", function(event) {\n        return numeric_keypress(this, event);\n    }\n                        );\n                        */\n    //inp.onkeypress=\"return numeric_keypress(this, event)\";\n    inp.onkeypress = numeric_keypress;\n    inp.onpaste = event => false;\n\n    inp.addEventListener(\"focus\", function (event) {\n        this.value = \"\";\n        return false;\n    }\n    );\n\n\n}\nfunction jaxify(string) {\n    var mystring = string;\n\n    var count = 0;\n    var loc = mystring.search(/([^\\\\]|^)(\\$)/);\n\n    var count2 = 0;\n    var loc2 = mystring.search(/([^\\\\]|^)(\\$\\$)/);\n\n    //console.log(loc);\n\n    while ((loc >= 0) || (loc2 >= 0)) {\n\n        /* Have to replace all the double $$ first with current implementation */\n        if (loc2 >= 0) {\n            if (count2 % 2 == 0) {\n                mystring = mystring.replace(/([^\\\\]|^)(\\$\\$)/, \"$1\\\\[\");\n            } else {\n                mystring = mystring.replace(/([^\\\\]|^)(\\$\\$)/, \"$1\\\\]\");\n            }\n            count2++;\n        } else {\n            if (count % 2 == 0) {\n                mystring = mystring.replace(/([^\\\\]|^)(\\$)/, \"$1\\\\(\");\n            } else {\n                mystring = mystring.replace(/([^\\\\]|^)(\\$)/, \"$1\\\\)\");\n            }\n            count++;\n        }\n        loc = mystring.search(/([^\\\\]|^)(\\$)/);\n        loc2 = mystring.search(/([^\\\\]|^)(\\$\\$)/);\n        //console.log(mystring,\", loc:\",loc,\", loc2:\",loc2);\n    }\n\n    // repace markdown style links with actual links\n    mystring = mystring.replace(/<(.*?)>/, '<a href=\"$1\" target=\"_blank\" class=\"Link\">$1</a>');\n    mystring = mystring.replace(/\\[(.*?)\\]\\((.*?)\\)/, '<a href=\"$2\" target=\"_blank\" class=\"Link\">$1</a>');\n\n    //console.log(mystring);\n    return mystring;\n}\n\n\nfunction show_questions(json, mydiv) {\n    console.log('show_questions');\n    //var mydiv=document.getElementById(myid);\n    var shuffle_questions = mydiv.dataset.shufflequestions;\n    var num_questions = mydiv.dataset.numquestions;\n    var shuffle_answers = mydiv.dataset.shuffleanswers;\n    var max_width = mydiv.dataset.maxwidth;\n\n    if (num_questions > json.length) {\n        num_questions = json.length;\n    }\n\n    var questions;\n    if ((num_questions < json.length) || (shuffle_questions == \"True\")) {\n        //console.log(num_questions+\",\"+json.length);\n        questions = getRandomSubarray(json, num_questions);\n    } else {\n        questions = json;\n    }\n\n    //console.log(\"SQ: \"+shuffle_questions+\", NQ: \" + num_questions + \", SA: \", shuffle_answers);\n\n    // Iterate over questions\n    questions.forEach((qa, index, array) => {\n        //console.log(qa.question); \n\n        var id = makeid(8);\n        //console.log(id);\n\n\n        // Create Div to contain question and answers\n        var iDiv = document.createElement('div');\n        //iDiv.id = 'quizWrap' + id + index;\n        iDiv.id = 'quizWrap' + id;\n        iDiv.className = 'Quiz';\n        iDiv.setAttribute('data-qnum', index);\n        iDiv.style.maxWidth  =max_width+\"px\";\n        mydiv.appendChild(iDiv);\n        // iDiv.innerHTML=qa.question;\n        \n        var outerqDiv = document.createElement('div');\n        outerqDiv.id = \"OuterquizQn\" + id + index;\n        // Create div to contain question part\n        var qDiv = document.createElement('div');\n        qDiv.id = \"quizQn\" + id + index;\n        \n        if (qa.question) {\n            iDiv.append(outerqDiv);\n\n            //qDiv.textContent=qa.question;\n            qDiv.innerHTML = jaxify(qa.question);\n            outerqDiv.append(qDiv);\n        }\n\n        // Create div for code inside question\n        var codeDiv;\n        if (\"code\" in qa) {\n            codeDiv = document.createElement('div');\n            codeDiv.id = \"code\" + id + index;\n            codeDiv.className = \"QuizCode\";\n            var codePre = document.createElement('pre');\n            codeDiv.append(codePre);\n            var codeCode = document.createElement('code');\n            codePre.append(codeCode);\n            codeCode.innerHTML = qa.code;\n            outerqDiv.append(codeDiv);\n            //console.log(codeDiv);\n        }\n\n\n        // Create div to contain answer part\n        var aDiv = document.createElement('div');\n        aDiv.id = \"quizAns\" + id + index;\n        aDiv.className = 'Answer';\n        iDiv.append(aDiv);\n\n        //console.log(qa.type);\n\n        var num_correct;\n        if ((qa.type == \"multiple_choice\") || (qa.type == \"many_choice\") ) {\n            num_correct = make_mc(qa, shuffle_answers, outerqDiv, qDiv, aDiv, id);\n            if (\"answer_cols\" in qa) {\n                //aDiv.style.gridTemplateColumns = 'auto '.repeat(qa.answer_cols);\n                aDiv.style.gridTemplateColumns = 'repeat(' + qa.answer_cols + ', 1fr)';\n            }\n        } else if (qa.type == \"numeric\") {\n            //console.log(\"numeric\");\n            make_numeric(qa, outerqDiv, qDiv, aDiv, id);\n        }\n\n\n        //Make div for feedback\n        var fb = document.createElement(\"div\");\n        fb.id = \"fb\" + id;\n        //fb.style=\"font-size: 20px;text-align:center;\";\n        fb.className = \"Feedback\";\n        fb.setAttribute(\"data-answeredcorrect\", 0);\n        fb.setAttribute(\"data-numcorrect\", num_correct);\n        iDiv.append(fb);\n\n\n    });\n    var preserveResponses = mydiv.dataset.preserveresponses;\n    console.log(preserveResponses);\n    console.log(preserveResponses == \"true\");\n    if (preserveResponses == \"true\") {\n        console.log(preserveResponses);\n        // Create Div to contain record of answers\n        var iDiv = document.createElement('div');\n        iDiv.id = 'responses' + mydiv.id;\n        iDiv.className = 'JCResponses';\n        // Create a place to store responses as an empty array\n        iDiv.setAttribute('data-responses', '[]');\n\n        // Dummy Text\n        iDiv.innerHTML=\"<b>Select your answers and then follow the directions that will appear here.</b>\"\n        //iDiv.className = 'Quiz';\n        mydiv.appendChild(iDiv);\n    }\n//console.log(\"At end of show_questions\");\n    if (typeof MathJax != 'undefined') {\n        console.log(\"MathJax version\", MathJax.version);\n        var version = MathJax.version;\n        setTimeout(function(){\n            var version = MathJax.version;\n            console.log('After sleep, MathJax version', version);\n            if (version[0] == \"2\") {\n                MathJax.Hub.Queue([\"Typeset\", MathJax.Hub]);\n            } else if (version[0] == \"3\") {\n                if (MathJax.hasOwnProperty('typeset') ) {\n                    MathJax.typeset([mydiv]);\n                } else {\n                    console.log('WARNING: Trying to force load MathJax 3');\n                    window.MathJax = {\n                        tex: {\n                            inlineMath: [['$', '$'], ['\\\\(', '\\\\)']]\n                        },\n                        svg: {\n                            fontCache: 'global'\n                        }\n                    };\n\n                    (function () {\n                        var script = document.createElement('script');\n                        script.src = 'https://cdn.jsdelivr.net/npm/mathjax@3/es5/tex-svg.js';\n                        script.async = true;\n                        document.head.appendChild(script);\n                    })();\n                }\n            }\n        }, 500);\nif (typeof version == 'undefined') {\n        } else\n        {\n            if (version[0] == \"2\") {\n                MathJax.Hub.Queue([\"Typeset\", MathJax.Hub]);\n            } else if (version[0] == \"3\") {\n                if (MathJax.hasOwnProperty('typeset') ) {\n                    MathJax.typeset([mydiv]);\n                } else {\n                    console.log('WARNING: Trying to force load MathJax 3');\n                    window.MathJax = {\n                        tex: {\n                            inlineMath: [['$', '$'], ['\\\\(', '\\\\)']]\n                        },\n                        svg: {\n                            fontCache: 'global'\n                        }\n                    };\n\n                    (function () {\n                        var script = document.createElement('script');\n                        script.src = 'https://cdn.jsdelivr.net/npm/mathjax@3/es5/tex-svg.js';\n                        script.async = true;\n                        document.head.appendChild(script);\n                    })();\n                }\n            } else {\n                console.log(\"MathJax not found\");\n            }\n        }\n    }\n\n    // stop event propagation for the .Link class\n    var links = document.getElementsByClassName('Link')\n    for (var i = 0; i < links.length; i++) {\n        links[i].addEventListener('click', function(e){\n            e.stopPropagation();\n        });\n    }\n\n    return false;\n}\n/* This is to handle asynchrony issues in loading Jupyter notebooks\n           where the quiz has been previously run. The Javascript was generally\n           being run before the div was added to the DOM. I tried to do this\n           more elegantly using Mutation Observer, but I didn't get it to work.\n\n           Someone more knowledgeable could make this better ;-) */\n\n        function try_show() {\n          if(document.getElementById(\"xwqzBXuQAHJc\")) {\n            show_questions(questionsxwqzBXuQAHJc,  xwqzBXuQAHJc); \n          } else {\n             setTimeout(try_show, 200);\n          }\n        };\n    \n        {\n        // console.log(element);\n\n        //console.log(\"xwqzBXuQAHJc\");\n        // console.log(document.getElementById(\"xwqzBXuQAHJc\"));\n\n        try_show();\n        }\n        ",
      "text/plain": [
       "<IPython.core.display.Javascript object>"
      ]
     },
     "metadata": {},
     "output_type": "display_data"
    }
   ],
   "source": [
    "from jupyterquiz import display_quiz\n",
    "display_quiz('Quiz/QS2.json')"
   ]
  },
  {
   "cell_type": "markdown",
   "id": "7ea98ed9-dba4-430c-bd41-d77aaac8f608",
   "metadata": {},
   "source": [
    "# More Datasets to explore"
   ]
  },
  {
   "cell_type": "markdown",
   "id": "c551e82f-d6c0-485a-84d8-ba6ab6f04058",
   "metadata": {},
   "source": [
    "### KEGG Dataset:\n",
    "Dataset 1: KEGG for Phylogenetic Tree\n",
    "Downloading KEGG Dataset\n",
    "**KEGG (Kyoto Encyclopedia of Genes and Genomes)** provides a wealth of data for understanding high-level functions and utilities of biological systems. To download KEGG data:\n",
    "1. Access KEGG Dataset: KEGG provides a website for data retrieval.\n",
    "    - https://www.genome.jp/kegg/seq/\n",
    "2. Downloaded file from FASTA sequence files section on the website.\n",
    "    - More resources on KEGG: https://www.genome.jp/kegg/\n"
   ]
  },
  {
   "cell_type": "markdown",
   "id": "7a27dde2-52a8-44b4-8463-e5c8412362c8",
   "metadata": {},
   "source": [
    "## Download KEGG dataset from URL"
   ]
  },
  {
   "cell_type": "markdown",
   "id": "c5f79c10-5ea1-4d86-9648-b5a719572667",
   "metadata": {},
   "source": [
    "### Create Kegg folder to store data"
   ]
  },
  {
   "cell_type": "code",
   "execution_count": 15,
   "id": "bea11637-3a5f-4ce6-a874-f38f681d2ae0",
   "metadata": {},
   "outputs": [],
   "source": [
    "import os\n",
    "\n",
    "# Check if the directory exists\n",
    "kegg_dir = os.path.isdir('./data/kegg')\n",
    "\n",
    "# If the directory does not exist, create it\n",
    "if not kegg_dir:\n",
    "    try:\n",
    "        os.makedirs('./data/kegg/')\n",
    "        print(\"Directory created successfully\")\n",
    "    except Exception as e:\n",
    "        print(f\"An error occurred: {e}\")"
   ]
  },
  {
   "cell_type": "markdown",
   "id": "c7b3d154-518a-41c3-afb2-92e8913765e8",
   "metadata": {},
   "source": [
    "## Uniport Dataset\n",
    "Dataset 2: UniProt for Phylogenetic Tree\n",
    "Downloading UniProt Dataset\n",
    "UniProt is a comprehensive resource for protein sequence and functional information. To download UniProt data:\n",
    "1. Access UniProt Website: Visit the UniProt website and search for the desired protein sequences.\n",
    "2. Retrieve Data: Downloaded the Isoform sequences fasta file from the website.\n",
    "    - File name: uniprot_sprot_varsplic.fasta"
   ]
  },
  {
   "cell_type": "markdown",
   "id": "8de6f7bf-f67e-40c8-8fc1-f56076ad0bf7",
   "metadata": {},
   "source": [
    "## Download Uniport Dataset from URL"
   ]
  },
  {
   "cell_type": "code",
   "execution_count": 16,
   "id": "22071134-8b6f-4dcd-8d34-2703cc064699",
   "metadata": {},
   "outputs": [],
   "source": [
    "import os\n",
    "\n",
    "# Check if the directory exists\n",
    "uniport_dir = os.path.isdir('./data/uniport')\n",
    "\n",
    "# If the directory does not exist, create it\n",
    "if not uniport_dir:\n",
    "    try:\n",
    "        os.makedirs('./data/uniport/')\n",
    "        print(\"Directory created successfully\")\n",
    "    except Exception as e:\n",
    "        print(f\"An error occurred: {e}\")"
   ]
  },
  {
   "cell_type": "markdown",
   "id": "34dd36ef",
   "metadata": {},
   "source": [
    "### Summary\n",
    "The notebook focuses on organizing and analyzing biological datasets for phylogenetic studies, specifically using KEGG and UniProt datasets. It provides detailed instructions for downloading FASTA sequences from KEGG for functional insights and isoform sequences from UniProt for protein information. The content includes Python scripts to automate directory creation (/data/kegg and /data/uniport) for dataset organization and references interactive quizzes related to phylogenetic trees, enhancing its utility for educational or research purposes.\n",
    "In next module we will study about steps of constructing Phylogenetic Tree."
   ]
  },
  {
   "cell_type": "code",
   "execution_count": null,
   "id": "5ea267cb-9b4f-4ca4-a404-2698a76da8e7",
   "metadata": {
    "scrolled": true
   },
   "outputs": [],
   "source": []
  },
  {
   "cell_type": "code",
   "execution_count": null,
   "id": "fa825561-c4c6-4ef8-bb04-29bb8526fcaf",
   "metadata": {},
   "outputs": [],
   "source": []
  }
 ],
 "metadata": {
  "kernelspec": {
   "display_name": "Python 3 (ipykernel)",
   "language": "python",
   "name": "python3"
  },
  "language_info": {
   "codemirror_mode": {
    "name": "ipython",
    "version": 3
   },
   "file_extension": ".py",
   "mimetype": "text/x-python",
   "name": "python",
   "nbconvert_exporter": "python",
   "pygments_lexer": "ipython3",
   "version": "3.10.14"
  }
 },
 "nbformat": 4,
 "nbformat_minor": 5
}
