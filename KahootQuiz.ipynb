{
 "cells": [
  {
   "cell_type": "markdown",
   "id": "07df54c3-15b7-4a9f-bc27-fdf308ab88c1",
   "metadata": {},
   "source": [
    "# Kahoot Quiz"
   ]
  },
  {
   "cell_type": "markdown",
   "id": "303abccd-6072-4393-aa5e-9517a6fa29ec",
   "metadata": {},
   "source": [
    "### The admin need to host the game and provide Game PIN for students each time to run the test"
   ]
  },
  {
   "cell_type": "code",
   "execution_count": 2,
   "id": "7d25ddaa-8752-4f17-b427-6a808b381dbf",
   "metadata": {
    "tags": []
   },
   "outputs": [
    {
     "data": {
      "text/html": [
       "\n",
       "        <iframe\n",
       "            width=\"900\"\n",
       "            height=\"700\"\n",
       "            src=\"https://kahoot.it/\"\n",
       "            frameborder=\"0\"\n",
       "            allowfullscreen\n",
       "            \n",
       "        ></iframe>\n",
       "        "
      ],
      "text/plain": [
       "<IPython.lib.display.IFrame at 0x1e7015d57d0>"
      ]
     },
     "execution_count": 2,
     "metadata": {},
     "output_type": "execute_result"
    }
   ],
   "source": [
    "from IPython.display import IFrame\n",
    "IFrame('https://kahoot.it/', width=900, height=700)"
   ]
  },
  {
   "cell_type": "code",
   "execution_count": null,
   "id": "1bf31898-1e16-4b7d-8554-03689785037b",
   "metadata": {},
   "outputs": [],
   "source": []
  }
 ],
 "metadata": {
  "kernelspec": {
   "display_name": "Python 3 (ipykernel)",
   "language": "python",
   "name": "python3"
  },
  "language_info": {
   "codemirror_mode": {
    "name": "ipython",
    "version": 3
   },
   "file_extension": ".py",
   "mimetype": "text/x-python",
   "name": "python",
   "nbconvert_exporter": "python",
   "pygments_lexer": "ipython3",
   "version": "3.11.5"
  }
 },
 "nbformat": 4,
 "nbformat_minor": 5
}
