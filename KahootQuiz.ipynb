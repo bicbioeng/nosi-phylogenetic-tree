{
 "cells": [
  {
   "cell_type": "markdown",
   "id": "07df54c3-15b7-4a9f-bc27-fdf308ab88c1",
   "metadata": {},
   "source": [
    "# Kahoot Quiz"
   ]
  },
  {
   "cell_type": "markdown",
   "id": "303abccd-6072-4393-aa5e-9517a6fa29ec",
   "metadata": {},
   "source": [
    "### The admin need to host the game and provide Game PIN for students each time to run the test"
   ]
  },
  {
   "cell_type": "code",
   "execution_count": 1,
   "id": "7d25ddaa-8752-4f17-b427-6a808b381dbf",
   "metadata": {
    "tags": []
   },
   "outputs": [
    {
     "data": {
      "text/html": [
       "\n",
       "        <iframe\n",
       "            width=\"900\"\n",
       "            height=\"700\"\n",
       "            src=\"https://kahoot.it/challenge/08108000?challenge-id=bf1e29c0-250c-438b-98bd-101ef3ab494b_1725567084730\"\n",
       "            frameborder=\"0\"\n",
       "            allowfullscreen\n",
       "            \n",
       "        ></iframe>\n",
       "        "
      ],
      "text/plain": [
       "<IPython.lib.display.IFrame at 0x7f57ec42b190>"
      ]
     },
     "execution_count": 1,
     "metadata": {},
     "output_type": "execute_result"
    }
   ],
   "source": [
    "from IPython.display import IFrame\n",
    "IFrame('https://kahoot.it/challenge/08108000?challenge-id=bf1e29c0-250c-438b-98bd-101ef3ab494b_1725567084730', width=900, height=700)"
   ]
  },
  {
   "cell_type": "markdown",
   "id": "a1e80c0e-9e87-4a8b-b103-46ac58d3bfe8",
   "metadata": {},
   "source": [
    "### Note for developer\n",
    "#### kahoot.com and create.kahoot.it both block iframe\n",
    "#### the solo link asks for authenticate which will create error in iframe"
   ]
  },
  {
   "cell_type": "code",
   "execution_count": null,
   "id": "6a5a2baf-9300-48a5-ae04-ee220cff32e1",
   "metadata": {},
   "outputs": [],
   "source": []
  }
 ],
 "metadata": {
  "kernelspec": {
   "display_name": "conda_python3",
   "language": "python",
   "name": "conda_python3"
  },
  "language_info": {
   "codemirror_mode": {
    "name": "ipython",
    "version": 3
   },
   "file_extension": ".py",
   "mimetype": "text/x-python",
   "name": "python",
   "nbconvert_exporter": "python",
   "pygments_lexer": "ipython3",
   "version": "3.10.14"
  }
 },
 "nbformat": 4,
 "nbformat_minor": 5
}
